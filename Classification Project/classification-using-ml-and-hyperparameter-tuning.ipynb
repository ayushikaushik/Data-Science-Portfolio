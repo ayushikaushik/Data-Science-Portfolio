{
 "cells": [
  {
   "cell_type": "markdown",
   "execution_count": null,
   "metadata": {
    "papermill": {
     "duration": 0.0152,
     "end_time": "2020-09-05T11:56:04.010291",
     "exception": false,
     "start_time": "2020-09-05T11:56:03.995091",
     "status": "completed"
    },
    "tags": []
   },
   "source": [
    "# Classification Project\n",
    "\n",
    "In this project, I have used [Cardiovascular Disease dataset](https://www.kaggle.com/sulianova/cardiovascular-disease-dataset) from kaggle. Based on some health conditions of an individual my model will predict whether he has any cardiovascular disease or not.\n",
    "\n",
    "Features:\n",
    "\n",
    "* Age | Objective Feature | age | int (days)\n",
    "* Height | Objective Feature | height | int (cm) |\n",
    "* Weight | Objective Feature | weight | float (kg) |\n",
    "* Gender | Objective Feature | gender | categorical code |\n",
    "* Systolic blood pressure | Examination Feature | ap_hi | int |\n",
    "* Diastolic blood pressure | Examination Feature | ap_lo | int |\n",
    "* Cholesterol | Examination Feature | cholesterol | 1: normal, 2: above normal, 3: well above normal |\n",
    "* Glucose | Examination Feature | gluc | 1: normal, 2: above normal, 3: well above normal |\n",
    "* Smoking | Subjective Feature | smoke | binary |\n",
    "* Alcohol intake | Subjective Feature | alco | binary |\n",
    "* Physical activity | Subjective Feature | active | binary |\n",
    "* Presence or absence of cardiovascular disease | Target Variable | cardio | binary |"
   ]
  },
  {
   "cell_type": "code",
   "execution_count": 1,
   "metadata": {
    "_kg_hide-input": true,
    "execution": {
     "iopub.execute_input": "2020-09-05T11:56:04.045413Z",
     "iopub.status.busy": "2020-09-05T11:56:04.044629Z",
     "iopub.status.idle": "2020-09-05T11:56:05.118575Z",
     "shell.execute_reply": "2020-09-05T11:56:05.117614Z"
    },
    "papermill": {
     "duration": 1.095019,
     "end_time": "2020-09-05T11:56:05.118730",
     "exception": false,
     "start_time": "2020-09-05T11:56:04.023711",
     "status": "completed"
    },
    "tags": []
   },
   "outputs": [
    {
     "name": "stdout",
     "output_type": "stream",
     "text": [
      "<class 'pandas.core.frame.DataFrame'>\n",
      "RangeIndex: 70000 entries, 0 to 69999\n",
      "Data columns (total 13 columns):\n",
      " #   Column       Non-Null Count  Dtype  \n",
      "---  ------       --------------  -----  \n",
      " 0   id           70000 non-null  int64  \n",
      " 1   age          70000 non-null  int64  \n",
      " 2   gender       70000 non-null  int64  \n",
      " 3   height       70000 non-null  int64  \n",
      " 4   weight       70000 non-null  float64\n",
      " 5   ap_hi        70000 non-null  int64  \n",
      " 6   ap_lo        70000 non-null  int64  \n",
      " 7   cholesterol  70000 non-null  int64  \n",
      " 8   gluc         70000 non-null  int64  \n",
      " 9   smoke        70000 non-null  int64  \n",
      " 10  alco         70000 non-null  int64  \n",
      " 11  active       70000 non-null  int64  \n",
      " 12  cardio       70000 non-null  int64  \n",
      "dtypes: float64(1), int64(12)\n",
      "memory usage: 6.9 MB\n"
     ]
    }
   ],
   "source": [
    "#importing basic libraries\n",
    "import numpy as np\n",
    "import pandas as pd\n",
    "import matplotlib.pyplot as plt\n",
    "import seaborn as sns\n",
    "sns.set()\n",
    "import warnings\n",
    "warnings.filterwarnings('ignore')\n",
    "\n",
    "raw_data = pd.read_csv('../input/cardiovascular-disease-dataset/cardio_train.csv',sep=';')\n",
    "# Check the data\n",
    "raw_data.info()"
   ]
  },
  {
   "cell_type": "code",
   "execution_count": 2,
   "metadata": {
    "execution": {
     "iopub.execute_input": "2020-09-05T11:56:05.162013Z",
     "iopub.status.busy": "2020-09-05T11:56:05.160842Z",
     "iopub.status.idle": "2020-09-05T11:56:05.173767Z",
     "shell.execute_reply": "2020-09-05T11:56:05.172991Z"
    },
    "papermill": {
     "duration": 0.039978,
     "end_time": "2020-09-05T11:56:05.173917",
     "exception": false,
     "start_time": "2020-09-05T11:56:05.133939",
     "status": "completed"
    },
    "tags": []
   },
   "outputs": [
    {
     "data": {
      "text/html": [
       "<div>\n",
       "<style scoped>\n",
       "    .dataframe tbody tr th:only-of-type {\n",
       "        vertical-align: middle;\n",
       "    }\n",
       "\n",
       "    .dataframe tbody tr th {\n",
       "        vertical-align: top;\n",
       "    }\n",
       "\n",
       "    .dataframe thead th {\n",
       "        text-align: right;\n",
       "    }\n",
       "</style>\n",
       "<table border=\"1\" class=\"dataframe\">\n",
       "  <thead>\n",
       "    <tr style=\"text-align: right;\">\n",
       "      <th></th>\n",
       "      <th>id</th>\n",
       "      <th>age</th>\n",
       "      <th>gender</th>\n",
       "      <th>height</th>\n",
       "      <th>weight</th>\n",
       "      <th>ap_hi</th>\n",
       "      <th>ap_lo</th>\n",
       "      <th>cholesterol</th>\n",
       "      <th>gluc</th>\n",
       "      <th>smoke</th>\n",
       "      <th>alco</th>\n",
       "      <th>active</th>\n",
       "      <th>cardio</th>\n",
       "    </tr>\n",
       "  </thead>\n",
       "  <tbody>\n",
       "    <tr>\n",
       "      <th>0</th>\n",
       "      <td>0</td>\n",
       "      <td>18393</td>\n",
       "      <td>2</td>\n",
       "      <td>168</td>\n",
       "      <td>62.0</td>\n",
       "      <td>110</td>\n",
       "      <td>80</td>\n",
       "      <td>1</td>\n",
       "      <td>1</td>\n",
       "      <td>0</td>\n",
       "      <td>0</td>\n",
       "      <td>1</td>\n",
       "      <td>0</td>\n",
       "    </tr>\n",
       "    <tr>\n",
       "      <th>1</th>\n",
       "      <td>1</td>\n",
       "      <td>20228</td>\n",
       "      <td>1</td>\n",
       "      <td>156</td>\n",
       "      <td>85.0</td>\n",
       "      <td>140</td>\n",
       "      <td>90</td>\n",
       "      <td>3</td>\n",
       "      <td>1</td>\n",
       "      <td>0</td>\n",
       "      <td>0</td>\n",
       "      <td>1</td>\n",
       "      <td>1</td>\n",
       "    </tr>\n",
       "    <tr>\n",
       "      <th>2</th>\n",
       "      <td>2</td>\n",
       "      <td>18857</td>\n",
       "      <td>1</td>\n",
       "      <td>165</td>\n",
       "      <td>64.0</td>\n",
       "      <td>130</td>\n",
       "      <td>70</td>\n",
       "      <td>3</td>\n",
       "      <td>1</td>\n",
       "      <td>0</td>\n",
       "      <td>0</td>\n",
       "      <td>0</td>\n",
       "      <td>1</td>\n",
       "    </tr>\n",
       "  </tbody>\n",
       "</table>\n",
       "</div>"
      ],
      "text/plain": [
       "   id    age  gender  height  weight  ap_hi  ap_lo  cholesterol  gluc  smoke  \\\n",
       "0   0  18393       2     168    62.0    110     80            1     1      0   \n",
       "1   1  20228       1     156    85.0    140     90            3     1      0   \n",
       "2   2  18857       1     165    64.0    130     70            3     1      0   \n",
       "\n",
       "   alco  active  cardio  \n",
       "0     0       1       0  \n",
       "1     0       1       1  \n",
       "2     0       0       1  "
      ]
     },
     "execution_count": 2,
     "metadata": {},
     "output_type": "execute_result"
    }
   ],
   "source": [
    "raw_data.head(3)"
   ]
  },
  {
   "cell_type": "code",
   "execution_count": 3,
   "metadata": {
    "execution": {
     "iopub.execute_input": "2020-09-05T11:56:05.207639Z",
     "iopub.status.busy": "2020-09-05T11:56:05.206818Z",
     "iopub.status.idle": "2020-09-05T11:56:05.215084Z",
     "shell.execute_reply": "2020-09-05T11:56:05.214398Z"
    },
    "papermill": {
     "duration": 0.027825,
     "end_time": "2020-09-05T11:56:05.215227",
     "exception": false,
     "start_time": "2020-09-05T11:56:05.187402",
     "status": "completed"
    },
    "tags": []
   },
   "outputs": [
    {
     "name": "stdout",
     "output_type": "stream",
     "text": [
      "Missing values are present: False\n"
     ]
    }
   ],
   "source": [
    "print(f\"Missing values are present: {raw_data.isnull().sum().any()}\")"
   ]
  },
  {
   "cell_type": "markdown",
   "execution_count": null,
   "metadata": {
    "papermill": {
     "duration": 0.013109,
     "end_time": "2020-09-05T11:56:05.242101",
     "exception": false,
     "start_time": "2020-09-05T11:56:05.228992",
     "status": "completed"
    },
    "tags": []
   },
   "source": [
    "* There is no mising value in the data.\n",
    "* I will drop column 'id' as it is irrelevant to target variable.\n",
    "* Transform age column into years instead of days.\n",
    "* Gender feature should not be categorized into 1 and 2 because 2 is always numerically bigger than 1, the model would take into account that and give a bigger ratio to one gender for having a disease. So, I will make that binary.\n",
    "* I will check and drop duplicates."
   ]
  },
  {
   "cell_type": "code",
   "execution_count": 4,
   "metadata": {
    "execution": {
     "iopub.execute_input": "2020-09-05T11:56:05.285408Z",
     "iopub.status.busy": "2020-09-05T11:56:05.278641Z",
     "iopub.status.idle": "2020-09-05T11:56:05.314807Z",
     "shell.execute_reply": "2020-09-05T11:56:05.313937Z"
    },
    "papermill": {
     "duration": 0.059266,
     "end_time": "2020-09-05T11:56:05.314961",
     "exception": false,
     "start_time": "2020-09-05T11:56:05.255695",
     "status": "completed"
    },
    "tags": []
   },
   "outputs": [],
   "source": [
    "raw_data.drop('id',axis=1,inplace=True)\n",
    "raw_data.age = np.round(raw_data.age/365.25,decimals=1)\n",
    "raw_data.gender = raw_data.gender.replace(2,0)"
   ]
  },
  {
   "cell_type": "code",
   "execution_count": 5,
   "metadata": {
    "execution": {
     "iopub.execute_input": "2020-09-05T11:56:05.351033Z",
     "iopub.status.busy": "2020-09-05T11:56:05.349903Z",
     "iopub.status.idle": "2020-09-05T11:56:05.377656Z",
     "shell.execute_reply": "2020-09-05T11:56:05.376883Z"
    },
    "papermill": {
     "duration": 0.049031,
     "end_time": "2020-09-05T11:56:05.377798",
     "exception": false,
     "start_time": "2020-09-05T11:56:05.328767",
     "status": "completed"
    },
    "tags": []
   },
   "outputs": [
    {
     "data": {
      "text/plain": [
       "674"
      ]
     },
     "execution_count": 5,
     "metadata": {},
     "output_type": "execute_result"
    }
   ],
   "source": [
    "raw_data.duplicated().sum()"
   ]
  },
  {
   "cell_type": "code",
   "execution_count": 6,
   "metadata": {
    "execution": {
     "iopub.execute_input": "2020-09-05T11:56:05.413089Z",
     "iopub.status.busy": "2020-09-05T11:56:05.411983Z",
     "iopub.status.idle": "2020-09-05T11:56:05.441937Z",
     "shell.execute_reply": "2020-09-05T11:56:05.441087Z"
    },
    "papermill": {
     "duration": 0.050411,
     "end_time": "2020-09-05T11:56:05.442082",
     "exception": false,
     "start_time": "2020-09-05T11:56:05.391671",
     "status": "completed"
    },
    "tags": []
   },
   "outputs": [],
   "source": [
    "raw_data.drop_duplicates(inplace=True)"
   ]
  },
  {
   "cell_type": "markdown",
   "execution_count": null,
   "metadata": {
    "papermill": {
     "duration": 0.0137,
     "end_time": "2020-09-05T11:56:05.469934",
     "exception": false,
     "start_time": "2020-09-05T11:56:05.456234",
     "status": "completed"
    },
    "tags": []
   },
   "source": [
    "# Exploratory Data Analysis and Data Preprocessing"
   ]
  },
  {
   "cell_type": "code",
   "execution_count": 7,
   "metadata": {
    "_kg_hide-input": true,
    "execution": {
     "iopub.execute_input": "2020-09-05T11:56:05.506115Z",
     "iopub.status.busy": "2020-09-05T11:56:05.505024Z",
     "iopub.status.idle": "2020-09-05T11:56:05.719175Z",
     "shell.execute_reply": "2020-09-05T11:56:05.718393Z"
    },
    "papermill": {
     "duration": 0.235531,
     "end_time": "2020-09-05T11:56:05.719362",
     "exception": false,
     "start_time": "2020-09-05T11:56:05.483831",
     "status": "completed"
    },
    "tags": []
   },
   "outputs": [
    {
     "data": {
      "image/png": "[encoded data removed]",
      "text/plain": [
       "<Figure size 432x288 with 1 Axes>"
      ]
     },
     "metadata": {},
     "output_type": "display_data"
    }
   ],
   "source": [
    "sns.set_style('darkgrid')\n",
    "sns.countplot(raw_data.cardio,palette='summer')\n",
    "plt.xlabel('Presence of cardiovascular disease',fontdict={'fontsize': 15,'color':'Green'},labelpad=3);"
   ]
  },
  {
   "cell_type": "markdown",
   "execution_count": null,
   "metadata": {
    "papermill": {
     "duration": 0.01385,
     "end_time": "2020-09-05T11:56:05.747729",
     "exception": false,
     "start_time": "2020-09-05T11:56:05.733879",
     "status": "completed"
    },
    "tags": []
   },
   "source": [
    "So, data is almost balanced. Let's see which gender has more cases of disease. As in this data there was no knowledge of which gender is denoted by which number, I will use simple fact that women's average age is less than that of men."
   ]
  },
  {
   "cell_type": "code",
   "execution_count": 8,
   "metadata": {
    "execution": {
     "iopub.execute_input": "2020-09-05T11:56:05.785923Z",
     "iopub.status.busy": "2020-09-05T11:56:05.785018Z",
     "iopub.status.idle": "2020-09-05T11:56:05.800803Z",
     "shell.execute_reply": "2020-09-05T11:56:05.800088Z"
    },
    "papermill": {
     "duration": 0.038766,
     "end_time": "2020-09-05T11:56:05.800946",
     "exception": false,
     "start_time": "2020-09-05T11:56:05.762180",
     "status": "completed"
    },
    "tags": []
   },
   "outputs": [
    {
     "name": "stdout",
     "output_type": "stream",
     "text": [
      "Gender:0 is male & Gender:1 is female\n"
     ]
    }
   ],
   "source": [
    "a = raw_data[raw_data[\"gender\"]==0][\"height\"].mean()\n",
    "b = raw_data[raw_data[\"gender\"]==1][\"height\"].mean()\n",
    "if a > b:\n",
    "    gender = \"male\"\n",
    "    gender1 = \"female\"\n",
    "else:\n",
    "    gender = \"female\"\n",
    "    gender1 = \"male\"\n",
    "print(\"Gender:0 is \"+ gender +\" & Gender:1 is \" + gender1)"
   ]
  },
  {
   "cell_type": "code",
   "execution_count": 9,
   "metadata": {
    "_kg_hide-input": true,
    "execution": {
     "iopub.execute_input": "2020-09-05T11:56:05.837851Z",
     "iopub.status.busy": "2020-09-05T11:56:05.836644Z",
     "iopub.status.idle": "2020-09-05T11:56:06.049036Z",
     "shell.execute_reply": "2020-09-05T11:56:06.048214Z"
    },
    "papermill": {
     "duration": 0.23373,
     "end_time": "2020-09-05T11:56:06.049189",
     "exception": false,
     "start_time": "2020-09-05T11:56:05.815459",
     "status": "completed"
    },
    "tags": []
   },
   "outputs": [
    {
     "data": {
      "image/png": "[encoded data removed]",
      "text/plain": [
       "<Figure size 432x288 with 1 Axes>"
      ]
     },
     "metadata": {},
     "output_type": "display_data"
    }
   ],
   "source": [
    "sns.set_style('whitegrid')\n",
    "sns.countplot(raw_data.gender,hue=raw_data.cardio, palette=\"Set2\");"
   ]
  },
  {
   "cell_type": "code",
   "execution_count": 10,
   "metadata": {
    "_kg_hide-input": true,
    "execution": {
     "iopub.execute_input": "2020-09-05T11:56:06.101269Z",
     "iopub.status.busy": "2020-09-05T11:56:06.093854Z",
     "iopub.status.idle": "2020-09-05T11:56:06.390602Z",
     "shell.execute_reply": "2020-09-05T11:56:06.389948Z"
    },
    "papermill": {
     "duration": 0.326452,
     "end_time": "2020-09-05T11:56:06.390748",
     "exception": false,
     "start_time": "2020-09-05T11:56:06.064296",
     "status": "completed"
    },
    "tags": []
   },
   "outputs": [
    {
     "data": {
      "image/png": "[encoded data removed]",
      "text/plain": [
       "<Figure size 432x288 with 1 Axes>"
      ]
     },
     "metadata": {},
     "output_type": "display_data"
    }
   ],
   "source": [
    "sns.set_style('dark')\n",
    "sns.boxplot(raw_data.height,palette='pink')\n",
    "plt.title('Distribution of height');"
   ]
  },
  {
   "cell_type": "code",
   "execution_count": 11,
   "metadata": {
    "_kg_hide-input": true,
    "execution": {
     "iopub.execute_input": "2020-09-05T11:56:06.434977Z",
     "iopub.status.busy": "2020-09-05T11:56:06.428950Z",
     "iopub.status.idle": "2020-09-05T11:56:06.705892Z",
     "shell.execute_reply": "2020-09-05T11:56:06.706530Z"
    },
    "papermill": {
     "duration": 0.300848,
     "end_time": "2020-09-05T11:56:06.706719",
     "exception": false,
     "start_time": "2020-09-05T11:56:06.405871",
     "status": "completed"
    },
    "scrolled": true,
    "tags": []
   },
   "outputs": [
    {
     "data": {
      "image/png": "[encoded data removed]",
      "text/plain": [
       "<Figure size 432x288 with 1 Axes>"
      ]
     },
     "metadata": {},
     "output_type": "display_data"
    }
   ],
   "source": [
    "sns.set_style('white')\n",
    "sns.boxplot(raw_data.weight,palette='terrain')\n",
    "plt.title('Distribution of weight');"
   ]
  },
  {
   "cell_type": "markdown",
   "execution_count": null,
   "metadata": {
    "papermill": {
     "duration": 0.014543,
     "end_time": "2020-09-05T11:56:06.736552",
     "exception": false,
     "start_time": "2020-09-05T11:56:06.722009",
     "status": "completed"
    },
    "tags": []
   },
   "source": [
    "I will remove extremely rare cases of height and weight. As data is quite big, there will be no prblem while modelling."
   ]
  },
  {
   "cell_type": "code",
   "execution_count": 12,
   "metadata": {
    "execution": {
     "iopub.execute_input": "2020-09-05T11:56:06.774388Z",
     "iopub.status.busy": "2020-09-05T11:56:06.773069Z",
     "iopub.status.idle": "2020-09-05T11:56:06.785057Z",
     "shell.execute_reply": "2020-09-05T11:56:06.784375Z"
    },
    "papermill": {
     "duration": 0.033645,
     "end_time": "2020-09-05T11:56:06.785208",
     "exception": false,
     "start_time": "2020-09-05T11:56:06.751563",
     "status": "completed"
    },
    "tags": []
   },
   "outputs": [],
   "source": [
    "raw_data = raw_data[(raw_data['height']<250) & (raw_data['weight']>20.0)]"
   ]
  },
  {
   "cell_type": "markdown",
   "execution_count": null,
   "metadata": {
    "papermill": {
     "duration": 0.014663,
     "end_time": "2020-09-05T11:56:06.815350",
     "exception": false,
     "start_time": "2020-09-05T11:56:06.800687",
     "status": "completed"
    },
    "tags": []
   },
   "source": [
    "There are many outliers in height and weight features. I combine both of these into a new feature bmi."
   ]
  },
  {
   "cell_type": "code",
   "execution_count": 13,
   "metadata": {
    "execution": {
     "iopub.execute_input": "2020-09-05T11:56:06.854313Z",
     "iopub.status.busy": "2020-09-05T11:56:06.853104Z",
     "iopub.status.idle": "2020-09-05T11:56:06.861107Z",
     "shell.execute_reply": "2020-09-05T11:56:06.860332Z"
    },
    "papermill": {
     "duration": 0.030665,
     "end_time": "2020-09-05T11:56:06.861255",
     "exception": false,
     "start_time": "2020-09-05T11:56:06.830590",
     "status": "completed"
    },
    "tags": []
   },
   "outputs": [],
   "source": [
    "raw_data[\"bmi\"] = (raw_data[\"weight\"]/ (raw_data[\"height\"]/100)**2).round(1)"
   ]
  },
  {
   "cell_type": "code",
   "execution_count": 14,
   "metadata": {
    "execution": {
     "iopub.execute_input": "2020-09-05T11:56:06.899328Z",
     "iopub.status.busy": "2020-09-05T11:56:06.898562Z",
     "iopub.status.idle": "2020-09-05T11:56:06.918827Z",
     "shell.execute_reply": "2020-09-05T11:56:06.918076Z"
    },
    "papermill": {
     "duration": 0.042394,
     "end_time": "2020-09-05T11:56:06.918963",
     "exception": false,
     "start_time": "2020-09-05T11:56:06.876569",
     "status": "completed"
    },
    "tags": []
   },
   "outputs": [
    {
     "data": {
      "text/html": [
       "<div>\n",
       "<style scoped>\n",
       "    .dataframe tbody tr th:only-of-type {\n",
       "        vertical-align: middle;\n",
       "    }\n",
       "\n",
       "    .dataframe tbody tr th {\n",
       "        vertical-align: top;\n",
       "    }\n",
       "\n",
       "    .dataframe thead th {\n",
       "        text-align: right;\n",
       "    }\n",
       "</style>\n",
       "<table border=\"1\" class=\"dataframe\">\n",
       "  <thead>\n",
       "    <tr style=\"text-align: right;\">\n",
       "      <th></th>\n",
       "      <th>age</th>\n",
       "      <th>gender</th>\n",
       "      <th>height</th>\n",
       "      <th>weight</th>\n",
       "      <th>ap_hi</th>\n",
       "      <th>ap_lo</th>\n",
       "      <th>cholesterol</th>\n",
       "      <th>gluc</th>\n",
       "      <th>smoke</th>\n",
       "      <th>alco</th>\n",
       "      <th>active</th>\n",
       "      <th>cardio</th>\n",
       "      <th>bmi</th>\n",
       "    </tr>\n",
       "  </thead>\n",
       "  <tbody>\n",
       "    <tr>\n",
       "      <th>26806</th>\n",
       "      <td>63.7</td>\n",
       "      <td>1</td>\n",
       "      <td>157</td>\n",
       "      <td>23.0</td>\n",
       "      <td>110</td>\n",
       "      <td>80</td>\n",
       "      <td>1</td>\n",
       "      <td>1</td>\n",
       "      <td>0</td>\n",
       "      <td>0</td>\n",
       "      <td>1</td>\n",
       "      <td>0</td>\n",
       "      <td>9.3</td>\n",
       "    </tr>\n",
       "    <tr>\n",
       "      <th>29488</th>\n",
       "      <td>55.9</td>\n",
       "      <td>0</td>\n",
       "      <td>177</td>\n",
       "      <td>22.0</td>\n",
       "      <td>120</td>\n",
       "      <td>80</td>\n",
       "      <td>1</td>\n",
       "      <td>1</td>\n",
       "      <td>1</td>\n",
       "      <td>1</td>\n",
       "      <td>1</td>\n",
       "      <td>0</td>\n",
       "      <td>7.0</td>\n",
       "    </tr>\n",
       "    <tr>\n",
       "      <th>60188</th>\n",
       "      <td>59.8</td>\n",
       "      <td>1</td>\n",
       "      <td>162</td>\n",
       "      <td>21.0</td>\n",
       "      <td>120</td>\n",
       "      <td>80</td>\n",
       "      <td>2</td>\n",
       "      <td>1</td>\n",
       "      <td>0</td>\n",
       "      <td>0</td>\n",
       "      <td>1</td>\n",
       "      <td>1</td>\n",
       "      <td>8.0</td>\n",
       "    </tr>\n",
       "    <tr>\n",
       "      <th>60699</th>\n",
       "      <td>51.7</td>\n",
       "      <td>1</td>\n",
       "      <td>171</td>\n",
       "      <td>29.0</td>\n",
       "      <td>110</td>\n",
       "      <td>70</td>\n",
       "      <td>2</td>\n",
       "      <td>1</td>\n",
       "      <td>0</td>\n",
       "      <td>0</td>\n",
       "      <td>1</td>\n",
       "      <td>1</td>\n",
       "      <td>9.9</td>\n",
       "    </tr>\n",
       "  </tbody>\n",
       "</table>\n",
       "</div>"
      ],
      "text/plain": [
       "        age  gender  height  weight  ap_hi  ap_lo  cholesterol  gluc  smoke  \\\n",
       "26806  63.7       1     157    23.0    110     80            1     1      0   \n",
       "29488  55.9       0     177    22.0    120     80            1     1      1   \n",
       "60188  59.8       1     162    21.0    120     80            2     1      0   \n",
       "60699  51.7       1     171    29.0    110     70            2     1      0   \n",
       "\n",
       "       alco  active  cardio  bmi  \n",
       "26806     0       1       0  9.3  \n",
       "29488     1       1       0  7.0  \n",
       "60188     0       1       1  8.0  \n",
       "60699     0       1       1  9.9  "
      ]
     },
     "execution_count": 14,
     "metadata": {},
     "output_type": "execute_result"
    }
   ],
   "source": [
    "raw_data[raw_data['bmi']<10]"
   ]
  },
  {
   "cell_type": "code",
   "execution_count": 15,
   "metadata": {
    "execution": {
     "iopub.execute_input": "2020-09-05T11:56:06.973189Z",
     "iopub.status.busy": "2020-09-05T11:56:06.958442Z",
     "iopub.status.idle": "2020-09-05T11:56:06.979129Z",
     "shell.execute_reply": "2020-09-05T11:56:06.978461Z"
    },
    "papermill": {
     "duration": 0.043702,
     "end_time": "2020-09-05T11:56:06.979268",
     "exception": false,
     "start_time": "2020-09-05T11:56:06.935566",
     "status": "completed"
    },
    "tags": []
   },
   "outputs": [
    {
     "data": {
      "text/html": [
       "<div>\n",
       "<style scoped>\n",
       "    .dataframe tbody tr th:only-of-type {\n",
       "        vertical-align: middle;\n",
       "    }\n",
       "\n",
       "    .dataframe tbody tr th {\n",
       "        vertical-align: top;\n",
       "    }\n",
       "\n",
       "    .dataframe thead th {\n",
       "        text-align: right;\n",
       "    }\n",
       "</style>\n",
       "<table border=\"1\" class=\"dataframe\">\n",
       "  <thead>\n",
       "    <tr style=\"text-align: right;\">\n",
       "      <th></th>\n",
       "      <th>age</th>\n",
       "      <th>gender</th>\n",
       "      <th>height</th>\n",
       "      <th>weight</th>\n",
       "      <th>ap_hi</th>\n",
       "      <th>ap_lo</th>\n",
       "      <th>cholesterol</th>\n",
       "      <th>gluc</th>\n",
       "      <th>smoke</th>\n",
       "      <th>alco</th>\n",
       "      <th>active</th>\n",
       "      <th>cardio</th>\n",
       "      <th>bmi</th>\n",
       "    </tr>\n",
       "  </thead>\n",
       "  <tbody>\n",
       "    <tr>\n",
       "      <th>27384</th>\n",
       "      <td>41.9</td>\n",
       "      <td>1</td>\n",
       "      <td>80</td>\n",
       "      <td>178.0</td>\n",
       "      <td>140</td>\n",
       "      <td>90</td>\n",
       "      <td>3</td>\n",
       "      <td>3</td>\n",
       "      <td>0</td>\n",
       "      <td>0</td>\n",
       "      <td>1</td>\n",
       "      <td>1</td>\n",
       "      <td>278.1</td>\n",
       "    </tr>\n",
       "    <tr>\n",
       "      <th>8171</th>\n",
       "      <td>48.3</td>\n",
       "      <td>0</td>\n",
       "      <td>97</td>\n",
       "      <td>170.0</td>\n",
       "      <td>160</td>\n",
       "      <td>100</td>\n",
       "      <td>1</td>\n",
       "      <td>1</td>\n",
       "      <td>1</td>\n",
       "      <td>0</td>\n",
       "      <td>1</td>\n",
       "      <td>1</td>\n",
       "      <td>180.7</td>\n",
       "    </tr>\n",
       "    <tr>\n",
       "      <th>12770</th>\n",
       "      <td>53.6</td>\n",
       "      <td>1</td>\n",
       "      <td>75</td>\n",
       "      <td>168.0</td>\n",
       "      <td>120</td>\n",
       "      <td>80</td>\n",
       "      <td>1</td>\n",
       "      <td>1</td>\n",
       "      <td>1</td>\n",
       "      <td>0</td>\n",
       "      <td>1</td>\n",
       "      <td>1</td>\n",
       "      <td>298.7</td>\n",
       "    </tr>\n",
       "    <tr>\n",
       "      <th>15366</th>\n",
       "      <td>47.7</td>\n",
       "      <td>1</td>\n",
       "      <td>125</td>\n",
       "      <td>167.0</td>\n",
       "      <td>180</td>\n",
       "      <td>90</td>\n",
       "      <td>1</td>\n",
       "      <td>2</td>\n",
       "      <td>0</td>\n",
       "      <td>0</td>\n",
       "      <td>1</td>\n",
       "      <td>1</td>\n",
       "      <td>106.9</td>\n",
       "    </tr>\n",
       "    <tr>\n",
       "      <th>20028</th>\n",
       "      <td>54.1</td>\n",
       "      <td>1</td>\n",
       "      <td>112</td>\n",
       "      <td>167.0</td>\n",
       "      <td>180</td>\n",
       "      <td>120</td>\n",
       "      <td>1</td>\n",
       "      <td>1</td>\n",
       "      <td>0</td>\n",
       "      <td>1</td>\n",
       "      <td>1</td>\n",
       "      <td>0</td>\n",
       "      <td>133.1</td>\n",
       "    </tr>\n",
       "  </tbody>\n",
       "</table>\n",
       "</div>"
      ],
      "text/plain": [
       "        age  gender  height  weight  ap_hi  ap_lo  cholesterol  gluc  smoke  \\\n",
       "27384  41.9       1      80   178.0    140     90            3     3      0   \n",
       "8171   48.3       0      97   170.0    160    100            1     1      1   \n",
       "12770  53.6       1      75   168.0    120     80            1     1      1   \n",
       "15366  47.7       1     125   167.0    180     90            1     2      0   \n",
       "20028  54.1       1     112   167.0    180    120            1     1      0   \n",
       "\n",
       "       alco  active  cardio    bmi  \n",
       "27384     0       1       1  278.1  \n",
       "8171      0       1       1  180.7  \n",
       "12770     0       1       1  298.7  \n",
       "15366     0       1       1  106.9  \n",
       "20028     1       1       0  133.1  "
      ]
     },
     "execution_count": 15,
     "metadata": {},
     "output_type": "execute_result"
    }
   ],
   "source": [
    "raw_data[raw_data['bmi']>100].sort_values(by='weight',ascending=False).head(5)"
   ]
  },
  {
   "cell_type": "markdown",
   "execution_count": null,
   "metadata": {
    "papermill": {
     "duration": 0.015731,
     "end_time": "2020-09-05T11:56:07.011357",
     "exception": false,
     "start_time": "2020-09-05T11:56:06.995626",
     "status": "completed"
    },
    "tags": []
   },
   "source": [
    "Further, I will remove extremely underweight and obese people because such cases seems impossible. For example, there are observations with 80 cm height and 165 kgs weight which is quite impossible. May be it was a fake observation or typing mistake. Also, health conditions of dwarf and abnormally tall people are totally different so I don't want to include them."
   ]
  },
  {
   "cell_type": "code",
   "execution_count": 16,
   "metadata": {
    "_kg_hide-input": true,
    "execution": {
     "iopub.execute_input": "2020-09-05T11:56:07.051058Z",
     "iopub.status.busy": "2020-09-05T11:56:07.049822Z",
     "iopub.status.idle": "2020-09-05T11:56:07.066337Z",
     "shell.execute_reply": "2020-09-05T11:56:07.065562Z"
    },
    "papermill": {
     "duration": 0.03886,
     "end_time": "2020-09-05T11:56:07.066497",
     "exception": false,
     "start_time": "2020-09-05T11:56:07.027637",
     "status": "completed"
    },
    "tags": []
   },
   "outputs": [],
   "source": [
    "data= raw_data[(raw_data['bmi']>10) & (raw_data['bmi']<100)].copy()"
   ]
  },
  {
   "cell_type": "code",
   "execution_count": 17,
   "metadata": {
    "_kg_hide-input": true,
    "execution": {
     "iopub.execute_input": "2020-09-05T11:56:07.112287Z",
     "iopub.status.busy": "2020-09-05T11:56:07.106815Z",
     "iopub.status.idle": "2020-09-05T11:56:07.350503Z",
     "shell.execute_reply": "2020-09-05T11:56:07.349797Z"
    },
    "papermill": {
     "duration": 0.267848,
     "end_time": "2020-09-05T11:56:07.350647",
     "exception": false,
     "start_time": "2020-09-05T11:56:07.082799",
     "status": "completed"
    },
    "tags": []
   },
   "outputs": [
    {
     "data": {
      "image/png": "[encoded data removed]",
      "text/plain": [
       "<Figure size 432x288 with 1 Axes>"
      ]
     },
     "metadata": {},
     "output_type": "display_data"
    }
   ],
   "source": [
    "sns.boxplot(data.bmi,color='Green')\n",
    "plt.title('Distribution of BMI');"
   ]
  },
  {
   "cell_type": "code",
   "execution_count": 18,
   "metadata": {
    "_kg_hide-input": true,
    "execution": {
     "iopub.execute_input": "2020-09-05T11:56:07.394173Z",
     "iopub.status.busy": "2020-09-05T11:56:07.393133Z",
     "iopub.status.idle": "2020-09-05T11:56:07.396423Z",
     "shell.execute_reply": "2020-09-05T11:56:07.395809Z"
    },
    "papermill": {
     "duration": 0.029411,
     "end_time": "2020-09-05T11:56:07.396578",
     "exception": false,
     "start_time": "2020-09-05T11:56:07.367167",
     "status": "completed"
    },
    "tags": []
   },
   "outputs": [],
   "source": [
    "data.drop(['weight','height'],axis=1,inplace=True)"
   ]
  },
  {
   "cell_type": "code",
   "execution_count": 19,
   "metadata": {
    "_kg_hide-input": true,
    "execution": {
     "iopub.execute_input": "2020-09-05T11:56:07.437140Z",
     "iopub.status.busy": "2020-09-05T11:56:07.436327Z",
     "iopub.status.idle": "2020-09-05T11:56:07.935738Z",
     "shell.execute_reply": "2020-09-05T11:56:07.934959Z"
    },
    "papermill": {
     "duration": 0.522514,
     "end_time": "2020-09-05T11:56:07.935881",
     "exception": false,
     "start_time": "2020-09-05T11:56:07.413367",
     "status": "completed"
    },
    "tags": []
   },
   "outputs": [
    {
     "name": "stdout",
     "output_type": "stream",
     "text": [
      "Observations have been recorded mostly for people with age between 40 and 65\n"
     ]
    },
    {
     "data": {
      "image/png": "[encoded data removed]",
      "text/plain": [
       "<Figure size 432x288 with 1 Axes>"
      ]
     },
     "metadata": {},
     "output_type": "display_data"
    }
   ],
   "source": [
    "sns.violinplot(data.age,color='orange')\n",
    "print(\"Observations have been recorded mostly for people with age between 40 and 65\");"
   ]
  },
  {
   "cell_type": "markdown",
   "execution_count": null,
   "metadata": {
    "papermill": {
     "duration": 0.017004,
     "end_time": "2020-09-05T11:56:07.970263",
     "exception": false,
     "start_time": "2020-09-05T11:56:07.953259",
     "status": "completed"
    },
    "tags": []
   },
   "source": [
    "Now, I will remove outliers and abrupt blood pressure values."
   ]
  },
  {
   "cell_type": "code",
   "execution_count": 20,
   "metadata": {
    "execution": {
     "iopub.execute_input": "2020-09-05T11:56:08.013027Z",
     "iopub.status.busy": "2020-09-05T11:56:08.011228Z",
     "iopub.status.idle": "2020-09-05T11:56:08.017735Z",
     "shell.execute_reply": "2020-09-05T11:56:08.017063Z"
    },
    "papermill": {
     "duration": 0.030083,
     "end_time": "2020-09-05T11:56:08.017882",
     "exception": false,
     "start_time": "2020-09-05T11:56:07.987799",
     "status": "completed"
    },
    "tags": []
   },
   "outputs": [
    {
     "data": {
      "text/plain": [
       "952"
      ]
     },
     "execution_count": 20,
     "metadata": {},
     "output_type": "execute_result"
    }
   ],
   "source": [
    "(data['ap_lo']>360).sum()"
   ]
  },
  {
   "cell_type": "code",
   "execution_count": 21,
   "metadata": {
    "execution": {
     "iopub.execute_input": "2020-09-05T11:56:08.060264Z",
     "iopub.status.busy": "2020-09-05T11:56:08.059433Z",
     "iopub.status.idle": "2020-09-05T11:56:08.065164Z",
     "shell.execute_reply": "2020-09-05T11:56:08.065716Z"
    },
    "papermill": {
     "duration": 0.030466,
     "end_time": "2020-09-05T11:56:08.065904",
     "exception": false,
     "start_time": "2020-09-05T11:56:08.035438",
     "status": "completed"
    },
    "tags": []
   },
   "outputs": [
    {
     "data": {
      "text/plain": [
       "39"
      ]
     },
     "execution_count": 21,
     "metadata": {},
     "output_type": "execute_result"
    }
   ],
   "source": [
    "(data['ap_hi']>360).sum()"
   ]
  },
  {
   "cell_type": "code",
   "execution_count": 22,
   "metadata": {
    "execution": {
     "iopub.execute_input": "2020-09-05T11:56:08.109231Z",
     "iopub.status.busy": "2020-09-05T11:56:08.108270Z",
     "iopub.status.idle": "2020-09-05T11:56:08.134658Z",
     "shell.execute_reply": "2020-09-05T11:56:08.133537Z"
    },
    "papermill": {
     "duration": 0.051775,
     "end_time": "2020-09-05T11:56:08.134889",
     "exception": false,
     "start_time": "2020-09-05T11:56:08.083114",
     "status": "completed"
    },
    "tags": []
   },
   "outputs": [],
   "source": [
    "data= data[(data['ap_lo']<360) & (data['ap_hi']<360)].copy()\n",
    "data= data[(data['ap_lo']>20) & (data['ap_hi']>20)].copy()\n",
    "data=data[data['ap_hi']>data['ap_lo']]"
   ]
  },
  {
   "cell_type": "code",
   "execution_count": 23,
   "metadata": {
    "execution": {
     "iopub.execute_input": "2020-09-05T11:56:08.178802Z",
     "iopub.status.busy": "2020-09-05T11:56:08.177961Z",
     "iopub.status.idle": "2020-09-05T11:56:08.636078Z",
     "shell.execute_reply": "2020-09-05T11:56:08.635384Z"
    },
    "papermill": {
     "duration": 0.482239,
     "end_time": "2020-09-05T11:56:08.636218",
     "exception": false,
     "start_time": "2020-09-05T11:56:08.153979",
     "status": "completed"
    },
    "tags": []
   },
   "outputs": [
    {
     "data": {
      "image/png": "[encoded data removed]",
      "text/plain": [
       "<Figure size 432x288 with 1 Axes>"
      ]
     },
     "metadata": {},
     "output_type": "display_data"
    }
   ],
   "source": [
    "sns.violinplot(data.ap_hi,color='orange');"
   ]
  },
  {
   "cell_type": "code",
   "execution_count": 24,
   "metadata": {
    "execution": {
     "iopub.execute_input": "2020-09-05T11:56:08.678364Z",
     "iopub.status.busy": "2020-09-05T11:56:08.677647Z",
     "iopub.status.idle": "2020-09-05T11:56:09.125126Z",
     "shell.execute_reply": "2020-09-05T11:56:09.124386Z"
    },
    "papermill": {
     "duration": 0.471373,
     "end_time": "2020-09-05T11:56:09.125277",
     "exception": false,
     "start_time": "2020-09-05T11:56:08.653904",
     "status": "completed"
    },
    "tags": []
   },
   "outputs": [
    {
     "data": {
      "image/png": "[encoded data removed]",
      "text/plain": [
       "<Figure size 432x288 with 1 Axes>"
      ]
     },
     "metadata": {},
     "output_type": "display_data"
    }
   ],
   "source": [
    "sns.violinplot(data.ap_lo,color='orange');"
   ]
  },
  {
   "cell_type": "code",
   "execution_count": 25,
   "metadata": {
    "execution": {
     "iopub.execute_input": "2020-09-05T11:56:09.173913Z",
     "iopub.status.busy": "2020-09-05T11:56:09.173110Z",
     "iopub.status.idle": "2020-09-05T11:56:09.250135Z",
     "shell.execute_reply": "2020-09-05T11:56:09.249315Z"
    },
    "papermill": {
     "duration": 0.106474,
     "end_time": "2020-09-05T11:56:09.250275",
     "exception": false,
     "start_time": "2020-09-05T11:56:09.143801",
     "status": "completed"
    },
    "tags": []
   },
   "outputs": [
    {
     "data": {
      "text/html": [
       "<div>\n",
       "<style scoped>\n",
       "    .dataframe tbody tr th:only-of-type {\n",
       "        vertical-align: middle;\n",
       "    }\n",
       "\n",
       "    .dataframe tbody tr th {\n",
       "        vertical-align: top;\n",
       "    }\n",
       "\n",
       "    .dataframe thead th {\n",
       "        text-align: right;\n",
       "    }\n",
       "</style>\n",
       "<table border=\"1\" class=\"dataframe\">\n",
       "  <thead>\n",
       "    <tr style=\"text-align: right;\">\n",
       "      <th></th>\n",
       "      <th>age</th>\n",
       "      <th>gender</th>\n",
       "      <th>ap_hi</th>\n",
       "      <th>ap_lo</th>\n",
       "      <th>smoke</th>\n",
       "      <th>alco</th>\n",
       "      <th>active</th>\n",
       "      <th>cardio</th>\n",
       "      <th>bmi</th>\n",
       "      <th>cholesterol_normal</th>\n",
       "      <th>cholesterol_well above normal</th>\n",
       "      <th>gluc_normal</th>\n",
       "      <th>gluc_well above normal</th>\n",
       "    </tr>\n",
       "  </thead>\n",
       "  <tbody>\n",
       "    <tr>\n",
       "      <th>0</th>\n",
       "      <td>50.4</td>\n",
       "      <td>0</td>\n",
       "      <td>110</td>\n",
       "      <td>80</td>\n",
       "      <td>0</td>\n",
       "      <td>0</td>\n",
       "      <td>1</td>\n",
       "      <td>0</td>\n",
       "      <td>22.0</td>\n",
       "      <td>1</td>\n",
       "      <td>0</td>\n",
       "      <td>1</td>\n",
       "      <td>0</td>\n",
       "    </tr>\n",
       "    <tr>\n",
       "      <th>1</th>\n",
       "      <td>55.4</td>\n",
       "      <td>1</td>\n",
       "      <td>140</td>\n",
       "      <td>90</td>\n",
       "      <td>0</td>\n",
       "      <td>0</td>\n",
       "      <td>1</td>\n",
       "      <td>1</td>\n",
       "      <td>34.9</td>\n",
       "      <td>0</td>\n",
       "      <td>1</td>\n",
       "      <td>1</td>\n",
       "      <td>0</td>\n",
       "    </tr>\n",
       "    <tr>\n",
       "      <th>2</th>\n",
       "      <td>51.6</td>\n",
       "      <td>1</td>\n",
       "      <td>130</td>\n",
       "      <td>70</td>\n",
       "      <td>0</td>\n",
       "      <td>0</td>\n",
       "      <td>0</td>\n",
       "      <td>1</td>\n",
       "      <td>23.5</td>\n",
       "      <td>0</td>\n",
       "      <td>1</td>\n",
       "      <td>1</td>\n",
       "      <td>0</td>\n",
       "    </tr>\n",
       "    <tr>\n",
       "      <th>3</th>\n",
       "      <td>48.2</td>\n",
       "      <td>0</td>\n",
       "      <td>150</td>\n",
       "      <td>100</td>\n",
       "      <td>0</td>\n",
       "      <td>0</td>\n",
       "      <td>1</td>\n",
       "      <td>1</td>\n",
       "      <td>28.7</td>\n",
       "      <td>1</td>\n",
       "      <td>0</td>\n",
       "      <td>1</td>\n",
       "      <td>0</td>\n",
       "    </tr>\n",
       "    <tr>\n",
       "      <th>4</th>\n",
       "      <td>47.8</td>\n",
       "      <td>1</td>\n",
       "      <td>100</td>\n",
       "      <td>60</td>\n",
       "      <td>0</td>\n",
       "      <td>0</td>\n",
       "      <td>0</td>\n",
       "      <td>0</td>\n",
       "      <td>23.0</td>\n",
       "      <td>1</td>\n",
       "      <td>0</td>\n",
       "      <td>1</td>\n",
       "      <td>0</td>\n",
       "    </tr>\n",
       "  </tbody>\n",
       "</table>\n",
       "</div>"
      ],
      "text/plain": [
       "    age  gender  ap_hi  ap_lo  smoke  alco  active  cardio   bmi  \\\n",
       "0  50.4       0    110     80      0     0       1       0  22.0   \n",
       "1  55.4       1    140     90      0     0       1       1  34.9   \n",
       "2  51.6       1    130     70      0     0       0       1  23.5   \n",
       "3  48.2       0    150    100      0     0       1       1  28.7   \n",
       "4  47.8       1    100     60      0     0       0       0  23.0   \n",
       "\n",
       "   cholesterol_normal  cholesterol_well above normal  gluc_normal  \\\n",
       "0                   1                              0            1   \n",
       "1                   0                              1            1   \n",
       "2                   0                              1            1   \n",
       "3                   1                              0            1   \n",
       "4                   1                              0            1   \n",
       "\n",
       "   gluc_well above normal  \n",
       "0                       0  \n",
       "1                       0  \n",
       "2                       0  \n",
       "3                       0  \n",
       "4                       0  "
      ]
     },
     "execution_count": 25,
     "metadata": {},
     "output_type": "execute_result"
    }
   ],
   "source": [
    "#creating dummy variables for categorical column\n",
    "data['cholesterol']=data['cholesterol'].map({ 1: 'normal', 2: 'above normal', 3: 'well above normal'})\n",
    "data['gluc']=data['gluc'].map({ 1: 'normal', 2: 'above normal', 3: 'well above normal'})\n",
    "dummies = pd.get_dummies(data[['cholesterol','gluc']],drop_first=True)\n",
    "final_data = pd.concat([data,dummies],axis=1)\n",
    "final_data.drop(['cholesterol','gluc'],axis=1,inplace=True)\n",
    "final_data.head()"
   ]
  },
  {
   "cell_type": "code",
   "execution_count": 26,
   "metadata": {
    "_kg_hide-input": true,
    "execution": {
     "iopub.execute_input": "2020-09-05T11:56:09.295486Z",
     "iopub.status.busy": "2020-09-05T11:56:09.294702Z",
     "iopub.status.idle": "2020-09-05T11:56:11.452916Z",
     "shell.execute_reply": "2020-09-05T11:56:11.453565Z"
    },
    "papermill": {
     "duration": 2.184774,
     "end_time": "2020-09-05T11:56:11.453750",
     "exception": false,
     "start_time": "2020-09-05T11:56:09.268976",
     "status": "completed"
    },
    "tags": []
   },
   "outputs": [
    {
     "data": {
      "text/html": [
       "        <script type=\"text/javascript\">\n",
       "        window.PlotlyConfig = {MathJaxConfig: 'local'};\n",
       "        if (window.MathJax) {MathJax.Hub.Config({SVG: {font: \"STIX-Web\"}});}\n",
       "        if (typeof require !== 'undefined') {\n",
       "        require.undef(\"plotly\");\n",
       "        requirejs.config({\n",
       "            paths: {\n",
       "                'plotly': ['https://cdn.plot.ly/plotly-latest.min']\n",
       "            }\n",
       "        });\n",
       "        require(['plotly'], function(Plotly) {\n",
       "            window._Plotly = Plotly;\n",
       "        });\n",
       "        }\n",
       "        </script>\n",
       "        "
      ]
     },
     "metadata": {},
     "output_type": "display_data"
    },
    {
     "data": {
      "text/html": [
       "        <script type=\"text/javascript\">\n",
       "        window.PlotlyConfig = {MathJaxConfig: 'local'};\n",
       "        if (window.MathJax) {MathJax.Hub.Config({SVG: {font: \"STIX-Web\"}});}\n",
       "        if (typeof require !== 'undefined') {\n",
       "        require.undef(\"plotly\");\n",
       "        requirejs.config({\n",
       "            paths: {\n",
       "                'plotly': ['https://cdn.plot.ly/plotly-latest.min']\n",
       "            }\n",
       "        });\n",
       "        require(['plotly'], function(Plotly) {\n",
       "            window._Plotly = Plotly;\n",
       "        });\n",
       "        }\n",
       "        </script>\n",
       "        "
      ]
     },
     "metadata": {},
     "output_type": "display_data"
    },
    {
     "name": "stdout",
     "output_type": "stream",
     "text": [
      "Correlation of features with target variable\n"
     ]
    },
    {
     "data": {
      "application/vnd.plotly.v1+json": {
       "config": {
        "linkText": "Export to plot.ly",
        "plotlyServerURL": "https://plot.ly",
        "showLink": true
       },
       "data": [
        {
         "marker": {
          "color": "rgba(255, 153, 51, 0.6)",
          "line": {
           "color": "rgba(255, 153, 51, 1.0)",
           "width": 1
          }
         },
         "name": "cardio",
         "orientation": "h",
         "text": "",
         "type": "bar",
         "x": [
          -0.20357406368964942,
          -0.08951150247762385,
          -0.03595531952507125,
          -0.017918127459737358,
          -0.00985629286520714,
          -0.005322545468821751,
          0.06935620657577216,
          0.1864988666611204,
          0.1918875350088723,
          0.23876850297385194,
          0.3400198497514616,
          0.42796356113910594
         ],
         "y": [
          "cholesterol_normal",
          "gluc_normal",
          "active",
          "smoke",
          "alco",
          "gender",
          "gluc_well above normal",
          "bmi",
          "cholesterol_well above normal",
          "age",
          "ap_lo",
          "ap_hi"
         ]
        }
       ],
       "layout": {
        "legend": {
         "bgcolor": "#F5F6F9",
         "font": {
          "color": "#4D5663"
         }
        },
        "paper_bgcolor": "#F5F6F9",
        "plot_bgcolor": "#F5F6F9",
        "template": {
         "data": {
          "bar": [
           {
            "error_x": {
             "color": "#2a3f5f"
            },
            "error_y": {
             "color": "#2a3f5f"
            },
            "marker": {
             "line": {
              "color": "#E5ECF6",
              "width": 0.5
             }
            },
            "type": "bar"
           }
          ],
          "barpolar": [
           {
            "marker": {
             "line": {
              "color": "#E5ECF6",
              "width": 0.5
             }
            },
            "type": "barpolar"
           }
          ],
          "carpet": [
           {
            "aaxis": {
             "endlinecolor": "#2a3f5f",
             "gridcolor": "white",
             "linecolor": "white",
             "minorgridcolor": "white",
             "startlinecolor": "#2a3f5f"
            },
            "baxis": {
             "endlinecolor": "#2a3f5f",
             "gridcolor": "white",
             "linecolor": "white",
             "minorgridcolor": "white",
             "startlinecolor": "#2a3f5f"
            },
            "type": "carpet"
           }
          ],
          "choropleth": [
           {
            "colorbar": {
             "outlinewidth": 0,
             "ticks": ""
            },
            "type": "choropleth"
           }
          ],
          "contour": [
           {
            "colorbar": {
             "outlinewidth": 0,
             "ticks": ""
            },
            "colorscale": [
             [
              0.0,
              "#0d0887"
             ],
             [
              0.1111111111111111,
              "#46039f"
             ],
             [
              0.2222222222222222,
              "#7201a8"
             ],
             [
              0.3333333333333333,
              "#9c179e"
             ],
             [
              0.4444444444444444,
              "#bd3786"
             ],
             [
              0.5555555555555556,
              "#d8576b"
             ],
             [
              0.6666666666666666,
              "#ed7953"
             ],
             [
              0.7777777777777778,
              "#fb9f3a"
             ],
             [
              0.8888888888888888,
              "#fdca26"
             ],
             [
              1.0,
              "#f0f921"
             ]
            ],
            "type": "contour"
           }
          ],
          "contourcarpet": [
           {
            "colorbar": {
             "outlinewidth": 0,
             "ticks": ""
            },
            "type": "contourcarpet"
           }
          ],
          "heatmap": [
           {
            "colorbar": {
             "outlinewidth": 0,
             "ticks": ""
            },
            "colorscale": [
             [
              0.0,
              "#0d0887"
             ],
             [
              0.1111111111111111,
              "#46039f"
             ],
             [
              0.2222222222222222,
              "#7201a8"
             ],
             [
              0.3333333333333333,
              "#9c179e"
             ],
             [
              0.4444444444444444,
              "#bd3786"
             ],
             [
              0.5555555555555556,
              "#d8576b"
             ],
             [
              0.6666666666666666,
              "#ed7953"
             ],
             [
              0.7777777777777778,
              "#fb9f3a"
             ],
             [
              0.8888888888888888,
              "#fdca26"
             ],
             [
              1.0,
              "#f0f921"
             ]
            ],
            "type": "heatmap"
           }
          ],
          "heatmapgl": [
           {
            "colorbar": {
             "outlinewidth": 0,
             "ticks": ""
            },
            "colorscale": [
             [
              0.0,
              "#0d0887"
             ],
             [
              0.1111111111111111,
              "#46039f"
             ],
             [
              0.2222222222222222,
              "#7201a8"
             ],
             [
              0.3333333333333333,
              "#9c179e"
             ],
             [
              0.4444444444444444,
              "#bd3786"
             ],
             [
              0.5555555555555556,
              "#d8576b"
             ],
             [
              0.6666666666666666,
              "#ed7953"
             ],
             [
              0.7777777777777778,
              "#fb9f3a"
             ],
             [
              0.8888888888888888,
              "#fdca26"
             ],
             [
              1.0,
              "#f0f921"
             ]
            ],
            "type": "heatmapgl"
           }
          ],
          "histogram": [
           {
            "marker": {
             "colorbar": {
              "outlinewidth": 0,
              "ticks": ""
             }
            },
            "type": "histogram"
           }
          ],
          "histogram2d": [
           {
            "colorbar": {
             "outlinewidth": 0,
             "ticks": ""
            },
            "colorscale": [
             [
              0.0,
              "#0d0887"
             ],
             [
              0.1111111111111111,
              "#46039f"
             ],
             [
              0.2222222222222222,
              "#7201a8"
             ],
             [
              0.3333333333333333,
              "#9c179e"
             ],
             [
              0.4444444444444444,
              "#bd3786"
             ],
             [
              0.5555555555555556,
              "#d8576b"
             ],
             [
              0.6666666666666666,
              "#ed7953"
             ],
             [
              0.7777777777777778,
              "#fb9f3a"
             ],
             [
              0.8888888888888888,
              "#fdca26"
             ],
             [
              1.0,
              "#f0f921"
             ]
            ],
            "type": "histogram2d"
           }
          ],
          "histogram2dcontour": [
           {
            "colorbar": {
             "outlinewidth": 0,
             "ticks": ""
            },
            "colorscale": [
             [
              0.0,
              "#0d0887"
             ],
             [
              0.1111111111111111,
              "#46039f"
             ],
             [
              0.2222222222222222,
              "#7201a8"
             ],
             [
              0.3333333333333333,
              "#9c179e"
             ],
             [
              0.4444444444444444,
              "#bd3786"
             ],
             [
              0.5555555555555556,
              "#d8576b"
             ],
             [
              0.6666666666666666,
              "#ed7953"
             ],
             [
              0.7777777777777778,
              "#fb9f3a"
             ],
             [
              0.8888888888888888,
              "#fdca26"
             ],
             [
              1.0,
              "#f0f921"
             ]
            ],
            "type": "histogram2dcontour"
           }
          ],
          "mesh3d": [
           {
            "colorbar": {
             "outlinewidth": 0,
             "ticks": ""
            },
            "type": "mesh3d"
           }
          ],
          "parcoords": [
           {
            "line": {
             "colorbar": {
              "outlinewidth": 0,
              "ticks": ""
             }
            },
            "type": "parcoords"
           }
          ],
          "pie": [
           {
            "automargin": true,
            "type": "pie"
           }
          ],
          "scatter": [
           {
            "marker": {
             "colorbar": {
              "outlinewidth": 0,
              "ticks": ""
             }
            },
            "type": "scatter"
           }
          ],
          "scatter3d": [
           {
            "line": {
             "colorbar": {
              "outlinewidth": 0,
              "ticks": ""
             }
            },
            "marker": {
             "colorbar": {
              "outlinewidth": 0,
              "ticks": ""
             }
            },
            "type": "scatter3d"
           }
          ],
          "scattercarpet": [
           {
            "marker": {
             "colorbar": {
              "outlinewidth": 0,
              "ticks": ""
             }
            },
            "type": "scattercarpet"
           }
          ],
          "scattergeo": [
           {
            "marker": {
             "colorbar": {
              "outlinewidth": 0,
              "ticks": ""
             }
            },
            "type": "scattergeo"
           }
          ],
          "scattergl": [
           {
            "marker": {
             "colorbar": {
              "outlinewidth": 0,
              "ticks": ""
             }
            },
            "type": "scattergl"
           }
          ],
          "scattermapbox": [
           {
            "marker": {
             "colorbar": {
              "outlinewidth": 0,
              "ticks": ""
             }
            },
            "type": "scattermapbox"
           }
          ],
          "scatterpolar": [
           {
            "marker": {
             "colorbar": {
              "outlinewidth": 0,
              "ticks": ""
             }
            },
            "type": "scatterpolar"
           }
          ],
          "scatterpolargl": [
           {
            "marker": {
             "colorbar": {
              "outlinewidth": 0,
              "ticks": ""
             }
            },
            "type": "scatterpolargl"
           }
          ],
          "scatterternary": [
           {
            "marker": {
             "colorbar": {
              "outlinewidth": 0,
              "ticks": ""
             }
            },
            "type": "scatterternary"
           }
          ],
          "surface": [
           {
            "colorbar": {
             "outlinewidth": 0,
             "ticks": ""
            },
            "colorscale": [
             [
              0.0,
              "#0d0887"
             ],
             [
              0.1111111111111111,
              "#46039f"
             ],
             [
              0.2222222222222222,
              "#7201a8"
             ],
             [
              0.3333333333333333,
              "#9c179e"
             ],
             [
              0.4444444444444444,
              "#bd3786"
             ],
             [
              0.5555555555555556,
              "#d8576b"
             ],
             [
              0.6666666666666666,
              "#ed7953"
             ],
             [
              0.7777777777777778,
              "#fb9f3a"
             ],
             [
              0.8888888888888888,
              "#fdca26"
             ],
             [
              1.0,
              "#f0f921"
             ]
            ],
            "type": "surface"
           }
          ],
          "table": [
           {
            "cells": {
             "fill": {
              "color": "#EBF0F8"
             },
             "line": {
              "color": "white"
             }
            },
            "header": {
             "fill": {
              "color": "#C8D4E3"
             },
             "line": {
              "color": "white"
             }
            },
            "type": "table"
           }
          ]
         },
         "layout": {
          "annotationdefaults": {
           "arrowcolor": "#2a3f5f",
           "arrowhead": 0,
           "arrowwidth": 1
          },
          "coloraxis": {
           "colorbar": {
            "outlinewidth": 0,
            "ticks": ""
           }
          },
          "colorscale": {
           "diverging": [
            [
             0,
             "#8e0152"
            ],
            [
             0.1,
             "#c51b7d"
            ],
            [
             0.2,
             "#de77ae"
            ],
            [
             0.3,
             "#f1b6da"
            ],
            [
             0.4,
             "#fde0ef"
            ],
            [
             0.5,
             "#f7f7f7"
            ],
            [
             0.6,
             "#e6f5d0"
            ],
            [
             0.7,
             "#b8e186"
            ],
            [
             0.8,
             "#7fbc41"
            ],
            [
             0.9,
             "#4d9221"
            ],
            [
             1,
             "#276419"
            ]
           ],
           "sequential": [
            [
             0.0,
             "#0d0887"
            ],
            [
             0.1111111111111111,
             "#46039f"
            ],
            [
             0.2222222222222222,
             "#7201a8"
            ],
            [
             0.3333333333333333,
             "#9c179e"
            ],
            [
             0.4444444444444444,
             "#bd3786"
            ],
            [
             0.5555555555555556,
             "#d8576b"
            ],
            [
             0.6666666666666666,
             "#ed7953"
            ],
            [
             0.7777777777777778,
             "#fb9f3a"
            ],
            [
             0.8888888888888888,
             "#fdca26"
            ],
            [
             1.0,
             "#f0f921"
            ]
           ],
           "sequentialminus": [
            [
             0.0,
             "#0d0887"
            ],
            [
             0.1111111111111111,
             "#46039f"
            ],
            [
             0.2222222222222222,
             "#7201a8"
            ],
            [
             0.3333333333333333,
             "#9c179e"
            ],
            [
             0.4444444444444444,
             "#bd3786"
            ],
            [
             0.5555555555555556,
             "#d8576b"
            ],
            [
             0.6666666666666666,
             "#ed7953"
            ],
            [
             0.7777777777777778,
             "#fb9f3a"
            ],
            [
             0.8888888888888888,
             "#fdca26"
            ],
            [
             1.0,
             "#f0f921"
            ]
           ]
          },
          "colorway": [
           "#636efa",
           "#EF553B",
           "#00cc96",
           "#ab63fa",
           "#FFA15A",
           "#19d3f3",
           "#FF6692",
           "#B6E880",
           "#FF97FF",
           "#FECB52"
          ],
          "font": {
           "color": "#2a3f5f"
          },
          "geo": {
           "bgcolor": "white",
           "lakecolor": "white",
           "landcolor": "#E5ECF6",
           "showlakes": true,
           "showland": true,
           "subunitcolor": "white"
          },
          "hoverlabel": {
           "align": "left"
          },
          "hovermode": "closest",
          "mapbox": {
           "style": "light"
          },
          "paper_bgcolor": "white",
          "plot_bgcolor": "#E5ECF6",
          "polar": {
           "angularaxis": {
            "gridcolor": "white",
            "linecolor": "white",
            "ticks": ""
           },
           "bgcolor": "#E5ECF6",
           "radialaxis": {
            "gridcolor": "white",
            "linecolor": "white",
            "ticks": ""
           }
          },
          "scene": {
           "xaxis": {
            "backgroundcolor": "#E5ECF6",
            "gridcolor": "white",
            "gridwidth": 2,
            "linecolor": "white",
            "showbackground": true,
            "ticks": "",
            "zerolinecolor": "white"
           },
           "yaxis": {
            "backgroundcolor": "#E5ECF6",
            "gridcolor": "white",
            "gridwidth": 2,
            "linecolor": "white",
            "showbackground": true,
            "ticks": "",
            "zerolinecolor": "white"
           },
           "zaxis": {
            "backgroundcolor": "#E5ECF6",
            "gridcolor": "white",
            "gridwidth": 2,
            "linecolor": "white",
            "showbackground": true,
            "ticks": "",
            "zerolinecolor": "white"
           }
          },
          "shapedefaults": {
           "line": {
            "color": "#2a3f5f"
           }
          },
          "ternary": {
           "aaxis": {
            "gridcolor": "white",
            "linecolor": "white",
            "ticks": ""
           },
           "baxis": {
            "gridcolor": "white",
            "linecolor": "white",
            "ticks": ""
           },
           "bgcolor": "#E5ECF6",
           "caxis": {
            "gridcolor": "white",
            "linecolor": "white",
            "ticks": ""
           }
          },
          "title": {
           "x": 0.05
          },
          "xaxis": {
           "automargin": true,
           "gridcolor": "white",
           "linecolor": "white",
           "ticks": "",
           "title": {
            "standoff": 15
           },
           "zerolinecolor": "white",
           "zerolinewidth": 2
          },
          "yaxis": {
           "automargin": true,
           "gridcolor": "white",
           "linecolor": "white",
           "ticks": "",
           "title": {
            "standoff": 15
           },
           "zerolinecolor": "white",
           "zerolinewidth": 2
          }
         }
        },
        "title": {
         "font": {
          "color": "#4D5663"
         }
        },
        "xaxis": {
         "gridcolor": "#E1E5ED",
         "showgrid": true,
         "tickfont": {
          "color": "#4D5663"
         },
         "title": {
          "font": {
           "color": "#4D5663"
          },
          "text": ""
         },
         "zerolinecolor": "#E1E5ED"
        },
        "yaxis": {
         "gridcolor": "#E1E5ED",
         "showgrid": true,
         "tickfont": {
          "color": "#4D5663"
         },
         "title": {
          "font": {
           "color": "#4D5663"
          },
          "text": ""
         },
         "zerolinecolor": "#E1E5ED"
        }
       }
      },
      "text/html": [
       "<div>\n",
       "        \n",
       "        \n",
       "            <div id=\"a7cf6ffb-9b4a-4810-bbaa-d34698487407\" class=\"plotly-graph-div\" style=\"height:525px; width:100%;\"></div>\n",
       "            <script type=\"text/javascript\">\n",
       "                require([\"plotly\"], function(Plotly) {\n",
       "                    window.PLOTLYENV=window.PLOTLYENV || {};\n",
       "                    window.PLOTLYENV.BASE_URL='https://plot.ly';\n",
       "                    \n",
       "                if (document.getElementById(\"a7cf6ffb-9b4a-4810-bbaa-d34698487407\")) {\n",
       "                    Plotly.newPlot(\n",
       "                        'a7cf6ffb-9b4a-4810-bbaa-d34698487407',\n",
       "                        [{\"marker\": {\"color\": \"rgba(255, 153, 51, 0.6)\", \"line\": {\"color\": \"rgba(255, 153, 51, 1.0)\", \"width\": 1}}, \"name\": \"cardio\", \"orientation\": \"h\", \"text\": \"\", \"type\": \"bar\", \"x\": [-0.20357406368964942, -0.08951150247762385, -0.03595531952507125, -0.017918127459737358, -0.00985629286520714, -0.005322545468821751, 0.06935620657577216, 0.1864988666611204, 0.1918875350088723, 0.23876850297385194, 0.3400198497514616, 0.42796356113910594], \"y\": [\"cholesterol_normal\", \"gluc_normal\", \"active\", \"smoke\", \"alco\", \"gender\", \"gluc_well above normal\", \"bmi\", \"cholesterol_well above normal\", \"age\", \"ap_lo\", \"ap_hi\"]}],\n",
       "                        {\"legend\": {\"bgcolor\": \"#F5F6F9\", \"font\": {\"color\": \"#4D5663\"}}, \"paper_bgcolor\": \"#F5F6F9\", \"plot_bgcolor\": \"#F5F6F9\", \"template\": {\"data\": {\"bar\": [{\"error_x\": {\"color\": \"#2a3f5f\"}, \"error_y\": {\"color\": \"#2a3f5f\"}, \"marker\": {\"line\": {\"color\": \"#E5ECF6\", \"width\": 0.5}}, \"type\": \"bar\"}], \"barpolar\": [{\"marker\": {\"line\": {\"color\": \"#E5ECF6\", \"width\": 0.5}}, \"type\": \"barpolar\"}], \"carpet\": [{\"aaxis\": {\"endlinecolor\": \"#2a3f5f\", \"gridcolor\": \"white\", \"linecolor\": \"white\", \"minorgridcolor\": \"white\", \"startlinecolor\": \"#2a3f5f\"}, \"baxis\": {\"endlinecolor\": \"#2a3f5f\", \"gridcolor\": \"white\", \"linecolor\": \"white\", \"minorgridcolor\": \"white\", \"startlinecolor\": \"#2a3f5f\"}, \"type\": \"carpet\"}], \"choropleth\": [{\"colorbar\": {\"outlinewidth\": 0, \"ticks\": \"\"}, \"type\": \"choropleth\"}], \"contour\": [{\"colorbar\": {\"outlinewidth\": 0, \"ticks\": \"\"}, \"colorscale\": [[0.0, \"#0d0887\"], [0.1111111111111111, \"#46039f\"], [0.2222222222222222, \"#7201a8\"], [0.3333333333333333, \"#9c179e\"], [0.4444444444444444, \"#bd3786\"], [0.5555555555555556, \"#d8576b\"], [0.6666666666666666, \"#ed7953\"], [0.7777777777777778, \"#fb9f3a\"], [0.8888888888888888, \"#fdca26\"], [1.0, \"#f0f921\"]], \"type\": \"contour\"}], \"contourcarpet\": [{\"colorbar\": {\"outlinewidth\": 0, \"ticks\": \"\"}, \"type\": \"contourcarpet\"}], \"heatmap\": [{\"colorbar\": {\"outlinewidth\": 0, \"ticks\": \"\"}, \"colorscale\": [[0.0, \"#0d0887\"], [0.1111111111111111, \"#46039f\"], [0.2222222222222222, \"#7201a8\"], [0.3333333333333333, \"#9c179e\"], [0.4444444444444444, \"#bd3786\"], [0.5555555555555556, \"#d8576b\"], [0.6666666666666666, \"#ed7953\"], [0.7777777777777778, \"#fb9f3a\"], [0.8888888888888888, \"#fdca26\"], [1.0, \"#f0f921\"]], \"type\": \"heatmap\"}], \"heatmapgl\": [{\"colorbar\": {\"outlinewidth\": 0, \"ticks\": \"\"}, \"colorscale\": [[0.0, \"#0d0887\"], [0.1111111111111111, \"#46039f\"], [0.2222222222222222, \"#7201a8\"], [0.3333333333333333, \"#9c179e\"], [0.4444444444444444, \"#bd3786\"], [0.5555555555555556, \"#d8576b\"], [0.6666666666666666, \"#ed7953\"], [0.7777777777777778, \"#fb9f3a\"], [0.8888888888888888, \"#fdca26\"], [1.0, \"#f0f921\"]], \"type\": \"heatmapgl\"}], \"histogram\": [{\"marker\": {\"colorbar\": {\"outlinewidth\": 0, \"ticks\": \"\"}}, \"type\": \"histogram\"}], \"histogram2d\": [{\"colorbar\": {\"outlinewidth\": 0, \"ticks\": \"\"}, \"colorscale\": [[0.0, \"#0d0887\"], [0.1111111111111111, \"#46039f\"], [0.2222222222222222, \"#7201a8\"], [0.3333333333333333, \"#9c179e\"], [0.4444444444444444, \"#bd3786\"], [0.5555555555555556, \"#d8576b\"], [0.6666666666666666, \"#ed7953\"], [0.7777777777777778, \"#fb9f3a\"], [0.8888888888888888, \"#fdca26\"], [1.0, \"#f0f921\"]], \"type\": \"histogram2d\"}], \"histogram2dcontour\": [{\"colorbar\": {\"outlinewidth\": 0, \"ticks\": \"\"}, \"colorscale\": [[0.0, \"#0d0887\"], [0.1111111111111111, \"#46039f\"], [0.2222222222222222, \"#7201a8\"], [0.3333333333333333, \"#9c179e\"], [0.4444444444444444, \"#bd3786\"], [0.5555555555555556, \"#d8576b\"], [0.6666666666666666, \"#ed7953\"], [0.7777777777777778, \"#fb9f3a\"], [0.8888888888888888, \"#fdca26\"], [1.0, \"#f0f921\"]], \"type\": \"histogram2dcontour\"}], \"mesh3d\": [{\"colorbar\": {\"outlinewidth\": 0, \"ticks\": \"\"}, \"type\": \"mesh3d\"}], \"parcoords\": [{\"line\": {\"colorbar\": {\"outlinewidth\": 0, \"ticks\": \"\"}}, \"type\": \"parcoords\"}], \"pie\": [{\"automargin\": true, \"type\": \"pie\"}], \"scatter\": [{\"marker\": {\"colorbar\": {\"outlinewidth\": 0, \"ticks\": \"\"}}, \"type\": \"scatter\"}], \"scatter3d\": [{\"line\": {\"colorbar\": {\"outlinewidth\": 0, \"ticks\": \"\"}}, \"marker\": {\"colorbar\": {\"outlinewidth\": 0, \"ticks\": \"\"}}, \"type\": \"scatter3d\"}], \"scattercarpet\": [{\"marker\": {\"colorbar\": {\"outlinewidth\": 0, \"ticks\": \"\"}}, \"type\": \"scattercarpet\"}], \"scattergeo\": [{\"marker\": {\"colorbar\": {\"outlinewidth\": 0, \"ticks\": \"\"}}, \"type\": \"scattergeo\"}], \"scattergl\": [{\"marker\": {\"colorbar\": {\"outlinewidth\": 0, \"ticks\": \"\"}}, \"type\": \"scattergl\"}], \"scattermapbox\": [{\"marker\": {\"colorbar\": {\"outlinewidth\": 0, \"ticks\": \"\"}}, \"type\": \"scattermapbox\"}], \"scatterpolar\": [{\"marker\": {\"colorbar\": {\"outlinewidth\": 0, \"ticks\": \"\"}}, \"type\": \"scatterpolar\"}], \"scatterpolargl\": [{\"marker\": {\"colorbar\": {\"outlinewidth\": 0, \"ticks\": \"\"}}, \"type\": \"scatterpolargl\"}], \"scatterternary\": [{\"marker\": {\"colorbar\": {\"outlinewidth\": 0, \"ticks\": \"\"}}, \"type\": \"scatterternary\"}], \"surface\": [{\"colorbar\": {\"outlinewidth\": 0, \"ticks\": \"\"}, \"colorscale\": [[0.0, \"#0d0887\"], [0.1111111111111111, \"#46039f\"], [0.2222222222222222, \"#7201a8\"], [0.3333333333333333, \"#9c179e\"], [0.4444444444444444, \"#bd3786\"], [0.5555555555555556, \"#d8576b\"], [0.6666666666666666, \"#ed7953\"], [0.7777777777777778, \"#fb9f3a\"], [0.8888888888888888, \"#fdca26\"], [1.0, \"#f0f921\"]], \"type\": \"surface\"}], \"table\": [{\"cells\": {\"fill\": {\"color\": \"#EBF0F8\"}, \"line\": {\"color\": \"white\"}}, \"header\": {\"fill\": {\"color\": \"#C8D4E3\"}, \"line\": {\"color\": \"white\"}}, \"type\": \"table\"}]}, \"layout\": {\"annotationdefaults\": {\"arrowcolor\": \"#2a3f5f\", \"arrowhead\": 0, \"arrowwidth\": 1}, \"coloraxis\": {\"colorbar\": {\"outlinewidth\": 0, \"ticks\": \"\"}}, \"colorscale\": {\"diverging\": [[0, \"#8e0152\"], [0.1, \"#c51b7d\"], [0.2, \"#de77ae\"], [0.3, \"#f1b6da\"], [0.4, \"#fde0ef\"], [0.5, \"#f7f7f7\"], [0.6, \"#e6f5d0\"], [0.7, \"#b8e186\"], [0.8, \"#7fbc41\"], [0.9, \"#4d9221\"], [1, \"#276419\"]], \"sequential\": [[0.0, \"#0d0887\"], [0.1111111111111111, \"#46039f\"], [0.2222222222222222, \"#7201a8\"], [0.3333333333333333, \"#9c179e\"], [0.4444444444444444, \"#bd3786\"], [0.5555555555555556, \"#d8576b\"], [0.6666666666666666, \"#ed7953\"], [0.7777777777777778, \"#fb9f3a\"], [0.8888888888888888, \"#fdca26\"], [1.0, \"#f0f921\"]], \"sequentialminus\": [[0.0, \"#0d0887\"], [0.1111111111111111, \"#46039f\"], [0.2222222222222222, \"#7201a8\"], [0.3333333333333333, \"#9c179e\"], [0.4444444444444444, \"#bd3786\"], [0.5555555555555556, \"#d8576b\"], [0.6666666666666666, \"#ed7953\"], [0.7777777777777778, \"#fb9f3a\"], [0.8888888888888888, \"#fdca26\"], [1.0, \"#f0f921\"]]}, \"colorway\": [\"#636efa\", \"#EF553B\", \"#00cc96\", \"#ab63fa\", \"#FFA15A\", \"#19d3f3\", \"#FF6692\", \"#B6E880\", \"#FF97FF\", \"#FECB52\"], \"font\": {\"color\": \"#2a3f5f\"}, \"geo\": {\"bgcolor\": \"white\", \"lakecolor\": \"white\", \"landcolor\": \"#E5ECF6\", \"showlakes\": true, \"showland\": true, \"subunitcolor\": \"white\"}, \"hoverlabel\": {\"align\": \"left\"}, \"hovermode\": \"closest\", \"mapbox\": {\"style\": \"light\"}, \"paper_bgcolor\": \"white\", \"plot_bgcolor\": \"#E5ECF6\", \"polar\": {\"angularaxis\": {\"gridcolor\": \"white\", \"linecolor\": \"white\", \"ticks\": \"\"}, \"bgcolor\": \"#E5ECF6\", \"radialaxis\": {\"gridcolor\": \"white\", \"linecolor\": \"white\", \"ticks\": \"\"}}, \"scene\": {\"xaxis\": {\"backgroundcolor\": \"#E5ECF6\", \"gridcolor\": \"white\", \"gridwidth\": 2, \"linecolor\": \"white\", \"showbackground\": true, \"ticks\": \"\", \"zerolinecolor\": \"white\"}, \"yaxis\": {\"backgroundcolor\": \"#E5ECF6\", \"gridcolor\": \"white\", \"gridwidth\": 2, \"linecolor\": \"white\", \"showbackground\": true, \"ticks\": \"\", \"zerolinecolor\": \"white\"}, \"zaxis\": {\"backgroundcolor\": \"#E5ECF6\", \"gridcolor\": \"white\", \"gridwidth\": 2, \"linecolor\": \"white\", \"showbackground\": true, \"ticks\": \"\", \"zerolinecolor\": \"white\"}}, \"shapedefaults\": {\"line\": {\"color\": \"#2a3f5f\"}}, \"ternary\": {\"aaxis\": {\"gridcolor\": \"white\", \"linecolor\": \"white\", \"ticks\": \"\"}, \"baxis\": {\"gridcolor\": \"white\", \"linecolor\": \"white\", \"ticks\": \"\"}, \"bgcolor\": \"#E5ECF6\", \"caxis\": {\"gridcolor\": \"white\", \"linecolor\": \"white\", \"ticks\": \"\"}}, \"title\": {\"x\": 0.05}, \"xaxis\": {\"automargin\": true, \"gridcolor\": \"white\", \"linecolor\": \"white\", \"ticks\": \"\", \"title\": {\"standoff\": 15}, \"zerolinecolor\": \"white\", \"zerolinewidth\": 2}, \"yaxis\": {\"automargin\": true, \"gridcolor\": \"white\", \"linecolor\": \"white\", \"ticks\": \"\", \"title\": {\"standoff\": 15}, \"zerolinecolor\": \"white\", \"zerolinewidth\": 2}}}, \"title\": {\"font\": {\"color\": \"#4D5663\"}}, \"xaxis\": {\"gridcolor\": \"#E1E5ED\", \"showgrid\": true, \"tickfont\": {\"color\": \"#4D5663\"}, \"title\": {\"font\": {\"color\": \"#4D5663\"}, \"text\": \"\"}, \"zerolinecolor\": \"#E1E5ED\"}, \"yaxis\": {\"gridcolor\": \"#E1E5ED\", \"showgrid\": true, \"tickfont\": {\"color\": \"#4D5663\"}, \"title\": {\"font\": {\"color\": \"#4D5663\"}, \"text\": \"\"}, \"zerolinecolor\": \"#E1E5ED\"}},\n",
       "                        {\"showLink\": true, \"linkText\": \"Export to plot.ly\", \"plotlyServerURL\": \"https://plot.ly\", \"responsive\": true}\n",
       "                    ).then(function(){\n",
       "                            \n",
       "var gd = document.getElementById('a7cf6ffb-9b4a-4810-bbaa-d34698487407');\n",
       "var x = new MutationObserver(function (mutations, observer) {{\n",
       "        var display = window.getComputedStyle(gd).display;\n",
       "        if (!display || display === 'none') {{\n",
       "            console.log([gd, 'removed!']);\n",
       "            Plotly.purge(gd);\n",
       "            observer.disconnect();\n",
       "        }}\n",
       "}});\n",
       "\n",
       "// Listen for the removal of the full notebook cells\n",
       "var notebookContainer = gd.closest('#notebook-container');\n",
       "if (notebookContainer) {{\n",
       "    x.observe(notebookContainer, {childList: true});\n",
       "}}\n",
       "\n",
       "// Listen for the clearing of the current output cell\n",
       "var outputEl = gd.closest('.output');\n",
       "if (outputEl) {{\n",
       "    x.observe(outputEl, {childList: true});\n",
       "}}\n",
       "\n",
       "                        })\n",
       "                };\n",
       "                });\n",
       "            </script>\n",
       "        </div>"
      ]
     },
     "metadata": {},
     "output_type": "display_data"
    }
   ],
   "source": [
    "#plotting using plotly\n",
    "import cufflinks as cf\n",
    "from plotly.offline import download_plotlyjs,init_notebook_mode,plot,iplot\n",
    "init_notebook_mode(connected=True)\n",
    "cf.go_offline()\n",
    "\n",
    "print('Correlation of features with target variable')\n",
    "final_data.corr()['cardio'].sort_values()[:-1].iplot(kind='barh');"
   ]
  },
  {
   "cell_type": "markdown",
   "execution_count": null,
   "metadata": {
    "papermill": {
     "duration": 0.025996,
     "end_time": "2020-09-05T11:56:11.506614",
     "exception": false,
     "start_time": "2020-09-05T11:56:11.480618",
     "status": "completed"
    },
    "tags": []
   },
   "source": [
    "### Splitting and Standardizing data"
   ]
  },
  {
   "cell_type": "code",
   "execution_count": 27,
   "metadata": {
    "execution": {
     "iopub.execute_input": "2020-09-05T11:56:11.570633Z",
     "iopub.status.busy": "2020-09-05T11:56:11.569715Z",
     "iopub.status.idle": "2020-09-05T11:56:11.842293Z",
     "shell.execute_reply": "2020-09-05T11:56:11.842902Z"
    },
    "papermill": {
     "duration": 0.310144,
     "end_time": "2020-09-05T11:56:11.843112",
     "exception": false,
     "start_time": "2020-09-05T11:56:11.532968",
     "status": "completed"
    },
    "tags": []
   },
   "outputs": [],
   "source": [
    "from sklearn.model_selection import train_test_split\n",
    "from sklearn.preprocessing import StandardScaler\n",
    "\n",
    "X_train, X_test, y_train, y_test = train_test_split(final_data.drop('cardio',axis=1),final_data.cardio,test_size=0.30)\n",
    "\n",
    "to_be_scaled_feat = ['age', 'ap_hi', 'ap_lo','bmi']\n",
    "other_feat = ['gender', 'cholesterol_normal', 'cholesterol_well above normal',\n",
    "       'gluc_normal', 'gluc_well above normal', 'smoke', 'alco', 'active']\n",
    "scaler=StandardScaler()\n",
    "scaler.fit(X_train[to_be_scaled_feat])\n",
    "X_train[to_be_scaled_feat] = scaler.transform(X_train[to_be_scaled_feat])\n",
    "X_test[to_be_scaled_feat] = scaler.transform(X_test[to_be_scaled_feat])"
   ]
  },
  {
   "cell_type": "markdown",
   "execution_count": null,
   "metadata": {
    "papermill": {
     "duration": 0.026349,
     "end_time": "2020-09-05T11:56:11.896461",
     "exception": false,
     "start_time": "2020-09-05T11:56:11.870112",
     "status": "completed"
    },
    "tags": []
   },
   "source": [
    "### Modelling"
   ]
  },
  {
   "cell_type": "code",
   "execution_count": 28,
   "metadata": {
    "execution": {
     "iopub.execute_input": "2020-09-05T11:56:11.957871Z",
     "iopub.status.busy": "2020-09-05T11:56:11.956659Z",
     "iopub.status.idle": "2020-09-05T11:58:52.190726Z",
     "shell.execute_reply": "2020-09-05T11:58:52.191538Z"
    },
    "papermill": {
     "duration": 160.268464,
     "end_time": "2020-09-05T11:58:52.191787",
     "exception": false,
     "start_time": "2020-09-05T11:56:11.923323",
     "status": "completed"
    },
    "scrolled": true,
    "tags": []
   },
   "outputs": [
    {
     "data": {
      "text/html": [
       "<div>\n",
       "<style scoped>\n",
       "    .dataframe tbody tr th:only-of-type {\n",
       "        vertical-align: middle;\n",
       "    }\n",
       "\n",
       "    .dataframe tbody tr th {\n",
       "        vertical-align: top;\n",
       "    }\n",
       "\n",
       "    .dataframe thead th {\n",
       "        text-align: right;\n",
       "    }\n",
       "</style>\n",
       "<table border=\"1\" class=\"dataframe\">\n",
       "  <thead>\n",
       "    <tr style=\"text-align: right;\">\n",
       "      <th></th>\n",
       "      <th>Accuracy in %</th>\n",
       "      <th>F1-score</th>\n",
       "    </tr>\n",
       "  </thead>\n",
       "  <tbody>\n",
       "    <tr>\n",
       "      <th>Logistic Regression</th>\n",
       "      <td>73.06</td>\n",
       "      <td>0.71</td>\n",
       "    </tr>\n",
       "    <tr>\n",
       "      <th>Decision Tree</th>\n",
       "      <td>63.09</td>\n",
       "      <td>0.63</td>\n",
       "    </tr>\n",
       "    <tr>\n",
       "      <th>Random Forest</th>\n",
       "      <td>69.50</td>\n",
       "      <td>0.69</td>\n",
       "    </tr>\n",
       "    <tr>\n",
       "      <th>Support Vector Machines</th>\n",
       "      <td>73.56</td>\n",
       "      <td>0.72</td>\n",
       "    </tr>\n",
       "    <tr>\n",
       "      <th>K-nearest Neighbors</th>\n",
       "      <td>69.57</td>\n",
       "      <td>0.69</td>\n",
       "    </tr>\n",
       "    <tr>\n",
       "      <th>XGBoost</th>\n",
       "      <td>73.24</td>\n",
       "      <td>0.72</td>\n",
       "    </tr>\n",
       "  </tbody>\n",
       "</table>\n",
       "</div>"
      ],
      "text/plain": [
       "                         Accuracy in %  F1-score\n",
       "Logistic Regression              73.06      0.71\n",
       "Decision Tree                    63.09      0.63\n",
       "Random Forest                    69.50      0.69\n",
       "Support Vector Machines          73.56      0.72\n",
       "K-nearest Neighbors              69.57      0.69\n",
       "XGBoost                          73.24      0.72"
      ]
     },
     "execution_count": 28,
     "metadata": {},
     "output_type": "execute_result"
    }
   ],
   "source": [
    "# importing classifiers\n",
    "from sklearn.linear_model import LogisticRegression\n",
    "from sklearn.tree import DecisionTreeClassifier\n",
    "from sklearn.ensemble import RandomForestClassifier\n",
    "from sklearn.svm import SVC\n",
    "from sklearn.neighbors import KNeighborsClassifier\n",
    "from xgboost import XGBClassifier\n",
    "from sklearn.metrics import f1_score,accuracy_score,classification_report\n",
    "\n",
    "classifiers = {\n",
    "    'Logistic Regression' : LogisticRegression(),\n",
    "    'Decision Tree' : DecisionTreeClassifier(),\n",
    "    'Random Forest' : RandomForestClassifier(),\n",
    "    'Support Vector Machines' : SVC(),\n",
    "    'K-nearest Neighbors' : KNeighborsClassifier(),\n",
    "    'XGBoost' : XGBClassifier()\n",
    "}\n",
    "results=pd.DataFrame(columns=['Accuracy in %','F1-score'])\n",
    "for method,func in classifiers.items():\n",
    "    func.fit(X_train,y_train)\n",
    "    pred = func.predict(X_test)\n",
    "    results.loc[method]= [100*np.round(accuracy_score(y_test,pred),decimals=4),\n",
    "                         round(f1_score(y_test,pred),2)]\n",
    "results"
   ]
  },
  {
   "cell_type": "markdown",
   "execution_count": null,
   "metadata": {
    "papermill": {
     "duration": 0.026749,
     "end_time": "2020-09-05T11:58:52.254455",
     "exception": false,
     "start_time": "2020-09-05T11:58:52.227706",
     "status": "completed"
    },
    "tags": []
   },
   "source": [
    "# Improving Accuracy by Hyperparameter Tuning\n",
    "\n",
    "## K- Nearest Neighbors (by elbow method)"
   ]
  },
  {
   "cell_type": "code",
   "execution_count": 29,
   "metadata": {
    "execution": {
     "iopub.execute_input": "2020-09-05T11:58:52.328944Z",
     "iopub.status.busy": "2020-09-05T11:58:52.328022Z",
     "iopub.status.idle": "2020-09-05T11:59:49.263866Z",
     "shell.execute_reply": "2020-09-05T11:59:49.264537Z"
    },
    "papermill": {
     "duration": 56.982589,
     "end_time": "2020-09-05T11:59:49.264751",
     "exception": false,
     "start_time": "2020-09-05T11:58:52.282162",
     "status": "completed"
    },
    "tags": []
   },
   "outputs": [
    {
     "data": {
      "image/png": "[encoded data removed]",
      "text/plain": [
       "<Figure size 720x432 with 1 Axes>"
      ]
     },
     "metadata": {},
     "output_type": "display_data"
    }
   ],
   "source": [
    "error_rate = []\n",
    "\n",
    "for i in range(1,15):\n",
    "    \n",
    "    knn = KNeighborsClassifier(n_neighbors=i)\n",
    "    knn.fit(X_train,y_train)\n",
    "    pred_i = knn.predict(X_test)\n",
    "    error_rate.append(np.mean(pred_i != y_test))\n",
    "\n",
    "plt.figure(figsize=(10,6))\n",
    "plt.plot(range(1,15),error_rate,color='blue', linestyle='dashed', marker='o',\n",
    "         markerfacecolor='red', markersize=10)\n",
    "plt.title('Error Rate vs. K Value')\n",
    "plt.xlabel('K')\n",
    "plt.ylabel('Error Rate');"
   ]
  },
  {
   "cell_type": "code",
   "execution_count": 30,
   "metadata": {
    "execution": {
     "iopub.execute_input": "2020-09-05T11:59:49.330620Z",
     "iopub.status.busy": "2020-09-05T11:59:49.329736Z",
     "iopub.status.idle": "2020-09-05T11:59:53.900075Z",
     "shell.execute_reply": "2020-09-05T11:59:53.900878Z"
    },
    "papermill": {
     "duration": 4.608922,
     "end_time": "2020-09-05T11:59:53.901081",
     "exception": false,
     "start_time": "2020-09-05T11:59:49.292159",
     "status": "completed"
    },
    "scrolled": true,
    "tags": []
   },
   "outputs": [
    {
     "name": "stdout",
     "output_type": "stream",
     "text": [
      "              precision    recall  f1-score   support\n",
      "\n",
      "           0       0.70      0.78      0.74     10265\n",
      "           1       0.75      0.66      0.70     10127\n",
      "\n",
      "    accuracy                           0.72     20392\n",
      "   macro avg       0.72      0.72      0.72     20392\n",
      "weighted avg       0.72      0.72      0.72     20392\n",
      "\n"
     ]
    }
   ],
   "source": [
    "knn = KNeighborsClassifier(n_neighbors=12)\n",
    "knn.fit(X_train,y_train)\n",
    "knn_pred = knn.predict(X_test)\n",
    "print(classification_report(y_test,knn_pred))"
   ]
  },
  {
   "cell_type": "code",
   "execution_count": 31,
   "metadata": {
    "_kg_hide-input": true,
    "execution": {
     "iopub.execute_input": "2020-09-05T11:59:53.964238Z",
     "iopub.status.busy": "2020-09-05T11:59:53.963101Z",
     "iopub.status.idle": "2020-09-05T11:59:53.982247Z",
     "shell.execute_reply": "2020-09-05T11:59:53.981444Z"
    },
    "papermill": {
     "duration": 0.054118,
     "end_time": "2020-09-05T11:59:53.982386",
     "exception": false,
     "start_time": "2020-09-05T11:59:53.928268",
     "status": "completed"
    },
    "tags": []
   },
   "outputs": [],
   "source": [
    "results.loc['K-nearest Neighbors(Improved)']= [100*np.round(accuracy_score(y_test,knn_pred),decimals=4),\n",
    "                         round(f1_score(y_test,knn_pred),2)]"
   ]
  },
  {
   "cell_type": "markdown",
   "execution_count": null,
   "metadata": {
    "papermill": {
     "duration": 0.027575,
     "end_time": "2020-09-05T11:59:54.037392",
     "exception": false,
     "start_time": "2020-09-05T11:59:54.009817",
     "status": "completed"
    },
    "tags": []
   },
   "source": [
    "By using **elbow method** we have increased accuracy of this model from 69.4% to 72%."
   ]
  },
  {
   "cell_type": "markdown",
   "execution_count": null,
   "metadata": {
    "papermill": {
     "duration": 0.026874,
     "end_time": "2020-09-05T11:59:54.092171",
     "exception": false,
     "start_time": "2020-09-05T11:59:54.065297",
     "status": "completed"
    },
    "tags": []
   },
   "source": [
    "## Random Forest (by GridSearchCV)"
   ]
  },
  {
   "cell_type": "code",
   "execution_count": 32,
   "metadata": {
    "execution": {
     "iopub.execute_input": "2020-09-05T11:59:54.157750Z",
     "iopub.status.busy": "2020-09-05T11:59:54.156867Z",
     "iopub.status.idle": "2020-09-05T12:16:57.324671Z",
     "shell.execute_reply": "2020-09-05T12:16:57.325342Z"
    },
    "papermill": {
     "duration": 1023.205593,
     "end_time": "2020-09-05T12:16:57.325605",
     "exception": false,
     "start_time": "2020-09-05T11:59:54.120012",
     "status": "completed"
    },
    "tags": []
   },
   "outputs": [
    {
     "name": "stdout",
     "output_type": "stream",
     "text": [
      "Fitting 5 folds for each of 32 candidates, totalling 160 fits\n"
     ]
    },
    {
     "name": "stderr",
     "output_type": "stream",
     "text": [
      "[Parallel(n_jobs=1)]: Using backend SequentialBackend with 1 concurrent workers.\n",
      "[Parallel(n_jobs=1)]: Done 160 out of 160 | elapsed: 16.9min finished\n"
     ]
    },
    {
     "data": {
      "text/plain": [
       "{'max_depth': 90,\n",
       " 'max_features': 2,\n",
       " 'min_samples_leaf': 4,\n",
       " 'min_samples_split': 8,\n",
       " 'n_estimators': 200}"
      ]
     },
     "execution_count": 32,
     "metadata": {},
     "output_type": "execute_result"
    }
   ],
   "source": [
    "from sklearn.model_selection import GridSearchCV\n",
    "\n",
    "param_grid = {'max_depth': [80, 90],\n",
    "    'max_features': [2, 3],\n",
    "    'min_samples_leaf': [3, 4],\n",
    "    'min_samples_split': [8, 10],\n",
    "    'n_estimators': [100, 200]}\n",
    "grid=GridSearchCV(RandomForestClassifier(),param_grid,verbose=1)\n",
    "grid.fit(X_train,y_train)\n",
    "grid.best_params_"
   ]
  },
  {
   "cell_type": "code",
   "execution_count": 33,
   "metadata": {
    "execution": {
     "iopub.execute_input": "2020-09-05T12:16:57.393186Z",
     "iopub.status.busy": "2020-09-05T12:16:57.392213Z",
     "iopub.status.idle": "2020-09-05T12:16:58.312395Z",
     "shell.execute_reply": "2020-09-05T12:16:58.313294Z"
    },
    "papermill": {
     "duration": 0.959238,
     "end_time": "2020-09-05T12:16:58.313588",
     "exception": false,
     "start_time": "2020-09-05T12:16:57.354350",
     "status": "completed"
    },
    "scrolled": true,
    "tags": []
   },
   "outputs": [
    {
     "name": "stdout",
     "output_type": "stream",
     "text": [
      "              precision    recall  f1-score   support\n",
      "\n",
      "           0       0.72      0.78      0.75     10265\n",
      "           1       0.75      0.69      0.72     10127\n",
      "\n",
      "    accuracy                           0.73     20392\n",
      "   macro avg       0.74      0.73      0.73     20392\n",
      "weighted avg       0.74      0.73      0.73     20392\n",
      "\n"
     ]
    }
   ],
   "source": [
    "grid_pred = grid.predict(X_test)\n",
    "print(classification_report(y_test,grid_pred))"
   ]
  },
  {
   "cell_type": "markdown",
   "execution_count": null,
   "metadata": {
    "papermill": {
     "duration": 0.028301,
     "end_time": "2020-09-05T12:16:58.371188",
     "exception": false,
     "start_time": "2020-09-05T12:16:58.342887",
     "status": "completed"
    },
    "tags": []
   },
   "source": [
    "By using **GridSearchCV** we have increased accuracy of this model from 69% to 73%."
   ]
  },
  {
   "cell_type": "markdown",
   "execution_count": null,
   "metadata": {
    "papermill": {
     "duration": 0.028858,
     "end_time": "2020-09-05T12:16:58.429463",
     "exception": false,
     "start_time": "2020-09-05T12:16:58.400605",
     "status": "completed"
    },
    "tags": []
   },
   "source": [
    "# Deep Neural Networks"
   ]
  },
  {
   "cell_type": "code",
   "execution_count": 34,
   "metadata": {
    "_kg_hide-input": true,
    "execution": {
     "iopub.execute_input": "2020-09-05T12:16:58.495426Z",
     "iopub.status.busy": "2020-09-05T12:16:58.494225Z",
     "iopub.status.idle": "2020-09-05T12:16:58.497155Z",
     "shell.execute_reply": "2020-09-05T12:16:58.497749Z"
    },
    "papermill": {
     "duration": 0.039673,
     "end_time": "2020-09-05T12:16:58.497956",
     "exception": false,
     "start_time": "2020-09-05T12:16:58.458283",
     "status": "completed"
    },
    "tags": []
   },
   "outputs": [],
   "source": [
    "import tensorflow as tf\n",
    "from tensorflow.keras.models import Sequential\n",
    "from tensorflow.keras.layers import Dense, Activation,Dropout\n",
    "from tensorflow.keras.optimizers import Adam\n",
    "from tensorflow.keras.callbacks import EarlyStopping"
   ]
  },
  {
   "cell_type": "code",
   "execution_count": 35,
   "metadata": {
    "_kg_hide-output": true,
    "execution": {
     "iopub.execute_input": "2020-09-05T12:16:58.575609Z",
     "iopub.status.busy": "2020-09-05T12:16:58.570095Z",
     "iopub.status.idle": "2020-09-05T12:17:21.997313Z",
     "shell.execute_reply": "2020-09-05T12:17:21.996534Z"
    },
    "papermill": {
     "duration": 23.470721,
     "end_time": "2020-09-05T12:17:21.997484",
     "exception": false,
     "start_time": "2020-09-05T12:16:58.526763",
     "status": "completed"
    },
    "tags": []
   },
   "outputs": [
    {
     "name": "stdout",
     "output_type": "stream",
     "text": [
      "Epoch 1/150\n",
      "381/381 [==============================] - 1s 3ms/step - loss: 0.5740 - val_loss: 0.5496\n",
      "Epoch 2/150\n",
      "381/381 [==============================] - 1s 3ms/step - loss: 0.5548 - val_loss: 0.5499\n",
      "Epoch 3/150\n",
      "381/381 [==============================] - 1s 2ms/step - loss: 0.5523 - val_loss: 0.5468\n",
      "Epoch 4/150\n",
      "381/381 [==============================] - 1s 3ms/step - loss: 0.5509 - val_loss: 0.5467\n",
      "Epoch 5/150\n",
      "381/381 [==============================] - 1s 3ms/step - loss: 0.5486 - val_loss: 0.5465\n",
      "Epoch 6/150\n",
      "381/381 [==============================] - 1s 3ms/step - loss: 0.5489 - val_loss: 0.5476\n",
      "Epoch 7/150\n",
      "381/381 [==============================] - 1s 3ms/step - loss: 0.5477 - val_loss: 0.5460\n",
      "Epoch 8/150\n",
      "381/381 [==============================] - 1s 3ms/step - loss: 0.5473 - val_loss: 0.5455\n",
      "Epoch 9/150\n",
      "381/381 [==============================] - 1s 3ms/step - loss: 0.5475 - val_loss: 0.5456\n",
      "Epoch 10/150\n",
      "381/381 [==============================] - 1s 3ms/step - loss: 0.5473 - val_loss: 0.5450\n",
      "Epoch 11/150\n",
      "381/381 [==============================] - 1s 3ms/step - loss: 0.5473 - val_loss: 0.5451\n",
      "Epoch 12/150\n",
      "381/381 [==============================] - 1s 3ms/step - loss: 0.5459 - val_loss: 0.5459\n",
      "Epoch 13/150\n",
      "381/381 [==============================] - 1s 3ms/step - loss: 0.5457 - val_loss: 0.5449\n",
      "Epoch 14/150\n",
      "381/381 [==============================] - 1s 3ms/step - loss: 0.5452 - val_loss: 0.5453\n",
      "Epoch 15/150\n",
      "381/381 [==============================] - 1s 3ms/step - loss: 0.5461 - val_loss: 0.5466\n",
      "Epoch 16/150\n",
      "381/381 [==============================] - 1s 3ms/step - loss: 0.5451 - val_loss: 0.5448\n",
      "Epoch 17/150\n",
      "381/381 [==============================] - 1s 3ms/step - loss: 0.5441 - val_loss: 0.5450\n",
      "Epoch 18/150\n",
      "381/381 [==============================] - 1s 3ms/step - loss: 0.5451 - val_loss: 0.5451\n",
      "Epoch 19/150\n",
      "381/381 [==============================] - 1s 3ms/step - loss: 0.5443 - val_loss: 0.5502\n",
      "Epoch 20/150\n",
      "381/381 [==============================] - 1s 3ms/step - loss: 0.5441 - val_loss: 0.5456\n",
      "Epoch 21/150\n",
      "381/381 [==============================] - 1s 3ms/step - loss: 0.5446 - val_loss: 0.5453\n",
      "Epoch 00021: early stopping\n"
     ]
    },
    {
     "data": {
      "text/plain": [
       "<tensorflow.python.keras.callbacks.History at 0x7f24c85d9310>"
      ]
     },
     "execution_count": 35,
     "metadata": {},
     "output_type": "execute_result"
    }
   ],
   "source": [
    "#splitting further into validation set\n",
    "X_train, X_val, y_train, y_val = train_test_split(X_train,y_train,test_size=0.20)\n",
    "\n",
    "model = Sequential()\n",
    "model.add(Dense(12,activation='relu'))\n",
    "model.add(Dense(50,activation='relu',kernel_initializer=tf.random_uniform_initializer(minval=-0.1, maxval=0.1),\n",
    "    bias_initializer=tf.random_uniform_initializer(minval=-0.1, maxval=0.1)))\n",
    "model.add(Dropout(0.2))\n",
    "model.add(Dense(50,activation='relu',kernel_initializer=tf.random_uniform_initializer(minval=-0.1, maxval=0.1),\n",
    "    bias_initializer=tf.random_uniform_initializer(minval=-0.1, maxval=0.1)))\n",
    "model.add(Dropout(0.2))\n",
    "model.add(Dense(50,activation='relu',kernel_initializer=tf.random_uniform_initializer(minval=-0.1, maxval=0.1),\n",
    "    bias_initializer=tf.random_uniform_initializer(minval=-0.1, maxval=0.1)))\n",
    "model.add(Dropout(0.2))\n",
    "model.add(Dense(1,activation='sigmoid'))\n",
    "\n",
    "model.compile(loss='binary_crossentropy', optimizer='adam')\n",
    "\n",
    "early_stop = EarlyStopping(monitor='val_loss', mode='min', verbose=1, patience=5)\n",
    "\n",
    "model.fit(x=X_train.values,y=y_train.values,\n",
    "          validation_data=(X_val,y_val.values),\n",
    "          batch_size=100,epochs=150,callbacks=[early_stop])"
   ]
  },
  {
   "cell_type": "code",
   "execution_count": 36,
   "metadata": {
    "execution": {
     "iopub.execute_input": "2020-09-05T12:17:22.117029Z",
     "iopub.status.busy": "2020-09-05T12:17:22.116096Z",
     "iopub.status.idle": "2020-09-05T12:17:22.521372Z",
     "shell.execute_reply": "2020-09-05T12:17:22.520571Z"
    },
    "papermill": {
     "duration": 0.468718,
     "end_time": "2020-09-05T12:17:22.521549",
     "exception": false,
     "start_time": "2020-09-05T12:17:22.052831",
     "status": "completed"
    },
    "tags": []
   },
   "outputs": [
    {
     "data": {
      "image/png": "[encoded data removed]",
      "text/plain": [
       "<Figure size 432x288 with 1 Axes>"
      ]
     },
     "metadata": {},
     "output_type": "display_data"
    }
   ],
   "source": [
    "losses = pd.DataFrame(model.history.history)\n",
    "losses[['loss','val_loss']].plot();"
   ]
  },
  {
   "cell_type": "code",
   "execution_count": 37,
   "metadata": {
    "execution": {
     "iopub.execute_input": "2020-09-05T12:17:22.640635Z",
     "iopub.status.busy": "2020-09-05T12:17:22.639781Z",
     "iopub.status.idle": "2020-09-05T12:17:23.305584Z",
     "shell.execute_reply": "2020-09-05T12:17:23.304626Z"
    },
    "papermill": {
     "duration": 0.729387,
     "end_time": "2020-09-05T12:17:23.305790",
     "exception": false,
     "start_time": "2020-09-05T12:17:22.576403",
     "status": "completed"
    },
    "scrolled": true,
    "tags": []
   },
   "outputs": [
    {
     "name": "stdout",
     "output_type": "stream",
     "text": [
      "              precision    recall  f1-score   support\n",
      "\n",
      "           0       0.72      0.76      0.74     10265\n",
      "           1       0.75      0.71      0.73     10127\n",
      "\n",
      "    accuracy                           0.73     20392\n",
      "   macro avg       0.73      0.73      0.73     20392\n",
      "weighted avg       0.73      0.73      0.73     20392\n",
      "\n"
     ]
    }
   ],
   "source": [
    "dnn_pred = model.predict_classes(X_test)\n",
    "print(classification_report(y_test,dnn_pred))"
   ]
  },
  {
   "cell_type": "markdown",
   "execution_count": null,
   "metadata": {
    "papermill": {
     "duration": 0.054686,
     "end_time": "2020-09-05T12:17:23.415628",
     "exception": false,
     "start_time": "2020-09-05T12:17:23.360942",
     "status": "completed"
    },
    "tags": []
   },
   "source": [
    "# Results"
   ]
  },
  {
   "cell_type": "code",
   "execution_count": 38,
   "metadata": {
    "_kg_hide-input": true,
    "execution": {
     "iopub.execute_input": "2020-09-05T12:17:23.538038Z",
     "iopub.status.busy": "2020-09-05T12:17:23.536648Z",
     "iopub.status.idle": "2020-09-05T12:17:23.724530Z",
     "shell.execute_reply": "2020-09-05T12:17:23.723830Z"
    },
    "papermill": {
     "duration": 0.25278,
     "end_time": "2020-09-05T12:17:23.724700",
     "exception": false,
     "start_time": "2020-09-05T12:17:23.471920",
     "status": "completed"
    },
    "tags": []
   },
   "outputs": [
    {
     "data": {
      "text/html": [
       "<style  type=\"text/css\" >\n",
       "    #T_c10829ba_ef71_11ea_9778_0242ac130202row0_col0 {\n",
       "            background-color:  yellow;\n",
       "        }    #T_c10829ba_ef71_11ea_9778_0242ac130202row2_col1 {\n",
       "            background-color:  yellow;\n",
       "        }</style><table id=\"T_c10829ba_ef71_11ea_9778_0242ac130202\" ><thead>    <tr>        <th class=\"blank level0\" ></th>        <th class=\"col_heading level0 col0\" >Accuracy in %</th>        <th class=\"col_heading level0 col1\" >F1-score</th>    </tr></thead><tbody>\n",
       "                <tr>\n",
       "                        <th id=\"T_c10829ba_ef71_11ea_9778_0242ac130202level0_row0\" class=\"row_heading level0 row0\" >Support Vector Machines</th>\n",
       "                        <td id=\"T_c10829ba_ef71_11ea_9778_0242ac130202row0_col0\" class=\"data row0 col0\" >73.560000</td>\n",
       "                        <td id=\"T_c10829ba_ef71_11ea_9778_0242ac130202row0_col1\" class=\"data row0 col1\" >0.720000</td>\n",
       "            </tr>\n",
       "            <tr>\n",
       "                        <th id=\"T_c10829ba_ef71_11ea_9778_0242ac130202level0_row1\" class=\"row_heading level0 row1\" >Random Forest(Improved)</th>\n",
       "                        <td id=\"T_c10829ba_ef71_11ea_9778_0242ac130202row1_col0\" class=\"data row1 col0\" >73.480000</td>\n",
       "                        <td id=\"T_c10829ba_ef71_11ea_9778_0242ac130202row1_col1\" class=\"data row1 col1\" >0.720000</td>\n",
       "            </tr>\n",
       "            <tr>\n",
       "                        <th id=\"T_c10829ba_ef71_11ea_9778_0242ac130202level0_row2\" class=\"row_heading level0 row2\" >Deep Neural Network</th>\n",
       "                        <td id=\"T_c10829ba_ef71_11ea_9778_0242ac130202row2_col0\" class=\"data row2 col0\" >73.410000</td>\n",
       "                        <td id=\"T_c10829ba_ef71_11ea_9778_0242ac130202row2_col1\" class=\"data row2 col1\" >0.730000</td>\n",
       "            </tr>\n",
       "            <tr>\n",
       "                        <th id=\"T_c10829ba_ef71_11ea_9778_0242ac130202level0_row3\" class=\"row_heading level0 row3\" >XGBoost</th>\n",
       "                        <td id=\"T_c10829ba_ef71_11ea_9778_0242ac130202row3_col0\" class=\"data row3 col0\" >73.240000</td>\n",
       "                        <td id=\"T_c10829ba_ef71_11ea_9778_0242ac130202row3_col1\" class=\"data row3 col1\" >0.720000</td>\n",
       "            </tr>\n",
       "            <tr>\n",
       "                        <th id=\"T_c10829ba_ef71_11ea_9778_0242ac130202level0_row4\" class=\"row_heading level0 row4\" >Logistic Regression</th>\n",
       "                        <td id=\"T_c10829ba_ef71_11ea_9778_0242ac130202row4_col0\" class=\"data row4 col0\" >73.060000</td>\n",
       "                        <td id=\"T_c10829ba_ef71_11ea_9778_0242ac130202row4_col1\" class=\"data row4 col1\" >0.710000</td>\n",
       "            </tr>\n",
       "            <tr>\n",
       "                        <th id=\"T_c10829ba_ef71_11ea_9778_0242ac130202level0_row5\" class=\"row_heading level0 row5\" >K-nearest Neighbors(Improved)</th>\n",
       "                        <td id=\"T_c10829ba_ef71_11ea_9778_0242ac130202row5_col0\" class=\"data row5 col0\" >72.100000</td>\n",
       "                        <td id=\"T_c10829ba_ef71_11ea_9778_0242ac130202row5_col1\" class=\"data row5 col1\" >0.700000</td>\n",
       "            </tr>\n",
       "            <tr>\n",
       "                        <th id=\"T_c10829ba_ef71_11ea_9778_0242ac130202level0_row6\" class=\"row_heading level0 row6\" >K-nearest Neighbors</th>\n",
       "                        <td id=\"T_c10829ba_ef71_11ea_9778_0242ac130202row6_col0\" class=\"data row6 col0\" >69.570000</td>\n",
       "                        <td id=\"T_c10829ba_ef71_11ea_9778_0242ac130202row6_col1\" class=\"data row6 col1\" >0.690000</td>\n",
       "            </tr>\n",
       "            <tr>\n",
       "                        <th id=\"T_c10829ba_ef71_11ea_9778_0242ac130202level0_row7\" class=\"row_heading level0 row7\" >Random Forest</th>\n",
       "                        <td id=\"T_c10829ba_ef71_11ea_9778_0242ac130202row7_col0\" class=\"data row7 col0\" >69.500000</td>\n",
       "                        <td id=\"T_c10829ba_ef71_11ea_9778_0242ac130202row7_col1\" class=\"data row7 col1\" >0.690000</td>\n",
       "            </tr>\n",
       "            <tr>\n",
       "                        <th id=\"T_c10829ba_ef71_11ea_9778_0242ac130202level0_row8\" class=\"row_heading level0 row8\" >Decision Tree</th>\n",
       "                        <td id=\"T_c10829ba_ef71_11ea_9778_0242ac130202row8_col0\" class=\"data row8 col0\" >63.090000</td>\n",
       "                        <td id=\"T_c10829ba_ef71_11ea_9778_0242ac130202row8_col1\" class=\"data row8 col1\" >0.630000</td>\n",
       "            </tr>\n",
       "    </tbody></table>"
      ],
      "text/plain": [
       "<pandas.io.formats.style.Styler at 0x7f24c0561610>"
      ]
     },
     "execution_count": 38,
     "metadata": {},
     "output_type": "execute_result"
    }
   ],
   "source": [
    "results.loc['Random Forest(Improved)']= [100*np.round(accuracy_score(y_test,grid_pred),decimals=4),\n",
    "                         round(f1_score(y_test,grid_pred),2)]\n",
    "results.loc['Deep Neural Network']= [100*np.round(accuracy_score(y_test,dnn_pred),decimals=4),\n",
    "                         round(f1_score(y_test,dnn_pred),2)]\n",
    "results.sort_values(by='Accuracy in %',ascending=False).style.highlight_max()"
   ]
  }
 ],
 "metadata": {
  "kernelspec": {
   "display_name": "Python 3",
   "language": "python",
   "name": "python3"
  },
  "language_info": {
   "codemirror_mode": {
    "name": "ipython",
    "version": 3
   },
   "file_extension": ".py",
   "mimetype": "text/x-python",
   "name": "python",
   "nbconvert_exporter": "python",
   "pygments_lexer": "ipython3",
   "version": "3.7.6"
  },
  "papermill": {
   "duration": 1291.942522,
   "end_time": "2020-09-05T12:17:23.890800",
   "environment_variables": {},
   "exception": null,
   "input_path": "__notebook__.ipynb",
   "output_path": "__notebook__.ipynb",
   "parameters": {},
   "start_time": "2020-09-05T11:55:51.948278",
   "version": "2.1.0"
  }
 },
 "nbformat": 4,
 "nbformat_minor": 4
}
