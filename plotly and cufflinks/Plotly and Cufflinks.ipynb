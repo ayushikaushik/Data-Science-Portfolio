{
 "cells": [
  {
   "cell_type": "markdown",
   "metadata": {},
   "source": [
    "# Data Visualization with Plotly and Cufflinks"
   ]
  },
  {
   "cell_type": "markdown",
   "metadata": {},
   "source": [
    "Plotly is a library that allows to create interactive plots that can be used in dashboards or websites (we can save them as html files or static images).\n",
    "\n",
    "## Installation\n",
    "\n",
    "In order for this all to work, you'll need to install plotly and cufflinks to call plots directly off of a pandas dataframe. Install the libraries at your command line/terminal using:\n",
    "\n",
    "    pip install plotly\n",
    "    pip install cufflinks\n",
    "\n",
    "## Imports and Set-up"
   ]
  },
  {
   "cell_type": "code",
   "execution_count": 1,
   "metadata": {},
   "outputs": [],
   "source": [
    "import pandas as pd\n",
    "import numpy as np\n",
    "%matplotlib inline"
   ]
  },
  {
   "cell_type": "code",
   "execution_count": 2,
   "metadata": {},
   "outputs": [
    {
     "name": "stdout",
     "output_type": "stream",
     "text": [
      "4.7.1\n"
     ]
    }
   ],
   "source": [
    "from plotly import __version__\n",
    "from plotly.offline import download_plotlyjs, init_notebook_mode, plot, iplot\n",
    "\n",
    "print(__version__) # requires version >= 1.9.0"
   ]
  },
  {
   "cell_type": "code",
   "execution_count": 3,
   "metadata": {},
   "outputs": [],
   "source": [
    "import cufflinks as cf"
   ]
  },
  {
   "cell_type": "code",
   "execution_count": 4,
   "metadata": {},
   "outputs": [
    {
     "data": {
      "text/html": [
       "        <script type=\"text/javascript\">\n",
       "        window.PlotlyConfig = {MathJaxConfig: 'local'};\n",
       "        if (window.MathJax) {MathJax.Hub.Config({SVG: {font: \"STIX-Web\"}});}\n",
       "        if (typeof require !== 'undefined') {\n",
       "        require.undef(\"plotly\");\n",
       "        requirejs.config({\n",
       "            paths: {\n",
       "                'plotly': ['https://cdn.plot.ly/plotly-latest.min']\n",
       "            }\n",
       "        });\n",
       "        require(['plotly'], function(Plotly) {\n",
       "            window._Plotly = Plotly;\n",
       "        });\n",
       "        }\n",
       "        </script>\n",
       "        "
      ]
     },
     "metadata": {},
     "output_type": "display_data"
    }
   ],
   "source": [
    "# For Notebooks\n",
    "init_notebook_mode(connected=True)"
   ]
  },
  {
   "cell_type": "code",
   "execution_count": 5,
   "metadata": {},
   "outputs": [
    {
     "data": {
      "text/html": [
       "        <script type=\"text/javascript\">\n",
       "        window.PlotlyConfig = {MathJaxConfig: 'local'};\n",
       "        if (window.MathJax) {MathJax.Hub.Config({SVG: {font: \"STIX-Web\"}});}\n",
       "        if (typeof require !== 'undefined') {\n",
       "        require.undef(\"plotly\");\n",
       "        requirejs.config({\n",
       "            paths: {\n",
       "                'plotly': ['https://cdn.plot.ly/plotly-latest.min']\n",
       "            }\n",
       "        });\n",
       "        require(['plotly'], function(Plotly) {\n",
       "            window._Plotly = Plotly;\n",
       "        });\n",
       "        }\n",
       "        </script>\n",
       "        "
      ]
     },
     "metadata": {},
     "output_type": "display_data"
    }
   ],
   "source": [
    "# For offline use\n",
    "cf.go_offline()"
   ]
  },
  {
   "cell_type": "markdown",
   "metadata": {},
   "source": [
    "### Fake Data"
   ]
  },
  {
   "cell_type": "code",
   "execution_count": 6,
   "metadata": {},
   "outputs": [],
   "source": [
    "df = pd.DataFrame(np.random.randn(100,4),columns='A B C D'.split())"
   ]
  },
  {
   "cell_type": "code",
   "execution_count": 7,
   "metadata": {},
   "outputs": [
    {
     "data": {
      "text/html": [
       "<div>\n",
       "<style scoped>\n",
       "    .dataframe tbody tr th:only-of-type {\n",
       "        vertical-align: middle;\n",
       "    }\n",
       "\n",
       "    .dataframe tbody tr th {\n",
       "        vertical-align: top;\n",
       "    }\n",
       "\n",
       "    .dataframe thead th {\n",
       "        text-align: right;\n",
       "    }\n",
       "</style>\n",
       "<table border=\"1\" class=\"dataframe\">\n",
       "  <thead>\n",
       "    <tr style=\"text-align: right;\">\n",
       "      <th></th>\n",
       "      <th>A</th>\n",
       "      <th>B</th>\n",
       "      <th>C</th>\n",
       "      <th>D</th>\n",
       "    </tr>\n",
       "  </thead>\n",
       "  <tbody>\n",
       "    <tr>\n",
       "      <th>0</th>\n",
       "      <td>0.091099</td>\n",
       "      <td>-0.811609</td>\n",
       "      <td>1.375830</td>\n",
       "      <td>-1.014393</td>\n",
       "    </tr>\n",
       "    <tr>\n",
       "      <th>1</th>\n",
       "      <td>-1.121529</td>\n",
       "      <td>-0.193005</td>\n",
       "      <td>-0.546424</td>\n",
       "      <td>-1.458562</td>\n",
       "    </tr>\n",
       "    <tr>\n",
       "      <th>2</th>\n",
       "      <td>-0.847210</td>\n",
       "      <td>0.420511</td>\n",
       "      <td>-1.064012</td>\n",
       "      <td>2.504242</td>\n",
       "    </tr>\n",
       "    <tr>\n",
       "      <th>3</th>\n",
       "      <td>0.047579</td>\n",
       "      <td>0.255471</td>\n",
       "      <td>-2.323540</td>\n",
       "      <td>0.229583</td>\n",
       "    </tr>\n",
       "    <tr>\n",
       "      <th>4</th>\n",
       "      <td>-0.246501</td>\n",
       "      <td>0.446138</td>\n",
       "      <td>1.705191</td>\n",
       "      <td>-1.296818</td>\n",
       "    </tr>\n",
       "  </tbody>\n",
       "</table>\n",
       "</div>"
      ],
      "text/plain": [
       "          A         B         C         D\n",
       "0  0.091099 -0.811609  1.375830 -1.014393\n",
       "1 -1.121529 -0.193005 -0.546424 -1.458562\n",
       "2 -0.847210  0.420511 -1.064012  2.504242\n",
       "3  0.047579  0.255471 -2.323540  0.229583\n",
       "4 -0.246501  0.446138  1.705191 -1.296818"
      ]
     },
     "execution_count": 7,
     "metadata": {},
     "output_type": "execute_result"
    }
   ],
   "source": [
    "df.head()"
   ]
  },
  {
   "cell_type": "code",
   "execution_count": 8,
   "metadata": {},
   "outputs": [],
   "source": [
    "df2 = pd.DataFrame({'Category':['A','B','C'],'Values':[32,43,50]})"
   ]
  },
  {
   "cell_type": "code",
   "execution_count": 9,
   "metadata": {},
   "outputs": [
    {
     "data": {
      "text/html": [
       "<div>\n",
       "<style scoped>\n",
       "    .dataframe tbody tr th:only-of-type {\n",
       "        vertical-align: middle;\n",
       "    }\n",
       "\n",
       "    .dataframe tbody tr th {\n",
       "        vertical-align: top;\n",
       "    }\n",
       "\n",
       "    .dataframe thead th {\n",
       "        text-align: right;\n",
       "    }\n",
       "</style>\n",
       "<table border=\"1\" class=\"dataframe\">\n",
       "  <thead>\n",
       "    <tr style=\"text-align: right;\">\n",
       "      <th></th>\n",
       "      <th>Category</th>\n",
       "      <th>Values</th>\n",
       "    </tr>\n",
       "  </thead>\n",
       "  <tbody>\n",
       "    <tr>\n",
       "      <th>0</th>\n",
       "      <td>A</td>\n",
       "      <td>32</td>\n",
       "    </tr>\n",
       "    <tr>\n",
       "      <th>1</th>\n",
       "      <td>B</td>\n",
       "      <td>43</td>\n",
       "    </tr>\n",
       "    <tr>\n",
       "      <th>2</th>\n",
       "      <td>C</td>\n",
       "      <td>50</td>\n",
       "    </tr>\n",
       "  </tbody>\n",
       "</table>\n",
       "</div>"
      ],
      "text/plain": [
       "  Category  Values\n",
       "0        A      32\n",
       "1        B      43\n",
       "2        C      50"
      ]
     },
     "execution_count": 9,
     "metadata": {},
     "output_type": "execute_result"
    }
   ],
   "source": [
    "df2.head()"
   ]
  },
  {
   "cell_type": "markdown",
   "metadata": {},
   "source": [
    "## Scatter Plot"
   ]
  },
  {
   "cell_type": "code",
   "execution_count": 10,
   "metadata": {},
   "outputs": [
    {
     "data": {
      "application/vnd.plotly.v1+json": {
       "config": {
        "linkText": "Export to plot.ly",
        "plotlyServerURL": "https://plot.ly",
        "showLink": true
       },
       "data": [
        {
         "line": {
          "color": "rgba(255, 153, 51, 1.0)",
          "dash": "solid",
          "shape": "linear",
          "width": 1.3
         },
         "marker": {
          "size": 10,
          "symbol": "circle"
         },
         "mode": "markers",
         "name": "B",
         "text": "",
         "type": "scatter",
         "x": [
          0.09109850481918408,
          -1.1215293214001596,
          -0.8472103787075184,
          0.047579463925629756,
          -0.2465006929122032,
          0.355941870570774,
          -0.10096950094440324,
          -0.9072730752429058,
          -0.9518980001271358,
          2.14097321822886,
          2.1231768307689967,
          0.6958977551843699,
          -1.583248837107644,
          1.7142265839072959,
          -0.06646503235312974,
          -1.5315586252424356,
          1.4934969578297246,
          -0.3671124610810568,
          -0.6464912890042264,
          0.7577407259047961,
          -1.7888731022404905,
          -0.836344304627946,
          2.428995088322346,
          1.3927544538222227,
          0.9186261627971786,
          1.3069317194442132,
          -1.0793521680617035,
          2.0008609111050646,
          1.6512094667325325,
          0.808956552274321,
          0.7161520296684218,
          0.4174688388945817,
          -2.055553429227154,
          -0.10478473559018199,
          -1.8414704504739363,
          -1.9037587104776745,
          -0.24550426677305848,
          -0.9344856372315049,
          0.08519000805272456,
          0.7909917218595681,
          1.2112598406713257,
          0.8780853775627289,
          1.6391927026157413,
          -0.7844898993204068,
          -0.8200738867112358,
          1.2299606960656078,
          2.090198636473912,
          0.967590406410828,
          0.42781576469535565,
          0.3740083906457488,
          -1.203415752416856,
          0.19874074492299004,
          -1.0996349876019142,
          -0.5118885547212875,
          0.6089409203104832,
          -0.009986668270133012,
          -0.9843598032066695,
          -0.6971112927387455,
          -1.0518788938535228,
          -1.6926464990344885,
          1.895353289889859,
          2.635922114037947,
          1.0059778300139433,
          -0.9100671354086547,
          0.7188149666974778,
          -0.9501042669394972,
          2.1621864299965403,
          1.1420880278768886,
          0.9676235117810439,
          0.5345015806889609,
          -0.6101501196531989,
          0.23256458005975567,
          -0.30864952668522244,
          0.8230595122750528,
          0.0025476652548313684,
          1.0668879463043774,
          -0.19717897335767187,
          -0.15813795755946913,
          -0.6178985215289267,
          1.8057952496635845,
          1.0511933107617695,
          -0.5868718647057343,
          -0.5351892335864168,
          -0.027468015311200602,
          -0.9442877177439853,
          -0.8623770708257102,
          0.8948807217187174,
          -0.00948333496494119,
          -0.920057972150479,
          0.6478025520263664,
          0.45634160459747125,
          0.29947972220377245,
          -0.870490121032512,
          -0.9493757828636347,
          -1.6153530988647982,
          -0.9529103188037132,
          -1.2886840902918308,
          -1.261963285580088,
          -0.12188068264694774,
          0.26167595986569264
         ],
         "y": [
          -0.8116091289192721,
          -0.19300472687253206,
          0.42051103925632977,
          0.25547064152430615,
          0.4461384861944884,
          0.2065840994216946,
          -0.0736093684561315,
          -0.03672123413058332,
          0.6801523071485202,
          1.4418046168788465,
          -0.5726562777833677,
          0.9307098475989224,
          -0.5706293447478381,
          0.4453994634128244,
          1.4143311666416154,
          -1.108813199803975,
          -0.3125435764127994,
          1.3618244709601963,
          -0.06427906272026955,
          -0.9229893610662293,
          0.3065059408237643,
          -0.17342759515419126,
          0.8429059478472343,
          -1.5805981154008981,
          -2.0267251132949027,
          -0.8286681556363882,
          1.0616325449191493,
          -0.3631590237640123,
          0.3245491815023166,
          -0.12049652048231733,
          -1.7794008323816055,
          0.9771420985889142,
          0.6937004427893335,
          -0.057223441643777455,
          0.6845095121304248,
          -0.32589236102397623,
          0.29680436698785867,
          -1.5057853650832715,
          1.7496853226925513,
          1.6753176110932382,
          -0.30540371699704194,
          0.03962473472743301,
          1.5236297895868112,
          0.5511026209571313,
          1.6053502011125302,
          -0.9477947708757761,
          0.5084280387681843,
          1.0536007000338874,
          -0.20842639751067635,
          -1.2601656190124837,
          0.1042762843423615,
          -0.5724041204261644,
          -0.05409712730683168,
          1.2766275991015201,
          0.4813853754972735,
          -1.289064510835033,
          -1.6294448766424343,
          -0.2617693791137971,
          0.48254519819781516,
          3.1344856939051433,
          -0.5981856159842609,
          -0.7905026818503782,
          -0.41390096879915417,
          1.211655923059735,
          0.486900856960665,
          -0.21735166935475592,
          -0.6446942837755238,
          1.4840688604700185,
          0.21152002576581685,
          0.07407353417275789,
          -0.6130890236210245,
          0.5252383330404052,
          0.6712851140907574,
          0.9618939225720989,
          -2.447934537947344,
          0.21001235145459388,
          -0.017514426974441534,
          -0.3294942746261193,
          -1.956893644342049,
          1.3147434662972208,
          -2.236901795464519,
          -1.355670681639342,
          0.3332941119737317,
          -1.0451492156076625,
          0.3752925071061327,
          -1.668849441699103,
          -0.12344250483081605,
          -0.23264926766422644,
          0.7332647602341967,
          -0.9971293585380604,
          -0.7676066266105527,
          0.7001651960379345,
          -0.7022586069809715,
          -0.05891946102224388,
          0.6873881326933733,
          0.8906297185004478,
          0.9638085612837739,
          0.0579173716477777,
          0.33464594904890277,
          2.533769548275823
         ]
        }
       ],
       "layout": {
        "legend": {
         "bgcolor": "#F5F6F9",
         "font": {
          "color": "#4D5663"
         }
        },
        "paper_bgcolor": "#F5F6F9",
        "plot_bgcolor": "#F5F6F9",
        "template": {
         "data": {
          "bar": [
           {
            "error_x": {
             "color": "#2a3f5f"
            },
            "error_y": {
             "color": "#2a3f5f"
            },
            "marker": {
             "line": {
              "color": "#E5ECF6",
              "width": 0.5
             }
            },
            "type": "bar"
           }
          ],
          "barpolar": [
           {
            "marker": {
             "line": {
              "color": "#E5ECF6",
              "width": 0.5
             }
            },
            "type": "barpolar"
           }
          ],
          "carpet": [
           {
            "aaxis": {
             "endlinecolor": "#2a3f5f",
             "gridcolor": "white",
             "linecolor": "white",
             "minorgridcolor": "white",
             "startlinecolor": "#2a3f5f"
            },
            "baxis": {
             "endlinecolor": "#2a3f5f",
             "gridcolor": "white",
             "linecolor": "white",
             "minorgridcolor": "white",
             "startlinecolor": "#2a3f5f"
            },
            "type": "carpet"
           }
          ],
          "choropleth": [
           {
            "colorbar": {
             "outlinewidth": 0,
             "ticks": ""
            },
            "type": "choropleth"
           }
          ],
          "contour": [
           {
            "colorbar": {
             "outlinewidth": 0,
             "ticks": ""
            },
            "colorscale": [
             [
              0,
              "#0d0887"
             ],
             [
              0.1111111111111111,
              "#46039f"
             ],
             [
              0.2222222222222222,
              "#7201a8"
             ],
             [
              0.3333333333333333,
              "#9c179e"
             ],
             [
              0.4444444444444444,
              "#bd3786"
             ],
             [
              0.5555555555555556,
              "#d8576b"
             ],
             [
              0.6666666666666666,
              "#ed7953"
             ],
             [
              0.7777777777777778,
              "#fb9f3a"
             ],
             [
              0.8888888888888888,
              "#fdca26"
             ],
             [
              1,
              "#f0f921"
             ]
            ],
            "type": "contour"
           }
          ],
          "contourcarpet": [
           {
            "colorbar": {
             "outlinewidth": 0,
             "ticks": ""
            },
            "type": "contourcarpet"
           }
          ],
          "heatmap": [
           {
            "colorbar": {
             "outlinewidth": 0,
             "ticks": ""
            },
            "colorscale": [
             [
              0,
              "#0d0887"
             ],
             [
              0.1111111111111111,
              "#46039f"
             ],
             [
              0.2222222222222222,
              "#7201a8"
             ],
             [
              0.3333333333333333,
              "#9c179e"
             ],
             [
              0.4444444444444444,
              "#bd3786"
             ],
             [
              0.5555555555555556,
              "#d8576b"
             ],
             [
              0.6666666666666666,
              "#ed7953"
             ],
             [
              0.7777777777777778,
              "#fb9f3a"
             ],
             [
              0.8888888888888888,
              "#fdca26"
             ],
             [
              1,
              "#f0f921"
             ]
            ],
            "type": "heatmap"
           }
          ],
          "heatmapgl": [
           {
            "colorbar": {
             "outlinewidth": 0,
             "ticks": ""
            },
            "colorscale": [
             [
              0,
              "#0d0887"
             ],
             [
              0.1111111111111111,
              "#46039f"
             ],
             [
              0.2222222222222222,
              "#7201a8"
             ],
             [
              0.3333333333333333,
              "#9c179e"
             ],
             [
              0.4444444444444444,
              "#bd3786"
             ],
             [
              0.5555555555555556,
              "#d8576b"
             ],
             [
              0.6666666666666666,
              "#ed7953"
             ],
             [
              0.7777777777777778,
              "#fb9f3a"
             ],
             [
              0.8888888888888888,
              "#fdca26"
             ],
             [
              1,
              "#f0f921"
             ]
            ],
            "type": "heatmapgl"
           }
          ],
          "histogram": [
           {
            "marker": {
             "colorbar": {
              "outlinewidth": 0,
              "ticks": ""
             }
            },
            "type": "histogram"
           }
          ],
          "histogram2d": [
           {
            "colorbar": {
             "outlinewidth": 0,
             "ticks": ""
            },
            "colorscale": [
             [
              0,
              "#0d0887"
             ],
             [
              0.1111111111111111,
              "#46039f"
             ],
             [
              0.2222222222222222,
              "#7201a8"
             ],
             [
              0.3333333333333333,
              "#9c179e"
             ],
             [
              0.4444444444444444,
              "#bd3786"
             ],
             [
              0.5555555555555556,
              "#d8576b"
             ],
             [
              0.6666666666666666,
              "#ed7953"
             ],
             [
              0.7777777777777778,
              "#fb9f3a"
             ],
             [
              0.8888888888888888,
              "#fdca26"
             ],
             [
              1,
              "#f0f921"
             ]
            ],
            "type": "histogram2d"
           }
          ],
          "histogram2dcontour": [
           {
            "colorbar": {
             "outlinewidth": 0,
             "ticks": ""
            },
            "colorscale": [
             [
              0,
              "#0d0887"
             ],
             [
              0.1111111111111111,
              "#46039f"
             ],
             [
              0.2222222222222222,
              "#7201a8"
             ],
             [
              0.3333333333333333,
              "#9c179e"
             ],
             [
              0.4444444444444444,
              "#bd3786"
             ],
             [
              0.5555555555555556,
              "#d8576b"
             ],
             [
              0.6666666666666666,
              "#ed7953"
             ],
             [
              0.7777777777777778,
              "#fb9f3a"
             ],
             [
              0.8888888888888888,
              "#fdca26"
             ],
             [
              1,
              "#f0f921"
             ]
            ],
            "type": "histogram2dcontour"
           }
          ],
          "mesh3d": [
           {
            "colorbar": {
             "outlinewidth": 0,
             "ticks": ""
            },
            "type": "mesh3d"
           }
          ],
          "parcoords": [
           {
            "line": {
             "colorbar": {
              "outlinewidth": 0,
              "ticks": ""
             }
            },
            "type": "parcoords"
           }
          ],
          "pie": [
           {
            "automargin": true,
            "type": "pie"
           }
          ],
          "scatter": [
           {
            "marker": {
             "colorbar": {
              "outlinewidth": 0,
              "ticks": ""
             }
            },
            "type": "scatter"
           }
          ],
          "scatter3d": [
           {
            "line": {
             "colorbar": {
              "outlinewidth": 0,
              "ticks": ""
             }
            },
            "marker": {
             "colorbar": {
              "outlinewidth": 0,
              "ticks": ""
             }
            },
            "type": "scatter3d"
           }
          ],
          "scattercarpet": [
           {
            "marker": {
             "colorbar": {
              "outlinewidth": 0,
              "ticks": ""
             }
            },
            "type": "scattercarpet"
           }
          ],
          "scattergeo": [
           {
            "marker": {
             "colorbar": {
              "outlinewidth": 0,
              "ticks": ""
             }
            },
            "type": "scattergeo"
           }
          ],
          "scattergl": [
           {
            "marker": {
             "colorbar": {
              "outlinewidth": 0,
              "ticks": ""
             }
            },
            "type": "scattergl"
           }
          ],
          "scattermapbox": [
           {
            "marker": {
             "colorbar": {
              "outlinewidth": 0,
              "ticks": ""
             }
            },
            "type": "scattermapbox"
           }
          ],
          "scatterpolar": [
           {
            "marker": {
             "colorbar": {
              "outlinewidth": 0,
              "ticks": ""
             }
            },
            "type": "scatterpolar"
           }
          ],
          "scatterpolargl": [
           {
            "marker": {
             "colorbar": {
              "outlinewidth": 0,
              "ticks": ""
             }
            },
            "type": "scatterpolargl"
           }
          ],
          "scatterternary": [
           {
            "marker": {
             "colorbar": {
              "outlinewidth": 0,
              "ticks": ""
             }
            },
            "type": "scatterternary"
           }
          ],
          "surface": [
           {
            "colorbar": {
             "outlinewidth": 0,
             "ticks": ""
            },
            "colorscale": [
             [
              0,
              "#0d0887"
             ],
             [
              0.1111111111111111,
              "#46039f"
             ],
             [
              0.2222222222222222,
              "#7201a8"
             ],
             [
              0.3333333333333333,
              "#9c179e"
             ],
             [
              0.4444444444444444,
              "#bd3786"
             ],
             [
              0.5555555555555556,
              "#d8576b"
             ],
             [
              0.6666666666666666,
              "#ed7953"
             ],
             [
              0.7777777777777778,
              "#fb9f3a"
             ],
             [
              0.8888888888888888,
              "#fdca26"
             ],
             [
              1,
              "#f0f921"
             ]
            ],
            "type": "surface"
           }
          ],
          "table": [
           {
            "cells": {
             "fill": {
              "color": "#EBF0F8"
             },
             "line": {
              "color": "white"
             }
            },
            "header": {
             "fill": {
              "color": "#C8D4E3"
             },
             "line": {
              "color": "white"
             }
            },
            "type": "table"
           }
          ]
         },
         "layout": {
          "annotationdefaults": {
           "arrowcolor": "#2a3f5f",
           "arrowhead": 0,
           "arrowwidth": 1
          },
          "coloraxis": {
           "colorbar": {
            "outlinewidth": 0,
            "ticks": ""
           }
          },
          "colorscale": {
           "diverging": [
            [
             0,
             "#8e0152"
            ],
            [
             0.1,
             "#c51b7d"
            ],
            [
             0.2,
             "#de77ae"
            ],
            [
             0.3,
             "#f1b6da"
            ],
            [
             0.4,
             "#fde0ef"
            ],
            [
             0.5,
             "#f7f7f7"
            ],
            [
             0.6,
             "#e6f5d0"
            ],
            [
             0.7,
             "#b8e186"
            ],
            [
             0.8,
             "#7fbc41"
            ],
            [
             0.9,
             "#4d9221"
            ],
            [
             1,
             "#276419"
            ]
           ],
           "sequential": [
            [
             0,
             "#0d0887"
            ],
            [
             0.1111111111111111,
             "#46039f"
            ],
            [
             0.2222222222222222,
             "#7201a8"
            ],
            [
             0.3333333333333333,
             "#9c179e"
            ],
            [
             0.4444444444444444,
             "#bd3786"
            ],
            [
             0.5555555555555556,
             "#d8576b"
            ],
            [
             0.6666666666666666,
             "#ed7953"
            ],
            [
             0.7777777777777778,
             "#fb9f3a"
            ],
            [
             0.8888888888888888,
             "#fdca26"
            ],
            [
             1,
             "#f0f921"
            ]
           ],
           "sequentialminus": [
            [
             0,
             "#0d0887"
            ],
            [
             0.1111111111111111,
             "#46039f"
            ],
            [
             0.2222222222222222,
             "#7201a8"
            ],
            [
             0.3333333333333333,
             "#9c179e"
            ],
            [
             0.4444444444444444,
             "#bd3786"
            ],
            [
             0.5555555555555556,
             "#d8576b"
            ],
            [
             0.6666666666666666,
             "#ed7953"
            ],
            [
             0.7777777777777778,
             "#fb9f3a"
            ],
            [
             0.8888888888888888,
             "#fdca26"
            ],
            [
             1,
             "#f0f921"
            ]
           ]
          },
          "colorway": [
           "#636efa",
           "#EF553B",
           "#00cc96",
           "#ab63fa",
           "#FFA15A",
           "#19d3f3",
           "#FF6692",
           "#B6E880",
           "#FF97FF",
           "#FECB52"
          ],
          "font": {
           "color": "#2a3f5f"
          },
          "geo": {
           "bgcolor": "white",
           "lakecolor": "white",
           "landcolor": "#E5ECF6",
           "showlakes": true,
           "showland": true,
           "subunitcolor": "white"
          },
          "hoverlabel": {
           "align": "left"
          },
          "hovermode": "closest",
          "mapbox": {
           "style": "light"
          },
          "paper_bgcolor": "white",
          "plot_bgcolor": "#E5ECF6",
          "polar": {
           "angularaxis": {
            "gridcolor": "white",
            "linecolor": "white",
            "ticks": ""
           },
           "bgcolor": "#E5ECF6",
           "radialaxis": {
            "gridcolor": "white",
            "linecolor": "white",
            "ticks": ""
           }
          },
          "scene": {
           "xaxis": {
            "backgroundcolor": "#E5ECF6",
            "gridcolor": "white",
            "gridwidth": 2,
            "linecolor": "white",
            "showbackground": true,
            "ticks": "",
            "zerolinecolor": "white"
           },
           "yaxis": {
            "backgroundcolor": "#E5ECF6",
            "gridcolor": "white",
            "gridwidth": 2,
            "linecolor": "white",
            "showbackground": true,
            "ticks": "",
            "zerolinecolor": "white"
           },
           "zaxis": {
            "backgroundcolor": "#E5ECF6",
            "gridcolor": "white",
            "gridwidth": 2,
            "linecolor": "white",
            "showbackground": true,
            "ticks": "",
            "zerolinecolor": "white"
           }
          },
          "shapedefaults": {
           "line": {
            "color": "#2a3f5f"
           }
          },
          "ternary": {
           "aaxis": {
            "gridcolor": "white",
            "linecolor": "white",
            "ticks": ""
           },
           "baxis": {
            "gridcolor": "white",
            "linecolor": "white",
            "ticks": ""
           },
           "bgcolor": "#E5ECF6",
           "caxis": {
            "gridcolor": "white",
            "linecolor": "white",
            "ticks": ""
           }
          },
          "title": {
           "x": 0.05
          },
          "xaxis": {
           "automargin": true,
           "gridcolor": "white",
           "linecolor": "white",
           "ticks": "",
           "title": {
            "standoff": 15
           },
           "zerolinecolor": "white",
           "zerolinewidth": 2
          },
          "yaxis": {
           "automargin": true,
           "gridcolor": "white",
           "linecolor": "white",
           "ticks": "",
           "title": {
            "standoff": 15
           },
           "zerolinecolor": "white",
           "zerolinewidth": 2
          }
         }
        },
        "title": {
         "font": {
          "color": "#4D5663"
         }
        },
        "xaxis": {
         "gridcolor": "#E1E5ED",
         "showgrid": true,
         "tickfont": {
          "color": "#4D5663"
         },
         "title": {
          "font": {
           "color": "#4D5663"
          },
          "text": ""
         },
         "zerolinecolor": "#E1E5ED"
        },
        "yaxis": {
         "gridcolor": "#E1E5ED",
         "showgrid": true,
         "tickfont": {
          "color": "#4D5663"
         },
         "title": {
          "font": {
           "color": "#4D5663"
          },
          "text": ""
         },
         "zerolinecolor": "#E1E5ED"
        }
       }
      },
      "text/html": [
       "<div>\n",
       "        \n",
       "        \n",
       "            <div id=\"c4ed421f-ac07-4a26-8813-6148e33fab86\" class=\"plotly-graph-div\" style=\"height:525px; width:100%;\"></div>\n",
       "            <script type=\"text/javascript\">\n",
       "                require([\"plotly\"], function(Plotly) {\n",
       "                    window.PLOTLYENV=window.PLOTLYENV || {};\n",
       "                    window.PLOTLYENV.BASE_URL='https://plot.ly';\n",
       "                    \n",
       "                if (document.getElementById(\"c4ed421f-ac07-4a26-8813-6148e33fab86\")) {\n",
       "                    Plotly.newPlot(\n",
       "                        'c4ed421f-ac07-4a26-8813-6148e33fab86',\n",
       "                        [{\"line\": {\"color\": \"rgba(255, 153, 51, 1.0)\", \"dash\": \"solid\", \"shape\": \"linear\", \"width\": 1.3}, \"marker\": {\"size\": 10, \"symbol\": \"circle\"}, \"mode\": \"markers\", \"name\": \"B\", \"text\": \"\", \"type\": \"scatter\", \"x\": [0.09109850481918408, -1.1215293214001596, -0.8472103787075184, 0.047579463925629756, -0.2465006929122032, 0.355941870570774, -0.10096950094440324, -0.9072730752429058, -0.9518980001271358, 2.14097321822886, 2.1231768307689967, 0.6958977551843699, -1.583248837107644, 1.7142265839072959, -0.06646503235312974, -1.5315586252424356, 1.4934969578297246, -0.3671124610810568, -0.6464912890042264, 0.7577407259047961, -1.7888731022404905, -0.836344304627946, 2.428995088322346, 1.3927544538222227, 0.9186261627971786, 1.3069317194442132, -1.0793521680617035, 2.0008609111050646, 1.6512094667325325, 0.808956552274321, 0.7161520296684218, 0.4174688388945817, -2.055553429227154, -0.10478473559018199, -1.8414704504739363, -1.9037587104776745, -0.24550426677305848, -0.9344856372315049, 0.08519000805272456, 0.7909917218595681, 1.2112598406713257, 0.8780853775627289, 1.6391927026157413, -0.7844898993204068, -0.8200738867112358, 1.2299606960656078, 2.090198636473912, 0.967590406410828, 0.42781576469535565, 0.3740083906457488, -1.203415752416856, 0.19874074492299004, -1.0996349876019142, -0.5118885547212875, 0.6089409203104832, -0.009986668270133012, -0.9843598032066695, -0.6971112927387455, -1.0518788938535228, -1.6926464990344885, 1.895353289889859, 2.635922114037947, 1.0059778300139433, -0.9100671354086547, 0.7188149666974778, -0.9501042669394972, 2.1621864299965403, 1.1420880278768886, 0.9676235117810439, 0.5345015806889609, -0.6101501196531989, 0.23256458005975567, -0.30864952668522244, 0.8230595122750528, 0.0025476652548313684, 1.0668879463043774, -0.19717897335767187, -0.15813795755946913, -0.6178985215289267, 1.8057952496635845, 1.0511933107617695, -0.5868718647057343, -0.5351892335864168, -0.027468015311200602, -0.9442877177439853, -0.8623770708257102, 0.8948807217187174, -0.00948333496494119, -0.920057972150479, 0.6478025520263664, 0.45634160459747125, 0.29947972220377245, -0.870490121032512, -0.9493757828636347, -1.6153530988647982, -0.9529103188037132, -1.2886840902918308, -1.261963285580088, -0.12188068264694774, 0.26167595986569264], \"y\": [-0.8116091289192721, -0.19300472687253206, 0.42051103925632977, 0.25547064152430615, 0.4461384861944884, 0.2065840994216946, -0.0736093684561315, -0.03672123413058332, 0.6801523071485202, 1.4418046168788465, -0.5726562777833677, 0.9307098475989224, -0.5706293447478381, 0.4453994634128244, 1.4143311666416154, -1.108813199803975, -0.3125435764127994, 1.3618244709601963, -0.06427906272026955, -0.9229893610662293, 0.3065059408237643, -0.17342759515419126, 0.8429059478472343, -1.5805981154008981, -2.0267251132949027, -0.8286681556363882, 1.0616325449191493, -0.3631590237640123, 0.3245491815023166, -0.12049652048231733, -1.7794008323816055, 0.9771420985889142, 0.6937004427893335, -0.057223441643777455, 0.6845095121304248, -0.32589236102397623, 0.29680436698785867, -1.5057853650832715, 1.7496853226925513, 1.6753176110932382, -0.30540371699704194, 0.03962473472743301, 1.5236297895868112, 0.5511026209571313, 1.6053502011125302, -0.9477947708757761, 0.5084280387681843, 1.0536007000338874, -0.20842639751067635, -1.2601656190124837, 0.1042762843423615, -0.5724041204261644, -0.05409712730683168, 1.2766275991015201, 0.4813853754972735, -1.289064510835033, -1.6294448766424343, -0.2617693791137971, 0.48254519819781516, 3.1344856939051433, -0.5981856159842609, -0.7905026818503782, -0.41390096879915417, 1.211655923059735, 0.486900856960665, -0.21735166935475592, -0.6446942837755238, 1.4840688604700185, 0.21152002576581685, 0.07407353417275789, -0.6130890236210245, 0.5252383330404052, 0.6712851140907574, 0.9618939225720989, -2.447934537947344, 0.21001235145459388, -0.017514426974441534, -0.3294942746261193, -1.956893644342049, 1.3147434662972208, -2.236901795464519, -1.355670681639342, 0.3332941119737317, -1.0451492156076625, 0.3752925071061327, -1.668849441699103, -0.12344250483081605, -0.23264926766422644, 0.7332647602341967, -0.9971293585380604, -0.7676066266105527, 0.7001651960379345, -0.7022586069809715, -0.05891946102224388, 0.6873881326933733, 0.8906297185004478, 0.9638085612837739, 0.0579173716477777, 0.33464594904890277, 2.533769548275823]}],\n",
       "                        {\"legend\": {\"bgcolor\": \"#F5F6F9\", \"font\": {\"color\": \"#4D5663\"}}, \"paper_bgcolor\": \"#F5F6F9\", \"plot_bgcolor\": \"#F5F6F9\", \"template\": {\"data\": {\"bar\": [{\"error_x\": {\"color\": \"#2a3f5f\"}, \"error_y\": {\"color\": \"#2a3f5f\"}, \"marker\": {\"line\": {\"color\": \"#E5ECF6\", \"width\": 0.5}}, \"type\": \"bar\"}], \"barpolar\": [{\"marker\": {\"line\": {\"color\": \"#E5ECF6\", \"width\": 0.5}}, \"type\": \"barpolar\"}], \"carpet\": [{\"aaxis\": {\"endlinecolor\": \"#2a3f5f\", \"gridcolor\": \"white\", \"linecolor\": \"white\", \"minorgridcolor\": \"white\", \"startlinecolor\": \"#2a3f5f\"}, \"baxis\": {\"endlinecolor\": \"#2a3f5f\", \"gridcolor\": \"white\", \"linecolor\": \"white\", \"minorgridcolor\": \"white\", \"startlinecolor\": \"#2a3f5f\"}, \"type\": \"carpet\"}], \"choropleth\": [{\"colorbar\": {\"outlinewidth\": 0, \"ticks\": \"\"}, \"type\": \"choropleth\"}], \"contour\": [{\"colorbar\": {\"outlinewidth\": 0, \"ticks\": \"\"}, \"colorscale\": [[0.0, \"#0d0887\"], [0.1111111111111111, \"#46039f\"], [0.2222222222222222, \"#7201a8\"], [0.3333333333333333, \"#9c179e\"], [0.4444444444444444, \"#bd3786\"], [0.5555555555555556, \"#d8576b\"], [0.6666666666666666, \"#ed7953\"], [0.7777777777777778, \"#fb9f3a\"], [0.8888888888888888, \"#fdca26\"], [1.0, \"#f0f921\"]], \"type\": \"contour\"}], \"contourcarpet\": [{\"colorbar\": {\"outlinewidth\": 0, \"ticks\": \"\"}, \"type\": \"contourcarpet\"}], \"heatmap\": [{\"colorbar\": {\"outlinewidth\": 0, \"ticks\": \"\"}, \"colorscale\": [[0.0, \"#0d0887\"], [0.1111111111111111, \"#46039f\"], [0.2222222222222222, \"#7201a8\"], [0.3333333333333333, \"#9c179e\"], [0.4444444444444444, \"#bd3786\"], [0.5555555555555556, \"#d8576b\"], [0.6666666666666666, \"#ed7953\"], [0.7777777777777778, \"#fb9f3a\"], [0.8888888888888888, \"#fdca26\"], [1.0, \"#f0f921\"]], \"type\": \"heatmap\"}], \"heatmapgl\": [{\"colorbar\": {\"outlinewidth\": 0, \"ticks\": \"\"}, \"colorscale\": [[0.0, \"#0d0887\"], [0.1111111111111111, \"#46039f\"], [0.2222222222222222, \"#7201a8\"], [0.3333333333333333, \"#9c179e\"], [0.4444444444444444, \"#bd3786\"], [0.5555555555555556, \"#d8576b\"], [0.6666666666666666, \"#ed7953\"], [0.7777777777777778, \"#fb9f3a\"], [0.8888888888888888, \"#fdca26\"], [1.0, \"#f0f921\"]], \"type\": \"heatmapgl\"}], \"histogram\": [{\"marker\": {\"colorbar\": {\"outlinewidth\": 0, \"ticks\": \"\"}}, \"type\": \"histogram\"}], \"histogram2d\": [{\"colorbar\": {\"outlinewidth\": 0, \"ticks\": \"\"}, \"colorscale\": [[0.0, \"#0d0887\"], [0.1111111111111111, \"#46039f\"], [0.2222222222222222, \"#7201a8\"], [0.3333333333333333, \"#9c179e\"], [0.4444444444444444, \"#bd3786\"], [0.5555555555555556, \"#d8576b\"], [0.6666666666666666, \"#ed7953\"], [0.7777777777777778, \"#fb9f3a\"], [0.8888888888888888, \"#fdca26\"], [1.0, \"#f0f921\"]], \"type\": \"histogram2d\"}], \"histogram2dcontour\": [{\"colorbar\": {\"outlinewidth\": 0, \"ticks\": \"\"}, \"colorscale\": [[0.0, \"#0d0887\"], [0.1111111111111111, \"#46039f\"], [0.2222222222222222, \"#7201a8\"], [0.3333333333333333, \"#9c179e\"], [0.4444444444444444, \"#bd3786\"], [0.5555555555555556, \"#d8576b\"], [0.6666666666666666, \"#ed7953\"], [0.7777777777777778, \"#fb9f3a\"], [0.8888888888888888, \"#fdca26\"], [1.0, \"#f0f921\"]], \"type\": \"histogram2dcontour\"}], \"mesh3d\": [{\"colorbar\": {\"outlinewidth\": 0, \"ticks\": \"\"}, \"type\": \"mesh3d\"}], \"parcoords\": [{\"line\": {\"colorbar\": {\"outlinewidth\": 0, \"ticks\": \"\"}}, \"type\": \"parcoords\"}], \"pie\": [{\"automargin\": true, \"type\": \"pie\"}], \"scatter\": [{\"marker\": {\"colorbar\": {\"outlinewidth\": 0, \"ticks\": \"\"}}, \"type\": \"scatter\"}], \"scatter3d\": [{\"line\": {\"colorbar\": {\"outlinewidth\": 0, \"ticks\": \"\"}}, \"marker\": {\"colorbar\": {\"outlinewidth\": 0, \"ticks\": \"\"}}, \"type\": \"scatter3d\"}], \"scattercarpet\": [{\"marker\": {\"colorbar\": {\"outlinewidth\": 0, \"ticks\": \"\"}}, \"type\": \"scattercarpet\"}], \"scattergeo\": [{\"marker\": {\"colorbar\": {\"outlinewidth\": 0, \"ticks\": \"\"}}, \"type\": \"scattergeo\"}], \"scattergl\": [{\"marker\": {\"colorbar\": {\"outlinewidth\": 0, \"ticks\": \"\"}}, \"type\": \"scattergl\"}], \"scattermapbox\": [{\"marker\": {\"colorbar\": {\"outlinewidth\": 0, \"ticks\": \"\"}}, \"type\": \"scattermapbox\"}], \"scatterpolar\": [{\"marker\": {\"colorbar\": {\"outlinewidth\": 0, \"ticks\": \"\"}}, \"type\": \"scatterpolar\"}], \"scatterpolargl\": [{\"marker\": {\"colorbar\": {\"outlinewidth\": 0, \"ticks\": \"\"}}, \"type\": \"scatterpolargl\"}], \"scatterternary\": [{\"marker\": {\"colorbar\": {\"outlinewidth\": 0, \"ticks\": \"\"}}, \"type\": \"scatterternary\"}], \"surface\": [{\"colorbar\": {\"outlinewidth\": 0, \"ticks\": \"\"}, \"colorscale\": [[0.0, \"#0d0887\"], [0.1111111111111111, \"#46039f\"], [0.2222222222222222, \"#7201a8\"], [0.3333333333333333, \"#9c179e\"], [0.4444444444444444, \"#bd3786\"], [0.5555555555555556, \"#d8576b\"], [0.6666666666666666, \"#ed7953\"], [0.7777777777777778, \"#fb9f3a\"], [0.8888888888888888, \"#fdca26\"], [1.0, \"#f0f921\"]], \"type\": \"surface\"}], \"table\": [{\"cells\": {\"fill\": {\"color\": \"#EBF0F8\"}, \"line\": {\"color\": \"white\"}}, \"header\": {\"fill\": {\"color\": \"#C8D4E3\"}, \"line\": {\"color\": \"white\"}}, \"type\": \"table\"}]}, \"layout\": {\"annotationdefaults\": {\"arrowcolor\": \"#2a3f5f\", \"arrowhead\": 0, \"arrowwidth\": 1}, \"coloraxis\": {\"colorbar\": {\"outlinewidth\": 0, \"ticks\": \"\"}}, \"colorscale\": {\"diverging\": [[0, \"#8e0152\"], [0.1, \"#c51b7d\"], [0.2, \"#de77ae\"], [0.3, \"#f1b6da\"], [0.4, \"#fde0ef\"], [0.5, \"#f7f7f7\"], [0.6, \"#e6f5d0\"], [0.7, \"#b8e186\"], [0.8, \"#7fbc41\"], [0.9, \"#4d9221\"], [1, \"#276419\"]], \"sequential\": [[0.0, \"#0d0887\"], [0.1111111111111111, \"#46039f\"], [0.2222222222222222, \"#7201a8\"], [0.3333333333333333, \"#9c179e\"], [0.4444444444444444, \"#bd3786\"], [0.5555555555555556, \"#d8576b\"], [0.6666666666666666, \"#ed7953\"], [0.7777777777777778, \"#fb9f3a\"], [0.8888888888888888, \"#fdca26\"], [1.0, \"#f0f921\"]], \"sequentialminus\": [[0.0, \"#0d0887\"], [0.1111111111111111, \"#46039f\"], [0.2222222222222222, \"#7201a8\"], [0.3333333333333333, \"#9c179e\"], [0.4444444444444444, \"#bd3786\"], [0.5555555555555556, \"#d8576b\"], [0.6666666666666666, \"#ed7953\"], [0.7777777777777778, \"#fb9f3a\"], [0.8888888888888888, \"#fdca26\"], [1.0, \"#f0f921\"]]}, \"colorway\": [\"#636efa\", \"#EF553B\", \"#00cc96\", \"#ab63fa\", \"#FFA15A\", \"#19d3f3\", \"#FF6692\", \"#B6E880\", \"#FF97FF\", \"#FECB52\"], \"font\": {\"color\": \"#2a3f5f\"}, \"geo\": {\"bgcolor\": \"white\", \"lakecolor\": \"white\", \"landcolor\": \"#E5ECF6\", \"showlakes\": true, \"showland\": true, \"subunitcolor\": \"white\"}, \"hoverlabel\": {\"align\": \"left\"}, \"hovermode\": \"closest\", \"mapbox\": {\"style\": \"light\"}, \"paper_bgcolor\": \"white\", \"plot_bgcolor\": \"#E5ECF6\", \"polar\": {\"angularaxis\": {\"gridcolor\": \"white\", \"linecolor\": \"white\", \"ticks\": \"\"}, \"bgcolor\": \"#E5ECF6\", \"radialaxis\": {\"gridcolor\": \"white\", \"linecolor\": \"white\", \"ticks\": \"\"}}, \"scene\": {\"xaxis\": {\"backgroundcolor\": \"#E5ECF6\", \"gridcolor\": \"white\", \"gridwidth\": 2, \"linecolor\": \"white\", \"showbackground\": true, \"ticks\": \"\", \"zerolinecolor\": \"white\"}, \"yaxis\": {\"backgroundcolor\": \"#E5ECF6\", \"gridcolor\": \"white\", \"gridwidth\": 2, \"linecolor\": \"white\", \"showbackground\": true, \"ticks\": \"\", \"zerolinecolor\": \"white\"}, \"zaxis\": {\"backgroundcolor\": \"#E5ECF6\", \"gridcolor\": \"white\", \"gridwidth\": 2, \"linecolor\": \"white\", \"showbackground\": true, \"ticks\": \"\", \"zerolinecolor\": \"white\"}}, \"shapedefaults\": {\"line\": {\"color\": \"#2a3f5f\"}}, \"ternary\": {\"aaxis\": {\"gridcolor\": \"white\", \"linecolor\": \"white\", \"ticks\": \"\"}, \"baxis\": {\"gridcolor\": \"white\", \"linecolor\": \"white\", \"ticks\": \"\"}, \"bgcolor\": \"#E5ECF6\", \"caxis\": {\"gridcolor\": \"white\", \"linecolor\": \"white\", \"ticks\": \"\"}}, \"title\": {\"x\": 0.05}, \"xaxis\": {\"automargin\": true, \"gridcolor\": \"white\", \"linecolor\": \"white\", \"ticks\": \"\", \"title\": {\"standoff\": 15}, \"zerolinecolor\": \"white\", \"zerolinewidth\": 2}, \"yaxis\": {\"automargin\": true, \"gridcolor\": \"white\", \"linecolor\": \"white\", \"ticks\": \"\", \"title\": {\"standoff\": 15}, \"zerolinecolor\": \"white\", \"zerolinewidth\": 2}}}, \"title\": {\"font\": {\"color\": \"#4D5663\"}}, \"xaxis\": {\"gridcolor\": \"#E1E5ED\", \"showgrid\": true, \"tickfont\": {\"color\": \"#4D5663\"}, \"title\": {\"font\": {\"color\": \"#4D5663\"}, \"text\": \"\"}, \"zerolinecolor\": \"#E1E5ED\"}, \"yaxis\": {\"gridcolor\": \"#E1E5ED\", \"showgrid\": true, \"tickfont\": {\"color\": \"#4D5663\"}, \"title\": {\"font\": {\"color\": \"#4D5663\"}, \"text\": \"\"}, \"zerolinecolor\": \"#E1E5ED\"}},\n",
       "                        {\"showLink\": true, \"linkText\": \"Export to plot.ly\", \"plotlyServerURL\": \"https://plot.ly\", \"responsive\": true}\n",
       "                    ).then(function(){\n",
       "                            \n",
       "var gd = document.getElementById('c4ed421f-ac07-4a26-8813-6148e33fab86');\n",
       "var x = new MutationObserver(function (mutations, observer) {{\n",
       "        var display = window.getComputedStyle(gd).display;\n",
       "        if (!display || display === 'none') {{\n",
       "            console.log([gd, 'removed!']);\n",
       "            Plotly.purge(gd);\n",
       "            observer.disconnect();\n",
       "        }}\n",
       "}});\n",
       "\n",
       "// Listen for the removal of the full notebook cells\n",
       "var notebookContainer = gd.closest('#notebook-container');\n",
       "if (notebookContainer) {{\n",
       "    x.observe(notebookContainer, {childList: true});\n",
       "}}\n",
       "\n",
       "// Listen for the clearing of the current output cell\n",
       "var outputEl = gd.closest('.output');\n",
       "if (outputEl) {{\n",
       "    x.observe(outputEl, {childList: true});\n",
       "}}\n",
       "\n",
       "                        })\n",
       "                };\n",
       "                });\n",
       "            </script>\n",
       "        </div>"
      ]
     },
     "metadata": {},
     "output_type": "display_data"
    }
   ],
   "source": [
    "df.iplot(kind='scatter',x='A',y='B',mode='markers',size=10)"
   ]
  },
  {
   "cell_type": "markdown",
   "metadata": {},
   "source": [
    "## Bar Plots"
   ]
  },
  {
   "cell_type": "code",
   "execution_count": 23,
   "metadata": {},
   "outputs": [
    {
     "data": {
      "application/vnd.plotly.v1+json": {
       "config": {
        "linkText": "Export to plot.ly",
        "plotlyServerURL": "https://plot.ly",
        "showLink": true
       },
       "data": [
        {
         "marker": {
          "color": "rgba(55, 128, 191, 0.6)",
          "line": {
           "color": "rgba(55, 128, 191, 1.0)",
           "width": 1
          }
         },
         "name": "Values",
         "orientation": "v",
         "text": "",
         "type": "bar",
         "x": [
          "A",
          "B",
          "C"
         ],
         "y": [
          32,
          43,
          50
         ]
        }
       ],
       "layout": {
        "legend": {
         "bgcolor": "#F5F6F9",
         "font": {
          "color": "#4D5663"
         }
        },
        "paper_bgcolor": "#F5F6F9",
        "plot_bgcolor": "#F5F6F9",
        "template": {
         "data": {
          "bar": [
           {
            "error_x": {
             "color": "#2a3f5f"
            },
            "error_y": {
             "color": "#2a3f5f"
            },
            "marker": {
             "line": {
              "color": "#E5ECF6",
              "width": 0.5
             }
            },
            "type": "bar"
           }
          ],
          "barpolar": [
           {
            "marker": {
             "line": {
              "color": "#E5ECF6",
              "width": 0.5
             }
            },
            "type": "barpolar"
           }
          ],
          "carpet": [
           {
            "aaxis": {
             "endlinecolor": "#2a3f5f",
             "gridcolor": "white",
             "linecolor": "white",
             "minorgridcolor": "white",
             "startlinecolor": "#2a3f5f"
            },
            "baxis": {
             "endlinecolor": "#2a3f5f",
             "gridcolor": "white",
             "linecolor": "white",
             "minorgridcolor": "white",
             "startlinecolor": "#2a3f5f"
            },
            "type": "carpet"
           }
          ],
          "choropleth": [
           {
            "colorbar": {
             "outlinewidth": 0,
             "ticks": ""
            },
            "type": "choropleth"
           }
          ],
          "contour": [
           {
            "colorbar": {
             "outlinewidth": 0,
             "ticks": ""
            },
            "colorscale": [
             [
              0,
              "#0d0887"
             ],
             [
              0.1111111111111111,
              "#46039f"
             ],
             [
              0.2222222222222222,
              "#7201a8"
             ],
             [
              0.3333333333333333,
              "#9c179e"
             ],
             [
              0.4444444444444444,
              "#bd3786"
             ],
             [
              0.5555555555555556,
              "#d8576b"
             ],
             [
              0.6666666666666666,
              "#ed7953"
             ],
             [
              0.7777777777777778,
              "#fb9f3a"
             ],
             [
              0.8888888888888888,
              "#fdca26"
             ],
             [
              1,
              "#f0f921"
             ]
            ],
            "type": "contour"
           }
          ],
          "contourcarpet": [
           {
            "colorbar": {
             "outlinewidth": 0,
             "ticks": ""
            },
            "type": "contourcarpet"
           }
          ],
          "heatmap": [
           {
            "colorbar": {
             "outlinewidth": 0,
             "ticks": ""
            },
            "colorscale": [
             [
              0,
              "#0d0887"
             ],
             [
              0.1111111111111111,
              "#46039f"
             ],
             [
              0.2222222222222222,
              "#7201a8"
             ],
             [
              0.3333333333333333,
              "#9c179e"
             ],
             [
              0.4444444444444444,
              "#bd3786"
             ],
             [
              0.5555555555555556,
              "#d8576b"
             ],
             [
              0.6666666666666666,
              "#ed7953"
             ],
             [
              0.7777777777777778,
              "#fb9f3a"
             ],
             [
              0.8888888888888888,
              "#fdca26"
             ],
             [
              1,
              "#f0f921"
             ]
            ],
            "type": "heatmap"
           }
          ],
          "heatmapgl": [
           {
            "colorbar": {
             "outlinewidth": 0,
             "ticks": ""
            },
            "colorscale": [
             [
              0,
              "#0d0887"
             ],
             [
              0.1111111111111111,
              "#46039f"
             ],
             [
              0.2222222222222222,
              "#7201a8"
             ],
             [
              0.3333333333333333,
              "#9c179e"
             ],
             [
              0.4444444444444444,
              "#bd3786"
             ],
             [
              0.5555555555555556,
              "#d8576b"
             ],
             [
              0.6666666666666666,
              "#ed7953"
             ],
             [
              0.7777777777777778,
              "#fb9f3a"
             ],
             [
              0.8888888888888888,
              "#fdca26"
             ],
             [
              1,
              "#f0f921"
             ]
            ],
            "type": "heatmapgl"
           }
          ],
          "histogram": [
           {
            "marker": {
             "colorbar": {
              "outlinewidth": 0,
              "ticks": ""
             }
            },
            "type": "histogram"
           }
          ],
          "histogram2d": [
           {
            "colorbar": {
             "outlinewidth": 0,
             "ticks": ""
            },
            "colorscale": [
             [
              0,
              "#0d0887"
             ],
             [
              0.1111111111111111,
              "#46039f"
             ],
             [
              0.2222222222222222,
              "#7201a8"
             ],
             [
              0.3333333333333333,
              "#9c179e"
             ],
             [
              0.4444444444444444,
              "#bd3786"
             ],
             [
              0.5555555555555556,
              "#d8576b"
             ],
             [
              0.6666666666666666,
              "#ed7953"
             ],
             [
              0.7777777777777778,
              "#fb9f3a"
             ],
             [
              0.8888888888888888,
              "#fdca26"
             ],
             [
              1,
              "#f0f921"
             ]
            ],
            "type": "histogram2d"
           }
          ],
          "histogram2dcontour": [
           {
            "colorbar": {
             "outlinewidth": 0,
             "ticks": ""
            },
            "colorscale": [
             [
              0,
              "#0d0887"
             ],
             [
              0.1111111111111111,
              "#46039f"
             ],
             [
              0.2222222222222222,
              "#7201a8"
             ],
             [
              0.3333333333333333,
              "#9c179e"
             ],
             [
              0.4444444444444444,
              "#bd3786"
             ],
             [
              0.5555555555555556,
              "#d8576b"
             ],
             [
              0.6666666666666666,
              "#ed7953"
             ],
             [
              0.7777777777777778,
              "#fb9f3a"
             ],
             [
              0.8888888888888888,
              "#fdca26"
             ],
             [
              1,
              "#f0f921"
             ]
            ],
            "type": "histogram2dcontour"
           }
          ],
          "mesh3d": [
           {
            "colorbar": {
             "outlinewidth": 0,
             "ticks": ""
            },
            "type": "mesh3d"
           }
          ],
          "parcoords": [
           {
            "line": {
             "colorbar": {
              "outlinewidth": 0,
              "ticks": ""
             }
            },
            "type": "parcoords"
           }
          ],
          "pie": [
           {
            "automargin": true,
            "type": "pie"
           }
          ],
          "scatter": [
           {
            "marker": {
             "colorbar": {
              "outlinewidth": 0,
              "ticks": ""
             }
            },
            "type": "scatter"
           }
          ],
          "scatter3d": [
           {
            "line": {
             "colorbar": {
              "outlinewidth": 0,
              "ticks": ""
             }
            },
            "marker": {
             "colorbar": {
              "outlinewidth": 0,
              "ticks": ""
             }
            },
            "type": "scatter3d"
           }
          ],
          "scattercarpet": [
           {
            "marker": {
             "colorbar": {
              "outlinewidth": 0,
              "ticks": ""
             }
            },
            "type": "scattercarpet"
           }
          ],
          "scattergeo": [
           {
            "marker": {
             "colorbar": {
              "outlinewidth": 0,
              "ticks": ""
             }
            },
            "type": "scattergeo"
           }
          ],
          "scattergl": [
           {
            "marker": {
             "colorbar": {
              "outlinewidth": 0,
              "ticks": ""
             }
            },
            "type": "scattergl"
           }
          ],
          "scattermapbox": [
           {
            "marker": {
             "colorbar": {
              "outlinewidth": 0,
              "ticks": ""
             }
            },
            "type": "scattermapbox"
           }
          ],
          "scatterpolar": [
           {
            "marker": {
             "colorbar": {
              "outlinewidth": 0,
              "ticks": ""
             }
            },
            "type": "scatterpolar"
           }
          ],
          "scatterpolargl": [
           {
            "marker": {
             "colorbar": {
              "outlinewidth": 0,
              "ticks": ""
             }
            },
            "type": "scatterpolargl"
           }
          ],
          "scatterternary": [
           {
            "marker": {
             "colorbar": {
              "outlinewidth": 0,
              "ticks": ""
             }
            },
            "type": "scatterternary"
           }
          ],
          "surface": [
           {
            "colorbar": {
             "outlinewidth": 0,
             "ticks": ""
            },
            "colorscale": [
             [
              0,
              "#0d0887"
             ],
             [
              0.1111111111111111,
              "#46039f"
             ],
             [
              0.2222222222222222,
              "#7201a8"
             ],
             [
              0.3333333333333333,
              "#9c179e"
             ],
             [
              0.4444444444444444,
              "#bd3786"
             ],
             [
              0.5555555555555556,
              "#d8576b"
             ],
             [
              0.6666666666666666,
              "#ed7953"
             ],
             [
              0.7777777777777778,
              "#fb9f3a"
             ],
             [
              0.8888888888888888,
              "#fdca26"
             ],
             [
              1,
              "#f0f921"
             ]
            ],
            "type": "surface"
           }
          ],
          "table": [
           {
            "cells": {
             "fill": {
              "color": "#EBF0F8"
             },
             "line": {
              "color": "white"
             }
            },
            "header": {
             "fill": {
              "color": "#C8D4E3"
             },
             "line": {
              "color": "white"
             }
            },
            "type": "table"
           }
          ]
         },
         "layout": {
          "annotationdefaults": {
           "arrowcolor": "#2a3f5f",
           "arrowhead": 0,
           "arrowwidth": 1
          },
          "coloraxis": {
           "colorbar": {
            "outlinewidth": 0,
            "ticks": ""
           }
          },
          "colorscale": {
           "diverging": [
            [
             0,
             "#8e0152"
            ],
            [
             0.1,
             "#c51b7d"
            ],
            [
             0.2,
             "#de77ae"
            ],
            [
             0.3,
             "#f1b6da"
            ],
            [
             0.4,
             "#fde0ef"
            ],
            [
             0.5,
             "#f7f7f7"
            ],
            [
             0.6,
             "#e6f5d0"
            ],
            [
             0.7,
             "#b8e186"
            ],
            [
             0.8,
             "#7fbc41"
            ],
            [
             0.9,
             "#4d9221"
            ],
            [
             1,
             "#276419"
            ]
           ],
           "sequential": [
            [
             0,
             "#0d0887"
            ],
            [
             0.1111111111111111,
             "#46039f"
            ],
            [
             0.2222222222222222,
             "#7201a8"
            ],
            [
             0.3333333333333333,
             "#9c179e"
            ],
            [
             0.4444444444444444,
             "#bd3786"
            ],
            [
             0.5555555555555556,
             "#d8576b"
            ],
            [
             0.6666666666666666,
             "#ed7953"
            ],
            [
             0.7777777777777778,
             "#fb9f3a"
            ],
            [
             0.8888888888888888,
             "#fdca26"
            ],
            [
             1,
             "#f0f921"
            ]
           ],
           "sequentialminus": [
            [
             0,
             "#0d0887"
            ],
            [
             0.1111111111111111,
             "#46039f"
            ],
            [
             0.2222222222222222,
             "#7201a8"
            ],
            [
             0.3333333333333333,
             "#9c179e"
            ],
            [
             0.4444444444444444,
             "#bd3786"
            ],
            [
             0.5555555555555556,
             "#d8576b"
            ],
            [
             0.6666666666666666,
             "#ed7953"
            ],
            [
             0.7777777777777778,
             "#fb9f3a"
            ],
            [
             0.8888888888888888,
             "#fdca26"
            ],
            [
             1,
             "#f0f921"
            ]
           ]
          },
          "colorway": [
           "#636efa",
           "#EF553B",
           "#00cc96",
           "#ab63fa",
           "#FFA15A",
           "#19d3f3",
           "#FF6692",
           "#B6E880",
           "#FF97FF",
           "#FECB52"
          ],
          "font": {
           "color": "#2a3f5f"
          },
          "geo": {
           "bgcolor": "white",
           "lakecolor": "white",
           "landcolor": "#E5ECF6",
           "showlakes": true,
           "showland": true,
           "subunitcolor": "white"
          },
          "hoverlabel": {
           "align": "left"
          },
          "hovermode": "closest",
          "mapbox": {
           "style": "light"
          },
          "paper_bgcolor": "white",
          "plot_bgcolor": "#E5ECF6",
          "polar": {
           "angularaxis": {
            "gridcolor": "white",
            "linecolor": "white",
            "ticks": ""
           },
           "bgcolor": "#E5ECF6",
           "radialaxis": {
            "gridcolor": "white",
            "linecolor": "white",
            "ticks": ""
           }
          },
          "scene": {
           "xaxis": {
            "backgroundcolor": "#E5ECF6",
            "gridcolor": "white",
            "gridwidth": 2,
            "linecolor": "white",
            "showbackground": true,
            "ticks": "",
            "zerolinecolor": "white"
           },
           "yaxis": {
            "backgroundcolor": "#E5ECF6",
            "gridcolor": "white",
            "gridwidth": 2,
            "linecolor": "white",
            "showbackground": true,
            "ticks": "",
            "zerolinecolor": "white"
           },
           "zaxis": {
            "backgroundcolor": "#E5ECF6",
            "gridcolor": "white",
            "gridwidth": 2,
            "linecolor": "white",
            "showbackground": true,
            "ticks": "",
            "zerolinecolor": "white"
           }
          },
          "shapedefaults": {
           "line": {
            "color": "#2a3f5f"
           }
          },
          "ternary": {
           "aaxis": {
            "gridcolor": "white",
            "linecolor": "white",
            "ticks": ""
           },
           "baxis": {
            "gridcolor": "white",
            "linecolor": "white",
            "ticks": ""
           },
           "bgcolor": "#E5ECF6",
           "caxis": {
            "gridcolor": "white",
            "linecolor": "white",
            "ticks": ""
           }
          },
          "title": {
           "x": 0.05
          },
          "xaxis": {
           "automargin": true,
           "gridcolor": "white",
           "linecolor": "white",
           "ticks": "",
           "title": {
            "standoff": 15
           },
           "zerolinecolor": "white",
           "zerolinewidth": 2
          },
          "yaxis": {
           "automargin": true,
           "gridcolor": "white",
           "linecolor": "white",
           "ticks": "",
           "title": {
            "standoff": 15
           },
           "zerolinecolor": "white",
           "zerolinewidth": 2
          }
         }
        },
        "title": {
         "font": {
          "color": "#4D5663"
         }
        },
        "xaxis": {
         "gridcolor": "#E1E5ED",
         "showgrid": true,
         "tickfont": {
          "color": "#4D5663"
         },
         "title": {
          "font": {
           "color": "#4D5663"
          },
          "text": ""
         },
         "zerolinecolor": "#E1E5ED"
        },
        "yaxis": {
         "gridcolor": "#E1E5ED",
         "showgrid": true,
         "tickfont": {
          "color": "#4D5663"
         },
         "title": {
          "font": {
           "color": "#4D5663"
          },
          "text": ""
         },
         "zerolinecolor": "#E1E5ED"
        }
       }
      },
      "text/html": [
       "<div>\n",
       "        \n",
       "        \n",
       "            <div id=\"3f8f3ff9-fdbd-4add-892f-95cc73b9dab5\" class=\"plotly-graph-div\" style=\"height:525px; width:100%;\"></div>\n",
       "            <script type=\"text/javascript\">\n",
       "                require([\"plotly\"], function(Plotly) {\n",
       "                    window.PLOTLYENV=window.PLOTLYENV || {};\n",
       "                    window.PLOTLYENV.BASE_URL='https://plot.ly';\n",
       "                    \n",
       "                if (document.getElementById(\"3f8f3ff9-fdbd-4add-892f-95cc73b9dab5\")) {\n",
       "                    Plotly.newPlot(\n",
       "                        '3f8f3ff9-fdbd-4add-892f-95cc73b9dab5',\n",
       "                        [{\"marker\": {\"color\": \"rgba(55, 128, 191, 0.6)\", \"line\": {\"color\": \"rgba(55, 128, 191, 1.0)\", \"width\": 1}}, \"name\": \"Values\", \"orientation\": \"v\", \"text\": \"\", \"type\": \"bar\", \"x\": [\"A\", \"B\", \"C\"], \"y\": [32, 43, 50]}],\n",
       "                        {\"legend\": {\"bgcolor\": \"#F5F6F9\", \"font\": {\"color\": \"#4D5663\"}}, \"paper_bgcolor\": \"#F5F6F9\", \"plot_bgcolor\": \"#F5F6F9\", \"template\": {\"data\": {\"bar\": [{\"error_x\": {\"color\": \"#2a3f5f\"}, \"error_y\": {\"color\": \"#2a3f5f\"}, \"marker\": {\"line\": {\"color\": \"#E5ECF6\", \"width\": 0.5}}, \"type\": \"bar\"}], \"barpolar\": [{\"marker\": {\"line\": {\"color\": \"#E5ECF6\", \"width\": 0.5}}, \"type\": \"barpolar\"}], \"carpet\": [{\"aaxis\": {\"endlinecolor\": \"#2a3f5f\", \"gridcolor\": \"white\", \"linecolor\": \"white\", \"minorgridcolor\": \"white\", \"startlinecolor\": \"#2a3f5f\"}, \"baxis\": {\"endlinecolor\": \"#2a3f5f\", \"gridcolor\": \"white\", \"linecolor\": \"white\", \"minorgridcolor\": \"white\", \"startlinecolor\": \"#2a3f5f\"}, \"type\": \"carpet\"}], \"choropleth\": [{\"colorbar\": {\"outlinewidth\": 0, \"ticks\": \"\"}, \"type\": \"choropleth\"}], \"contour\": [{\"colorbar\": {\"outlinewidth\": 0, \"ticks\": \"\"}, \"colorscale\": [[0.0, \"#0d0887\"], [0.1111111111111111, \"#46039f\"], [0.2222222222222222, \"#7201a8\"], [0.3333333333333333, \"#9c179e\"], [0.4444444444444444, \"#bd3786\"], [0.5555555555555556, \"#d8576b\"], [0.6666666666666666, \"#ed7953\"], [0.7777777777777778, \"#fb9f3a\"], [0.8888888888888888, \"#fdca26\"], [1.0, \"#f0f921\"]], \"type\": \"contour\"}], \"contourcarpet\": [{\"colorbar\": {\"outlinewidth\": 0, \"ticks\": \"\"}, \"type\": \"contourcarpet\"}], \"heatmap\": [{\"colorbar\": {\"outlinewidth\": 0, \"ticks\": \"\"}, \"colorscale\": [[0.0, \"#0d0887\"], [0.1111111111111111, \"#46039f\"], [0.2222222222222222, \"#7201a8\"], [0.3333333333333333, \"#9c179e\"], [0.4444444444444444, \"#bd3786\"], [0.5555555555555556, \"#d8576b\"], [0.6666666666666666, \"#ed7953\"], [0.7777777777777778, \"#fb9f3a\"], [0.8888888888888888, \"#fdca26\"], [1.0, \"#f0f921\"]], \"type\": \"heatmap\"}], \"heatmapgl\": [{\"colorbar\": {\"outlinewidth\": 0, \"ticks\": \"\"}, \"colorscale\": [[0.0, \"#0d0887\"], [0.1111111111111111, \"#46039f\"], [0.2222222222222222, \"#7201a8\"], [0.3333333333333333, \"#9c179e\"], [0.4444444444444444, \"#bd3786\"], [0.5555555555555556, \"#d8576b\"], [0.6666666666666666, \"#ed7953\"], [0.7777777777777778, \"#fb9f3a\"], [0.8888888888888888, \"#fdca26\"], [1.0, \"#f0f921\"]], \"type\": \"heatmapgl\"}], \"histogram\": [{\"marker\": {\"colorbar\": {\"outlinewidth\": 0, \"ticks\": \"\"}}, \"type\": \"histogram\"}], \"histogram2d\": [{\"colorbar\": {\"outlinewidth\": 0, \"ticks\": \"\"}, \"colorscale\": [[0.0, \"#0d0887\"], [0.1111111111111111, \"#46039f\"], [0.2222222222222222, \"#7201a8\"], [0.3333333333333333, \"#9c179e\"], [0.4444444444444444, \"#bd3786\"], [0.5555555555555556, \"#d8576b\"], [0.6666666666666666, \"#ed7953\"], [0.7777777777777778, \"#fb9f3a\"], [0.8888888888888888, \"#fdca26\"], [1.0, \"#f0f921\"]], \"type\": \"histogram2d\"}], \"histogram2dcontour\": [{\"colorbar\": {\"outlinewidth\": 0, \"ticks\": \"\"}, \"colorscale\": [[0.0, \"#0d0887\"], [0.1111111111111111, \"#46039f\"], [0.2222222222222222, \"#7201a8\"], [0.3333333333333333, \"#9c179e\"], [0.4444444444444444, \"#bd3786\"], [0.5555555555555556, \"#d8576b\"], [0.6666666666666666, \"#ed7953\"], [0.7777777777777778, \"#fb9f3a\"], [0.8888888888888888, \"#fdca26\"], [1.0, \"#f0f921\"]], \"type\": \"histogram2dcontour\"}], \"mesh3d\": [{\"colorbar\": {\"outlinewidth\": 0, \"ticks\": \"\"}, \"type\": \"mesh3d\"}], \"parcoords\": [{\"line\": {\"colorbar\": {\"outlinewidth\": 0, \"ticks\": \"\"}}, \"type\": \"parcoords\"}], \"pie\": [{\"automargin\": true, \"type\": \"pie\"}], \"scatter\": [{\"marker\": {\"colorbar\": {\"outlinewidth\": 0, \"ticks\": \"\"}}, \"type\": \"scatter\"}], \"scatter3d\": [{\"line\": {\"colorbar\": {\"outlinewidth\": 0, \"ticks\": \"\"}}, \"marker\": {\"colorbar\": {\"outlinewidth\": 0, \"ticks\": \"\"}}, \"type\": \"scatter3d\"}], \"scattercarpet\": [{\"marker\": {\"colorbar\": {\"outlinewidth\": 0, \"ticks\": \"\"}}, \"type\": \"scattercarpet\"}], \"scattergeo\": [{\"marker\": {\"colorbar\": {\"outlinewidth\": 0, \"ticks\": \"\"}}, \"type\": \"scattergeo\"}], \"scattergl\": [{\"marker\": {\"colorbar\": {\"outlinewidth\": 0, \"ticks\": \"\"}}, \"type\": \"scattergl\"}], \"scattermapbox\": [{\"marker\": {\"colorbar\": {\"outlinewidth\": 0, \"ticks\": \"\"}}, \"type\": \"scattermapbox\"}], \"scatterpolar\": [{\"marker\": {\"colorbar\": {\"outlinewidth\": 0, \"ticks\": \"\"}}, \"type\": \"scatterpolar\"}], \"scatterpolargl\": [{\"marker\": {\"colorbar\": {\"outlinewidth\": 0, \"ticks\": \"\"}}, \"type\": \"scatterpolargl\"}], \"scatterternary\": [{\"marker\": {\"colorbar\": {\"outlinewidth\": 0, \"ticks\": \"\"}}, \"type\": \"scatterternary\"}], \"surface\": [{\"colorbar\": {\"outlinewidth\": 0, \"ticks\": \"\"}, \"colorscale\": [[0.0, \"#0d0887\"], [0.1111111111111111, \"#46039f\"], [0.2222222222222222, \"#7201a8\"], [0.3333333333333333, \"#9c179e\"], [0.4444444444444444, \"#bd3786\"], [0.5555555555555556, \"#d8576b\"], [0.6666666666666666, \"#ed7953\"], [0.7777777777777778, \"#fb9f3a\"], [0.8888888888888888, \"#fdca26\"], [1.0, \"#f0f921\"]], \"type\": \"surface\"}], \"table\": [{\"cells\": {\"fill\": {\"color\": \"#EBF0F8\"}, \"line\": {\"color\": \"white\"}}, \"header\": {\"fill\": {\"color\": \"#C8D4E3\"}, \"line\": {\"color\": \"white\"}}, \"type\": \"table\"}]}, \"layout\": {\"annotationdefaults\": {\"arrowcolor\": \"#2a3f5f\", \"arrowhead\": 0, \"arrowwidth\": 1}, \"coloraxis\": {\"colorbar\": {\"outlinewidth\": 0, \"ticks\": \"\"}}, \"colorscale\": {\"diverging\": [[0, \"#8e0152\"], [0.1, \"#c51b7d\"], [0.2, \"#de77ae\"], [0.3, \"#f1b6da\"], [0.4, \"#fde0ef\"], [0.5, \"#f7f7f7\"], [0.6, \"#e6f5d0\"], [0.7, \"#b8e186\"], [0.8, \"#7fbc41\"], [0.9, \"#4d9221\"], [1, \"#276419\"]], \"sequential\": [[0.0, \"#0d0887\"], [0.1111111111111111, \"#46039f\"], [0.2222222222222222, \"#7201a8\"], [0.3333333333333333, \"#9c179e\"], [0.4444444444444444, \"#bd3786\"], [0.5555555555555556, \"#d8576b\"], [0.6666666666666666, \"#ed7953\"], [0.7777777777777778, \"#fb9f3a\"], [0.8888888888888888, \"#fdca26\"], [1.0, \"#f0f921\"]], \"sequentialminus\": [[0.0, \"#0d0887\"], [0.1111111111111111, \"#46039f\"], [0.2222222222222222, \"#7201a8\"], [0.3333333333333333, \"#9c179e\"], [0.4444444444444444, \"#bd3786\"], [0.5555555555555556, \"#d8576b\"], [0.6666666666666666, \"#ed7953\"], [0.7777777777777778, \"#fb9f3a\"], [0.8888888888888888, \"#fdca26\"], [1.0, \"#f0f921\"]]}, \"colorway\": [\"#636efa\", \"#EF553B\", \"#00cc96\", \"#ab63fa\", \"#FFA15A\", \"#19d3f3\", \"#FF6692\", \"#B6E880\", \"#FF97FF\", \"#FECB52\"], \"font\": {\"color\": \"#2a3f5f\"}, \"geo\": {\"bgcolor\": \"white\", \"lakecolor\": \"white\", \"landcolor\": \"#E5ECF6\", \"showlakes\": true, \"showland\": true, \"subunitcolor\": \"white\"}, \"hoverlabel\": {\"align\": \"left\"}, \"hovermode\": \"closest\", \"mapbox\": {\"style\": \"light\"}, \"paper_bgcolor\": \"white\", \"plot_bgcolor\": \"#E5ECF6\", \"polar\": {\"angularaxis\": {\"gridcolor\": \"white\", \"linecolor\": \"white\", \"ticks\": \"\"}, \"bgcolor\": \"#E5ECF6\", \"radialaxis\": {\"gridcolor\": \"white\", \"linecolor\": \"white\", \"ticks\": \"\"}}, \"scene\": {\"xaxis\": {\"backgroundcolor\": \"#E5ECF6\", \"gridcolor\": \"white\", \"gridwidth\": 2, \"linecolor\": \"white\", \"showbackground\": true, \"ticks\": \"\", \"zerolinecolor\": \"white\"}, \"yaxis\": {\"backgroundcolor\": \"#E5ECF6\", \"gridcolor\": \"white\", \"gridwidth\": 2, \"linecolor\": \"white\", \"showbackground\": true, \"ticks\": \"\", \"zerolinecolor\": \"white\"}, \"zaxis\": {\"backgroundcolor\": \"#E5ECF6\", \"gridcolor\": \"white\", \"gridwidth\": 2, \"linecolor\": \"white\", \"showbackground\": true, \"ticks\": \"\", \"zerolinecolor\": \"white\"}}, \"shapedefaults\": {\"line\": {\"color\": \"#2a3f5f\"}}, \"ternary\": {\"aaxis\": {\"gridcolor\": \"white\", \"linecolor\": \"white\", \"ticks\": \"\"}, \"baxis\": {\"gridcolor\": \"white\", \"linecolor\": \"white\", \"ticks\": \"\"}, \"bgcolor\": \"#E5ECF6\", \"caxis\": {\"gridcolor\": \"white\", \"linecolor\": \"white\", \"ticks\": \"\"}}, \"title\": {\"x\": 0.05}, \"xaxis\": {\"automargin\": true, \"gridcolor\": \"white\", \"linecolor\": \"white\", \"ticks\": \"\", \"title\": {\"standoff\": 15}, \"zerolinecolor\": \"white\", \"zerolinewidth\": 2}, \"yaxis\": {\"automargin\": true, \"gridcolor\": \"white\", \"linecolor\": \"white\", \"ticks\": \"\", \"title\": {\"standoff\": 15}, \"zerolinecolor\": \"white\", \"zerolinewidth\": 2}}}, \"title\": {\"font\": {\"color\": \"#4D5663\"}}, \"xaxis\": {\"gridcolor\": \"#E1E5ED\", \"showgrid\": true, \"tickfont\": {\"color\": \"#4D5663\"}, \"title\": {\"font\": {\"color\": \"#4D5663\"}, \"text\": \"\"}, \"zerolinecolor\": \"#E1E5ED\"}, \"yaxis\": {\"gridcolor\": \"#E1E5ED\", \"showgrid\": true, \"tickfont\": {\"color\": \"#4D5663\"}, \"title\": {\"font\": {\"color\": \"#4D5663\"}, \"text\": \"\"}, \"zerolinecolor\": \"#E1E5ED\"}},\n",
       "                        {\"showLink\": true, \"linkText\": \"Export to plot.ly\", \"plotlyServerURL\": \"https://plot.ly\", \"responsive\": true}\n",
       "                    ).then(function(){\n",
       "                            \n",
       "var gd = document.getElementById('3f8f3ff9-fdbd-4add-892f-95cc73b9dab5');\n",
       "var x = new MutationObserver(function (mutations, observer) {{\n",
       "        var display = window.getComputedStyle(gd).display;\n",
       "        if (!display || display === 'none') {{\n",
       "            console.log([gd, 'removed!']);\n",
       "            Plotly.purge(gd);\n",
       "            observer.disconnect();\n",
       "        }}\n",
       "}});\n",
       "\n",
       "// Listen for the removal of the full notebook cells\n",
       "var notebookContainer = gd.closest('#notebook-container');\n",
       "if (notebookContainer) {{\n",
       "    x.observe(notebookContainer, {childList: true});\n",
       "}}\n",
       "\n",
       "// Listen for the clearing of the current output cell\n",
       "var outputEl = gd.closest('.output');\n",
       "if (outputEl) {{\n",
       "    x.observe(outputEl, {childList: true});\n",
       "}}\n",
       "\n",
       "                        })\n",
       "                };\n",
       "                });\n",
       "            </script>\n",
       "        </div>"
      ]
     },
     "metadata": {},
     "output_type": "display_data"
    }
   ],
   "source": [
    "df2.iplot(kind='bar',x='Category',y='Values',colors='blue')"
   ]
  },
  {
   "cell_type": "code",
   "execution_count": 12,
   "metadata": {},
   "outputs": [
    {
     "data": {
      "application/vnd.plotly.v1+json": {
       "config": {
        "linkText": "Export to plot.ly",
        "plotlyServerURL": "https://plot.ly",
        "showLink": true
       },
       "data": [
        {
         "marker": {
          "color": "rgba(255, 153, 51, 0.6)",
          "line": {
           "color": "rgba(255, 153, 51, 1.0)",
           "width": 1
          }
         },
         "name": "None",
         "orientation": "v",
         "text": "",
         "type": "bar",
         "x": [
          "A",
          "B",
          "C",
          "D"
         ],
         "y": [
          100,
          100,
          100,
          100
         ]
        }
       ],
       "layout": {
        "legend": {
         "bgcolor": "#F5F6F9",
         "font": {
          "color": "#4D5663"
         }
        },
        "paper_bgcolor": "#F5F6F9",
        "plot_bgcolor": "#F5F6F9",
        "template": {
         "data": {
          "bar": [
           {
            "error_x": {
             "color": "#2a3f5f"
            },
            "error_y": {
             "color": "#2a3f5f"
            },
            "marker": {
             "line": {
              "color": "#E5ECF6",
              "width": 0.5
             }
            },
            "type": "bar"
           }
          ],
          "barpolar": [
           {
            "marker": {
             "line": {
              "color": "#E5ECF6",
              "width": 0.5
             }
            },
            "type": "barpolar"
           }
          ],
          "carpet": [
           {
            "aaxis": {
             "endlinecolor": "#2a3f5f",
             "gridcolor": "white",
             "linecolor": "white",
             "minorgridcolor": "white",
             "startlinecolor": "#2a3f5f"
            },
            "baxis": {
             "endlinecolor": "#2a3f5f",
             "gridcolor": "white",
             "linecolor": "white",
             "minorgridcolor": "white",
             "startlinecolor": "#2a3f5f"
            },
            "type": "carpet"
           }
          ],
          "choropleth": [
           {
            "colorbar": {
             "outlinewidth": 0,
             "ticks": ""
            },
            "type": "choropleth"
           }
          ],
          "contour": [
           {
            "colorbar": {
             "outlinewidth": 0,
             "ticks": ""
            },
            "colorscale": [
             [
              0,
              "#0d0887"
             ],
             [
              0.1111111111111111,
              "#46039f"
             ],
             [
              0.2222222222222222,
              "#7201a8"
             ],
             [
              0.3333333333333333,
              "#9c179e"
             ],
             [
              0.4444444444444444,
              "#bd3786"
             ],
             [
              0.5555555555555556,
              "#d8576b"
             ],
             [
              0.6666666666666666,
              "#ed7953"
             ],
             [
              0.7777777777777778,
              "#fb9f3a"
             ],
             [
              0.8888888888888888,
              "#fdca26"
             ],
             [
              1,
              "#f0f921"
             ]
            ],
            "type": "contour"
           }
          ],
          "contourcarpet": [
           {
            "colorbar": {
             "outlinewidth": 0,
             "ticks": ""
            },
            "type": "contourcarpet"
           }
          ],
          "heatmap": [
           {
            "colorbar": {
             "outlinewidth": 0,
             "ticks": ""
            },
            "colorscale": [
             [
              0,
              "#0d0887"
             ],
             [
              0.1111111111111111,
              "#46039f"
             ],
             [
              0.2222222222222222,
              "#7201a8"
             ],
             [
              0.3333333333333333,
              "#9c179e"
             ],
             [
              0.4444444444444444,
              "#bd3786"
             ],
             [
              0.5555555555555556,
              "#d8576b"
             ],
             [
              0.6666666666666666,
              "#ed7953"
             ],
             [
              0.7777777777777778,
              "#fb9f3a"
             ],
             [
              0.8888888888888888,
              "#fdca26"
             ],
             [
              1,
              "#f0f921"
             ]
            ],
            "type": "heatmap"
           }
          ],
          "heatmapgl": [
           {
            "colorbar": {
             "outlinewidth": 0,
             "ticks": ""
            },
            "colorscale": [
             [
              0,
              "#0d0887"
             ],
             [
              0.1111111111111111,
              "#46039f"
             ],
             [
              0.2222222222222222,
              "#7201a8"
             ],
             [
              0.3333333333333333,
              "#9c179e"
             ],
             [
              0.4444444444444444,
              "#bd3786"
             ],
             [
              0.5555555555555556,
              "#d8576b"
             ],
             [
              0.6666666666666666,
              "#ed7953"
             ],
             [
              0.7777777777777778,
              "#fb9f3a"
             ],
             [
              0.8888888888888888,
              "#fdca26"
             ],
             [
              1,
              "#f0f921"
             ]
            ],
            "type": "heatmapgl"
           }
          ],
          "histogram": [
           {
            "marker": {
             "colorbar": {
              "outlinewidth": 0,
              "ticks": ""
             }
            },
            "type": "histogram"
           }
          ],
          "histogram2d": [
           {
            "colorbar": {
             "outlinewidth": 0,
             "ticks": ""
            },
            "colorscale": [
             [
              0,
              "#0d0887"
             ],
             [
              0.1111111111111111,
              "#46039f"
             ],
             [
              0.2222222222222222,
              "#7201a8"
             ],
             [
              0.3333333333333333,
              "#9c179e"
             ],
             [
              0.4444444444444444,
              "#bd3786"
             ],
             [
              0.5555555555555556,
              "#d8576b"
             ],
             [
              0.6666666666666666,
              "#ed7953"
             ],
             [
              0.7777777777777778,
              "#fb9f3a"
             ],
             [
              0.8888888888888888,
              "#fdca26"
             ],
             [
              1,
              "#f0f921"
             ]
            ],
            "type": "histogram2d"
           }
          ],
          "histogram2dcontour": [
           {
            "colorbar": {
             "outlinewidth": 0,
             "ticks": ""
            },
            "colorscale": [
             [
              0,
              "#0d0887"
             ],
             [
              0.1111111111111111,
              "#46039f"
             ],
             [
              0.2222222222222222,
              "#7201a8"
             ],
             [
              0.3333333333333333,
              "#9c179e"
             ],
             [
              0.4444444444444444,
              "#bd3786"
             ],
             [
              0.5555555555555556,
              "#d8576b"
             ],
             [
              0.6666666666666666,
              "#ed7953"
             ],
             [
              0.7777777777777778,
              "#fb9f3a"
             ],
             [
              0.8888888888888888,
              "#fdca26"
             ],
             [
              1,
              "#f0f921"
             ]
            ],
            "type": "histogram2dcontour"
           }
          ],
          "mesh3d": [
           {
            "colorbar": {
             "outlinewidth": 0,
             "ticks": ""
            },
            "type": "mesh3d"
           }
          ],
          "parcoords": [
           {
            "line": {
             "colorbar": {
              "outlinewidth": 0,
              "ticks": ""
             }
            },
            "type": "parcoords"
           }
          ],
          "pie": [
           {
            "automargin": true,
            "type": "pie"
           }
          ],
          "scatter": [
           {
            "marker": {
             "colorbar": {
              "outlinewidth": 0,
              "ticks": ""
             }
            },
            "type": "scatter"
           }
          ],
          "scatter3d": [
           {
            "line": {
             "colorbar": {
              "outlinewidth": 0,
              "ticks": ""
             }
            },
            "marker": {
             "colorbar": {
              "outlinewidth": 0,
              "ticks": ""
             }
            },
            "type": "scatter3d"
           }
          ],
          "scattercarpet": [
           {
            "marker": {
             "colorbar": {
              "outlinewidth": 0,
              "ticks": ""
             }
            },
            "type": "scattercarpet"
           }
          ],
          "scattergeo": [
           {
            "marker": {
             "colorbar": {
              "outlinewidth": 0,
              "ticks": ""
             }
            },
            "type": "scattergeo"
           }
          ],
          "scattergl": [
           {
            "marker": {
             "colorbar": {
              "outlinewidth": 0,
              "ticks": ""
             }
            },
            "type": "scattergl"
           }
          ],
          "scattermapbox": [
           {
            "marker": {
             "colorbar": {
              "outlinewidth": 0,
              "ticks": ""
             }
            },
            "type": "scattermapbox"
           }
          ],
          "scatterpolar": [
           {
            "marker": {
             "colorbar": {
              "outlinewidth": 0,
              "ticks": ""
             }
            },
            "type": "scatterpolar"
           }
          ],
          "scatterpolargl": [
           {
            "marker": {
             "colorbar": {
              "outlinewidth": 0,
              "ticks": ""
             }
            },
            "type": "scatterpolargl"
           }
          ],
          "scatterternary": [
           {
            "marker": {
             "colorbar": {
              "outlinewidth": 0,
              "ticks": ""
             }
            },
            "type": "scatterternary"
           }
          ],
          "surface": [
           {
            "colorbar": {
             "outlinewidth": 0,
             "ticks": ""
            },
            "colorscale": [
             [
              0,
              "#0d0887"
             ],
             [
              0.1111111111111111,
              "#46039f"
             ],
             [
              0.2222222222222222,
              "#7201a8"
             ],
             [
              0.3333333333333333,
              "#9c179e"
             ],
             [
              0.4444444444444444,
              "#bd3786"
             ],
             [
              0.5555555555555556,
              "#d8576b"
             ],
             [
              0.6666666666666666,
              "#ed7953"
             ],
             [
              0.7777777777777778,
              "#fb9f3a"
             ],
             [
              0.8888888888888888,
              "#fdca26"
             ],
             [
              1,
              "#f0f921"
             ]
            ],
            "type": "surface"
           }
          ],
          "table": [
           {
            "cells": {
             "fill": {
              "color": "#EBF0F8"
             },
             "line": {
              "color": "white"
             }
            },
            "header": {
             "fill": {
              "color": "#C8D4E3"
             },
             "line": {
              "color": "white"
             }
            },
            "type": "table"
           }
          ]
         },
         "layout": {
          "annotationdefaults": {
           "arrowcolor": "#2a3f5f",
           "arrowhead": 0,
           "arrowwidth": 1
          },
          "coloraxis": {
           "colorbar": {
            "outlinewidth": 0,
            "ticks": ""
           }
          },
          "colorscale": {
           "diverging": [
            [
             0,
             "#8e0152"
            ],
            [
             0.1,
             "#c51b7d"
            ],
            [
             0.2,
             "#de77ae"
            ],
            [
             0.3,
             "#f1b6da"
            ],
            [
             0.4,
             "#fde0ef"
            ],
            [
             0.5,
             "#f7f7f7"
            ],
            [
             0.6,
             "#e6f5d0"
            ],
            [
             0.7,
             "#b8e186"
            ],
            [
             0.8,
             "#7fbc41"
            ],
            [
             0.9,
             "#4d9221"
            ],
            [
             1,
             "#276419"
            ]
           ],
           "sequential": [
            [
             0,
             "#0d0887"
            ],
            [
             0.1111111111111111,
             "#46039f"
            ],
            [
             0.2222222222222222,
             "#7201a8"
            ],
            [
             0.3333333333333333,
             "#9c179e"
            ],
            [
             0.4444444444444444,
             "#bd3786"
            ],
            [
             0.5555555555555556,
             "#d8576b"
            ],
            [
             0.6666666666666666,
             "#ed7953"
            ],
            [
             0.7777777777777778,
             "#fb9f3a"
            ],
            [
             0.8888888888888888,
             "#fdca26"
            ],
            [
             1,
             "#f0f921"
            ]
           ],
           "sequentialminus": [
            [
             0,
             "#0d0887"
            ],
            [
             0.1111111111111111,
             "#46039f"
            ],
            [
             0.2222222222222222,
             "#7201a8"
            ],
            [
             0.3333333333333333,
             "#9c179e"
            ],
            [
             0.4444444444444444,
             "#bd3786"
            ],
            [
             0.5555555555555556,
             "#d8576b"
            ],
            [
             0.6666666666666666,
             "#ed7953"
            ],
            [
             0.7777777777777778,
             "#fb9f3a"
            ],
            [
             0.8888888888888888,
             "#fdca26"
            ],
            [
             1,
             "#f0f921"
            ]
           ]
          },
          "colorway": [
           "#636efa",
           "#EF553B",
           "#00cc96",
           "#ab63fa",
           "#FFA15A",
           "#19d3f3",
           "#FF6692",
           "#B6E880",
           "#FF97FF",
           "#FECB52"
          ],
          "font": {
           "color": "#2a3f5f"
          },
          "geo": {
           "bgcolor": "white",
           "lakecolor": "white",
           "landcolor": "#E5ECF6",
           "showlakes": true,
           "showland": true,
           "subunitcolor": "white"
          },
          "hoverlabel": {
           "align": "left"
          },
          "hovermode": "closest",
          "mapbox": {
           "style": "light"
          },
          "paper_bgcolor": "white",
          "plot_bgcolor": "#E5ECF6",
          "polar": {
           "angularaxis": {
            "gridcolor": "white",
            "linecolor": "white",
            "ticks": ""
           },
           "bgcolor": "#E5ECF6",
           "radialaxis": {
            "gridcolor": "white",
            "linecolor": "white",
            "ticks": ""
           }
          },
          "scene": {
           "xaxis": {
            "backgroundcolor": "#E5ECF6",
            "gridcolor": "white",
            "gridwidth": 2,
            "linecolor": "white",
            "showbackground": true,
            "ticks": "",
            "zerolinecolor": "white"
           },
           "yaxis": {
            "backgroundcolor": "#E5ECF6",
            "gridcolor": "white",
            "gridwidth": 2,
            "linecolor": "white",
            "showbackground": true,
            "ticks": "",
            "zerolinecolor": "white"
           },
           "zaxis": {
            "backgroundcolor": "#E5ECF6",
            "gridcolor": "white",
            "gridwidth": 2,
            "linecolor": "white",
            "showbackground": true,
            "ticks": "",
            "zerolinecolor": "white"
           }
          },
          "shapedefaults": {
           "line": {
            "color": "#2a3f5f"
           }
          },
          "ternary": {
           "aaxis": {
            "gridcolor": "white",
            "linecolor": "white",
            "ticks": ""
           },
           "baxis": {
            "gridcolor": "white",
            "linecolor": "white",
            "ticks": ""
           },
           "bgcolor": "#E5ECF6",
           "caxis": {
            "gridcolor": "white",
            "linecolor": "white",
            "ticks": ""
           }
          },
          "title": {
           "x": 0.05
          },
          "xaxis": {
           "automargin": true,
           "gridcolor": "white",
           "linecolor": "white",
           "ticks": "",
           "title": {
            "standoff": 15
           },
           "zerolinecolor": "white",
           "zerolinewidth": 2
          },
          "yaxis": {
           "automargin": true,
           "gridcolor": "white",
           "linecolor": "white",
           "ticks": "",
           "title": {
            "standoff": 15
           },
           "zerolinecolor": "white",
           "zerolinewidth": 2
          }
         }
        },
        "title": {
         "font": {
          "color": "#4D5663"
         }
        },
        "xaxis": {
         "gridcolor": "#E1E5ED",
         "showgrid": true,
         "tickfont": {
          "color": "#4D5663"
         },
         "title": {
          "font": {
           "color": "#4D5663"
          },
          "text": ""
         },
         "zerolinecolor": "#E1E5ED"
        },
        "yaxis": {
         "gridcolor": "#E1E5ED",
         "showgrid": true,
         "tickfont": {
          "color": "#4D5663"
         },
         "title": {
          "font": {
           "color": "#4D5663"
          },
          "text": ""
         },
         "zerolinecolor": "#E1E5ED"
        }
       }
      },
      "text/html": [
       "<div>\n",
       "        \n",
       "        \n",
       "            <div id=\"24c38172-44d2-43fd-a542-3a351ea06921\" class=\"plotly-graph-div\" style=\"height:525px; width:100%;\"></div>\n",
       "            <script type=\"text/javascript\">\n",
       "                require([\"plotly\"], function(Plotly) {\n",
       "                    window.PLOTLYENV=window.PLOTLYENV || {};\n",
       "                    window.PLOTLYENV.BASE_URL='https://plot.ly';\n",
       "                    \n",
       "                if (document.getElementById(\"24c38172-44d2-43fd-a542-3a351ea06921\")) {\n",
       "                    Plotly.newPlot(\n",
       "                        '24c38172-44d2-43fd-a542-3a351ea06921',\n",
       "                        [{\"marker\": {\"color\": \"rgba(255, 153, 51, 0.6)\", \"line\": {\"color\": \"rgba(255, 153, 51, 1.0)\", \"width\": 1}}, \"name\": \"None\", \"orientation\": \"v\", \"text\": \"\", \"type\": \"bar\", \"x\": [\"A\", \"B\", \"C\", \"D\"], \"y\": [100, 100, 100, 100]}],\n",
       "                        {\"legend\": {\"bgcolor\": \"#F5F6F9\", \"font\": {\"color\": \"#4D5663\"}}, \"paper_bgcolor\": \"#F5F6F9\", \"plot_bgcolor\": \"#F5F6F9\", \"template\": {\"data\": {\"bar\": [{\"error_x\": {\"color\": \"#2a3f5f\"}, \"error_y\": {\"color\": \"#2a3f5f\"}, \"marker\": {\"line\": {\"color\": \"#E5ECF6\", \"width\": 0.5}}, \"type\": \"bar\"}], \"barpolar\": [{\"marker\": {\"line\": {\"color\": \"#E5ECF6\", \"width\": 0.5}}, \"type\": \"barpolar\"}], \"carpet\": [{\"aaxis\": {\"endlinecolor\": \"#2a3f5f\", \"gridcolor\": \"white\", \"linecolor\": \"white\", \"minorgridcolor\": \"white\", \"startlinecolor\": \"#2a3f5f\"}, \"baxis\": {\"endlinecolor\": \"#2a3f5f\", \"gridcolor\": \"white\", \"linecolor\": \"white\", \"minorgridcolor\": \"white\", \"startlinecolor\": \"#2a3f5f\"}, \"type\": \"carpet\"}], \"choropleth\": [{\"colorbar\": {\"outlinewidth\": 0, \"ticks\": \"\"}, \"type\": \"choropleth\"}], \"contour\": [{\"colorbar\": {\"outlinewidth\": 0, \"ticks\": \"\"}, \"colorscale\": [[0.0, \"#0d0887\"], [0.1111111111111111, \"#46039f\"], [0.2222222222222222, \"#7201a8\"], [0.3333333333333333, \"#9c179e\"], [0.4444444444444444, \"#bd3786\"], [0.5555555555555556, \"#d8576b\"], [0.6666666666666666, \"#ed7953\"], [0.7777777777777778, \"#fb9f3a\"], [0.8888888888888888, \"#fdca26\"], [1.0, \"#f0f921\"]], \"type\": \"contour\"}], \"contourcarpet\": [{\"colorbar\": {\"outlinewidth\": 0, \"ticks\": \"\"}, \"type\": \"contourcarpet\"}], \"heatmap\": [{\"colorbar\": {\"outlinewidth\": 0, \"ticks\": \"\"}, \"colorscale\": [[0.0, \"#0d0887\"], [0.1111111111111111, \"#46039f\"], [0.2222222222222222, \"#7201a8\"], [0.3333333333333333, \"#9c179e\"], [0.4444444444444444, \"#bd3786\"], [0.5555555555555556, \"#d8576b\"], [0.6666666666666666, \"#ed7953\"], [0.7777777777777778, \"#fb9f3a\"], [0.8888888888888888, \"#fdca26\"], [1.0, \"#f0f921\"]], \"type\": \"heatmap\"}], \"heatmapgl\": [{\"colorbar\": {\"outlinewidth\": 0, \"ticks\": \"\"}, \"colorscale\": [[0.0, \"#0d0887\"], [0.1111111111111111, \"#46039f\"], [0.2222222222222222, \"#7201a8\"], [0.3333333333333333, \"#9c179e\"], [0.4444444444444444, \"#bd3786\"], [0.5555555555555556, \"#d8576b\"], [0.6666666666666666, \"#ed7953\"], [0.7777777777777778, \"#fb9f3a\"], [0.8888888888888888, \"#fdca26\"], [1.0, \"#f0f921\"]], \"type\": \"heatmapgl\"}], \"histogram\": [{\"marker\": {\"colorbar\": {\"outlinewidth\": 0, \"ticks\": \"\"}}, \"type\": \"histogram\"}], \"histogram2d\": [{\"colorbar\": {\"outlinewidth\": 0, \"ticks\": \"\"}, \"colorscale\": [[0.0, \"#0d0887\"], [0.1111111111111111, \"#46039f\"], [0.2222222222222222, \"#7201a8\"], [0.3333333333333333, \"#9c179e\"], [0.4444444444444444, \"#bd3786\"], [0.5555555555555556, \"#d8576b\"], [0.6666666666666666, \"#ed7953\"], [0.7777777777777778, \"#fb9f3a\"], [0.8888888888888888, \"#fdca26\"], [1.0, \"#f0f921\"]], \"type\": \"histogram2d\"}], \"histogram2dcontour\": [{\"colorbar\": {\"outlinewidth\": 0, \"ticks\": \"\"}, \"colorscale\": [[0.0, \"#0d0887\"], [0.1111111111111111, \"#46039f\"], [0.2222222222222222, \"#7201a8\"], [0.3333333333333333, \"#9c179e\"], [0.4444444444444444, \"#bd3786\"], [0.5555555555555556, \"#d8576b\"], [0.6666666666666666, \"#ed7953\"], [0.7777777777777778, \"#fb9f3a\"], [0.8888888888888888, \"#fdca26\"], [1.0, \"#f0f921\"]], \"type\": \"histogram2dcontour\"}], \"mesh3d\": [{\"colorbar\": {\"outlinewidth\": 0, \"ticks\": \"\"}, \"type\": \"mesh3d\"}], \"parcoords\": [{\"line\": {\"colorbar\": {\"outlinewidth\": 0, \"ticks\": \"\"}}, \"type\": \"parcoords\"}], \"pie\": [{\"automargin\": true, \"type\": \"pie\"}], \"scatter\": [{\"marker\": {\"colorbar\": {\"outlinewidth\": 0, \"ticks\": \"\"}}, \"type\": \"scatter\"}], \"scatter3d\": [{\"line\": {\"colorbar\": {\"outlinewidth\": 0, \"ticks\": \"\"}}, \"marker\": {\"colorbar\": {\"outlinewidth\": 0, \"ticks\": \"\"}}, \"type\": \"scatter3d\"}], \"scattercarpet\": [{\"marker\": {\"colorbar\": {\"outlinewidth\": 0, \"ticks\": \"\"}}, \"type\": \"scattercarpet\"}], \"scattergeo\": [{\"marker\": {\"colorbar\": {\"outlinewidth\": 0, \"ticks\": \"\"}}, \"type\": \"scattergeo\"}], \"scattergl\": [{\"marker\": {\"colorbar\": {\"outlinewidth\": 0, \"ticks\": \"\"}}, \"type\": \"scattergl\"}], \"scattermapbox\": [{\"marker\": {\"colorbar\": {\"outlinewidth\": 0, \"ticks\": \"\"}}, \"type\": \"scattermapbox\"}], \"scatterpolar\": [{\"marker\": {\"colorbar\": {\"outlinewidth\": 0, \"ticks\": \"\"}}, \"type\": \"scatterpolar\"}], \"scatterpolargl\": [{\"marker\": {\"colorbar\": {\"outlinewidth\": 0, \"ticks\": \"\"}}, \"type\": \"scatterpolargl\"}], \"scatterternary\": [{\"marker\": {\"colorbar\": {\"outlinewidth\": 0, \"ticks\": \"\"}}, \"type\": \"scatterternary\"}], \"surface\": [{\"colorbar\": {\"outlinewidth\": 0, \"ticks\": \"\"}, \"colorscale\": [[0.0, \"#0d0887\"], [0.1111111111111111, \"#46039f\"], [0.2222222222222222, \"#7201a8\"], [0.3333333333333333, \"#9c179e\"], [0.4444444444444444, \"#bd3786\"], [0.5555555555555556, \"#d8576b\"], [0.6666666666666666, \"#ed7953\"], [0.7777777777777778, \"#fb9f3a\"], [0.8888888888888888, \"#fdca26\"], [1.0, \"#f0f921\"]], \"type\": \"surface\"}], \"table\": [{\"cells\": {\"fill\": {\"color\": \"#EBF0F8\"}, \"line\": {\"color\": \"white\"}}, \"header\": {\"fill\": {\"color\": \"#C8D4E3\"}, \"line\": {\"color\": \"white\"}}, \"type\": \"table\"}]}, \"layout\": {\"annotationdefaults\": {\"arrowcolor\": \"#2a3f5f\", \"arrowhead\": 0, \"arrowwidth\": 1}, \"coloraxis\": {\"colorbar\": {\"outlinewidth\": 0, \"ticks\": \"\"}}, \"colorscale\": {\"diverging\": [[0, \"#8e0152\"], [0.1, \"#c51b7d\"], [0.2, \"#de77ae\"], [0.3, \"#f1b6da\"], [0.4, \"#fde0ef\"], [0.5, \"#f7f7f7\"], [0.6, \"#e6f5d0\"], [0.7, \"#b8e186\"], [0.8, \"#7fbc41\"], [0.9, \"#4d9221\"], [1, \"#276419\"]], \"sequential\": [[0.0, \"#0d0887\"], [0.1111111111111111, \"#46039f\"], [0.2222222222222222, \"#7201a8\"], [0.3333333333333333, \"#9c179e\"], [0.4444444444444444, \"#bd3786\"], [0.5555555555555556, \"#d8576b\"], [0.6666666666666666, \"#ed7953\"], [0.7777777777777778, \"#fb9f3a\"], [0.8888888888888888, \"#fdca26\"], [1.0, \"#f0f921\"]], \"sequentialminus\": [[0.0, \"#0d0887\"], [0.1111111111111111, \"#46039f\"], [0.2222222222222222, \"#7201a8\"], [0.3333333333333333, \"#9c179e\"], [0.4444444444444444, \"#bd3786\"], [0.5555555555555556, \"#d8576b\"], [0.6666666666666666, \"#ed7953\"], [0.7777777777777778, \"#fb9f3a\"], [0.8888888888888888, \"#fdca26\"], [1.0, \"#f0f921\"]]}, \"colorway\": [\"#636efa\", \"#EF553B\", \"#00cc96\", \"#ab63fa\", \"#FFA15A\", \"#19d3f3\", \"#FF6692\", \"#B6E880\", \"#FF97FF\", \"#FECB52\"], \"font\": {\"color\": \"#2a3f5f\"}, \"geo\": {\"bgcolor\": \"white\", \"lakecolor\": \"white\", \"landcolor\": \"#E5ECF6\", \"showlakes\": true, \"showland\": true, \"subunitcolor\": \"white\"}, \"hoverlabel\": {\"align\": \"left\"}, \"hovermode\": \"closest\", \"mapbox\": {\"style\": \"light\"}, \"paper_bgcolor\": \"white\", \"plot_bgcolor\": \"#E5ECF6\", \"polar\": {\"angularaxis\": {\"gridcolor\": \"white\", \"linecolor\": \"white\", \"ticks\": \"\"}, \"bgcolor\": \"#E5ECF6\", \"radialaxis\": {\"gridcolor\": \"white\", \"linecolor\": \"white\", \"ticks\": \"\"}}, \"scene\": {\"xaxis\": {\"backgroundcolor\": \"#E5ECF6\", \"gridcolor\": \"white\", \"gridwidth\": 2, \"linecolor\": \"white\", \"showbackground\": true, \"ticks\": \"\", \"zerolinecolor\": \"white\"}, \"yaxis\": {\"backgroundcolor\": \"#E5ECF6\", \"gridcolor\": \"white\", \"gridwidth\": 2, \"linecolor\": \"white\", \"showbackground\": true, \"ticks\": \"\", \"zerolinecolor\": \"white\"}, \"zaxis\": {\"backgroundcolor\": \"#E5ECF6\", \"gridcolor\": \"white\", \"gridwidth\": 2, \"linecolor\": \"white\", \"showbackground\": true, \"ticks\": \"\", \"zerolinecolor\": \"white\"}}, \"shapedefaults\": {\"line\": {\"color\": \"#2a3f5f\"}}, \"ternary\": {\"aaxis\": {\"gridcolor\": \"white\", \"linecolor\": \"white\", \"ticks\": \"\"}, \"baxis\": {\"gridcolor\": \"white\", \"linecolor\": \"white\", \"ticks\": \"\"}, \"bgcolor\": \"#E5ECF6\", \"caxis\": {\"gridcolor\": \"white\", \"linecolor\": \"white\", \"ticks\": \"\"}}, \"title\": {\"x\": 0.05}, \"xaxis\": {\"automargin\": true, \"gridcolor\": \"white\", \"linecolor\": \"white\", \"ticks\": \"\", \"title\": {\"standoff\": 15}, \"zerolinecolor\": \"white\", \"zerolinewidth\": 2}, \"yaxis\": {\"automargin\": true, \"gridcolor\": \"white\", \"linecolor\": \"white\", \"ticks\": \"\", \"title\": {\"standoff\": 15}, \"zerolinecolor\": \"white\", \"zerolinewidth\": 2}}}, \"title\": {\"font\": {\"color\": \"#4D5663\"}}, \"xaxis\": {\"gridcolor\": \"#E1E5ED\", \"showgrid\": true, \"tickfont\": {\"color\": \"#4D5663\"}, \"title\": {\"font\": {\"color\": \"#4D5663\"}, \"text\": \"\"}, \"zerolinecolor\": \"#E1E5ED\"}, \"yaxis\": {\"gridcolor\": \"#E1E5ED\", \"showgrid\": true, \"tickfont\": {\"color\": \"#4D5663\"}, \"title\": {\"font\": {\"color\": \"#4D5663\"}, \"text\": \"\"}, \"zerolinecolor\": \"#E1E5ED\"}},\n",
       "                        {\"showLink\": true, \"linkText\": \"Export to plot.ly\", \"plotlyServerURL\": \"https://plot.ly\", \"responsive\": true}\n",
       "                    ).then(function(){\n",
       "                            \n",
       "var gd = document.getElementById('24c38172-44d2-43fd-a542-3a351ea06921');\n",
       "var x = new MutationObserver(function (mutations, observer) {{\n",
       "        var display = window.getComputedStyle(gd).display;\n",
       "        if (!display || display === 'none') {{\n",
       "            console.log([gd, 'removed!']);\n",
       "            Plotly.purge(gd);\n",
       "            observer.disconnect();\n",
       "        }}\n",
       "}});\n",
       "\n",
       "// Listen for the removal of the full notebook cells\n",
       "var notebookContainer = gd.closest('#notebook-container');\n",
       "if (notebookContainer) {{\n",
       "    x.observe(notebookContainer, {childList: true});\n",
       "}}\n",
       "\n",
       "// Listen for the clearing of the current output cell\n",
       "var outputEl = gd.closest('.output');\n",
       "if (outputEl) {{\n",
       "    x.observe(outputEl, {childList: true});\n",
       "}}\n",
       "\n",
       "                        })\n",
       "                };\n",
       "                });\n",
       "            </script>\n",
       "        </div>"
      ]
     },
     "metadata": {},
     "output_type": "display_data"
    }
   ],
   "source": [
    "df.count().iplot(kind='bar')"
   ]
  },
  {
   "cell_type": "markdown",
   "metadata": {},
   "source": [
    "## Boxplots"
   ]
  },
  {
   "cell_type": "code",
   "execution_count": 13,
   "metadata": {},
   "outputs": [
    {
     "data": {
      "application/vnd.plotly.v1+json": {
       "config": {
        "linkText": "Export to plot.ly",
        "plotlyServerURL": "https://plot.ly",
        "showLink": true
       },
       "data": [
        {
         "boxpoints": false,
         "line": {
          "width": 1.3
         },
         "marker": {
          "color": "rgba(255, 153, 51, 1.0)"
         },
         "name": "A",
         "orientation": "v",
         "type": "box",
         "y": [
          0.09109850481918408,
          -1.1215293214001596,
          -0.8472103787075184,
          0.047579463925629756,
          -0.2465006929122032,
          0.355941870570774,
          -0.10096950094440324,
          -0.9072730752429058,
          -0.9518980001271358,
          2.14097321822886,
          2.1231768307689967,
          0.6958977551843699,
          -1.583248837107644,
          1.7142265839072959,
          -0.06646503235312974,
          -1.5315586252424356,
          1.4934969578297246,
          -0.3671124610810568,
          -0.6464912890042264,
          0.7577407259047961,
          -1.7888731022404905,
          -0.836344304627946,
          2.428995088322346,
          1.3927544538222227,
          0.9186261627971786,
          1.3069317194442132,
          -1.0793521680617035,
          2.0008609111050646,
          1.6512094667325325,
          0.808956552274321,
          0.7161520296684218,
          0.4174688388945817,
          -2.055553429227154,
          -0.10478473559018199,
          -1.8414704504739363,
          -1.9037587104776745,
          -0.24550426677305848,
          -0.9344856372315049,
          0.08519000805272456,
          0.7909917218595681,
          1.2112598406713257,
          0.8780853775627289,
          1.6391927026157413,
          -0.7844898993204068,
          -0.8200738867112358,
          1.2299606960656078,
          2.090198636473912,
          0.967590406410828,
          0.42781576469535565,
          0.3740083906457488,
          -1.203415752416856,
          0.19874074492299004,
          -1.0996349876019142,
          -0.5118885547212875,
          0.6089409203104832,
          -0.009986668270133012,
          -0.9843598032066695,
          -0.6971112927387455,
          -1.0518788938535228,
          -1.6926464990344885,
          1.895353289889859,
          2.635922114037947,
          1.0059778300139433,
          -0.9100671354086547,
          0.7188149666974778,
          -0.9501042669394972,
          2.1621864299965403,
          1.1420880278768886,
          0.9676235117810439,
          0.5345015806889609,
          -0.6101501196531989,
          0.23256458005975567,
          -0.30864952668522244,
          0.8230595122750528,
          0.0025476652548313684,
          1.0668879463043774,
          -0.19717897335767187,
          -0.15813795755946913,
          -0.6178985215289267,
          1.8057952496635845,
          1.0511933107617695,
          -0.5868718647057343,
          -0.5351892335864168,
          -0.027468015311200602,
          -0.9442877177439853,
          -0.8623770708257102,
          0.8948807217187174,
          -0.00948333496494119,
          -0.920057972150479,
          0.6478025520263664,
          0.45634160459747125,
          0.29947972220377245,
          -0.870490121032512,
          -0.9493757828636347,
          -1.6153530988647982,
          -0.9529103188037132,
          -1.2886840902918308,
          -1.261963285580088,
          -0.12188068264694774,
          0.26167595986569264
         ]
        },
        {
         "boxpoints": false,
         "line": {
          "width": 1.3
         },
         "marker": {
          "color": "rgba(55, 128, 191, 1.0)"
         },
         "name": "B",
         "orientation": "v",
         "type": "box",
         "y": [
          -0.8116091289192721,
          -0.19300472687253206,
          0.42051103925632977,
          0.25547064152430615,
          0.4461384861944884,
          0.2065840994216946,
          -0.0736093684561315,
          -0.03672123413058332,
          0.6801523071485202,
          1.4418046168788465,
          -0.5726562777833677,
          0.9307098475989224,
          -0.5706293447478381,
          0.4453994634128244,
          1.4143311666416154,
          -1.108813199803975,
          -0.3125435764127994,
          1.3618244709601963,
          -0.06427906272026955,
          -0.9229893610662293,
          0.3065059408237643,
          -0.17342759515419126,
          0.8429059478472343,
          -1.5805981154008981,
          -2.0267251132949027,
          -0.8286681556363882,
          1.0616325449191493,
          -0.3631590237640123,
          0.3245491815023166,
          -0.12049652048231733,
          -1.7794008323816055,
          0.9771420985889142,
          0.6937004427893335,
          -0.057223441643777455,
          0.6845095121304248,
          -0.32589236102397623,
          0.29680436698785867,
          -1.5057853650832715,
          1.7496853226925513,
          1.6753176110932382,
          -0.30540371699704194,
          0.03962473472743301,
          1.5236297895868112,
          0.5511026209571313,
          1.6053502011125302,
          -0.9477947708757761,
          0.5084280387681843,
          1.0536007000338874,
          -0.20842639751067635,
          -1.2601656190124837,
          0.1042762843423615,
          -0.5724041204261644,
          -0.05409712730683168,
          1.2766275991015201,
          0.4813853754972735,
          -1.289064510835033,
          -1.6294448766424343,
          -0.2617693791137971,
          0.48254519819781516,
          3.1344856939051433,
          -0.5981856159842609,
          -0.7905026818503782,
          -0.41390096879915417,
          1.211655923059735,
          0.486900856960665,
          -0.21735166935475592,
          -0.6446942837755238,
          1.4840688604700185,
          0.21152002576581685,
          0.07407353417275789,
          -0.6130890236210245,
          0.5252383330404052,
          0.6712851140907574,
          0.9618939225720989,
          -2.447934537947344,
          0.21001235145459388,
          -0.017514426974441534,
          -0.3294942746261193,
          -1.956893644342049,
          1.3147434662972208,
          -2.236901795464519,
          -1.355670681639342,
          0.3332941119737317,
          -1.0451492156076625,
          0.3752925071061327,
          -1.668849441699103,
          -0.12344250483081605,
          -0.23264926766422644,
          0.7332647602341967,
          -0.9971293585380604,
          -0.7676066266105527,
          0.7001651960379345,
          -0.7022586069809715,
          -0.05891946102224388,
          0.6873881326933733,
          0.8906297185004478,
          0.9638085612837739,
          0.0579173716477777,
          0.33464594904890277,
          2.533769548275823
         ]
        },
        {
         "boxpoints": false,
         "line": {
          "width": 1.3
         },
         "marker": {
          "color": "rgba(50, 171, 96, 1.0)"
         },
         "name": "C",
         "orientation": "v",
         "type": "box",
         "y": [
          1.3758302992402178,
          -0.5464235662369491,
          -1.0640122214796286,
          -2.3235399586051115,
          1.705191233613601,
          0.15125109594869915,
          -0.40548547228741083,
          -0.0167560371007023,
          1.3587843530757622,
          -0.5766798451146129,
          -2.460334659632868,
          -0.3205290709209248,
          -0.8201666883711857,
          0.1064598866020623,
          -0.17041287367257293,
          -0.2311037596628485,
          -2.177420275043031,
          0.16668176130188805,
          0.34883146503107937,
          -1.7113813526608828,
          1.217284105143848,
          2.10800027640411,
          0.6809500093258382,
          -0.41159406356671013,
          2.2221962659871535,
          -0.7159976989307345,
          0.048997093626884355,
          0.6519528020393337,
          -0.5804849016231878,
          0.16614624828097674,
          0.7778579586839508,
          -0.8613245245389931,
          0.14083872520776508,
          0.9223998120756294,
          -0.06587739303141103,
          -0.9090378151557447,
          0.774219386130262,
          0.47370109742745475,
          -0.12521703594648026,
          -0.23168290675497608,
          1.4258995895851792,
          -0.4294984669578919,
          1.0843443672963928,
          -0.13009791360636638,
          -0.42327814337865,
          0.16600732276789706,
          -0.20525629523490763,
          0.294922445974942,
          0.24087444752324202,
          -0.7351121378484805,
          -1.6246752176833337,
          -0.24007809292079899,
          -1.4111550692195103,
          0.5907756638895278,
          0.32809777470257495,
          -1.2664456815631007,
          0.8389108671207739,
          0.9363619458933723,
          0.8030213932482793,
          -0.4776438326616866,
          -0.5306839796905211,
          0.5553959664002395,
          0.7656975219663584,
          0.0668227947356117,
          2.099267733728491,
          -0.6945638667116145,
          0.32961745336651654,
          -0.008564479964125252,
          0.15049802856733616,
          -0.8898511162605245,
          -1.023329049646791,
          -1.184275803186526,
          -1.0695886040306473,
          0.20404943415961055,
          1.330736398693659,
          0.5148171410318096,
          -0.39259662565338455,
          -0.31550600968650433,
          0.07647989368502664,
          -0.9556525207968132,
          0.1165358940487146,
          0.7522440580315846,
          -0.22467952311957368,
          1.2445827825580795,
          0.5541624064844864,
          -0.09767564483997998,
          -0.11695965405042542,
          0.05173213311650182,
          1.9842860589096416,
          0.8078033348332877,
          0.8801738916013921,
          -0.13224414484129846,
          0.24680444139114524,
          -0.07375280951611769,
          -0.3033857245159235,
          -1.0159151579511456,
          -0.5884011016913935,
          -1.7036795116266445,
          -0.05047605674856232,
          0.1478607589113499
         ]
        },
        {
         "boxpoints": false,
         "line": {
          "width": 1.3
         },
         "marker": {
          "color": "rgba(128, 0, 128, 1.0)"
         },
         "name": "D",
         "orientation": "v",
         "type": "box",
         "y": [
          -1.0143933734860284,
          -1.4585615483381547,
          2.5042418166241123,
          0.22958329208920597,
          -1.2968182950417078,
          -1.842213511320529,
          0.7639205674867398,
          0.06053809612596073,
          2.5941505660260926,
          -0.8429827527500406,
          0.3973965789654359,
          0.09225800988858295,
          0.4269893302473284,
          1.108713315005888,
          -0.2530108686558408,
          -0.2999208417090409,
          0.14045582673829862,
          2.1396253026026537,
          -0.6958020412742936,
          -1.1259270133228458,
          -0.12886762663737372,
          0.8336402823748976,
          -0.13096602161079288,
          -0.48434800066659983,
          -0.0070358933059479845,
          -1.7750610941423006,
          0.06311518472235952,
          0.44658968796806936,
          -0.41769847374378377,
          -1.3403956422413086,
          -0.9980030917351069,
          -0.7982972253158505,
          -1.3392395746219201,
          -0.29169574322894926,
          0.48287938375444306,
          -1.0752428372576626,
          -0.6719660489480964,
          -0.40267014284671204,
          0.34734401119694414,
          0.06630804067063657,
          1.010471540772577,
          2.8950897353704375,
          0.6608579983222802,
          0.6580541199106333,
          0.6361440808809069,
          -0.22905540631547425,
          -0.12169678005070042,
          0.6498261817504866,
          -0.8104196068358291,
          0.017637214546473497,
          1.341175128422489,
          -0.8802200970993431,
          0.6903647330522659,
          -1.3144504854799137,
          -0.14819797894425038,
          -1.223879648318199,
          -0.07721573448432213,
          -0.6303295595691613,
          -0.40748399859390577,
          0.3137978772217722,
          0.69348573575986,
          -0.34416383543673035,
          0.7948330868467856,
          1.0096147198834076,
          -0.9886265401414713,
          -1.2467584149031865,
          -1.714615514253578,
          0.8429139838231307,
          0.6855771071604896,
          -0.4126373823956263,
          -0.13912752323867758,
          0.09885142627724702,
          -0.8396779091615867,
          0.9642286904423265,
          0.34257450032840686,
          -1.5035445944498151,
          1.0257131646628648,
          1.6150809473465009,
          1.1137797603596864,
          -0.1239197069030021,
          -0.32171756867045126,
          -0.024032050658397468,
          0.0695408017415043,
          -0.5268975472748754,
          1.4768694986450592,
          0.5164815923489074,
          0.3325474091771087,
          0.42262221704453584,
          0.4268123115793359,
          -0.8050931506718854,
          0.1057605925152173,
          0.27204207221887794,
          -0.20135963811731583,
          0.1977090689198459,
          1.2134706704463551,
          2.435355605114732,
          -1.3080518188274746,
          -0.2407936442765178,
          -0.593345404037883,
          0.6339001458119796
         ]
        }
       ],
       "layout": {
        "legend": {
         "bgcolor": "#F5F6F9",
         "font": {
          "color": "#4D5663"
         }
        },
        "paper_bgcolor": "#F5F6F9",
        "plot_bgcolor": "#F5F6F9",
        "template": {
         "data": {
          "bar": [
           {
            "error_x": {
             "color": "#2a3f5f"
            },
            "error_y": {
             "color": "#2a3f5f"
            },
            "marker": {
             "line": {
              "color": "#E5ECF6",
              "width": 0.5
             }
            },
            "type": "bar"
           }
          ],
          "barpolar": [
           {
            "marker": {
             "line": {
              "color": "#E5ECF6",
              "width": 0.5
             }
            },
            "type": "barpolar"
           }
          ],
          "carpet": [
           {
            "aaxis": {
             "endlinecolor": "#2a3f5f",
             "gridcolor": "white",
             "linecolor": "white",
             "minorgridcolor": "white",
             "startlinecolor": "#2a3f5f"
            },
            "baxis": {
             "endlinecolor": "#2a3f5f",
             "gridcolor": "white",
             "linecolor": "white",
             "minorgridcolor": "white",
             "startlinecolor": "#2a3f5f"
            },
            "type": "carpet"
           }
          ],
          "choropleth": [
           {
            "colorbar": {
             "outlinewidth": 0,
             "ticks": ""
            },
            "type": "choropleth"
           }
          ],
          "contour": [
           {
            "colorbar": {
             "outlinewidth": 0,
             "ticks": ""
            },
            "colorscale": [
             [
              0,
              "#0d0887"
             ],
             [
              0.1111111111111111,
              "#46039f"
             ],
             [
              0.2222222222222222,
              "#7201a8"
             ],
             [
              0.3333333333333333,
              "#9c179e"
             ],
             [
              0.4444444444444444,
              "#bd3786"
             ],
             [
              0.5555555555555556,
              "#d8576b"
             ],
             [
              0.6666666666666666,
              "#ed7953"
             ],
             [
              0.7777777777777778,
              "#fb9f3a"
             ],
             [
              0.8888888888888888,
              "#fdca26"
             ],
             [
              1,
              "#f0f921"
             ]
            ],
            "type": "contour"
           }
          ],
          "contourcarpet": [
           {
            "colorbar": {
             "outlinewidth": 0,
             "ticks": ""
            },
            "type": "contourcarpet"
           }
          ],
          "heatmap": [
           {
            "colorbar": {
             "outlinewidth": 0,
             "ticks": ""
            },
            "colorscale": [
             [
              0,
              "#0d0887"
             ],
             [
              0.1111111111111111,
              "#46039f"
             ],
             [
              0.2222222222222222,
              "#7201a8"
             ],
             [
              0.3333333333333333,
              "#9c179e"
             ],
             [
              0.4444444444444444,
              "#bd3786"
             ],
             [
              0.5555555555555556,
              "#d8576b"
             ],
             [
              0.6666666666666666,
              "#ed7953"
             ],
             [
              0.7777777777777778,
              "#fb9f3a"
             ],
             [
              0.8888888888888888,
              "#fdca26"
             ],
             [
              1,
              "#f0f921"
             ]
            ],
            "type": "heatmap"
           }
          ],
          "heatmapgl": [
           {
            "colorbar": {
             "outlinewidth": 0,
             "ticks": ""
            },
            "colorscale": [
             [
              0,
              "#0d0887"
             ],
             [
              0.1111111111111111,
              "#46039f"
             ],
             [
              0.2222222222222222,
              "#7201a8"
             ],
             [
              0.3333333333333333,
              "#9c179e"
             ],
             [
              0.4444444444444444,
              "#bd3786"
             ],
             [
              0.5555555555555556,
              "#d8576b"
             ],
             [
              0.6666666666666666,
              "#ed7953"
             ],
             [
              0.7777777777777778,
              "#fb9f3a"
             ],
             [
              0.8888888888888888,
              "#fdca26"
             ],
             [
              1,
              "#f0f921"
             ]
            ],
            "type": "heatmapgl"
           }
          ],
          "histogram": [
           {
            "marker": {
             "colorbar": {
              "outlinewidth": 0,
              "ticks": ""
             }
            },
            "type": "histogram"
           }
          ],
          "histogram2d": [
           {
            "colorbar": {
             "outlinewidth": 0,
             "ticks": ""
            },
            "colorscale": [
             [
              0,
              "#0d0887"
             ],
             [
              0.1111111111111111,
              "#46039f"
             ],
             [
              0.2222222222222222,
              "#7201a8"
             ],
             [
              0.3333333333333333,
              "#9c179e"
             ],
             [
              0.4444444444444444,
              "#bd3786"
             ],
             [
              0.5555555555555556,
              "#d8576b"
             ],
             [
              0.6666666666666666,
              "#ed7953"
             ],
             [
              0.7777777777777778,
              "#fb9f3a"
             ],
             [
              0.8888888888888888,
              "#fdca26"
             ],
             [
              1,
              "#f0f921"
             ]
            ],
            "type": "histogram2d"
           }
          ],
          "histogram2dcontour": [
           {
            "colorbar": {
             "outlinewidth": 0,
             "ticks": ""
            },
            "colorscale": [
             [
              0,
              "#0d0887"
             ],
             [
              0.1111111111111111,
              "#46039f"
             ],
             [
              0.2222222222222222,
              "#7201a8"
             ],
             [
              0.3333333333333333,
              "#9c179e"
             ],
             [
              0.4444444444444444,
              "#bd3786"
             ],
             [
              0.5555555555555556,
              "#d8576b"
             ],
             [
              0.6666666666666666,
              "#ed7953"
             ],
             [
              0.7777777777777778,
              "#fb9f3a"
             ],
             [
              0.8888888888888888,
              "#fdca26"
             ],
             [
              1,
              "#f0f921"
             ]
            ],
            "type": "histogram2dcontour"
           }
          ],
          "mesh3d": [
           {
            "colorbar": {
             "outlinewidth": 0,
             "ticks": ""
            },
            "type": "mesh3d"
           }
          ],
          "parcoords": [
           {
            "line": {
             "colorbar": {
              "outlinewidth": 0,
              "ticks": ""
             }
            },
            "type": "parcoords"
           }
          ],
          "pie": [
           {
            "automargin": true,
            "type": "pie"
           }
          ],
          "scatter": [
           {
            "marker": {
             "colorbar": {
              "outlinewidth": 0,
              "ticks": ""
             }
            },
            "type": "scatter"
           }
          ],
          "scatter3d": [
           {
            "line": {
             "colorbar": {
              "outlinewidth": 0,
              "ticks": ""
             }
            },
            "marker": {
             "colorbar": {
              "outlinewidth": 0,
              "ticks": ""
             }
            },
            "type": "scatter3d"
           }
          ],
          "scattercarpet": [
           {
            "marker": {
             "colorbar": {
              "outlinewidth": 0,
              "ticks": ""
             }
            },
            "type": "scattercarpet"
           }
          ],
          "scattergeo": [
           {
            "marker": {
             "colorbar": {
              "outlinewidth": 0,
              "ticks": ""
             }
            },
            "type": "scattergeo"
           }
          ],
          "scattergl": [
           {
            "marker": {
             "colorbar": {
              "outlinewidth": 0,
              "ticks": ""
             }
            },
            "type": "scattergl"
           }
          ],
          "scattermapbox": [
           {
            "marker": {
             "colorbar": {
              "outlinewidth": 0,
              "ticks": ""
             }
            },
            "type": "scattermapbox"
           }
          ],
          "scatterpolar": [
           {
            "marker": {
             "colorbar": {
              "outlinewidth": 0,
              "ticks": ""
             }
            },
            "type": "scatterpolar"
           }
          ],
          "scatterpolargl": [
           {
            "marker": {
             "colorbar": {
              "outlinewidth": 0,
              "ticks": ""
             }
            },
            "type": "scatterpolargl"
           }
          ],
          "scatterternary": [
           {
            "marker": {
             "colorbar": {
              "outlinewidth": 0,
              "ticks": ""
             }
            },
            "type": "scatterternary"
           }
          ],
          "surface": [
           {
            "colorbar": {
             "outlinewidth": 0,
             "ticks": ""
            },
            "colorscale": [
             [
              0,
              "#0d0887"
             ],
             [
              0.1111111111111111,
              "#46039f"
             ],
             [
              0.2222222222222222,
              "#7201a8"
             ],
             [
              0.3333333333333333,
              "#9c179e"
             ],
             [
              0.4444444444444444,
              "#bd3786"
             ],
             [
              0.5555555555555556,
              "#d8576b"
             ],
             [
              0.6666666666666666,
              "#ed7953"
             ],
             [
              0.7777777777777778,
              "#fb9f3a"
             ],
             [
              0.8888888888888888,
              "#fdca26"
             ],
             [
              1,
              "#f0f921"
             ]
            ],
            "type": "surface"
           }
          ],
          "table": [
           {
            "cells": {
             "fill": {
              "color": "#EBF0F8"
             },
             "line": {
              "color": "white"
             }
            },
            "header": {
             "fill": {
              "color": "#C8D4E3"
             },
             "line": {
              "color": "white"
             }
            },
            "type": "table"
           }
          ]
         },
         "layout": {
          "annotationdefaults": {
           "arrowcolor": "#2a3f5f",
           "arrowhead": 0,
           "arrowwidth": 1
          },
          "coloraxis": {
           "colorbar": {
            "outlinewidth": 0,
            "ticks": ""
           }
          },
          "colorscale": {
           "diverging": [
            [
             0,
             "#8e0152"
            ],
            [
             0.1,
             "#c51b7d"
            ],
            [
             0.2,
             "#de77ae"
            ],
            [
             0.3,
             "#f1b6da"
            ],
            [
             0.4,
             "#fde0ef"
            ],
            [
             0.5,
             "#f7f7f7"
            ],
            [
             0.6,
             "#e6f5d0"
            ],
            [
             0.7,
             "#b8e186"
            ],
            [
             0.8,
             "#7fbc41"
            ],
            [
             0.9,
             "#4d9221"
            ],
            [
             1,
             "#276419"
            ]
           ],
           "sequential": [
            [
             0,
             "#0d0887"
            ],
            [
             0.1111111111111111,
             "#46039f"
            ],
            [
             0.2222222222222222,
             "#7201a8"
            ],
            [
             0.3333333333333333,
             "#9c179e"
            ],
            [
             0.4444444444444444,
             "#bd3786"
            ],
            [
             0.5555555555555556,
             "#d8576b"
            ],
            [
             0.6666666666666666,
             "#ed7953"
            ],
            [
             0.7777777777777778,
             "#fb9f3a"
            ],
            [
             0.8888888888888888,
             "#fdca26"
            ],
            [
             1,
             "#f0f921"
            ]
           ],
           "sequentialminus": [
            [
             0,
             "#0d0887"
            ],
            [
             0.1111111111111111,
             "#46039f"
            ],
            [
             0.2222222222222222,
             "#7201a8"
            ],
            [
             0.3333333333333333,
             "#9c179e"
            ],
            [
             0.4444444444444444,
             "#bd3786"
            ],
            [
             0.5555555555555556,
             "#d8576b"
            ],
            [
             0.6666666666666666,
             "#ed7953"
            ],
            [
             0.7777777777777778,
             "#fb9f3a"
            ],
            [
             0.8888888888888888,
             "#fdca26"
            ],
            [
             1,
             "#f0f921"
            ]
           ]
          },
          "colorway": [
           "#636efa",
           "#EF553B",
           "#00cc96",
           "#ab63fa",
           "#FFA15A",
           "#19d3f3",
           "#FF6692",
           "#B6E880",
           "#FF97FF",
           "#FECB52"
          ],
          "font": {
           "color": "#2a3f5f"
          },
          "geo": {
           "bgcolor": "white",
           "lakecolor": "white",
           "landcolor": "#E5ECF6",
           "showlakes": true,
           "showland": true,
           "subunitcolor": "white"
          },
          "hoverlabel": {
           "align": "left"
          },
          "hovermode": "closest",
          "mapbox": {
           "style": "light"
          },
          "paper_bgcolor": "white",
          "plot_bgcolor": "#E5ECF6",
          "polar": {
           "angularaxis": {
            "gridcolor": "white",
            "linecolor": "white",
            "ticks": ""
           },
           "bgcolor": "#E5ECF6",
           "radialaxis": {
            "gridcolor": "white",
            "linecolor": "white",
            "ticks": ""
           }
          },
          "scene": {
           "xaxis": {
            "backgroundcolor": "#E5ECF6",
            "gridcolor": "white",
            "gridwidth": 2,
            "linecolor": "white",
            "showbackground": true,
            "ticks": "",
            "zerolinecolor": "white"
           },
           "yaxis": {
            "backgroundcolor": "#E5ECF6",
            "gridcolor": "white",
            "gridwidth": 2,
            "linecolor": "white",
            "showbackground": true,
            "ticks": "",
            "zerolinecolor": "white"
           },
           "zaxis": {
            "backgroundcolor": "#E5ECF6",
            "gridcolor": "white",
            "gridwidth": 2,
            "linecolor": "white",
            "showbackground": true,
            "ticks": "",
            "zerolinecolor": "white"
           }
          },
          "shapedefaults": {
           "line": {
            "color": "#2a3f5f"
           }
          },
          "ternary": {
           "aaxis": {
            "gridcolor": "white",
            "linecolor": "white",
            "ticks": ""
           },
           "baxis": {
            "gridcolor": "white",
            "linecolor": "white",
            "ticks": ""
           },
           "bgcolor": "#E5ECF6",
           "caxis": {
            "gridcolor": "white",
            "linecolor": "white",
            "ticks": ""
           }
          },
          "title": {
           "x": 0.05
          },
          "xaxis": {
           "automargin": true,
           "gridcolor": "white",
           "linecolor": "white",
           "ticks": "",
           "title": {
            "standoff": 15
           },
           "zerolinecolor": "white",
           "zerolinewidth": 2
          },
          "yaxis": {
           "automargin": true,
           "gridcolor": "white",
           "linecolor": "white",
           "ticks": "",
           "title": {
            "standoff": 15
           },
           "zerolinecolor": "white",
           "zerolinewidth": 2
          }
         }
        },
        "title": {
         "font": {
          "color": "#4D5663"
         }
        },
        "xaxis": {
         "gridcolor": "#E1E5ED",
         "showgrid": true,
         "tickfont": {
          "color": "#4D5663"
         },
         "title": {
          "font": {
           "color": "#4D5663"
          },
          "text": ""
         },
         "zerolinecolor": "#E1E5ED"
        },
        "yaxis": {
         "gridcolor": "#E1E5ED",
         "showgrid": true,
         "tickfont": {
          "color": "#4D5663"
         },
         "title": {
          "font": {
           "color": "#4D5663"
          },
          "text": ""
         },
         "zerolinecolor": "#E1E5ED"
        }
       }
      },
      "text/html": [
       "<div>\n",
       "        \n",
       "        \n",
       "            <div id=\"90bacb62-b3df-4d58-a7c4-cca2a98df280\" class=\"plotly-graph-div\" style=\"height:525px; width:100%;\"></div>\n",
       "            <script type=\"text/javascript\">\n",
       "                require([\"plotly\"], function(Plotly) {\n",
       "                    window.PLOTLYENV=window.PLOTLYENV || {};\n",
       "                    window.PLOTLYENV.BASE_URL='https://plot.ly';\n",
       "                    \n",
       "                if (document.getElementById(\"90bacb62-b3df-4d58-a7c4-cca2a98df280\")) {\n",
       "                    Plotly.newPlot(\n",
       "                        '90bacb62-b3df-4d58-a7c4-cca2a98df280',\n",
       "                        [{\"boxpoints\": false, \"line\": {\"width\": 1.3}, \"marker\": {\"color\": \"rgba(255, 153, 51, 1.0)\"}, \"name\": \"A\", \"orientation\": \"v\", \"type\": \"box\", \"y\": [0.09109850481918408, -1.1215293214001596, -0.8472103787075184, 0.047579463925629756, -0.2465006929122032, 0.355941870570774, -0.10096950094440324, -0.9072730752429058, -0.9518980001271358, 2.14097321822886, 2.1231768307689967, 0.6958977551843699, -1.583248837107644, 1.7142265839072959, -0.06646503235312974, -1.5315586252424356, 1.4934969578297246, -0.3671124610810568, -0.6464912890042264, 0.7577407259047961, -1.7888731022404905, -0.836344304627946, 2.428995088322346, 1.3927544538222227, 0.9186261627971786, 1.3069317194442132, -1.0793521680617035, 2.0008609111050646, 1.6512094667325325, 0.808956552274321, 0.7161520296684218, 0.4174688388945817, -2.055553429227154, -0.10478473559018199, -1.8414704504739363, -1.9037587104776745, -0.24550426677305848, -0.9344856372315049, 0.08519000805272456, 0.7909917218595681, 1.2112598406713257, 0.8780853775627289, 1.6391927026157413, -0.7844898993204068, -0.8200738867112358, 1.2299606960656078, 2.090198636473912, 0.967590406410828, 0.42781576469535565, 0.3740083906457488, -1.203415752416856, 0.19874074492299004, -1.0996349876019142, -0.5118885547212875, 0.6089409203104832, -0.009986668270133012, -0.9843598032066695, -0.6971112927387455, -1.0518788938535228, -1.6926464990344885, 1.895353289889859, 2.635922114037947, 1.0059778300139433, -0.9100671354086547, 0.7188149666974778, -0.9501042669394972, 2.1621864299965403, 1.1420880278768886, 0.9676235117810439, 0.5345015806889609, -0.6101501196531989, 0.23256458005975567, -0.30864952668522244, 0.8230595122750528, 0.0025476652548313684, 1.0668879463043774, -0.19717897335767187, -0.15813795755946913, -0.6178985215289267, 1.8057952496635845, 1.0511933107617695, -0.5868718647057343, -0.5351892335864168, -0.027468015311200602, -0.9442877177439853, -0.8623770708257102, 0.8948807217187174, -0.00948333496494119, -0.920057972150479, 0.6478025520263664, 0.45634160459747125, 0.29947972220377245, -0.870490121032512, -0.9493757828636347, -1.6153530988647982, -0.9529103188037132, -1.2886840902918308, -1.261963285580088, -0.12188068264694774, 0.26167595986569264]}, {\"boxpoints\": false, \"line\": {\"width\": 1.3}, \"marker\": {\"color\": \"rgba(55, 128, 191, 1.0)\"}, \"name\": \"B\", \"orientation\": \"v\", \"type\": \"box\", \"y\": [-0.8116091289192721, -0.19300472687253206, 0.42051103925632977, 0.25547064152430615, 0.4461384861944884, 0.2065840994216946, -0.0736093684561315, -0.03672123413058332, 0.6801523071485202, 1.4418046168788465, -0.5726562777833677, 0.9307098475989224, -0.5706293447478381, 0.4453994634128244, 1.4143311666416154, -1.108813199803975, -0.3125435764127994, 1.3618244709601963, -0.06427906272026955, -0.9229893610662293, 0.3065059408237643, -0.17342759515419126, 0.8429059478472343, -1.5805981154008981, -2.0267251132949027, -0.8286681556363882, 1.0616325449191493, -0.3631590237640123, 0.3245491815023166, -0.12049652048231733, -1.7794008323816055, 0.9771420985889142, 0.6937004427893335, -0.057223441643777455, 0.6845095121304248, -0.32589236102397623, 0.29680436698785867, -1.5057853650832715, 1.7496853226925513, 1.6753176110932382, -0.30540371699704194, 0.03962473472743301, 1.5236297895868112, 0.5511026209571313, 1.6053502011125302, -0.9477947708757761, 0.5084280387681843, 1.0536007000338874, -0.20842639751067635, -1.2601656190124837, 0.1042762843423615, -0.5724041204261644, -0.05409712730683168, 1.2766275991015201, 0.4813853754972735, -1.289064510835033, -1.6294448766424343, -0.2617693791137971, 0.48254519819781516, 3.1344856939051433, -0.5981856159842609, -0.7905026818503782, -0.41390096879915417, 1.211655923059735, 0.486900856960665, -0.21735166935475592, -0.6446942837755238, 1.4840688604700185, 0.21152002576581685, 0.07407353417275789, -0.6130890236210245, 0.5252383330404052, 0.6712851140907574, 0.9618939225720989, -2.447934537947344, 0.21001235145459388, -0.017514426974441534, -0.3294942746261193, -1.956893644342049, 1.3147434662972208, -2.236901795464519, -1.355670681639342, 0.3332941119737317, -1.0451492156076625, 0.3752925071061327, -1.668849441699103, -0.12344250483081605, -0.23264926766422644, 0.7332647602341967, -0.9971293585380604, -0.7676066266105527, 0.7001651960379345, -0.7022586069809715, -0.05891946102224388, 0.6873881326933733, 0.8906297185004478, 0.9638085612837739, 0.0579173716477777, 0.33464594904890277, 2.533769548275823]}, {\"boxpoints\": false, \"line\": {\"width\": 1.3}, \"marker\": {\"color\": \"rgba(50, 171, 96, 1.0)\"}, \"name\": \"C\", \"orientation\": \"v\", \"type\": \"box\", \"y\": [1.3758302992402178, -0.5464235662369491, -1.0640122214796286, -2.3235399586051115, 1.705191233613601, 0.15125109594869915, -0.40548547228741083, -0.0167560371007023, 1.3587843530757622, -0.5766798451146129, -2.460334659632868, -0.3205290709209248, -0.8201666883711857, 0.1064598866020623, -0.17041287367257293, -0.2311037596628485, -2.177420275043031, 0.16668176130188805, 0.34883146503107937, -1.7113813526608828, 1.217284105143848, 2.10800027640411, 0.6809500093258382, -0.41159406356671013, 2.2221962659871535, -0.7159976989307345, 0.048997093626884355, 0.6519528020393337, -0.5804849016231878, 0.16614624828097674, 0.7778579586839508, -0.8613245245389931, 0.14083872520776508, 0.9223998120756294, -0.06587739303141103, -0.9090378151557447, 0.774219386130262, 0.47370109742745475, -0.12521703594648026, -0.23168290675497608, 1.4258995895851792, -0.4294984669578919, 1.0843443672963928, -0.13009791360636638, -0.42327814337865, 0.16600732276789706, -0.20525629523490763, 0.294922445974942, 0.24087444752324202, -0.7351121378484805, -1.6246752176833337, -0.24007809292079899, -1.4111550692195103, 0.5907756638895278, 0.32809777470257495, -1.2664456815631007, 0.8389108671207739, 0.9363619458933723, 0.8030213932482793, -0.4776438326616866, -0.5306839796905211, 0.5553959664002395, 0.7656975219663584, 0.0668227947356117, 2.099267733728491, -0.6945638667116145, 0.32961745336651654, -0.008564479964125252, 0.15049802856733616, -0.8898511162605245, -1.023329049646791, -1.184275803186526, -1.0695886040306473, 0.20404943415961055, 1.330736398693659, 0.5148171410318096, -0.39259662565338455, -0.31550600968650433, 0.07647989368502664, -0.9556525207968132, 0.1165358940487146, 0.7522440580315846, -0.22467952311957368, 1.2445827825580795, 0.5541624064844864, -0.09767564483997998, -0.11695965405042542, 0.05173213311650182, 1.9842860589096416, 0.8078033348332877, 0.8801738916013921, -0.13224414484129846, 0.24680444139114524, -0.07375280951611769, -0.3033857245159235, -1.0159151579511456, -0.5884011016913935, -1.7036795116266445, -0.05047605674856232, 0.1478607589113499]}, {\"boxpoints\": false, \"line\": {\"width\": 1.3}, \"marker\": {\"color\": \"rgba(128, 0, 128, 1.0)\"}, \"name\": \"D\", \"orientation\": \"v\", \"type\": \"box\", \"y\": [-1.0143933734860284, -1.4585615483381547, 2.5042418166241123, 0.22958329208920597, -1.2968182950417078, -1.842213511320529, 0.7639205674867398, 0.06053809612596073, 2.5941505660260926, -0.8429827527500406, 0.3973965789654359, 0.09225800988858295, 0.4269893302473284, 1.108713315005888, -0.2530108686558408, -0.2999208417090409, 0.14045582673829862, 2.1396253026026537, -0.6958020412742936, -1.1259270133228458, -0.12886762663737372, 0.8336402823748976, -0.13096602161079288, -0.48434800066659983, -0.0070358933059479845, -1.7750610941423006, 0.06311518472235952, 0.44658968796806936, -0.41769847374378377, -1.3403956422413086, -0.9980030917351069, -0.7982972253158505, -1.3392395746219201, -0.29169574322894926, 0.48287938375444306, -1.0752428372576626, -0.6719660489480964, -0.40267014284671204, 0.34734401119694414, 0.06630804067063657, 1.010471540772577, 2.8950897353704375, 0.6608579983222802, 0.6580541199106333, 0.6361440808809069, -0.22905540631547425, -0.12169678005070042, 0.6498261817504866, -0.8104196068358291, 0.017637214546473497, 1.341175128422489, -0.8802200970993431, 0.6903647330522659, -1.3144504854799137, -0.14819797894425038, -1.223879648318199, -0.07721573448432213, -0.6303295595691613, -0.40748399859390577, 0.3137978772217722, 0.69348573575986, -0.34416383543673035, 0.7948330868467856, 1.0096147198834076, -0.9886265401414713, -1.2467584149031865, -1.714615514253578, 0.8429139838231307, 0.6855771071604896, -0.4126373823956263, -0.13912752323867758, 0.09885142627724702, -0.8396779091615867, 0.9642286904423265, 0.34257450032840686, -1.5035445944498151, 1.0257131646628648, 1.6150809473465009, 1.1137797603596864, -0.1239197069030021, -0.32171756867045126, -0.024032050658397468, 0.0695408017415043, -0.5268975472748754, 1.4768694986450592, 0.5164815923489074, 0.3325474091771087, 0.42262221704453584, 0.4268123115793359, -0.8050931506718854, 0.1057605925152173, 0.27204207221887794, -0.20135963811731583, 0.1977090689198459, 1.2134706704463551, 2.435355605114732, -1.3080518188274746, -0.2407936442765178, -0.593345404037883, 0.6339001458119796]}],\n",
       "                        {\"legend\": {\"bgcolor\": \"#F5F6F9\", \"font\": {\"color\": \"#4D5663\"}}, \"paper_bgcolor\": \"#F5F6F9\", \"plot_bgcolor\": \"#F5F6F9\", \"template\": {\"data\": {\"bar\": [{\"error_x\": {\"color\": \"#2a3f5f\"}, \"error_y\": {\"color\": \"#2a3f5f\"}, \"marker\": {\"line\": {\"color\": \"#E5ECF6\", \"width\": 0.5}}, \"type\": \"bar\"}], \"barpolar\": [{\"marker\": {\"line\": {\"color\": \"#E5ECF6\", \"width\": 0.5}}, \"type\": \"barpolar\"}], \"carpet\": [{\"aaxis\": {\"endlinecolor\": \"#2a3f5f\", \"gridcolor\": \"white\", \"linecolor\": \"white\", \"minorgridcolor\": \"white\", \"startlinecolor\": \"#2a3f5f\"}, \"baxis\": {\"endlinecolor\": \"#2a3f5f\", \"gridcolor\": \"white\", \"linecolor\": \"white\", \"minorgridcolor\": \"white\", \"startlinecolor\": \"#2a3f5f\"}, \"type\": \"carpet\"}], \"choropleth\": [{\"colorbar\": {\"outlinewidth\": 0, \"ticks\": \"\"}, \"type\": \"choropleth\"}], \"contour\": [{\"colorbar\": {\"outlinewidth\": 0, \"ticks\": \"\"}, \"colorscale\": [[0.0, \"#0d0887\"], [0.1111111111111111, \"#46039f\"], [0.2222222222222222, \"#7201a8\"], [0.3333333333333333, \"#9c179e\"], [0.4444444444444444, \"#bd3786\"], [0.5555555555555556, \"#d8576b\"], [0.6666666666666666, \"#ed7953\"], [0.7777777777777778, \"#fb9f3a\"], [0.8888888888888888, \"#fdca26\"], [1.0, \"#f0f921\"]], \"type\": \"contour\"}], \"contourcarpet\": [{\"colorbar\": {\"outlinewidth\": 0, \"ticks\": \"\"}, \"type\": \"contourcarpet\"}], \"heatmap\": [{\"colorbar\": {\"outlinewidth\": 0, \"ticks\": \"\"}, \"colorscale\": [[0.0, \"#0d0887\"], [0.1111111111111111, \"#46039f\"], [0.2222222222222222, \"#7201a8\"], [0.3333333333333333, \"#9c179e\"], [0.4444444444444444, \"#bd3786\"], [0.5555555555555556, \"#d8576b\"], [0.6666666666666666, \"#ed7953\"], [0.7777777777777778, \"#fb9f3a\"], [0.8888888888888888, \"#fdca26\"], [1.0, \"#f0f921\"]], \"type\": \"heatmap\"}], \"heatmapgl\": [{\"colorbar\": {\"outlinewidth\": 0, \"ticks\": \"\"}, \"colorscale\": [[0.0, \"#0d0887\"], [0.1111111111111111, \"#46039f\"], [0.2222222222222222, \"#7201a8\"], [0.3333333333333333, \"#9c179e\"], [0.4444444444444444, \"#bd3786\"], [0.5555555555555556, \"#d8576b\"], [0.6666666666666666, \"#ed7953\"], [0.7777777777777778, \"#fb9f3a\"], [0.8888888888888888, \"#fdca26\"], [1.0, \"#f0f921\"]], \"type\": \"heatmapgl\"}], \"histogram\": [{\"marker\": {\"colorbar\": {\"outlinewidth\": 0, \"ticks\": \"\"}}, \"type\": \"histogram\"}], \"histogram2d\": [{\"colorbar\": {\"outlinewidth\": 0, \"ticks\": \"\"}, \"colorscale\": [[0.0, \"#0d0887\"], [0.1111111111111111, \"#46039f\"], [0.2222222222222222, \"#7201a8\"], [0.3333333333333333, \"#9c179e\"], [0.4444444444444444, \"#bd3786\"], [0.5555555555555556, \"#d8576b\"], [0.6666666666666666, \"#ed7953\"], [0.7777777777777778, \"#fb9f3a\"], [0.8888888888888888, \"#fdca26\"], [1.0, \"#f0f921\"]], \"type\": \"histogram2d\"}], \"histogram2dcontour\": [{\"colorbar\": {\"outlinewidth\": 0, \"ticks\": \"\"}, \"colorscale\": [[0.0, \"#0d0887\"], [0.1111111111111111, \"#46039f\"], [0.2222222222222222, \"#7201a8\"], [0.3333333333333333, \"#9c179e\"], [0.4444444444444444, \"#bd3786\"], [0.5555555555555556, \"#d8576b\"], [0.6666666666666666, \"#ed7953\"], [0.7777777777777778, \"#fb9f3a\"], [0.8888888888888888, \"#fdca26\"], [1.0, \"#f0f921\"]], \"type\": \"histogram2dcontour\"}], \"mesh3d\": [{\"colorbar\": {\"outlinewidth\": 0, \"ticks\": \"\"}, \"type\": \"mesh3d\"}], \"parcoords\": [{\"line\": {\"colorbar\": {\"outlinewidth\": 0, \"ticks\": \"\"}}, \"type\": \"parcoords\"}], \"pie\": [{\"automargin\": true, \"type\": \"pie\"}], \"scatter\": [{\"marker\": {\"colorbar\": {\"outlinewidth\": 0, \"ticks\": \"\"}}, \"type\": \"scatter\"}], \"scatter3d\": [{\"line\": {\"colorbar\": {\"outlinewidth\": 0, \"ticks\": \"\"}}, \"marker\": {\"colorbar\": {\"outlinewidth\": 0, \"ticks\": \"\"}}, \"type\": \"scatter3d\"}], \"scattercarpet\": [{\"marker\": {\"colorbar\": {\"outlinewidth\": 0, \"ticks\": \"\"}}, \"type\": \"scattercarpet\"}], \"scattergeo\": [{\"marker\": {\"colorbar\": {\"outlinewidth\": 0, \"ticks\": \"\"}}, \"type\": \"scattergeo\"}], \"scattergl\": [{\"marker\": {\"colorbar\": {\"outlinewidth\": 0, \"ticks\": \"\"}}, \"type\": \"scattergl\"}], \"scattermapbox\": [{\"marker\": {\"colorbar\": {\"outlinewidth\": 0, \"ticks\": \"\"}}, \"type\": \"scattermapbox\"}], \"scatterpolar\": [{\"marker\": {\"colorbar\": {\"outlinewidth\": 0, \"ticks\": \"\"}}, \"type\": \"scatterpolar\"}], \"scatterpolargl\": [{\"marker\": {\"colorbar\": {\"outlinewidth\": 0, \"ticks\": \"\"}}, \"type\": \"scatterpolargl\"}], \"scatterternary\": [{\"marker\": {\"colorbar\": {\"outlinewidth\": 0, \"ticks\": \"\"}}, \"type\": \"scatterternary\"}], \"surface\": [{\"colorbar\": {\"outlinewidth\": 0, \"ticks\": \"\"}, \"colorscale\": [[0.0, \"#0d0887\"], [0.1111111111111111, \"#46039f\"], [0.2222222222222222, \"#7201a8\"], [0.3333333333333333, \"#9c179e\"], [0.4444444444444444, \"#bd3786\"], [0.5555555555555556, \"#d8576b\"], [0.6666666666666666, \"#ed7953\"], [0.7777777777777778, \"#fb9f3a\"], [0.8888888888888888, \"#fdca26\"], [1.0, \"#f0f921\"]], \"type\": \"surface\"}], \"table\": [{\"cells\": {\"fill\": {\"color\": \"#EBF0F8\"}, \"line\": {\"color\": \"white\"}}, \"header\": {\"fill\": {\"color\": \"#C8D4E3\"}, \"line\": {\"color\": \"white\"}}, \"type\": \"table\"}]}, \"layout\": {\"annotationdefaults\": {\"arrowcolor\": \"#2a3f5f\", \"arrowhead\": 0, \"arrowwidth\": 1}, \"coloraxis\": {\"colorbar\": {\"outlinewidth\": 0, \"ticks\": \"\"}}, \"colorscale\": {\"diverging\": [[0, \"#8e0152\"], [0.1, \"#c51b7d\"], [0.2, \"#de77ae\"], [0.3, \"#f1b6da\"], [0.4, \"#fde0ef\"], [0.5, \"#f7f7f7\"], [0.6, \"#e6f5d0\"], [0.7, \"#b8e186\"], [0.8, \"#7fbc41\"], [0.9, \"#4d9221\"], [1, \"#276419\"]], \"sequential\": [[0.0, \"#0d0887\"], [0.1111111111111111, \"#46039f\"], [0.2222222222222222, \"#7201a8\"], [0.3333333333333333, \"#9c179e\"], [0.4444444444444444, \"#bd3786\"], [0.5555555555555556, \"#d8576b\"], [0.6666666666666666, \"#ed7953\"], [0.7777777777777778, \"#fb9f3a\"], [0.8888888888888888, \"#fdca26\"], [1.0, \"#f0f921\"]], \"sequentialminus\": [[0.0, \"#0d0887\"], [0.1111111111111111, \"#46039f\"], [0.2222222222222222, \"#7201a8\"], [0.3333333333333333, \"#9c179e\"], [0.4444444444444444, \"#bd3786\"], [0.5555555555555556, \"#d8576b\"], [0.6666666666666666, \"#ed7953\"], [0.7777777777777778, \"#fb9f3a\"], [0.8888888888888888, \"#fdca26\"], [1.0, \"#f0f921\"]]}, \"colorway\": [\"#636efa\", \"#EF553B\", \"#00cc96\", \"#ab63fa\", \"#FFA15A\", \"#19d3f3\", \"#FF6692\", \"#B6E880\", \"#FF97FF\", \"#FECB52\"], \"font\": {\"color\": \"#2a3f5f\"}, \"geo\": {\"bgcolor\": \"white\", \"lakecolor\": \"white\", \"landcolor\": \"#E5ECF6\", \"showlakes\": true, \"showland\": true, \"subunitcolor\": \"white\"}, \"hoverlabel\": {\"align\": \"left\"}, \"hovermode\": \"closest\", \"mapbox\": {\"style\": \"light\"}, \"paper_bgcolor\": \"white\", \"plot_bgcolor\": \"#E5ECF6\", \"polar\": {\"angularaxis\": {\"gridcolor\": \"white\", \"linecolor\": \"white\", \"ticks\": \"\"}, \"bgcolor\": \"#E5ECF6\", \"radialaxis\": {\"gridcolor\": \"white\", \"linecolor\": \"white\", \"ticks\": \"\"}}, \"scene\": {\"xaxis\": {\"backgroundcolor\": \"#E5ECF6\", \"gridcolor\": \"white\", \"gridwidth\": 2, \"linecolor\": \"white\", \"showbackground\": true, \"ticks\": \"\", \"zerolinecolor\": \"white\"}, \"yaxis\": {\"backgroundcolor\": \"#E5ECF6\", \"gridcolor\": \"white\", \"gridwidth\": 2, \"linecolor\": \"white\", \"showbackground\": true, \"ticks\": \"\", \"zerolinecolor\": \"white\"}, \"zaxis\": {\"backgroundcolor\": \"#E5ECF6\", \"gridcolor\": \"white\", \"gridwidth\": 2, \"linecolor\": \"white\", \"showbackground\": true, \"ticks\": \"\", \"zerolinecolor\": \"white\"}}, \"shapedefaults\": {\"line\": {\"color\": \"#2a3f5f\"}}, \"ternary\": {\"aaxis\": {\"gridcolor\": \"white\", \"linecolor\": \"white\", \"ticks\": \"\"}, \"baxis\": {\"gridcolor\": \"white\", \"linecolor\": \"white\", \"ticks\": \"\"}, \"bgcolor\": \"#E5ECF6\", \"caxis\": {\"gridcolor\": \"white\", \"linecolor\": \"white\", \"ticks\": \"\"}}, \"title\": {\"x\": 0.05}, \"xaxis\": {\"automargin\": true, \"gridcolor\": \"white\", \"linecolor\": \"white\", \"ticks\": \"\", \"title\": {\"standoff\": 15}, \"zerolinecolor\": \"white\", \"zerolinewidth\": 2}, \"yaxis\": {\"automargin\": true, \"gridcolor\": \"white\", \"linecolor\": \"white\", \"ticks\": \"\", \"title\": {\"standoff\": 15}, \"zerolinecolor\": \"white\", \"zerolinewidth\": 2}}}, \"title\": {\"font\": {\"color\": \"#4D5663\"}}, \"xaxis\": {\"gridcolor\": \"#E1E5ED\", \"showgrid\": true, \"tickfont\": {\"color\": \"#4D5663\"}, \"title\": {\"font\": {\"color\": \"#4D5663\"}, \"text\": \"\"}, \"zerolinecolor\": \"#E1E5ED\"}, \"yaxis\": {\"gridcolor\": \"#E1E5ED\", \"showgrid\": true, \"tickfont\": {\"color\": \"#4D5663\"}, \"title\": {\"font\": {\"color\": \"#4D5663\"}, \"text\": \"\"}, \"zerolinecolor\": \"#E1E5ED\"}},\n",
       "                        {\"showLink\": true, \"linkText\": \"Export to plot.ly\", \"plotlyServerURL\": \"https://plot.ly\", \"responsive\": true}\n",
       "                    ).then(function(){\n",
       "                            \n",
       "var gd = document.getElementById('90bacb62-b3df-4d58-a7c4-cca2a98df280');\n",
       "var x = new MutationObserver(function (mutations, observer) {{\n",
       "        var display = window.getComputedStyle(gd).display;\n",
       "        if (!display || display === 'none') {{\n",
       "            console.log([gd, 'removed!']);\n",
       "            Plotly.purge(gd);\n",
       "            observer.disconnect();\n",
       "        }}\n",
       "}});\n",
       "\n",
       "// Listen for the removal of the full notebook cells\n",
       "var notebookContainer = gd.closest('#notebook-container');\n",
       "if (notebookContainer) {{\n",
       "    x.observe(notebookContainer, {childList: true});\n",
       "}}\n",
       "\n",
       "// Listen for the clearing of the current output cell\n",
       "var outputEl = gd.closest('.output');\n",
       "if (outputEl) {{\n",
       "    x.observe(outputEl, {childList: true});\n",
       "}}\n",
       "\n",
       "                        })\n",
       "                };\n",
       "                });\n",
       "            </script>\n",
       "        </div>"
      ]
     },
     "metadata": {},
     "output_type": "display_data"
    }
   ],
   "source": [
    "df.iplot(kind='box')"
   ]
  },
  {
   "cell_type": "markdown",
   "metadata": {},
   "source": [
    "## 3d Surface Plot"
   ]
  },
  {
   "cell_type": "code",
   "execution_count": 14,
   "metadata": {
    "scrolled": true
   },
   "outputs": [
    {
     "data": {
      "application/vnd.plotly.v1+json": {
       "config": {
        "linkText": "Export to plot.ly",
        "plotlyServerURL": "https://plot.ly",
        "showLink": true
       },
       "data": [
        {
         "colorscale": [
          [
           0,
           "rgb(165,0,38)"
          ],
          [
           0.1,
           "rgb(215,48,39)"
          ],
          [
           0.2,
           "rgb(244,109,67)"
          ],
          [
           0.3,
           "rgb(253,174,97)"
          ],
          [
           0.4,
           "rgb(254,224,144)"
          ],
          [
           0.5,
           "rgb(255,255,191)"
          ],
          [
           0.6,
           "rgb(224,243,248)"
          ],
          [
           0.7,
           "rgb(171,217,233)"
          ],
          [
           0.8,
           "rgb(116,173,209)"
          ],
          [
           0.9,
           "rgb(69,117,180)"
          ],
          [
           1,
           "rgb(49,54,149)"
          ]
         ],
         "type": "surface",
         "x": [
          0,
          1,
          2,
          3,
          4
         ],
         "y": [
          "x",
          "y",
          "z"
         ],
         "z": [
          [
           1,
           2,
           3,
           4,
           5
          ],
          [
           10,
           20,
           30,
           20,
           10
          ],
          [
           5,
           4,
           3,
           2,
           1
          ]
         ]
        }
       ],
       "layout": {
        "legend": {
         "bgcolor": "#F5F6F9",
         "font": {
          "color": "#4D5663"
         }
        },
        "paper_bgcolor": "#F5F6F9",
        "plot_bgcolor": "#F5F6F9",
        "template": {
         "data": {
          "bar": [
           {
            "error_x": {
             "color": "#2a3f5f"
            },
            "error_y": {
             "color": "#2a3f5f"
            },
            "marker": {
             "line": {
              "color": "#E5ECF6",
              "width": 0.5
             }
            },
            "type": "bar"
           }
          ],
          "barpolar": [
           {
            "marker": {
             "line": {
              "color": "#E5ECF6",
              "width": 0.5
             }
            },
            "type": "barpolar"
           }
          ],
          "carpet": [
           {
            "aaxis": {
             "endlinecolor": "#2a3f5f",
             "gridcolor": "white",
             "linecolor": "white",
             "minorgridcolor": "white",
             "startlinecolor": "#2a3f5f"
            },
            "baxis": {
             "endlinecolor": "#2a3f5f",
             "gridcolor": "white",
             "linecolor": "white",
             "minorgridcolor": "white",
             "startlinecolor": "#2a3f5f"
            },
            "type": "carpet"
           }
          ],
          "choropleth": [
           {
            "colorbar": {
             "outlinewidth": 0,
             "ticks": ""
            },
            "type": "choropleth"
           }
          ],
          "contour": [
           {
            "colorbar": {
             "outlinewidth": 0,
             "ticks": ""
            },
            "colorscale": [
             [
              0,
              "#0d0887"
             ],
             [
              0.1111111111111111,
              "#46039f"
             ],
             [
              0.2222222222222222,
              "#7201a8"
             ],
             [
              0.3333333333333333,
              "#9c179e"
             ],
             [
              0.4444444444444444,
              "#bd3786"
             ],
             [
              0.5555555555555556,
              "#d8576b"
             ],
             [
              0.6666666666666666,
              "#ed7953"
             ],
             [
              0.7777777777777778,
              "#fb9f3a"
             ],
             [
              0.8888888888888888,
              "#fdca26"
             ],
             [
              1,
              "#f0f921"
             ]
            ],
            "type": "contour"
           }
          ],
          "contourcarpet": [
           {
            "colorbar": {
             "outlinewidth": 0,
             "ticks": ""
            },
            "type": "contourcarpet"
           }
          ],
          "heatmap": [
           {
            "colorbar": {
             "outlinewidth": 0,
             "ticks": ""
            },
            "colorscale": [
             [
              0,
              "#0d0887"
             ],
             [
              0.1111111111111111,
              "#46039f"
             ],
             [
              0.2222222222222222,
              "#7201a8"
             ],
             [
              0.3333333333333333,
              "#9c179e"
             ],
             [
              0.4444444444444444,
              "#bd3786"
             ],
             [
              0.5555555555555556,
              "#d8576b"
             ],
             [
              0.6666666666666666,
              "#ed7953"
             ],
             [
              0.7777777777777778,
              "#fb9f3a"
             ],
             [
              0.8888888888888888,
              "#fdca26"
             ],
             [
              1,
              "#f0f921"
             ]
            ],
            "type": "heatmap"
           }
          ],
          "heatmapgl": [
           {
            "colorbar": {
             "outlinewidth": 0,
             "ticks": ""
            },
            "colorscale": [
             [
              0,
              "#0d0887"
             ],
             [
              0.1111111111111111,
              "#46039f"
             ],
             [
              0.2222222222222222,
              "#7201a8"
             ],
             [
              0.3333333333333333,
              "#9c179e"
             ],
             [
              0.4444444444444444,
              "#bd3786"
             ],
             [
              0.5555555555555556,
              "#d8576b"
             ],
             [
              0.6666666666666666,
              "#ed7953"
             ],
             [
              0.7777777777777778,
              "#fb9f3a"
             ],
             [
              0.8888888888888888,
              "#fdca26"
             ],
             [
              1,
              "#f0f921"
             ]
            ],
            "type": "heatmapgl"
           }
          ],
          "histogram": [
           {
            "marker": {
             "colorbar": {
              "outlinewidth": 0,
              "ticks": ""
             }
            },
            "type": "histogram"
           }
          ],
          "histogram2d": [
           {
            "colorbar": {
             "outlinewidth": 0,
             "ticks": ""
            },
            "colorscale": [
             [
              0,
              "#0d0887"
             ],
             [
              0.1111111111111111,
              "#46039f"
             ],
             [
              0.2222222222222222,
              "#7201a8"
             ],
             [
              0.3333333333333333,
              "#9c179e"
             ],
             [
              0.4444444444444444,
              "#bd3786"
             ],
             [
              0.5555555555555556,
              "#d8576b"
             ],
             [
              0.6666666666666666,
              "#ed7953"
             ],
             [
              0.7777777777777778,
              "#fb9f3a"
             ],
             [
              0.8888888888888888,
              "#fdca26"
             ],
             [
              1,
              "#f0f921"
             ]
            ],
            "type": "histogram2d"
           }
          ],
          "histogram2dcontour": [
           {
            "colorbar": {
             "outlinewidth": 0,
             "ticks": ""
            },
            "colorscale": [
             [
              0,
              "#0d0887"
             ],
             [
              0.1111111111111111,
              "#46039f"
             ],
             [
              0.2222222222222222,
              "#7201a8"
             ],
             [
              0.3333333333333333,
              "#9c179e"
             ],
             [
              0.4444444444444444,
              "#bd3786"
             ],
             [
              0.5555555555555556,
              "#d8576b"
             ],
             [
              0.6666666666666666,
              "#ed7953"
             ],
             [
              0.7777777777777778,
              "#fb9f3a"
             ],
             [
              0.8888888888888888,
              "#fdca26"
             ],
             [
              1,
              "#f0f921"
             ]
            ],
            "type": "histogram2dcontour"
           }
          ],
          "mesh3d": [
           {
            "colorbar": {
             "outlinewidth": 0,
             "ticks": ""
            },
            "type": "mesh3d"
           }
          ],
          "parcoords": [
           {
            "line": {
             "colorbar": {
              "outlinewidth": 0,
              "ticks": ""
             }
            },
            "type": "parcoords"
           }
          ],
          "pie": [
           {
            "automargin": true,
            "type": "pie"
           }
          ],
          "scatter": [
           {
            "marker": {
             "colorbar": {
              "outlinewidth": 0,
              "ticks": ""
             }
            },
            "type": "scatter"
           }
          ],
          "scatter3d": [
           {
            "line": {
             "colorbar": {
              "outlinewidth": 0,
              "ticks": ""
             }
            },
            "marker": {
             "colorbar": {
              "outlinewidth": 0,
              "ticks": ""
             }
            },
            "type": "scatter3d"
           }
          ],
          "scattercarpet": [
           {
            "marker": {
             "colorbar": {
              "outlinewidth": 0,
              "ticks": ""
             }
            },
            "type": "scattercarpet"
           }
          ],
          "scattergeo": [
           {
            "marker": {
             "colorbar": {
              "outlinewidth": 0,
              "ticks": ""
             }
            },
            "type": "scattergeo"
           }
          ],
          "scattergl": [
           {
            "marker": {
             "colorbar": {
              "outlinewidth": 0,
              "ticks": ""
             }
            },
            "type": "scattergl"
           }
          ],
          "scattermapbox": [
           {
            "marker": {
             "colorbar": {
              "outlinewidth": 0,
              "ticks": ""
             }
            },
            "type": "scattermapbox"
           }
          ],
          "scatterpolar": [
           {
            "marker": {
             "colorbar": {
              "outlinewidth": 0,
              "ticks": ""
             }
            },
            "type": "scatterpolar"
           }
          ],
          "scatterpolargl": [
           {
            "marker": {
             "colorbar": {
              "outlinewidth": 0,
              "ticks": ""
             }
            },
            "type": "scatterpolargl"
           }
          ],
          "scatterternary": [
           {
            "marker": {
             "colorbar": {
              "outlinewidth": 0,
              "ticks": ""
             }
            },
            "type": "scatterternary"
           }
          ],
          "surface": [
           {
            "colorbar": {
             "outlinewidth": 0,
             "ticks": ""
            },
            "colorscale": [
             [
              0,
              "#0d0887"
             ],
             [
              0.1111111111111111,
              "#46039f"
             ],
             [
              0.2222222222222222,
              "#7201a8"
             ],
             [
              0.3333333333333333,
              "#9c179e"
             ],
             [
              0.4444444444444444,
              "#bd3786"
             ],
             [
              0.5555555555555556,
              "#d8576b"
             ],
             [
              0.6666666666666666,
              "#ed7953"
             ],
             [
              0.7777777777777778,
              "#fb9f3a"
             ],
             [
              0.8888888888888888,
              "#fdca26"
             ],
             [
              1,
              "#f0f921"
             ]
            ],
            "type": "surface"
           }
          ],
          "table": [
           {
            "cells": {
             "fill": {
              "color": "#EBF0F8"
             },
             "line": {
              "color": "white"
             }
            },
            "header": {
             "fill": {
              "color": "#C8D4E3"
             },
             "line": {
              "color": "white"
             }
            },
            "type": "table"
           }
          ]
         },
         "layout": {
          "annotationdefaults": {
           "arrowcolor": "#2a3f5f",
           "arrowhead": 0,
           "arrowwidth": 1
          },
          "coloraxis": {
           "colorbar": {
            "outlinewidth": 0,
            "ticks": ""
           }
          },
          "colorscale": {
           "diverging": [
            [
             0,
             "#8e0152"
            ],
            [
             0.1,
             "#c51b7d"
            ],
            [
             0.2,
             "#de77ae"
            ],
            [
             0.3,
             "#f1b6da"
            ],
            [
             0.4,
             "#fde0ef"
            ],
            [
             0.5,
             "#f7f7f7"
            ],
            [
             0.6,
             "#e6f5d0"
            ],
            [
             0.7,
             "#b8e186"
            ],
            [
             0.8,
             "#7fbc41"
            ],
            [
             0.9,
             "#4d9221"
            ],
            [
             1,
             "#276419"
            ]
           ],
           "sequential": [
            [
             0,
             "#0d0887"
            ],
            [
             0.1111111111111111,
             "#46039f"
            ],
            [
             0.2222222222222222,
             "#7201a8"
            ],
            [
             0.3333333333333333,
             "#9c179e"
            ],
            [
             0.4444444444444444,
             "#bd3786"
            ],
            [
             0.5555555555555556,
             "#d8576b"
            ],
            [
             0.6666666666666666,
             "#ed7953"
            ],
            [
             0.7777777777777778,
             "#fb9f3a"
            ],
            [
             0.8888888888888888,
             "#fdca26"
            ],
            [
             1,
             "#f0f921"
            ]
           ],
           "sequentialminus": [
            [
             0,
             "#0d0887"
            ],
            [
             0.1111111111111111,
             "#46039f"
            ],
            [
             0.2222222222222222,
             "#7201a8"
            ],
            [
             0.3333333333333333,
             "#9c179e"
            ],
            [
             0.4444444444444444,
             "#bd3786"
            ],
            [
             0.5555555555555556,
             "#d8576b"
            ],
            [
             0.6666666666666666,
             "#ed7953"
            ],
            [
             0.7777777777777778,
             "#fb9f3a"
            ],
            [
             0.8888888888888888,
             "#fdca26"
            ],
            [
             1,
             "#f0f921"
            ]
           ]
          },
          "colorway": [
           "#636efa",
           "#EF553B",
           "#00cc96",
           "#ab63fa",
           "#FFA15A",
           "#19d3f3",
           "#FF6692",
           "#B6E880",
           "#FF97FF",
           "#FECB52"
          ],
          "font": {
           "color": "#2a3f5f"
          },
          "geo": {
           "bgcolor": "white",
           "lakecolor": "white",
           "landcolor": "#E5ECF6",
           "showlakes": true,
           "showland": true,
           "subunitcolor": "white"
          },
          "hoverlabel": {
           "align": "left"
          },
          "hovermode": "closest",
          "mapbox": {
           "style": "light"
          },
          "paper_bgcolor": "white",
          "plot_bgcolor": "#E5ECF6",
          "polar": {
           "angularaxis": {
            "gridcolor": "white",
            "linecolor": "white",
            "ticks": ""
           },
           "bgcolor": "#E5ECF6",
           "radialaxis": {
            "gridcolor": "white",
            "linecolor": "white",
            "ticks": ""
           }
          },
          "scene": {
           "xaxis": {
            "backgroundcolor": "#E5ECF6",
            "gridcolor": "white",
            "gridwidth": 2,
            "linecolor": "white",
            "showbackground": true,
            "ticks": "",
            "zerolinecolor": "white"
           },
           "yaxis": {
            "backgroundcolor": "#E5ECF6",
            "gridcolor": "white",
            "gridwidth": 2,
            "linecolor": "white",
            "showbackground": true,
            "ticks": "",
            "zerolinecolor": "white"
           },
           "zaxis": {
            "backgroundcolor": "#E5ECF6",
            "gridcolor": "white",
            "gridwidth": 2,
            "linecolor": "white",
            "showbackground": true,
            "ticks": "",
            "zerolinecolor": "white"
           }
          },
          "shapedefaults": {
           "line": {
            "color": "#2a3f5f"
           }
          },
          "ternary": {
           "aaxis": {
            "gridcolor": "white",
            "linecolor": "white",
            "ticks": ""
           },
           "baxis": {
            "gridcolor": "white",
            "linecolor": "white",
            "ticks": ""
           },
           "bgcolor": "#E5ECF6",
           "caxis": {
            "gridcolor": "white",
            "linecolor": "white",
            "ticks": ""
           }
          },
          "title": {
           "x": 0.05
          },
          "xaxis": {
           "automargin": true,
           "gridcolor": "white",
           "linecolor": "white",
           "ticks": "",
           "title": {
            "standoff": 15
           },
           "zerolinecolor": "white",
           "zerolinewidth": 2
          },
          "yaxis": {
           "automargin": true,
           "gridcolor": "white",
           "linecolor": "white",
           "ticks": "",
           "title": {
            "standoff": 15
           },
           "zerolinecolor": "white",
           "zerolinewidth": 2
          }
         }
        },
        "title": {
         "font": {
          "color": "#4D5663"
         }
        },
        "xaxis": {
         "gridcolor": "#E1E5ED",
         "showgrid": true,
         "tickfont": {
          "color": "#4D5663"
         },
         "title": {
          "font": {
           "color": "#4D5663"
          },
          "text": ""
         },
         "zerolinecolor": "#E1E5ED"
        },
        "yaxis": {
         "gridcolor": "#E1E5ED",
         "showgrid": true,
         "tickfont": {
          "color": "#4D5663"
         },
         "title": {
          "font": {
           "color": "#4D5663"
          },
          "text": ""
         },
         "zerolinecolor": "#E1E5ED"
        }
       }
      },
      "text/html": [
       "<div>\n",
       "        \n",
       "        \n",
       "            <div id=\"9c2f4341-de90-4344-ab1e-80dd0fbf6eb9\" class=\"plotly-graph-div\" style=\"height:525px; width:100%;\"></div>\n",
       "            <script type=\"text/javascript\">\n",
       "                require([\"plotly\"], function(Plotly) {\n",
       "                    window.PLOTLYENV=window.PLOTLYENV || {};\n",
       "                    window.PLOTLYENV.BASE_URL='https://plot.ly';\n",
       "                    \n",
       "                if (document.getElementById(\"9c2f4341-de90-4344-ab1e-80dd0fbf6eb9\")) {\n",
       "                    Plotly.newPlot(\n",
       "                        '9c2f4341-de90-4344-ab1e-80dd0fbf6eb9',\n",
       "                        [{\"colorscale\": [[0.0, \"rgb(165,0,38)\"], [0.1, \"rgb(215,48,39)\"], [0.2, \"rgb(244,109,67)\"], [0.3, \"rgb(253,174,97)\"], [0.4, \"rgb(254,224,144)\"], [0.5, \"rgb(255,255,191)\"], [0.6, \"rgb(224,243,248)\"], [0.7, \"rgb(171,217,233)\"], [0.8, \"rgb(116,173,209)\"], [0.9, \"rgb(69,117,180)\"], [1.0, \"rgb(49,54,149)\"]], \"type\": \"surface\", \"x\": [0, 1, 2, 3, 4], \"y\": [\"x\", \"y\", \"z\"], \"z\": [[1, 2, 3, 4, 5], [10, 20, 30, 20, 10], [5, 4, 3, 2, 1]]}],\n",
       "                        {\"legend\": {\"bgcolor\": \"#F5F6F9\", \"font\": {\"color\": \"#4D5663\"}}, \"paper_bgcolor\": \"#F5F6F9\", \"plot_bgcolor\": \"#F5F6F9\", \"template\": {\"data\": {\"bar\": [{\"error_x\": {\"color\": \"#2a3f5f\"}, \"error_y\": {\"color\": \"#2a3f5f\"}, \"marker\": {\"line\": {\"color\": \"#E5ECF6\", \"width\": 0.5}}, \"type\": \"bar\"}], \"barpolar\": [{\"marker\": {\"line\": {\"color\": \"#E5ECF6\", \"width\": 0.5}}, \"type\": \"barpolar\"}], \"carpet\": [{\"aaxis\": {\"endlinecolor\": \"#2a3f5f\", \"gridcolor\": \"white\", \"linecolor\": \"white\", \"minorgridcolor\": \"white\", \"startlinecolor\": \"#2a3f5f\"}, \"baxis\": {\"endlinecolor\": \"#2a3f5f\", \"gridcolor\": \"white\", \"linecolor\": \"white\", \"minorgridcolor\": \"white\", \"startlinecolor\": \"#2a3f5f\"}, \"type\": \"carpet\"}], \"choropleth\": [{\"colorbar\": {\"outlinewidth\": 0, \"ticks\": \"\"}, \"type\": \"choropleth\"}], \"contour\": [{\"colorbar\": {\"outlinewidth\": 0, \"ticks\": \"\"}, \"colorscale\": [[0.0, \"#0d0887\"], [0.1111111111111111, \"#46039f\"], [0.2222222222222222, \"#7201a8\"], [0.3333333333333333, \"#9c179e\"], [0.4444444444444444, \"#bd3786\"], [0.5555555555555556, \"#d8576b\"], [0.6666666666666666, \"#ed7953\"], [0.7777777777777778, \"#fb9f3a\"], [0.8888888888888888, \"#fdca26\"], [1.0, \"#f0f921\"]], \"type\": \"contour\"}], \"contourcarpet\": [{\"colorbar\": {\"outlinewidth\": 0, \"ticks\": \"\"}, \"type\": \"contourcarpet\"}], \"heatmap\": [{\"colorbar\": {\"outlinewidth\": 0, \"ticks\": \"\"}, \"colorscale\": [[0.0, \"#0d0887\"], [0.1111111111111111, \"#46039f\"], [0.2222222222222222, \"#7201a8\"], [0.3333333333333333, \"#9c179e\"], [0.4444444444444444, \"#bd3786\"], [0.5555555555555556, \"#d8576b\"], [0.6666666666666666, \"#ed7953\"], [0.7777777777777778, \"#fb9f3a\"], [0.8888888888888888, \"#fdca26\"], [1.0, \"#f0f921\"]], \"type\": \"heatmap\"}], \"heatmapgl\": [{\"colorbar\": {\"outlinewidth\": 0, \"ticks\": \"\"}, \"colorscale\": [[0.0, \"#0d0887\"], [0.1111111111111111, \"#46039f\"], [0.2222222222222222, \"#7201a8\"], [0.3333333333333333, \"#9c179e\"], [0.4444444444444444, \"#bd3786\"], [0.5555555555555556, \"#d8576b\"], [0.6666666666666666, \"#ed7953\"], [0.7777777777777778, \"#fb9f3a\"], [0.8888888888888888, \"#fdca26\"], [1.0, \"#f0f921\"]], \"type\": \"heatmapgl\"}], \"histogram\": [{\"marker\": {\"colorbar\": {\"outlinewidth\": 0, \"ticks\": \"\"}}, \"type\": \"histogram\"}], \"histogram2d\": [{\"colorbar\": {\"outlinewidth\": 0, \"ticks\": \"\"}, \"colorscale\": [[0.0, \"#0d0887\"], [0.1111111111111111, \"#46039f\"], [0.2222222222222222, \"#7201a8\"], [0.3333333333333333, \"#9c179e\"], [0.4444444444444444, \"#bd3786\"], [0.5555555555555556, \"#d8576b\"], [0.6666666666666666, \"#ed7953\"], [0.7777777777777778, \"#fb9f3a\"], [0.8888888888888888, \"#fdca26\"], [1.0, \"#f0f921\"]], \"type\": \"histogram2d\"}], \"histogram2dcontour\": [{\"colorbar\": {\"outlinewidth\": 0, \"ticks\": \"\"}, \"colorscale\": [[0.0, \"#0d0887\"], [0.1111111111111111, \"#46039f\"], [0.2222222222222222, \"#7201a8\"], [0.3333333333333333, \"#9c179e\"], [0.4444444444444444, \"#bd3786\"], [0.5555555555555556, \"#d8576b\"], [0.6666666666666666, \"#ed7953\"], [0.7777777777777778, \"#fb9f3a\"], [0.8888888888888888, \"#fdca26\"], [1.0, \"#f0f921\"]], \"type\": \"histogram2dcontour\"}], \"mesh3d\": [{\"colorbar\": {\"outlinewidth\": 0, \"ticks\": \"\"}, \"type\": \"mesh3d\"}], \"parcoords\": [{\"line\": {\"colorbar\": {\"outlinewidth\": 0, \"ticks\": \"\"}}, \"type\": \"parcoords\"}], \"pie\": [{\"automargin\": true, \"type\": \"pie\"}], \"scatter\": [{\"marker\": {\"colorbar\": {\"outlinewidth\": 0, \"ticks\": \"\"}}, \"type\": \"scatter\"}], \"scatter3d\": [{\"line\": {\"colorbar\": {\"outlinewidth\": 0, \"ticks\": \"\"}}, \"marker\": {\"colorbar\": {\"outlinewidth\": 0, \"ticks\": \"\"}}, \"type\": \"scatter3d\"}], \"scattercarpet\": [{\"marker\": {\"colorbar\": {\"outlinewidth\": 0, \"ticks\": \"\"}}, \"type\": \"scattercarpet\"}], \"scattergeo\": [{\"marker\": {\"colorbar\": {\"outlinewidth\": 0, \"ticks\": \"\"}}, \"type\": \"scattergeo\"}], \"scattergl\": [{\"marker\": {\"colorbar\": {\"outlinewidth\": 0, \"ticks\": \"\"}}, \"type\": \"scattergl\"}], \"scattermapbox\": [{\"marker\": {\"colorbar\": {\"outlinewidth\": 0, \"ticks\": \"\"}}, \"type\": \"scattermapbox\"}], \"scatterpolar\": [{\"marker\": {\"colorbar\": {\"outlinewidth\": 0, \"ticks\": \"\"}}, \"type\": \"scatterpolar\"}], \"scatterpolargl\": [{\"marker\": {\"colorbar\": {\"outlinewidth\": 0, \"ticks\": \"\"}}, \"type\": \"scatterpolargl\"}], \"scatterternary\": [{\"marker\": {\"colorbar\": {\"outlinewidth\": 0, \"ticks\": \"\"}}, \"type\": \"scatterternary\"}], \"surface\": [{\"colorbar\": {\"outlinewidth\": 0, \"ticks\": \"\"}, \"colorscale\": [[0.0, \"#0d0887\"], [0.1111111111111111, \"#46039f\"], [0.2222222222222222, \"#7201a8\"], [0.3333333333333333, \"#9c179e\"], [0.4444444444444444, \"#bd3786\"], [0.5555555555555556, \"#d8576b\"], [0.6666666666666666, \"#ed7953\"], [0.7777777777777778, \"#fb9f3a\"], [0.8888888888888888, \"#fdca26\"], [1.0, \"#f0f921\"]], \"type\": \"surface\"}], \"table\": [{\"cells\": {\"fill\": {\"color\": \"#EBF0F8\"}, \"line\": {\"color\": \"white\"}}, \"header\": {\"fill\": {\"color\": \"#C8D4E3\"}, \"line\": {\"color\": \"white\"}}, \"type\": \"table\"}]}, \"layout\": {\"annotationdefaults\": {\"arrowcolor\": \"#2a3f5f\", \"arrowhead\": 0, \"arrowwidth\": 1}, \"coloraxis\": {\"colorbar\": {\"outlinewidth\": 0, \"ticks\": \"\"}}, \"colorscale\": {\"diverging\": [[0, \"#8e0152\"], [0.1, \"#c51b7d\"], [0.2, \"#de77ae\"], [0.3, \"#f1b6da\"], [0.4, \"#fde0ef\"], [0.5, \"#f7f7f7\"], [0.6, \"#e6f5d0\"], [0.7, \"#b8e186\"], [0.8, \"#7fbc41\"], [0.9, \"#4d9221\"], [1, \"#276419\"]], \"sequential\": [[0.0, \"#0d0887\"], [0.1111111111111111, \"#46039f\"], [0.2222222222222222, \"#7201a8\"], [0.3333333333333333, \"#9c179e\"], [0.4444444444444444, \"#bd3786\"], [0.5555555555555556, \"#d8576b\"], [0.6666666666666666, \"#ed7953\"], [0.7777777777777778, \"#fb9f3a\"], [0.8888888888888888, \"#fdca26\"], [1.0, \"#f0f921\"]], \"sequentialminus\": [[0.0, \"#0d0887\"], [0.1111111111111111, \"#46039f\"], [0.2222222222222222, \"#7201a8\"], [0.3333333333333333, \"#9c179e\"], [0.4444444444444444, \"#bd3786\"], [0.5555555555555556, \"#d8576b\"], [0.6666666666666666, \"#ed7953\"], [0.7777777777777778, \"#fb9f3a\"], [0.8888888888888888, \"#fdca26\"], [1.0, \"#f0f921\"]]}, \"colorway\": [\"#636efa\", \"#EF553B\", \"#00cc96\", \"#ab63fa\", \"#FFA15A\", \"#19d3f3\", \"#FF6692\", \"#B6E880\", \"#FF97FF\", \"#FECB52\"], \"font\": {\"color\": \"#2a3f5f\"}, \"geo\": {\"bgcolor\": \"white\", \"lakecolor\": \"white\", \"landcolor\": \"#E5ECF6\", \"showlakes\": true, \"showland\": true, \"subunitcolor\": \"white\"}, \"hoverlabel\": {\"align\": \"left\"}, \"hovermode\": \"closest\", \"mapbox\": {\"style\": \"light\"}, \"paper_bgcolor\": \"white\", \"plot_bgcolor\": \"#E5ECF6\", \"polar\": {\"angularaxis\": {\"gridcolor\": \"white\", \"linecolor\": \"white\", \"ticks\": \"\"}, \"bgcolor\": \"#E5ECF6\", \"radialaxis\": {\"gridcolor\": \"white\", \"linecolor\": \"white\", \"ticks\": \"\"}}, \"scene\": {\"xaxis\": {\"backgroundcolor\": \"#E5ECF6\", \"gridcolor\": \"white\", \"gridwidth\": 2, \"linecolor\": \"white\", \"showbackground\": true, \"ticks\": \"\", \"zerolinecolor\": \"white\"}, \"yaxis\": {\"backgroundcolor\": \"#E5ECF6\", \"gridcolor\": \"white\", \"gridwidth\": 2, \"linecolor\": \"white\", \"showbackground\": true, \"ticks\": \"\", \"zerolinecolor\": \"white\"}, \"zaxis\": {\"backgroundcolor\": \"#E5ECF6\", \"gridcolor\": \"white\", \"gridwidth\": 2, \"linecolor\": \"white\", \"showbackground\": true, \"ticks\": \"\", \"zerolinecolor\": \"white\"}}, \"shapedefaults\": {\"line\": {\"color\": \"#2a3f5f\"}}, \"ternary\": {\"aaxis\": {\"gridcolor\": \"white\", \"linecolor\": \"white\", \"ticks\": \"\"}, \"baxis\": {\"gridcolor\": \"white\", \"linecolor\": \"white\", \"ticks\": \"\"}, \"bgcolor\": \"#E5ECF6\", \"caxis\": {\"gridcolor\": \"white\", \"linecolor\": \"white\", \"ticks\": \"\"}}, \"title\": {\"x\": 0.05}, \"xaxis\": {\"automargin\": true, \"gridcolor\": \"white\", \"linecolor\": \"white\", \"ticks\": \"\", \"title\": {\"standoff\": 15}, \"zerolinecolor\": \"white\", \"zerolinewidth\": 2}, \"yaxis\": {\"automargin\": true, \"gridcolor\": \"white\", \"linecolor\": \"white\", \"ticks\": \"\", \"title\": {\"standoff\": 15}, \"zerolinecolor\": \"white\", \"zerolinewidth\": 2}}}, \"title\": {\"font\": {\"color\": \"#4D5663\"}}, \"xaxis\": {\"gridcolor\": \"#E1E5ED\", \"showgrid\": true, \"tickfont\": {\"color\": \"#4D5663\"}, \"title\": {\"font\": {\"color\": \"#4D5663\"}, \"text\": \"\"}, \"zerolinecolor\": \"#E1E5ED\"}, \"yaxis\": {\"gridcolor\": \"#E1E5ED\", \"showgrid\": true, \"tickfont\": {\"color\": \"#4D5663\"}, \"title\": {\"font\": {\"color\": \"#4D5663\"}, \"text\": \"\"}, \"zerolinecolor\": \"#E1E5ED\"}},\n",
       "                        {\"showLink\": true, \"linkText\": \"Export to plot.ly\", \"plotlyServerURL\": \"https://plot.ly\", \"responsive\": true}\n",
       "                    ).then(function(){\n",
       "                            \n",
       "var gd = document.getElementById('9c2f4341-de90-4344-ab1e-80dd0fbf6eb9');\n",
       "var x = new MutationObserver(function (mutations, observer) {{\n",
       "        var display = window.getComputedStyle(gd).display;\n",
       "        if (!display || display === 'none') {{\n",
       "            console.log([gd, 'removed!']);\n",
       "            Plotly.purge(gd);\n",
       "            observer.disconnect();\n",
       "        }}\n",
       "}});\n",
       "\n",
       "// Listen for the removal of the full notebook cells\n",
       "var notebookContainer = gd.closest('#notebook-container');\n",
       "if (notebookContainer) {{\n",
       "    x.observe(notebookContainer, {childList: true});\n",
       "}}\n",
       "\n",
       "// Listen for the clearing of the current output cell\n",
       "var outputEl = gd.closest('.output');\n",
       "if (outputEl) {{\n",
       "    x.observe(outputEl, {childList: true});\n",
       "}}\n",
       "\n",
       "                        })\n",
       "                };\n",
       "                });\n",
       "            </script>\n",
       "        </div>"
      ]
     },
     "metadata": {},
     "output_type": "display_data"
    }
   ],
   "source": [
    "df3 = pd.DataFrame({'x':[1,2,3,4,5],'y':[10,20,30,20,10],'z':[5,4,3,2,1]})\n",
    "df3.iplot(kind='surface',colorscale='rdylbu')"
   ]
  },
  {
   "cell_type": "markdown",
   "metadata": {},
   "source": [
    "## Spread Plot"
   ]
  },
  {
   "cell_type": "code",
   "execution_count": 19,
   "metadata": {},
   "outputs": [
    {
     "data": {
      "application/vnd.plotly.v1+json": {
       "config": {
        "linkText": "Export to plot.ly",
        "plotlyServerURL": "https://plot.ly",
        "showLink": true
       },
       "data": [
        {
         "line": {
          "color": "rgba(255, 153, 51, 1.0)",
          "dash": "solid",
          "shape": "linear",
          "width": 1.3
         },
         "mode": "lines",
         "name": "A",
         "text": "",
         "type": "scatter",
         "x": [
          0,
          1,
          2,
          3,
          4,
          5,
          6,
          7,
          8,
          9,
          10,
          11,
          12,
          13,
          14,
          15,
          16,
          17,
          18,
          19,
          20,
          21,
          22,
          23,
          24,
          25,
          26,
          27,
          28,
          29,
          30,
          31,
          32,
          33,
          34,
          35,
          36,
          37,
          38,
          39,
          40,
          41,
          42,
          43,
          44,
          45,
          46,
          47,
          48,
          49,
          50,
          51,
          52,
          53,
          54,
          55,
          56,
          57,
          58,
          59,
          60,
          61,
          62,
          63,
          64,
          65,
          66,
          67,
          68,
          69,
          70,
          71,
          72,
          73,
          74,
          75,
          76,
          77,
          78,
          79,
          80,
          81,
          82,
          83,
          84,
          85,
          86,
          87,
          88,
          89,
          90,
          91,
          92,
          93,
          94,
          95,
          96,
          97,
          98,
          99
         ],
         "y": [
          0.09109850481918408,
          -1.1215293214001596,
          -0.8472103787075184,
          0.047579463925629756,
          -0.2465006929122032,
          0.355941870570774,
          -0.10096950094440324,
          -0.9072730752429058,
          -0.9518980001271358,
          2.14097321822886,
          2.1231768307689967,
          0.6958977551843699,
          -1.583248837107644,
          1.7142265839072959,
          -0.06646503235312974,
          -1.5315586252424356,
          1.4934969578297246,
          -0.3671124610810568,
          -0.6464912890042264,
          0.7577407259047961,
          -1.7888731022404905,
          -0.836344304627946,
          2.428995088322346,
          1.3927544538222227,
          0.9186261627971786,
          1.3069317194442132,
          -1.0793521680617035,
          2.0008609111050646,
          1.6512094667325325,
          0.808956552274321,
          0.7161520296684218,
          0.4174688388945817,
          -2.055553429227154,
          -0.10478473559018199,
          -1.8414704504739363,
          -1.9037587104776745,
          -0.24550426677305848,
          -0.9344856372315049,
          0.08519000805272456,
          0.7909917218595681,
          1.2112598406713257,
          0.8780853775627289,
          1.6391927026157413,
          -0.7844898993204068,
          -0.8200738867112358,
          1.2299606960656078,
          2.090198636473912,
          0.967590406410828,
          0.42781576469535565,
          0.3740083906457488,
          -1.203415752416856,
          0.19874074492299004,
          -1.0996349876019142,
          -0.5118885547212875,
          0.6089409203104832,
          -0.009986668270133012,
          -0.9843598032066695,
          -0.6971112927387455,
          -1.0518788938535228,
          -1.6926464990344885,
          1.895353289889859,
          2.635922114037947,
          1.0059778300139433,
          -0.9100671354086547,
          0.7188149666974778,
          -0.9501042669394972,
          2.1621864299965403,
          1.1420880278768886,
          0.9676235117810439,
          0.5345015806889609,
          -0.6101501196531989,
          0.23256458005975567,
          -0.30864952668522244,
          0.8230595122750528,
          0.0025476652548313684,
          1.0668879463043774,
          -0.19717897335767187,
          -0.15813795755946913,
          -0.6178985215289267,
          1.8057952496635845,
          1.0511933107617695,
          -0.5868718647057343,
          -0.5351892335864168,
          -0.027468015311200602,
          -0.9442877177439853,
          -0.8623770708257102,
          0.8948807217187174,
          -0.00948333496494119,
          -0.920057972150479,
          0.6478025520263664,
          0.45634160459747125,
          0.29947972220377245,
          -0.870490121032512,
          -0.9493757828636347,
          -1.6153530988647982,
          -0.9529103188037132,
          -1.2886840902918308,
          -1.261963285580088,
          -0.12188068264694774,
          0.26167595986569264
         ]
        },
        {
         "line": {
          "color": "rgba(55, 128, 191, 1.0)",
          "dash": "solid",
          "shape": "linear",
          "width": 1.3
         },
         "mode": "lines",
         "name": "B",
         "text": "",
         "type": "scatter",
         "x": [
          0,
          1,
          2,
          3,
          4,
          5,
          6,
          7,
          8,
          9,
          10,
          11,
          12,
          13,
          14,
          15,
          16,
          17,
          18,
          19,
          20,
          21,
          22,
          23,
          24,
          25,
          26,
          27,
          28,
          29,
          30,
          31,
          32,
          33,
          34,
          35,
          36,
          37,
          38,
          39,
          40,
          41,
          42,
          43,
          44,
          45,
          46,
          47,
          48,
          49,
          50,
          51,
          52,
          53,
          54,
          55,
          56,
          57,
          58,
          59,
          60,
          61,
          62,
          63,
          64,
          65,
          66,
          67,
          68,
          69,
          70,
          71,
          72,
          73,
          74,
          75,
          76,
          77,
          78,
          79,
          80,
          81,
          82,
          83,
          84,
          85,
          86,
          87,
          88,
          89,
          90,
          91,
          92,
          93,
          94,
          95,
          96,
          97,
          98,
          99
         ],
         "y": [
          -0.8116091289192721,
          -0.19300472687253206,
          0.42051103925632977,
          0.25547064152430615,
          0.4461384861944884,
          0.2065840994216946,
          -0.0736093684561315,
          -0.03672123413058332,
          0.6801523071485202,
          1.4418046168788465,
          -0.5726562777833677,
          0.9307098475989224,
          -0.5706293447478381,
          0.4453994634128244,
          1.4143311666416154,
          -1.108813199803975,
          -0.3125435764127994,
          1.3618244709601963,
          -0.06427906272026955,
          -0.9229893610662293,
          0.3065059408237643,
          -0.17342759515419126,
          0.8429059478472343,
          -1.5805981154008981,
          -2.0267251132949027,
          -0.8286681556363882,
          1.0616325449191493,
          -0.3631590237640123,
          0.3245491815023166,
          -0.12049652048231733,
          -1.7794008323816055,
          0.9771420985889142,
          0.6937004427893335,
          -0.057223441643777455,
          0.6845095121304248,
          -0.32589236102397623,
          0.29680436698785867,
          -1.5057853650832715,
          1.7496853226925513,
          1.6753176110932382,
          -0.30540371699704194,
          0.03962473472743301,
          1.5236297895868112,
          0.5511026209571313,
          1.6053502011125302,
          -0.9477947708757761,
          0.5084280387681843,
          1.0536007000338874,
          -0.20842639751067635,
          -1.2601656190124837,
          0.1042762843423615,
          -0.5724041204261644,
          -0.05409712730683168,
          1.2766275991015201,
          0.4813853754972735,
          -1.289064510835033,
          -1.6294448766424343,
          -0.2617693791137971,
          0.48254519819781516,
          3.1344856939051433,
          -0.5981856159842609,
          -0.7905026818503782,
          -0.41390096879915417,
          1.211655923059735,
          0.486900856960665,
          -0.21735166935475592,
          -0.6446942837755238,
          1.4840688604700185,
          0.21152002576581685,
          0.07407353417275789,
          -0.6130890236210245,
          0.5252383330404052,
          0.6712851140907574,
          0.9618939225720989,
          -2.447934537947344,
          0.21001235145459388,
          -0.017514426974441534,
          -0.3294942746261193,
          -1.956893644342049,
          1.3147434662972208,
          -2.236901795464519,
          -1.355670681639342,
          0.3332941119737317,
          -1.0451492156076625,
          0.3752925071061327,
          -1.668849441699103,
          -0.12344250483081605,
          -0.23264926766422644,
          0.7332647602341967,
          -0.9971293585380604,
          -0.7676066266105527,
          0.7001651960379345,
          -0.7022586069809715,
          -0.05891946102224388,
          0.6873881326933733,
          0.8906297185004478,
          0.9638085612837739,
          0.0579173716477777,
          0.33464594904890277,
          2.533769548275823
         ]
        },
        {
         "connectgaps": false,
         "fill": "tozeroy",
         "line": {
          "color": "green",
          "dash": "solid",
          "shape": "linear",
          "width": 0.5
         },
         "mode": "lines",
         "name": "Spread",
         "showlegend": false,
         "type": "scatter",
         "x": [
          0,
          1,
          2,
          3,
          4,
          5,
          6,
          7,
          8,
          9,
          10,
          11,
          12,
          13,
          14,
          15,
          16,
          17,
          18,
          19,
          20,
          21,
          22,
          23,
          24,
          25,
          26,
          27,
          28,
          29,
          30,
          31,
          32,
          33,
          34,
          35,
          36,
          37,
          38,
          39,
          40,
          41,
          42,
          43,
          44,
          45,
          46,
          47,
          48,
          49,
          50,
          51,
          52,
          53,
          54,
          55,
          56,
          57,
          58,
          59,
          60,
          61,
          62,
          63,
          64,
          65,
          66,
          67,
          68,
          69,
          70,
          71,
          72,
          73,
          74,
          75,
          76,
          77,
          78,
          79,
          80,
          81,
          82,
          83,
          84,
          85,
          86,
          87,
          88,
          89,
          90,
          91,
          92,
          93,
          94,
          95,
          96,
          97,
          98,
          99
         ],
         "xaxis": "x2",
         "y": [
          0.9027076337384561,
          "",
          "",
          "",
          "",
          0.1493577711490794,
          "",
          "",
          "",
          0.6991686013500136,
          2.6958331085523644,
          "",
          "",
          1.2688271204944714,
          "",
          "",
          1.8060405342425239,
          "",
          "",
          1.6807300869710255,
          "",
          "",
          1.5860891404751116,
          2.973352569223121,
          2.9453512760920812,
          2.1355998750806013,
          "",
          2.364019934869077,
          1.3266602852302158,
          0.9294530727566382,
          2.4955528620500274,
          "",
          "",
          "",
          "",
          "",
          "",
          0.5712997278517666,
          "",
          "",
          1.5166635576683678,
          0.8384606428352959,
          0.11556291302893018,
          "",
          "",
          2.1777554669413837,
          1.5817705977057275,
          "",
          0.636242162206032,
          1.6341740096582325,
          "",
          0.7711448653491544,
          "",
          "",
          0.1275555448132097,
          1.2790778425648999,
          0.6450850734357648,
          "",
          "",
          "",
          2.4935389058741197,
          3.426424795888325,
          1.4198787988130974,
          "",
          0.2319141097368128,
          "",
          2.806880713772064,
          "",
          0.756103486015227,
          0.46042804651620306,
          0.00293890396782559,
          "",
          "",
          "",
          2.4504822032021756,
          0.8568755948497836,
          "",
          0.17135631706665017,
          1.3389951228131225,
          0.4910517833663637,
          3.2880951062262884,
          0.7687988169336077,
          "",
          1.017681200296462,
          "",
          0.8064723708733929,
          1.0183232265495334,
          0.22316593269928525,
          "",
          1.6449319105644267,
          1.2239482312080239,
          "",
          "",
          "",
          "",
          "",
          "",
          "",
          "",
          ""
         ],
         "yaxis": "y2"
        },
        {
         "connectgaps": false,
         "fill": "tozeroy",
         "line": {
          "color": "red",
          "dash": "solid",
          "shape": "linear",
          "width": 0.5
         },
         "mode": "lines",
         "name": "Spread",
         "showlegend": false,
         "type": "scatter",
         "x": [
          0,
          1,
          2,
          3,
          4,
          5,
          6,
          7,
          8,
          9,
          10,
          11,
          12,
          13,
          14,
          15,
          16,
          17,
          18,
          19,
          20,
          21,
          22,
          23,
          24,
          25,
          26,
          27,
          28,
          29,
          30,
          31,
          32,
          33,
          34,
          35,
          36,
          37,
          38,
          39,
          40,
          41,
          42,
          43,
          44,
          45,
          46,
          47,
          48,
          49,
          50,
          51,
          52,
          53,
          54,
          55,
          56,
          57,
          58,
          59,
          60,
          61,
          62,
          63,
          64,
          65,
          66,
          67,
          68,
          69,
          70,
          71,
          72,
          73,
          74,
          75,
          76,
          77,
          78,
          79,
          80,
          81,
          82,
          83,
          84,
          85,
          86,
          87,
          88,
          89,
          90,
          91,
          92,
          93,
          94,
          95,
          96,
          97,
          98,
          99
         ],
         "xaxis": "x2",
         "y": [
          "",
          -0.9285245945276275,
          -1.267721417963848,
          -0.2078911775986764,
          -0.6926391791066916,
          "",
          -0.027360132488271738,
          -0.8705518411123224,
          -1.632050307275656,
          "",
          "",
          -0.23481209241455248,
          -1.012619492359806,
          "",
          -1.4807961989947451,
          -0.4227454254384606,
          "",
          -1.728936932041253,
          -0.5822122262839569,
          "",
          -2.0953790430642547,
          -0.6629167094737547,
          "",
          "",
          "",
          "",
          -2.1409847129808526,
          "",
          "",
          "",
          "",
          -0.5596732596943326,
          -2.7492538720164874,
          -0.047561293946404536,
          -2.525979962604361,
          -1.5778663494536982,
          -0.5423086337609171,
          "",
          -1.6644953146398267,
          -0.8843258892336701,
          "",
          "",
          "",
          -1.335592520277538,
          -2.425424087823766,
          "",
          "",
          -0.08601029362305934,
          "",
          "",
          -1.3076920367592175,
          "",
          -1.0455378602950827,
          -1.7885161538228076,
          "",
          "",
          "",
          -0.4353419136249484,
          -1.5344240920513381,
          -4.827132192939632,
          "",
          "",
          "",
          -2.1217230584683895,
          "",
          -0.7327525975847413,
          "",
          -0.34198083259312995,
          "",
          "",
          "",
          -0.29267375298064957,
          -0.9799346407759799,
          -0.13883441029704613,
          "",
          "",
          -0.17966454638323034,
          "",
          "",
          "",
          "",
          "",
          -0.8684833455601485,
          "",
          -1.319580224850118,
          "",
          "",
          "",
          -1.6533227323846758,
          "",
          "",
          -0.40068547383416203,
          -0.16823151405154047,
          -0.8904563218413908,
          -2.3027412315581715,
          -1.843540037304161,
          -2.2524926515756047,
          -1.3198806572278656,
          -0.4565266316958505,
          -2.2720935884101303
         ],
         "yaxis": "y2"
        }
       ],
       "layout": {
        "hovermode": "x",
        "legend": {
         "bgcolor": "#F5F6F9",
         "font": {
          "color": "#4D5663"
         }
        },
        "paper_bgcolor": "#F5F6F9",
        "plot_bgcolor": "#F5F6F9",
        "template": {
         "data": {
          "bar": [
           {
            "error_x": {
             "color": "#2a3f5f"
            },
            "error_y": {
             "color": "#2a3f5f"
            },
            "marker": {
             "line": {
              "color": "#E5ECF6",
              "width": 0.5
             }
            },
            "type": "bar"
           }
          ],
          "barpolar": [
           {
            "marker": {
             "line": {
              "color": "#E5ECF6",
              "width": 0.5
             }
            },
            "type": "barpolar"
           }
          ],
          "carpet": [
           {
            "aaxis": {
             "endlinecolor": "#2a3f5f",
             "gridcolor": "white",
             "linecolor": "white",
             "minorgridcolor": "white",
             "startlinecolor": "#2a3f5f"
            },
            "baxis": {
             "endlinecolor": "#2a3f5f",
             "gridcolor": "white",
             "linecolor": "white",
             "minorgridcolor": "white",
             "startlinecolor": "#2a3f5f"
            },
            "type": "carpet"
           }
          ],
          "choropleth": [
           {
            "colorbar": {
             "outlinewidth": 0,
             "ticks": ""
            },
            "type": "choropleth"
           }
          ],
          "contour": [
           {
            "colorbar": {
             "outlinewidth": 0,
             "ticks": ""
            },
            "colorscale": [
             [
              0,
              "#0d0887"
             ],
             [
              0.1111111111111111,
              "#46039f"
             ],
             [
              0.2222222222222222,
              "#7201a8"
             ],
             [
              0.3333333333333333,
              "#9c179e"
             ],
             [
              0.4444444444444444,
              "#bd3786"
             ],
             [
              0.5555555555555556,
              "#d8576b"
             ],
             [
              0.6666666666666666,
              "#ed7953"
             ],
             [
              0.7777777777777778,
              "#fb9f3a"
             ],
             [
              0.8888888888888888,
              "#fdca26"
             ],
             [
              1,
              "#f0f921"
             ]
            ],
            "type": "contour"
           }
          ],
          "contourcarpet": [
           {
            "colorbar": {
             "outlinewidth": 0,
             "ticks": ""
            },
            "type": "contourcarpet"
           }
          ],
          "heatmap": [
           {
            "colorbar": {
             "outlinewidth": 0,
             "ticks": ""
            },
            "colorscale": [
             [
              0,
              "#0d0887"
             ],
             [
              0.1111111111111111,
              "#46039f"
             ],
             [
              0.2222222222222222,
              "#7201a8"
             ],
             [
              0.3333333333333333,
              "#9c179e"
             ],
             [
              0.4444444444444444,
              "#bd3786"
             ],
             [
              0.5555555555555556,
              "#d8576b"
             ],
             [
              0.6666666666666666,
              "#ed7953"
             ],
             [
              0.7777777777777778,
              "#fb9f3a"
             ],
             [
              0.8888888888888888,
              "#fdca26"
             ],
             [
              1,
              "#f0f921"
             ]
            ],
            "type": "heatmap"
           }
          ],
          "heatmapgl": [
           {
            "colorbar": {
             "outlinewidth": 0,
             "ticks": ""
            },
            "colorscale": [
             [
              0,
              "#0d0887"
             ],
             [
              0.1111111111111111,
              "#46039f"
             ],
             [
              0.2222222222222222,
              "#7201a8"
             ],
             [
              0.3333333333333333,
              "#9c179e"
             ],
             [
              0.4444444444444444,
              "#bd3786"
             ],
             [
              0.5555555555555556,
              "#d8576b"
             ],
             [
              0.6666666666666666,
              "#ed7953"
             ],
             [
              0.7777777777777778,
              "#fb9f3a"
             ],
             [
              0.8888888888888888,
              "#fdca26"
             ],
             [
              1,
              "#f0f921"
             ]
            ],
            "type": "heatmapgl"
           }
          ],
          "histogram": [
           {
            "marker": {
             "colorbar": {
              "outlinewidth": 0,
              "ticks": ""
             }
            },
            "type": "histogram"
           }
          ],
          "histogram2d": [
           {
            "colorbar": {
             "outlinewidth": 0,
             "ticks": ""
            },
            "colorscale": [
             [
              0,
              "#0d0887"
             ],
             [
              0.1111111111111111,
              "#46039f"
             ],
             [
              0.2222222222222222,
              "#7201a8"
             ],
             [
              0.3333333333333333,
              "#9c179e"
             ],
             [
              0.4444444444444444,
              "#bd3786"
             ],
             [
              0.5555555555555556,
              "#d8576b"
             ],
             [
              0.6666666666666666,
              "#ed7953"
             ],
             [
              0.7777777777777778,
              "#fb9f3a"
             ],
             [
              0.8888888888888888,
              "#fdca26"
             ],
             [
              1,
              "#f0f921"
             ]
            ],
            "type": "histogram2d"
           }
          ],
          "histogram2dcontour": [
           {
            "colorbar": {
             "outlinewidth": 0,
             "ticks": ""
            },
            "colorscale": [
             [
              0,
              "#0d0887"
             ],
             [
              0.1111111111111111,
              "#46039f"
             ],
             [
              0.2222222222222222,
              "#7201a8"
             ],
             [
              0.3333333333333333,
              "#9c179e"
             ],
             [
              0.4444444444444444,
              "#bd3786"
             ],
             [
              0.5555555555555556,
              "#d8576b"
             ],
             [
              0.6666666666666666,
              "#ed7953"
             ],
             [
              0.7777777777777778,
              "#fb9f3a"
             ],
             [
              0.8888888888888888,
              "#fdca26"
             ],
             [
              1,
              "#f0f921"
             ]
            ],
            "type": "histogram2dcontour"
           }
          ],
          "mesh3d": [
           {
            "colorbar": {
             "outlinewidth": 0,
             "ticks": ""
            },
            "type": "mesh3d"
           }
          ],
          "parcoords": [
           {
            "line": {
             "colorbar": {
              "outlinewidth": 0,
              "ticks": ""
             }
            },
            "type": "parcoords"
           }
          ],
          "pie": [
           {
            "automargin": true,
            "type": "pie"
           }
          ],
          "scatter": [
           {
            "marker": {
             "colorbar": {
              "outlinewidth": 0,
              "ticks": ""
             }
            },
            "type": "scatter"
           }
          ],
          "scatter3d": [
           {
            "line": {
             "colorbar": {
              "outlinewidth": 0,
              "ticks": ""
             }
            },
            "marker": {
             "colorbar": {
              "outlinewidth": 0,
              "ticks": ""
             }
            },
            "type": "scatter3d"
           }
          ],
          "scattercarpet": [
           {
            "marker": {
             "colorbar": {
              "outlinewidth": 0,
              "ticks": ""
             }
            },
            "type": "scattercarpet"
           }
          ],
          "scattergeo": [
           {
            "marker": {
             "colorbar": {
              "outlinewidth": 0,
              "ticks": ""
             }
            },
            "type": "scattergeo"
           }
          ],
          "scattergl": [
           {
            "marker": {
             "colorbar": {
              "outlinewidth": 0,
              "ticks": ""
             }
            },
            "type": "scattergl"
           }
          ],
          "scattermapbox": [
           {
            "marker": {
             "colorbar": {
              "outlinewidth": 0,
              "ticks": ""
             }
            },
            "type": "scattermapbox"
           }
          ],
          "scatterpolar": [
           {
            "marker": {
             "colorbar": {
              "outlinewidth": 0,
              "ticks": ""
             }
            },
            "type": "scatterpolar"
           }
          ],
          "scatterpolargl": [
           {
            "marker": {
             "colorbar": {
              "outlinewidth": 0,
              "ticks": ""
             }
            },
            "type": "scatterpolargl"
           }
          ],
          "scatterternary": [
           {
            "marker": {
             "colorbar": {
              "outlinewidth": 0,
              "ticks": ""
             }
            },
            "type": "scatterternary"
           }
          ],
          "surface": [
           {
            "colorbar": {
             "outlinewidth": 0,
             "ticks": ""
            },
            "colorscale": [
             [
              0,
              "#0d0887"
             ],
             [
              0.1111111111111111,
              "#46039f"
             ],
             [
              0.2222222222222222,
              "#7201a8"
             ],
             [
              0.3333333333333333,
              "#9c179e"
             ],
             [
              0.4444444444444444,
              "#bd3786"
             ],
             [
              0.5555555555555556,
              "#d8576b"
             ],
             [
              0.6666666666666666,
              "#ed7953"
             ],
             [
              0.7777777777777778,
              "#fb9f3a"
             ],
             [
              0.8888888888888888,
              "#fdca26"
             ],
             [
              1,
              "#f0f921"
             ]
            ],
            "type": "surface"
           }
          ],
          "table": [
           {
            "cells": {
             "fill": {
              "color": "#EBF0F8"
             },
             "line": {
              "color": "white"
             }
            },
            "header": {
             "fill": {
              "color": "#C8D4E3"
             },
             "line": {
              "color": "white"
             }
            },
            "type": "table"
           }
          ]
         },
         "layout": {
          "annotationdefaults": {
           "arrowcolor": "#2a3f5f",
           "arrowhead": 0,
           "arrowwidth": 1
          },
          "coloraxis": {
           "colorbar": {
            "outlinewidth": 0,
            "ticks": ""
           }
          },
          "colorscale": {
           "diverging": [
            [
             0,
             "#8e0152"
            ],
            [
             0.1,
             "#c51b7d"
            ],
            [
             0.2,
             "#de77ae"
            ],
            [
             0.3,
             "#f1b6da"
            ],
            [
             0.4,
             "#fde0ef"
            ],
            [
             0.5,
             "#f7f7f7"
            ],
            [
             0.6,
             "#e6f5d0"
            ],
            [
             0.7,
             "#b8e186"
            ],
            [
             0.8,
             "#7fbc41"
            ],
            [
             0.9,
             "#4d9221"
            ],
            [
             1,
             "#276419"
            ]
           ],
           "sequential": [
            [
             0,
             "#0d0887"
            ],
            [
             0.1111111111111111,
             "#46039f"
            ],
            [
             0.2222222222222222,
             "#7201a8"
            ],
            [
             0.3333333333333333,
             "#9c179e"
            ],
            [
             0.4444444444444444,
             "#bd3786"
            ],
            [
             0.5555555555555556,
             "#d8576b"
            ],
            [
             0.6666666666666666,
             "#ed7953"
            ],
            [
             0.7777777777777778,
             "#fb9f3a"
            ],
            [
             0.8888888888888888,
             "#fdca26"
            ],
            [
             1,
             "#f0f921"
            ]
           ],
           "sequentialminus": [
            [
             0,
             "#0d0887"
            ],
            [
             0.1111111111111111,
             "#46039f"
            ],
            [
             0.2222222222222222,
             "#7201a8"
            ],
            [
             0.3333333333333333,
             "#9c179e"
            ],
            [
             0.4444444444444444,
             "#bd3786"
            ],
            [
             0.5555555555555556,
             "#d8576b"
            ],
            [
             0.6666666666666666,
             "#ed7953"
            ],
            [
             0.7777777777777778,
             "#fb9f3a"
            ],
            [
             0.8888888888888888,
             "#fdca26"
            ],
            [
             1,
             "#f0f921"
            ]
           ]
          },
          "colorway": [
           "#636efa",
           "#EF553B",
           "#00cc96",
           "#ab63fa",
           "#FFA15A",
           "#19d3f3",
           "#FF6692",
           "#B6E880",
           "#FF97FF",
           "#FECB52"
          ],
          "font": {
           "color": "#2a3f5f"
          },
          "geo": {
           "bgcolor": "white",
           "lakecolor": "white",
           "landcolor": "#E5ECF6",
           "showlakes": true,
           "showland": true,
           "subunitcolor": "white"
          },
          "hoverlabel": {
           "align": "left"
          },
          "hovermode": "closest",
          "mapbox": {
           "style": "light"
          },
          "paper_bgcolor": "white",
          "plot_bgcolor": "#E5ECF6",
          "polar": {
           "angularaxis": {
            "gridcolor": "white",
            "linecolor": "white",
            "ticks": ""
           },
           "bgcolor": "#E5ECF6",
           "radialaxis": {
            "gridcolor": "white",
            "linecolor": "white",
            "ticks": ""
           }
          },
          "scene": {
           "xaxis": {
            "backgroundcolor": "#E5ECF6",
            "gridcolor": "white",
            "gridwidth": 2,
            "linecolor": "white",
            "showbackground": true,
            "ticks": "",
            "zerolinecolor": "white"
           },
           "yaxis": {
            "backgroundcolor": "#E5ECF6",
            "gridcolor": "white",
            "gridwidth": 2,
            "linecolor": "white",
            "showbackground": true,
            "ticks": "",
            "zerolinecolor": "white"
           },
           "zaxis": {
            "backgroundcolor": "#E5ECF6",
            "gridcolor": "white",
            "gridwidth": 2,
            "linecolor": "white",
            "showbackground": true,
            "ticks": "",
            "zerolinecolor": "white"
           }
          },
          "shapedefaults": {
           "line": {
            "color": "#2a3f5f"
           }
          },
          "ternary": {
           "aaxis": {
            "gridcolor": "white",
            "linecolor": "white",
            "ticks": ""
           },
           "baxis": {
            "gridcolor": "white",
            "linecolor": "white",
            "ticks": ""
           },
           "bgcolor": "#E5ECF6",
           "caxis": {
            "gridcolor": "white",
            "linecolor": "white",
            "ticks": ""
           }
          },
          "title": {
           "x": 0.05
          },
          "xaxis": {
           "automargin": true,
           "gridcolor": "white",
           "linecolor": "white",
           "ticks": "",
           "title": {
            "standoff": 15
           },
           "zerolinecolor": "white",
           "zerolinewidth": 2
          },
          "yaxis": {
           "automargin": true,
           "gridcolor": "white",
           "linecolor": "white",
           "ticks": "",
           "title": {
            "standoff": 15
           },
           "zerolinecolor": "white",
           "zerolinewidth": 2
          }
         }
        },
        "title": {
         "font": {
          "color": "#4D5663"
         }
        },
        "xaxis": {
         "gridcolor": "#E1E5ED",
         "showgrid": true,
         "tickfont": {
          "color": "#4D5663"
         },
         "title": {
          "font": {
           "color": "#4D5663"
          },
          "text": ""
         },
         "zerolinecolor": "#E1E5ED"
        },
        "xaxis2": {
         "anchor": "y2",
         "gridcolor": "#E1E5ED",
         "showgrid": true,
         "showticklabels": false,
         "tickfont": {
          "color": "#4D5663"
         },
         "title": {
          "font": {
           "color": "#4D5663"
          },
          "text": ""
         },
         "zerolinecolor": "#E1E5ED"
        },
        "yaxis": {
         "domain": [
          0.3,
          1
         ],
         "gridcolor": "#E1E5ED",
         "showgrid": true,
         "tickfont": {
          "color": "#4D5663"
         },
         "title": {
          "font": {
           "color": "#4D5663"
          },
          "text": ""
         },
         "zerolinecolor": "#E1E5ED"
        },
        "yaxis2": {
         "domain": [
          0,
          0.25
         ],
         "gridcolor": "#E1E5ED",
         "showgrid": true,
         "tickfont": {
          "color": "#4D5663"
         },
         "title": {
          "font": {
           "color": "#4D5663"
          },
          "text": "Spread"
         },
         "zerolinecolor": "#E1E5ED"
        }
       }
      },
      "text/html": [
       "<div>\n",
       "        \n",
       "        \n",
       "            <div id=\"b5d5b057-7435-4851-875c-4e99295949b5\" class=\"plotly-graph-div\" style=\"height:525px; width:100%;\"></div>\n",
       "            <script type=\"text/javascript\">\n",
       "                require([\"plotly\"], function(Plotly) {\n",
       "                    window.PLOTLYENV=window.PLOTLYENV || {};\n",
       "                    window.PLOTLYENV.BASE_URL='https://plot.ly';\n",
       "                    \n",
       "                if (document.getElementById(\"b5d5b057-7435-4851-875c-4e99295949b5\")) {\n",
       "                    Plotly.newPlot(\n",
       "                        'b5d5b057-7435-4851-875c-4e99295949b5',\n",
       "                        [{\"line\": {\"color\": \"rgba(255, 153, 51, 1.0)\", \"dash\": \"solid\", \"shape\": \"linear\", \"width\": 1.3}, \"mode\": \"lines\", \"name\": \"A\", \"text\": \"\", \"type\": \"scatter\", \"x\": [0, 1, 2, 3, 4, 5, 6, 7, 8, 9, 10, 11, 12, 13, 14, 15, 16, 17, 18, 19, 20, 21, 22, 23, 24, 25, 26, 27, 28, 29, 30, 31, 32, 33, 34, 35, 36, 37, 38, 39, 40, 41, 42, 43, 44, 45, 46, 47, 48, 49, 50, 51, 52, 53, 54, 55, 56, 57, 58, 59, 60, 61, 62, 63, 64, 65, 66, 67, 68, 69, 70, 71, 72, 73, 74, 75, 76, 77, 78, 79, 80, 81, 82, 83, 84, 85, 86, 87, 88, 89, 90, 91, 92, 93, 94, 95, 96, 97, 98, 99], \"y\": [0.09109850481918408, -1.1215293214001596, -0.8472103787075184, 0.047579463925629756, -0.2465006929122032, 0.355941870570774, -0.10096950094440324, -0.9072730752429058, -0.9518980001271358, 2.14097321822886, 2.1231768307689967, 0.6958977551843699, -1.583248837107644, 1.7142265839072959, -0.06646503235312974, -1.5315586252424356, 1.4934969578297246, -0.3671124610810568, -0.6464912890042264, 0.7577407259047961, -1.7888731022404905, -0.836344304627946, 2.428995088322346, 1.3927544538222227, 0.9186261627971786, 1.3069317194442132, -1.0793521680617035, 2.0008609111050646, 1.6512094667325325, 0.808956552274321, 0.7161520296684218, 0.4174688388945817, -2.055553429227154, -0.10478473559018199, -1.8414704504739363, -1.9037587104776745, -0.24550426677305848, -0.9344856372315049, 0.08519000805272456, 0.7909917218595681, 1.2112598406713257, 0.8780853775627289, 1.6391927026157413, -0.7844898993204068, -0.8200738867112358, 1.2299606960656078, 2.090198636473912, 0.967590406410828, 0.42781576469535565, 0.3740083906457488, -1.203415752416856, 0.19874074492299004, -1.0996349876019142, -0.5118885547212875, 0.6089409203104832, -0.009986668270133012, -0.9843598032066695, -0.6971112927387455, -1.0518788938535228, -1.6926464990344885, 1.895353289889859, 2.635922114037947, 1.0059778300139433, -0.9100671354086547, 0.7188149666974778, -0.9501042669394972, 2.1621864299965403, 1.1420880278768886, 0.9676235117810439, 0.5345015806889609, -0.6101501196531989, 0.23256458005975567, -0.30864952668522244, 0.8230595122750528, 0.0025476652548313684, 1.0668879463043774, -0.19717897335767187, -0.15813795755946913, -0.6178985215289267, 1.8057952496635845, 1.0511933107617695, -0.5868718647057343, -0.5351892335864168, -0.027468015311200602, -0.9442877177439853, -0.8623770708257102, 0.8948807217187174, -0.00948333496494119, -0.920057972150479, 0.6478025520263664, 0.45634160459747125, 0.29947972220377245, -0.870490121032512, -0.9493757828636347, -1.6153530988647982, -0.9529103188037132, -1.2886840902918308, -1.261963285580088, -0.12188068264694774, 0.26167595986569264]}, {\"line\": {\"color\": \"rgba(55, 128, 191, 1.0)\", \"dash\": \"solid\", \"shape\": \"linear\", \"width\": 1.3}, \"mode\": \"lines\", \"name\": \"B\", \"text\": \"\", \"type\": \"scatter\", \"x\": [0, 1, 2, 3, 4, 5, 6, 7, 8, 9, 10, 11, 12, 13, 14, 15, 16, 17, 18, 19, 20, 21, 22, 23, 24, 25, 26, 27, 28, 29, 30, 31, 32, 33, 34, 35, 36, 37, 38, 39, 40, 41, 42, 43, 44, 45, 46, 47, 48, 49, 50, 51, 52, 53, 54, 55, 56, 57, 58, 59, 60, 61, 62, 63, 64, 65, 66, 67, 68, 69, 70, 71, 72, 73, 74, 75, 76, 77, 78, 79, 80, 81, 82, 83, 84, 85, 86, 87, 88, 89, 90, 91, 92, 93, 94, 95, 96, 97, 98, 99], \"y\": [-0.8116091289192721, -0.19300472687253206, 0.42051103925632977, 0.25547064152430615, 0.4461384861944884, 0.2065840994216946, -0.0736093684561315, -0.03672123413058332, 0.6801523071485202, 1.4418046168788465, -0.5726562777833677, 0.9307098475989224, -0.5706293447478381, 0.4453994634128244, 1.4143311666416154, -1.108813199803975, -0.3125435764127994, 1.3618244709601963, -0.06427906272026955, -0.9229893610662293, 0.3065059408237643, -0.17342759515419126, 0.8429059478472343, -1.5805981154008981, -2.0267251132949027, -0.8286681556363882, 1.0616325449191493, -0.3631590237640123, 0.3245491815023166, -0.12049652048231733, -1.7794008323816055, 0.9771420985889142, 0.6937004427893335, -0.057223441643777455, 0.6845095121304248, -0.32589236102397623, 0.29680436698785867, -1.5057853650832715, 1.7496853226925513, 1.6753176110932382, -0.30540371699704194, 0.03962473472743301, 1.5236297895868112, 0.5511026209571313, 1.6053502011125302, -0.9477947708757761, 0.5084280387681843, 1.0536007000338874, -0.20842639751067635, -1.2601656190124837, 0.1042762843423615, -0.5724041204261644, -0.05409712730683168, 1.2766275991015201, 0.4813853754972735, -1.289064510835033, -1.6294448766424343, -0.2617693791137971, 0.48254519819781516, 3.1344856939051433, -0.5981856159842609, -0.7905026818503782, -0.41390096879915417, 1.211655923059735, 0.486900856960665, -0.21735166935475592, -0.6446942837755238, 1.4840688604700185, 0.21152002576581685, 0.07407353417275789, -0.6130890236210245, 0.5252383330404052, 0.6712851140907574, 0.9618939225720989, -2.447934537947344, 0.21001235145459388, -0.017514426974441534, -0.3294942746261193, -1.956893644342049, 1.3147434662972208, -2.236901795464519, -1.355670681639342, 0.3332941119737317, -1.0451492156076625, 0.3752925071061327, -1.668849441699103, -0.12344250483081605, -0.23264926766422644, 0.7332647602341967, -0.9971293585380604, -0.7676066266105527, 0.7001651960379345, -0.7022586069809715, -0.05891946102224388, 0.6873881326933733, 0.8906297185004478, 0.9638085612837739, 0.0579173716477777, 0.33464594904890277, 2.533769548275823]}, {\"connectgaps\": false, \"fill\": \"tozeroy\", \"line\": {\"color\": \"green\", \"dash\": \"solid\", \"shape\": \"linear\", \"width\": 0.5}, \"mode\": \"lines\", \"name\": \"Spread\", \"showlegend\": false, \"type\": \"scatter\", \"x\": [0, 1, 2, 3, 4, 5, 6, 7, 8, 9, 10, 11, 12, 13, 14, 15, 16, 17, 18, 19, 20, 21, 22, 23, 24, 25, 26, 27, 28, 29, 30, 31, 32, 33, 34, 35, 36, 37, 38, 39, 40, 41, 42, 43, 44, 45, 46, 47, 48, 49, 50, 51, 52, 53, 54, 55, 56, 57, 58, 59, 60, 61, 62, 63, 64, 65, 66, 67, 68, 69, 70, 71, 72, 73, 74, 75, 76, 77, 78, 79, 80, 81, 82, 83, 84, 85, 86, 87, 88, 89, 90, 91, 92, 93, 94, 95, 96, 97, 98, 99], \"xaxis\": \"x2\", \"y\": [0.9027076337384561, \"\", \"\", \"\", \"\", 0.1493577711490794, \"\", \"\", \"\", 0.6991686013500136, 2.6958331085523644, \"\", \"\", 1.2688271204944714, \"\", \"\", 1.8060405342425239, \"\", \"\", 1.6807300869710255, \"\", \"\", 1.5860891404751116, 2.973352569223121, 2.9453512760920812, 2.1355998750806013, \"\", 2.364019934869077, 1.3266602852302158, 0.9294530727566382, 2.4955528620500274, \"\", \"\", \"\", \"\", \"\", \"\", 0.5712997278517666, \"\", \"\", 1.5166635576683678, 0.8384606428352959, 0.11556291302893018, \"\", \"\", 2.1777554669413837, 1.5817705977057275, \"\", 0.636242162206032, 1.6341740096582325, \"\", 0.7711448653491544, \"\", \"\", 0.1275555448132097, 1.2790778425648999, 0.6450850734357648, \"\", \"\", \"\", 2.4935389058741197, 3.426424795888325, 1.4198787988130974, \"\", 0.2319141097368128, \"\", 2.806880713772064, \"\", 0.756103486015227, 0.46042804651620306, 0.00293890396782559, \"\", \"\", \"\", 2.4504822032021756, 0.8568755948497836, \"\", 0.17135631706665017, 1.3389951228131225, 0.4910517833663637, 3.2880951062262884, 0.7687988169336077, \"\", 1.017681200296462, \"\", 0.8064723708733929, 1.0183232265495334, 0.22316593269928525, \"\", 1.6449319105644267, 1.2239482312080239, \"\", \"\", \"\", \"\", \"\", \"\", \"\", \"\", \"\"], \"yaxis\": \"y2\"}, {\"connectgaps\": false, \"fill\": \"tozeroy\", \"line\": {\"color\": \"red\", \"dash\": \"solid\", \"shape\": \"linear\", \"width\": 0.5}, \"mode\": \"lines\", \"name\": \"Spread\", \"showlegend\": false, \"type\": \"scatter\", \"x\": [0, 1, 2, 3, 4, 5, 6, 7, 8, 9, 10, 11, 12, 13, 14, 15, 16, 17, 18, 19, 20, 21, 22, 23, 24, 25, 26, 27, 28, 29, 30, 31, 32, 33, 34, 35, 36, 37, 38, 39, 40, 41, 42, 43, 44, 45, 46, 47, 48, 49, 50, 51, 52, 53, 54, 55, 56, 57, 58, 59, 60, 61, 62, 63, 64, 65, 66, 67, 68, 69, 70, 71, 72, 73, 74, 75, 76, 77, 78, 79, 80, 81, 82, 83, 84, 85, 86, 87, 88, 89, 90, 91, 92, 93, 94, 95, 96, 97, 98, 99], \"xaxis\": \"x2\", \"y\": [\"\", -0.9285245945276275, -1.267721417963848, -0.2078911775986764, -0.6926391791066916, \"\", -0.027360132488271738, -0.8705518411123224, -1.632050307275656, \"\", \"\", -0.23481209241455248, -1.012619492359806, \"\", -1.4807961989947451, -0.4227454254384606, \"\", -1.728936932041253, -0.5822122262839569, \"\", -2.0953790430642547, -0.6629167094737547, \"\", \"\", \"\", \"\", -2.1409847129808526, \"\", \"\", \"\", \"\", -0.5596732596943326, -2.7492538720164874, -0.047561293946404536, -2.525979962604361, -1.5778663494536982, -0.5423086337609171, \"\", -1.6644953146398267, -0.8843258892336701, \"\", \"\", \"\", -1.335592520277538, -2.425424087823766, \"\", \"\", -0.08601029362305934, \"\", \"\", -1.3076920367592175, \"\", -1.0455378602950827, -1.7885161538228076, \"\", \"\", \"\", -0.4353419136249484, -1.5344240920513381, -4.827132192939632, \"\", \"\", \"\", -2.1217230584683895, \"\", -0.7327525975847413, \"\", -0.34198083259312995, \"\", \"\", \"\", -0.29267375298064957, -0.9799346407759799, -0.13883441029704613, \"\", \"\", -0.17966454638323034, \"\", \"\", \"\", \"\", \"\", -0.8684833455601485, \"\", -1.319580224850118, \"\", \"\", \"\", -1.6533227323846758, \"\", \"\", -0.40068547383416203, -0.16823151405154047, -0.8904563218413908, -2.3027412315581715, -1.843540037304161, -2.2524926515756047, -1.3198806572278656, -0.4565266316958505, -2.2720935884101303], \"yaxis\": \"y2\"}],\n",
       "                        {\"hovermode\": \"x\", \"legend\": {\"bgcolor\": \"#F5F6F9\", \"font\": {\"color\": \"#4D5663\"}}, \"paper_bgcolor\": \"#F5F6F9\", \"plot_bgcolor\": \"#F5F6F9\", \"template\": {\"data\": {\"bar\": [{\"error_x\": {\"color\": \"#2a3f5f\"}, \"error_y\": {\"color\": \"#2a3f5f\"}, \"marker\": {\"line\": {\"color\": \"#E5ECF6\", \"width\": 0.5}}, \"type\": \"bar\"}], \"barpolar\": [{\"marker\": {\"line\": {\"color\": \"#E5ECF6\", \"width\": 0.5}}, \"type\": \"barpolar\"}], \"carpet\": [{\"aaxis\": {\"endlinecolor\": \"#2a3f5f\", \"gridcolor\": \"white\", \"linecolor\": \"white\", \"minorgridcolor\": \"white\", \"startlinecolor\": \"#2a3f5f\"}, \"baxis\": {\"endlinecolor\": \"#2a3f5f\", \"gridcolor\": \"white\", \"linecolor\": \"white\", \"minorgridcolor\": \"white\", \"startlinecolor\": \"#2a3f5f\"}, \"type\": \"carpet\"}], \"choropleth\": [{\"colorbar\": {\"outlinewidth\": 0, \"ticks\": \"\"}, \"type\": \"choropleth\"}], \"contour\": [{\"colorbar\": {\"outlinewidth\": 0, \"ticks\": \"\"}, \"colorscale\": [[0.0, \"#0d0887\"], [0.1111111111111111, \"#46039f\"], [0.2222222222222222, \"#7201a8\"], [0.3333333333333333, \"#9c179e\"], [0.4444444444444444, \"#bd3786\"], [0.5555555555555556, \"#d8576b\"], [0.6666666666666666, \"#ed7953\"], [0.7777777777777778, \"#fb9f3a\"], [0.8888888888888888, \"#fdca26\"], [1.0, \"#f0f921\"]], \"type\": \"contour\"}], \"contourcarpet\": [{\"colorbar\": {\"outlinewidth\": 0, \"ticks\": \"\"}, \"type\": \"contourcarpet\"}], \"heatmap\": [{\"colorbar\": {\"outlinewidth\": 0, \"ticks\": \"\"}, \"colorscale\": [[0.0, \"#0d0887\"], [0.1111111111111111, \"#46039f\"], [0.2222222222222222, \"#7201a8\"], [0.3333333333333333, \"#9c179e\"], [0.4444444444444444, \"#bd3786\"], [0.5555555555555556, \"#d8576b\"], [0.6666666666666666, \"#ed7953\"], [0.7777777777777778, \"#fb9f3a\"], [0.8888888888888888, \"#fdca26\"], [1.0, \"#f0f921\"]], \"type\": \"heatmap\"}], \"heatmapgl\": [{\"colorbar\": {\"outlinewidth\": 0, \"ticks\": \"\"}, \"colorscale\": [[0.0, \"#0d0887\"], [0.1111111111111111, \"#46039f\"], [0.2222222222222222, \"#7201a8\"], [0.3333333333333333, \"#9c179e\"], [0.4444444444444444, \"#bd3786\"], [0.5555555555555556, \"#d8576b\"], [0.6666666666666666, \"#ed7953\"], [0.7777777777777778, \"#fb9f3a\"], [0.8888888888888888, \"#fdca26\"], [1.0, \"#f0f921\"]], \"type\": \"heatmapgl\"}], \"histogram\": [{\"marker\": {\"colorbar\": {\"outlinewidth\": 0, \"ticks\": \"\"}}, \"type\": \"histogram\"}], \"histogram2d\": [{\"colorbar\": {\"outlinewidth\": 0, \"ticks\": \"\"}, \"colorscale\": [[0.0, \"#0d0887\"], [0.1111111111111111, \"#46039f\"], [0.2222222222222222, \"#7201a8\"], [0.3333333333333333, \"#9c179e\"], [0.4444444444444444, \"#bd3786\"], [0.5555555555555556, \"#d8576b\"], [0.6666666666666666, \"#ed7953\"], [0.7777777777777778, \"#fb9f3a\"], [0.8888888888888888, \"#fdca26\"], [1.0, \"#f0f921\"]], \"type\": \"histogram2d\"}], \"histogram2dcontour\": [{\"colorbar\": {\"outlinewidth\": 0, \"ticks\": \"\"}, \"colorscale\": [[0.0, \"#0d0887\"], [0.1111111111111111, \"#46039f\"], [0.2222222222222222, \"#7201a8\"], [0.3333333333333333, \"#9c179e\"], [0.4444444444444444, \"#bd3786\"], [0.5555555555555556, \"#d8576b\"], [0.6666666666666666, \"#ed7953\"], [0.7777777777777778, \"#fb9f3a\"], [0.8888888888888888, \"#fdca26\"], [1.0, \"#f0f921\"]], \"type\": \"histogram2dcontour\"}], \"mesh3d\": [{\"colorbar\": {\"outlinewidth\": 0, \"ticks\": \"\"}, \"type\": \"mesh3d\"}], \"parcoords\": [{\"line\": {\"colorbar\": {\"outlinewidth\": 0, \"ticks\": \"\"}}, \"type\": \"parcoords\"}], \"pie\": [{\"automargin\": true, \"type\": \"pie\"}], \"scatter\": [{\"marker\": {\"colorbar\": {\"outlinewidth\": 0, \"ticks\": \"\"}}, \"type\": \"scatter\"}], \"scatter3d\": [{\"line\": {\"colorbar\": {\"outlinewidth\": 0, \"ticks\": \"\"}}, \"marker\": {\"colorbar\": {\"outlinewidth\": 0, \"ticks\": \"\"}}, \"type\": \"scatter3d\"}], \"scattercarpet\": [{\"marker\": {\"colorbar\": {\"outlinewidth\": 0, \"ticks\": \"\"}}, \"type\": \"scattercarpet\"}], \"scattergeo\": [{\"marker\": {\"colorbar\": {\"outlinewidth\": 0, \"ticks\": \"\"}}, \"type\": \"scattergeo\"}], \"scattergl\": [{\"marker\": {\"colorbar\": {\"outlinewidth\": 0, \"ticks\": \"\"}}, \"type\": \"scattergl\"}], \"scattermapbox\": [{\"marker\": {\"colorbar\": {\"outlinewidth\": 0, \"ticks\": \"\"}}, \"type\": \"scattermapbox\"}], \"scatterpolar\": [{\"marker\": {\"colorbar\": {\"outlinewidth\": 0, \"ticks\": \"\"}}, \"type\": \"scatterpolar\"}], \"scatterpolargl\": [{\"marker\": {\"colorbar\": {\"outlinewidth\": 0, \"ticks\": \"\"}}, \"type\": \"scatterpolargl\"}], \"scatterternary\": [{\"marker\": {\"colorbar\": {\"outlinewidth\": 0, \"ticks\": \"\"}}, \"type\": \"scatterternary\"}], \"surface\": [{\"colorbar\": {\"outlinewidth\": 0, \"ticks\": \"\"}, \"colorscale\": [[0.0, \"#0d0887\"], [0.1111111111111111, \"#46039f\"], [0.2222222222222222, \"#7201a8\"], [0.3333333333333333, \"#9c179e\"], [0.4444444444444444, \"#bd3786\"], [0.5555555555555556, \"#d8576b\"], [0.6666666666666666, \"#ed7953\"], [0.7777777777777778, \"#fb9f3a\"], [0.8888888888888888, \"#fdca26\"], [1.0, \"#f0f921\"]], \"type\": \"surface\"}], \"table\": [{\"cells\": {\"fill\": {\"color\": \"#EBF0F8\"}, \"line\": {\"color\": \"white\"}}, \"header\": {\"fill\": {\"color\": \"#C8D4E3\"}, \"line\": {\"color\": \"white\"}}, \"type\": \"table\"}]}, \"layout\": {\"annotationdefaults\": {\"arrowcolor\": \"#2a3f5f\", \"arrowhead\": 0, \"arrowwidth\": 1}, \"coloraxis\": {\"colorbar\": {\"outlinewidth\": 0, \"ticks\": \"\"}}, \"colorscale\": {\"diverging\": [[0, \"#8e0152\"], [0.1, \"#c51b7d\"], [0.2, \"#de77ae\"], [0.3, \"#f1b6da\"], [0.4, \"#fde0ef\"], [0.5, \"#f7f7f7\"], [0.6, \"#e6f5d0\"], [0.7, \"#b8e186\"], [0.8, \"#7fbc41\"], [0.9, \"#4d9221\"], [1, \"#276419\"]], \"sequential\": [[0.0, \"#0d0887\"], [0.1111111111111111, \"#46039f\"], [0.2222222222222222, \"#7201a8\"], [0.3333333333333333, \"#9c179e\"], [0.4444444444444444, \"#bd3786\"], [0.5555555555555556, \"#d8576b\"], [0.6666666666666666, \"#ed7953\"], [0.7777777777777778, \"#fb9f3a\"], [0.8888888888888888, \"#fdca26\"], [1.0, \"#f0f921\"]], \"sequentialminus\": [[0.0, \"#0d0887\"], [0.1111111111111111, \"#46039f\"], [0.2222222222222222, \"#7201a8\"], [0.3333333333333333, \"#9c179e\"], [0.4444444444444444, \"#bd3786\"], [0.5555555555555556, \"#d8576b\"], [0.6666666666666666, \"#ed7953\"], [0.7777777777777778, \"#fb9f3a\"], [0.8888888888888888, \"#fdca26\"], [1.0, \"#f0f921\"]]}, \"colorway\": [\"#636efa\", \"#EF553B\", \"#00cc96\", \"#ab63fa\", \"#FFA15A\", \"#19d3f3\", \"#FF6692\", \"#B6E880\", \"#FF97FF\", \"#FECB52\"], \"font\": {\"color\": \"#2a3f5f\"}, \"geo\": {\"bgcolor\": \"white\", \"lakecolor\": \"white\", \"landcolor\": \"#E5ECF6\", \"showlakes\": true, \"showland\": true, \"subunitcolor\": \"white\"}, \"hoverlabel\": {\"align\": \"left\"}, \"hovermode\": \"closest\", \"mapbox\": {\"style\": \"light\"}, \"paper_bgcolor\": \"white\", \"plot_bgcolor\": \"#E5ECF6\", \"polar\": {\"angularaxis\": {\"gridcolor\": \"white\", \"linecolor\": \"white\", \"ticks\": \"\"}, \"bgcolor\": \"#E5ECF6\", \"radialaxis\": {\"gridcolor\": \"white\", \"linecolor\": \"white\", \"ticks\": \"\"}}, \"scene\": {\"xaxis\": {\"backgroundcolor\": \"#E5ECF6\", \"gridcolor\": \"white\", \"gridwidth\": 2, \"linecolor\": \"white\", \"showbackground\": true, \"ticks\": \"\", \"zerolinecolor\": \"white\"}, \"yaxis\": {\"backgroundcolor\": \"#E5ECF6\", \"gridcolor\": \"white\", \"gridwidth\": 2, \"linecolor\": \"white\", \"showbackground\": true, \"ticks\": \"\", \"zerolinecolor\": \"white\"}, \"zaxis\": {\"backgroundcolor\": \"#E5ECF6\", \"gridcolor\": \"white\", \"gridwidth\": 2, \"linecolor\": \"white\", \"showbackground\": true, \"ticks\": \"\", \"zerolinecolor\": \"white\"}}, \"shapedefaults\": {\"line\": {\"color\": \"#2a3f5f\"}}, \"ternary\": {\"aaxis\": {\"gridcolor\": \"white\", \"linecolor\": \"white\", \"ticks\": \"\"}, \"baxis\": {\"gridcolor\": \"white\", \"linecolor\": \"white\", \"ticks\": \"\"}, \"bgcolor\": \"#E5ECF6\", \"caxis\": {\"gridcolor\": \"white\", \"linecolor\": \"white\", \"ticks\": \"\"}}, \"title\": {\"x\": 0.05}, \"xaxis\": {\"automargin\": true, \"gridcolor\": \"white\", \"linecolor\": \"white\", \"ticks\": \"\", \"title\": {\"standoff\": 15}, \"zerolinecolor\": \"white\", \"zerolinewidth\": 2}, \"yaxis\": {\"automargin\": true, \"gridcolor\": \"white\", \"linecolor\": \"white\", \"ticks\": \"\", \"title\": {\"standoff\": 15}, \"zerolinecolor\": \"white\", \"zerolinewidth\": 2}}}, \"title\": {\"font\": {\"color\": \"#4D5663\"}}, \"xaxis\": {\"gridcolor\": \"#E1E5ED\", \"showgrid\": true, \"tickfont\": {\"color\": \"#4D5663\"}, \"title\": {\"font\": {\"color\": \"#4D5663\"}, \"text\": \"\"}, \"zerolinecolor\": \"#E1E5ED\"}, \"xaxis2\": {\"anchor\": \"y2\", \"gridcolor\": \"#E1E5ED\", \"showgrid\": true, \"showticklabels\": false, \"tickfont\": {\"color\": \"#4D5663\"}, \"title\": {\"font\": {\"color\": \"#4D5663\"}, \"text\": \"\"}, \"zerolinecolor\": \"#E1E5ED\"}, \"yaxis\": {\"domain\": [0.3, 1], \"gridcolor\": \"#E1E5ED\", \"showgrid\": true, \"tickfont\": {\"color\": \"#4D5663\"}, \"title\": {\"font\": {\"color\": \"#4D5663\"}, \"text\": \"\"}, \"zerolinecolor\": \"#E1E5ED\"}, \"yaxis2\": {\"domain\": [0, 0.25], \"gridcolor\": \"#E1E5ED\", \"showgrid\": true, \"tickfont\": {\"color\": \"#4D5663\"}, \"title\": {\"font\": {\"color\": \"#4D5663\"}, \"text\": \"Spread\"}, \"zerolinecolor\": \"#E1E5ED\"}},\n",
       "                        {\"showLink\": true, \"linkText\": \"Export to plot.ly\", \"plotlyServerURL\": \"https://plot.ly\", \"responsive\": true}\n",
       "                    ).then(function(){\n",
       "                            \n",
       "var gd = document.getElementById('b5d5b057-7435-4851-875c-4e99295949b5');\n",
       "var x = new MutationObserver(function (mutations, observer) {{\n",
       "        var display = window.getComputedStyle(gd).display;\n",
       "        if (!display || display === 'none') {{\n",
       "            console.log([gd, 'removed!']);\n",
       "            Plotly.purge(gd);\n",
       "            observer.disconnect();\n",
       "        }}\n",
       "}});\n",
       "\n",
       "// Listen for the removal of the full notebook cells\n",
       "var notebookContainer = gd.closest('#notebook-container');\n",
       "if (notebookContainer) {{\n",
       "    x.observe(notebookContainer, {childList: true});\n",
       "}}\n",
       "\n",
       "// Listen for the clearing of the current output cell\n",
       "var outputEl = gd.closest('.output');\n",
       "if (outputEl) {{\n",
       "    x.observe(outputEl, {childList: true});\n",
       "}}\n",
       "\n",
       "                        })\n",
       "                };\n",
       "                });\n",
       "            </script>\n",
       "        </div>"
      ]
     },
     "metadata": {},
     "output_type": "display_data"
    }
   ],
   "source": [
    "df[['A','B']].iplot(kind='spread');"
   ]
  },
  {
   "cell_type": "markdown",
   "metadata": {},
   "source": [
    "## Histogram"
   ]
  },
  {
   "cell_type": "code",
   "execution_count": 16,
   "metadata": {},
   "outputs": [
    {
     "data": {
      "application/vnd.plotly.v1+json": {
       "config": {
        "linkText": "Export to plot.ly",
        "plotlyServerURL": "https://plot.ly",
        "showLink": true
       },
       "data": [
        {
         "histfunc": "count",
         "histnorm": "",
         "marker": {
          "color": "rgba(255, 153, 51, 1.0)",
          "line": {
           "color": "#4D5663",
           "width": 1.3
          }
         },
         "name": "A",
         "nbinsx": 25,
         "opacity": 0.8,
         "orientation": "v",
         "type": "histogram",
         "x": [
          0.09109850481918408,
          -1.1215293214001596,
          -0.8472103787075184,
          0.047579463925629756,
          -0.2465006929122032,
          0.355941870570774,
          -0.10096950094440324,
          -0.9072730752429058,
          -0.9518980001271358,
          2.14097321822886,
          2.1231768307689967,
          0.6958977551843699,
          -1.583248837107644,
          1.7142265839072959,
          -0.06646503235312974,
          -1.5315586252424356,
          1.4934969578297246,
          -0.3671124610810568,
          -0.6464912890042264,
          0.7577407259047961,
          -1.7888731022404905,
          -0.836344304627946,
          2.428995088322346,
          1.3927544538222227,
          0.9186261627971786,
          1.3069317194442132,
          -1.0793521680617035,
          2.0008609111050646,
          1.6512094667325325,
          0.808956552274321,
          0.7161520296684218,
          0.4174688388945817,
          -2.055553429227154,
          -0.10478473559018199,
          -1.8414704504739363,
          -1.9037587104776745,
          -0.24550426677305848,
          -0.9344856372315049,
          0.08519000805272456,
          0.7909917218595681,
          1.2112598406713257,
          0.8780853775627289,
          1.6391927026157413,
          -0.7844898993204068,
          -0.8200738867112358,
          1.2299606960656078,
          2.090198636473912,
          0.967590406410828,
          0.42781576469535565,
          0.3740083906457488,
          -1.203415752416856,
          0.19874074492299004,
          -1.0996349876019142,
          -0.5118885547212875,
          0.6089409203104832,
          -0.009986668270133012,
          -0.9843598032066695,
          -0.6971112927387455,
          -1.0518788938535228,
          -1.6926464990344885,
          1.895353289889859,
          2.635922114037947,
          1.0059778300139433,
          -0.9100671354086547,
          0.7188149666974778,
          -0.9501042669394972,
          2.1621864299965403,
          1.1420880278768886,
          0.9676235117810439,
          0.5345015806889609,
          -0.6101501196531989,
          0.23256458005975567,
          -0.30864952668522244,
          0.8230595122750528,
          0.0025476652548313684,
          1.0668879463043774,
          -0.19717897335767187,
          -0.15813795755946913,
          -0.6178985215289267,
          1.8057952496635845,
          1.0511933107617695,
          -0.5868718647057343,
          -0.5351892335864168,
          -0.027468015311200602,
          -0.9442877177439853,
          -0.8623770708257102,
          0.8948807217187174,
          -0.00948333496494119,
          -0.920057972150479,
          0.6478025520263664,
          0.45634160459747125,
          0.29947972220377245,
          -0.870490121032512,
          -0.9493757828636347,
          -1.6153530988647982,
          -0.9529103188037132,
          -1.2886840902918308,
          -1.261963285580088,
          -0.12188068264694774,
          0.26167595986569264
         ]
        }
       ],
       "layout": {
        "barmode": "overlay",
        "legend": {
         "bgcolor": "#F5F6F9",
         "font": {
          "color": "#4D5663"
         }
        },
        "paper_bgcolor": "#F5F6F9",
        "plot_bgcolor": "#F5F6F9",
        "template": {
         "data": {
          "bar": [
           {
            "error_x": {
             "color": "#2a3f5f"
            },
            "error_y": {
             "color": "#2a3f5f"
            },
            "marker": {
             "line": {
              "color": "#E5ECF6",
              "width": 0.5
             }
            },
            "type": "bar"
           }
          ],
          "barpolar": [
           {
            "marker": {
             "line": {
              "color": "#E5ECF6",
              "width": 0.5
             }
            },
            "type": "barpolar"
           }
          ],
          "carpet": [
           {
            "aaxis": {
             "endlinecolor": "#2a3f5f",
             "gridcolor": "white",
             "linecolor": "white",
             "minorgridcolor": "white",
             "startlinecolor": "#2a3f5f"
            },
            "baxis": {
             "endlinecolor": "#2a3f5f",
             "gridcolor": "white",
             "linecolor": "white",
             "minorgridcolor": "white",
             "startlinecolor": "#2a3f5f"
            },
            "type": "carpet"
           }
          ],
          "choropleth": [
           {
            "colorbar": {
             "outlinewidth": 0,
             "ticks": ""
            },
            "type": "choropleth"
           }
          ],
          "contour": [
           {
            "colorbar": {
             "outlinewidth": 0,
             "ticks": ""
            },
            "colorscale": [
             [
              0,
              "#0d0887"
             ],
             [
              0.1111111111111111,
              "#46039f"
             ],
             [
              0.2222222222222222,
              "#7201a8"
             ],
             [
              0.3333333333333333,
              "#9c179e"
             ],
             [
              0.4444444444444444,
              "#bd3786"
             ],
             [
              0.5555555555555556,
              "#d8576b"
             ],
             [
              0.6666666666666666,
              "#ed7953"
             ],
             [
              0.7777777777777778,
              "#fb9f3a"
             ],
             [
              0.8888888888888888,
              "#fdca26"
             ],
             [
              1,
              "#f0f921"
             ]
            ],
            "type": "contour"
           }
          ],
          "contourcarpet": [
           {
            "colorbar": {
             "outlinewidth": 0,
             "ticks": ""
            },
            "type": "contourcarpet"
           }
          ],
          "heatmap": [
           {
            "colorbar": {
             "outlinewidth": 0,
             "ticks": ""
            },
            "colorscale": [
             [
              0,
              "#0d0887"
             ],
             [
              0.1111111111111111,
              "#46039f"
             ],
             [
              0.2222222222222222,
              "#7201a8"
             ],
             [
              0.3333333333333333,
              "#9c179e"
             ],
             [
              0.4444444444444444,
              "#bd3786"
             ],
             [
              0.5555555555555556,
              "#d8576b"
             ],
             [
              0.6666666666666666,
              "#ed7953"
             ],
             [
              0.7777777777777778,
              "#fb9f3a"
             ],
             [
              0.8888888888888888,
              "#fdca26"
             ],
             [
              1,
              "#f0f921"
             ]
            ],
            "type": "heatmap"
           }
          ],
          "heatmapgl": [
           {
            "colorbar": {
             "outlinewidth": 0,
             "ticks": ""
            },
            "colorscale": [
             [
              0,
              "#0d0887"
             ],
             [
              0.1111111111111111,
              "#46039f"
             ],
             [
              0.2222222222222222,
              "#7201a8"
             ],
             [
              0.3333333333333333,
              "#9c179e"
             ],
             [
              0.4444444444444444,
              "#bd3786"
             ],
             [
              0.5555555555555556,
              "#d8576b"
             ],
             [
              0.6666666666666666,
              "#ed7953"
             ],
             [
              0.7777777777777778,
              "#fb9f3a"
             ],
             [
              0.8888888888888888,
              "#fdca26"
             ],
             [
              1,
              "#f0f921"
             ]
            ],
            "type": "heatmapgl"
           }
          ],
          "histogram": [
           {
            "marker": {
             "colorbar": {
              "outlinewidth": 0,
              "ticks": ""
             }
            },
            "type": "histogram"
           }
          ],
          "histogram2d": [
           {
            "colorbar": {
             "outlinewidth": 0,
             "ticks": ""
            },
            "colorscale": [
             [
              0,
              "#0d0887"
             ],
             [
              0.1111111111111111,
              "#46039f"
             ],
             [
              0.2222222222222222,
              "#7201a8"
             ],
             [
              0.3333333333333333,
              "#9c179e"
             ],
             [
              0.4444444444444444,
              "#bd3786"
             ],
             [
              0.5555555555555556,
              "#d8576b"
             ],
             [
              0.6666666666666666,
              "#ed7953"
             ],
             [
              0.7777777777777778,
              "#fb9f3a"
             ],
             [
              0.8888888888888888,
              "#fdca26"
             ],
             [
              1,
              "#f0f921"
             ]
            ],
            "type": "histogram2d"
           }
          ],
          "histogram2dcontour": [
           {
            "colorbar": {
             "outlinewidth": 0,
             "ticks": ""
            },
            "colorscale": [
             [
              0,
              "#0d0887"
             ],
             [
              0.1111111111111111,
              "#46039f"
             ],
             [
              0.2222222222222222,
              "#7201a8"
             ],
             [
              0.3333333333333333,
              "#9c179e"
             ],
             [
              0.4444444444444444,
              "#bd3786"
             ],
             [
              0.5555555555555556,
              "#d8576b"
             ],
             [
              0.6666666666666666,
              "#ed7953"
             ],
             [
              0.7777777777777778,
              "#fb9f3a"
             ],
             [
              0.8888888888888888,
              "#fdca26"
             ],
             [
              1,
              "#f0f921"
             ]
            ],
            "type": "histogram2dcontour"
           }
          ],
          "mesh3d": [
           {
            "colorbar": {
             "outlinewidth": 0,
             "ticks": ""
            },
            "type": "mesh3d"
           }
          ],
          "parcoords": [
           {
            "line": {
             "colorbar": {
              "outlinewidth": 0,
              "ticks": ""
             }
            },
            "type": "parcoords"
           }
          ],
          "pie": [
           {
            "automargin": true,
            "type": "pie"
           }
          ],
          "scatter": [
           {
            "marker": {
             "colorbar": {
              "outlinewidth": 0,
              "ticks": ""
             }
            },
            "type": "scatter"
           }
          ],
          "scatter3d": [
           {
            "line": {
             "colorbar": {
              "outlinewidth": 0,
              "ticks": ""
             }
            },
            "marker": {
             "colorbar": {
              "outlinewidth": 0,
              "ticks": ""
             }
            },
            "type": "scatter3d"
           }
          ],
          "scattercarpet": [
           {
            "marker": {
             "colorbar": {
              "outlinewidth": 0,
              "ticks": ""
             }
            },
            "type": "scattercarpet"
           }
          ],
          "scattergeo": [
           {
            "marker": {
             "colorbar": {
              "outlinewidth": 0,
              "ticks": ""
             }
            },
            "type": "scattergeo"
           }
          ],
          "scattergl": [
           {
            "marker": {
             "colorbar": {
              "outlinewidth": 0,
              "ticks": ""
             }
            },
            "type": "scattergl"
           }
          ],
          "scattermapbox": [
           {
            "marker": {
             "colorbar": {
              "outlinewidth": 0,
              "ticks": ""
             }
            },
            "type": "scattermapbox"
           }
          ],
          "scatterpolar": [
           {
            "marker": {
             "colorbar": {
              "outlinewidth": 0,
              "ticks": ""
             }
            },
            "type": "scatterpolar"
           }
          ],
          "scatterpolargl": [
           {
            "marker": {
             "colorbar": {
              "outlinewidth": 0,
              "ticks": ""
             }
            },
            "type": "scatterpolargl"
           }
          ],
          "scatterternary": [
           {
            "marker": {
             "colorbar": {
              "outlinewidth": 0,
              "ticks": ""
             }
            },
            "type": "scatterternary"
           }
          ],
          "surface": [
           {
            "colorbar": {
             "outlinewidth": 0,
             "ticks": ""
            },
            "colorscale": [
             [
              0,
              "#0d0887"
             ],
             [
              0.1111111111111111,
              "#46039f"
             ],
             [
              0.2222222222222222,
              "#7201a8"
             ],
             [
              0.3333333333333333,
              "#9c179e"
             ],
             [
              0.4444444444444444,
              "#bd3786"
             ],
             [
              0.5555555555555556,
              "#d8576b"
             ],
             [
              0.6666666666666666,
              "#ed7953"
             ],
             [
              0.7777777777777778,
              "#fb9f3a"
             ],
             [
              0.8888888888888888,
              "#fdca26"
             ],
             [
              1,
              "#f0f921"
             ]
            ],
            "type": "surface"
           }
          ],
          "table": [
           {
            "cells": {
             "fill": {
              "color": "#EBF0F8"
             },
             "line": {
              "color": "white"
             }
            },
            "header": {
             "fill": {
              "color": "#C8D4E3"
             },
             "line": {
              "color": "white"
             }
            },
            "type": "table"
           }
          ]
         },
         "layout": {
          "annotationdefaults": {
           "arrowcolor": "#2a3f5f",
           "arrowhead": 0,
           "arrowwidth": 1
          },
          "coloraxis": {
           "colorbar": {
            "outlinewidth": 0,
            "ticks": ""
           }
          },
          "colorscale": {
           "diverging": [
            [
             0,
             "#8e0152"
            ],
            [
             0.1,
             "#c51b7d"
            ],
            [
             0.2,
             "#de77ae"
            ],
            [
             0.3,
             "#f1b6da"
            ],
            [
             0.4,
             "#fde0ef"
            ],
            [
             0.5,
             "#f7f7f7"
            ],
            [
             0.6,
             "#e6f5d0"
            ],
            [
             0.7,
             "#b8e186"
            ],
            [
             0.8,
             "#7fbc41"
            ],
            [
             0.9,
             "#4d9221"
            ],
            [
             1,
             "#276419"
            ]
           ],
           "sequential": [
            [
             0,
             "#0d0887"
            ],
            [
             0.1111111111111111,
             "#46039f"
            ],
            [
             0.2222222222222222,
             "#7201a8"
            ],
            [
             0.3333333333333333,
             "#9c179e"
            ],
            [
             0.4444444444444444,
             "#bd3786"
            ],
            [
             0.5555555555555556,
             "#d8576b"
            ],
            [
             0.6666666666666666,
             "#ed7953"
            ],
            [
             0.7777777777777778,
             "#fb9f3a"
            ],
            [
             0.8888888888888888,
             "#fdca26"
            ],
            [
             1,
             "#f0f921"
            ]
           ],
           "sequentialminus": [
            [
             0,
             "#0d0887"
            ],
            [
             0.1111111111111111,
             "#46039f"
            ],
            [
             0.2222222222222222,
             "#7201a8"
            ],
            [
             0.3333333333333333,
             "#9c179e"
            ],
            [
             0.4444444444444444,
             "#bd3786"
            ],
            [
             0.5555555555555556,
             "#d8576b"
            ],
            [
             0.6666666666666666,
             "#ed7953"
            ],
            [
             0.7777777777777778,
             "#fb9f3a"
            ],
            [
             0.8888888888888888,
             "#fdca26"
            ],
            [
             1,
             "#f0f921"
            ]
           ]
          },
          "colorway": [
           "#636efa",
           "#EF553B",
           "#00cc96",
           "#ab63fa",
           "#FFA15A",
           "#19d3f3",
           "#FF6692",
           "#B6E880",
           "#FF97FF",
           "#FECB52"
          ],
          "font": {
           "color": "#2a3f5f"
          },
          "geo": {
           "bgcolor": "white",
           "lakecolor": "white",
           "landcolor": "#E5ECF6",
           "showlakes": true,
           "showland": true,
           "subunitcolor": "white"
          },
          "hoverlabel": {
           "align": "left"
          },
          "hovermode": "closest",
          "mapbox": {
           "style": "light"
          },
          "paper_bgcolor": "white",
          "plot_bgcolor": "#E5ECF6",
          "polar": {
           "angularaxis": {
            "gridcolor": "white",
            "linecolor": "white",
            "ticks": ""
           },
           "bgcolor": "#E5ECF6",
           "radialaxis": {
            "gridcolor": "white",
            "linecolor": "white",
            "ticks": ""
           }
          },
          "scene": {
           "xaxis": {
            "backgroundcolor": "#E5ECF6",
            "gridcolor": "white",
            "gridwidth": 2,
            "linecolor": "white",
            "showbackground": true,
            "ticks": "",
            "zerolinecolor": "white"
           },
           "yaxis": {
            "backgroundcolor": "#E5ECF6",
            "gridcolor": "white",
            "gridwidth": 2,
            "linecolor": "white",
            "showbackground": true,
            "ticks": "",
            "zerolinecolor": "white"
           },
           "zaxis": {
            "backgroundcolor": "#E5ECF6",
            "gridcolor": "white",
            "gridwidth": 2,
            "linecolor": "white",
            "showbackground": true,
            "ticks": "",
            "zerolinecolor": "white"
           }
          },
          "shapedefaults": {
           "line": {
            "color": "#2a3f5f"
           }
          },
          "ternary": {
           "aaxis": {
            "gridcolor": "white",
            "linecolor": "white",
            "ticks": ""
           },
           "baxis": {
            "gridcolor": "white",
            "linecolor": "white",
            "ticks": ""
           },
           "bgcolor": "#E5ECF6",
           "caxis": {
            "gridcolor": "white",
            "linecolor": "white",
            "ticks": ""
           }
          },
          "title": {
           "x": 0.05
          },
          "xaxis": {
           "automargin": true,
           "gridcolor": "white",
           "linecolor": "white",
           "ticks": "",
           "title": {
            "standoff": 15
           },
           "zerolinecolor": "white",
           "zerolinewidth": 2
          },
          "yaxis": {
           "automargin": true,
           "gridcolor": "white",
           "linecolor": "white",
           "ticks": "",
           "title": {
            "standoff": 15
           },
           "zerolinecolor": "white",
           "zerolinewidth": 2
          }
         }
        },
        "title": {
         "font": {
          "color": "#4D5663"
         }
        },
        "xaxis": {
         "gridcolor": "#E1E5ED",
         "showgrid": true,
         "tickfont": {
          "color": "#4D5663"
         },
         "title": {
          "font": {
           "color": "#4D5663"
          },
          "text": ""
         },
         "zerolinecolor": "#E1E5ED"
        },
        "yaxis": {
         "gridcolor": "#E1E5ED",
         "showgrid": true,
         "tickfont": {
          "color": "#4D5663"
         },
         "title": {
          "font": {
           "color": "#4D5663"
          },
          "text": ""
         },
         "zerolinecolor": "#E1E5ED"
        }
       }
      },
      "text/html": [
       "<div>\n",
       "        \n",
       "        \n",
       "            <div id=\"935472c8-6c6f-46d0-8071-77e0f18f9358\" class=\"plotly-graph-div\" style=\"height:525px; width:100%;\"></div>\n",
       "            <script type=\"text/javascript\">\n",
       "                require([\"plotly\"], function(Plotly) {\n",
       "                    window.PLOTLYENV=window.PLOTLYENV || {};\n",
       "                    window.PLOTLYENV.BASE_URL='https://plot.ly';\n",
       "                    \n",
       "                if (document.getElementById(\"935472c8-6c6f-46d0-8071-77e0f18f9358\")) {\n",
       "                    Plotly.newPlot(\n",
       "                        '935472c8-6c6f-46d0-8071-77e0f18f9358',\n",
       "                        [{\"histfunc\": \"count\", \"histnorm\": \"\", \"marker\": {\"color\": \"rgba(255, 153, 51, 1.0)\", \"line\": {\"color\": \"#4D5663\", \"width\": 1.3}}, \"name\": \"A\", \"nbinsx\": 25, \"opacity\": 0.8, \"orientation\": \"v\", \"type\": \"histogram\", \"x\": [0.09109850481918408, -1.1215293214001596, -0.8472103787075184, 0.047579463925629756, -0.2465006929122032, 0.355941870570774, -0.10096950094440324, -0.9072730752429058, -0.9518980001271358, 2.14097321822886, 2.1231768307689967, 0.6958977551843699, -1.583248837107644, 1.7142265839072959, -0.06646503235312974, -1.5315586252424356, 1.4934969578297246, -0.3671124610810568, -0.6464912890042264, 0.7577407259047961, -1.7888731022404905, -0.836344304627946, 2.428995088322346, 1.3927544538222227, 0.9186261627971786, 1.3069317194442132, -1.0793521680617035, 2.0008609111050646, 1.6512094667325325, 0.808956552274321, 0.7161520296684218, 0.4174688388945817, -2.055553429227154, -0.10478473559018199, -1.8414704504739363, -1.9037587104776745, -0.24550426677305848, -0.9344856372315049, 0.08519000805272456, 0.7909917218595681, 1.2112598406713257, 0.8780853775627289, 1.6391927026157413, -0.7844898993204068, -0.8200738867112358, 1.2299606960656078, 2.090198636473912, 0.967590406410828, 0.42781576469535565, 0.3740083906457488, -1.203415752416856, 0.19874074492299004, -1.0996349876019142, -0.5118885547212875, 0.6089409203104832, -0.009986668270133012, -0.9843598032066695, -0.6971112927387455, -1.0518788938535228, -1.6926464990344885, 1.895353289889859, 2.635922114037947, 1.0059778300139433, -0.9100671354086547, 0.7188149666974778, -0.9501042669394972, 2.1621864299965403, 1.1420880278768886, 0.9676235117810439, 0.5345015806889609, -0.6101501196531989, 0.23256458005975567, -0.30864952668522244, 0.8230595122750528, 0.0025476652548313684, 1.0668879463043774, -0.19717897335767187, -0.15813795755946913, -0.6178985215289267, 1.8057952496635845, 1.0511933107617695, -0.5868718647057343, -0.5351892335864168, -0.027468015311200602, -0.9442877177439853, -0.8623770708257102, 0.8948807217187174, -0.00948333496494119, -0.920057972150479, 0.6478025520263664, 0.45634160459747125, 0.29947972220377245, -0.870490121032512, -0.9493757828636347, -1.6153530988647982, -0.9529103188037132, -1.2886840902918308, -1.261963285580088, -0.12188068264694774, 0.26167595986569264]}],\n",
       "                        {\"barmode\": \"overlay\", \"legend\": {\"bgcolor\": \"#F5F6F9\", \"font\": {\"color\": \"#4D5663\"}}, \"paper_bgcolor\": \"#F5F6F9\", \"plot_bgcolor\": \"#F5F6F9\", \"template\": {\"data\": {\"bar\": [{\"error_x\": {\"color\": \"#2a3f5f\"}, \"error_y\": {\"color\": \"#2a3f5f\"}, \"marker\": {\"line\": {\"color\": \"#E5ECF6\", \"width\": 0.5}}, \"type\": \"bar\"}], \"barpolar\": [{\"marker\": {\"line\": {\"color\": \"#E5ECF6\", \"width\": 0.5}}, \"type\": \"barpolar\"}], \"carpet\": [{\"aaxis\": {\"endlinecolor\": \"#2a3f5f\", \"gridcolor\": \"white\", \"linecolor\": \"white\", \"minorgridcolor\": \"white\", \"startlinecolor\": \"#2a3f5f\"}, \"baxis\": {\"endlinecolor\": \"#2a3f5f\", \"gridcolor\": \"white\", \"linecolor\": \"white\", \"minorgridcolor\": \"white\", \"startlinecolor\": \"#2a3f5f\"}, \"type\": \"carpet\"}], \"choropleth\": [{\"colorbar\": {\"outlinewidth\": 0, \"ticks\": \"\"}, \"type\": \"choropleth\"}], \"contour\": [{\"colorbar\": {\"outlinewidth\": 0, \"ticks\": \"\"}, \"colorscale\": [[0.0, \"#0d0887\"], [0.1111111111111111, \"#46039f\"], [0.2222222222222222, \"#7201a8\"], [0.3333333333333333, \"#9c179e\"], [0.4444444444444444, \"#bd3786\"], [0.5555555555555556, \"#d8576b\"], [0.6666666666666666, \"#ed7953\"], [0.7777777777777778, \"#fb9f3a\"], [0.8888888888888888, \"#fdca26\"], [1.0, \"#f0f921\"]], \"type\": \"contour\"}], \"contourcarpet\": [{\"colorbar\": {\"outlinewidth\": 0, \"ticks\": \"\"}, \"type\": \"contourcarpet\"}], \"heatmap\": [{\"colorbar\": {\"outlinewidth\": 0, \"ticks\": \"\"}, \"colorscale\": [[0.0, \"#0d0887\"], [0.1111111111111111, \"#46039f\"], [0.2222222222222222, \"#7201a8\"], [0.3333333333333333, \"#9c179e\"], [0.4444444444444444, \"#bd3786\"], [0.5555555555555556, \"#d8576b\"], [0.6666666666666666, \"#ed7953\"], [0.7777777777777778, \"#fb9f3a\"], [0.8888888888888888, \"#fdca26\"], [1.0, \"#f0f921\"]], \"type\": \"heatmap\"}], \"heatmapgl\": [{\"colorbar\": {\"outlinewidth\": 0, \"ticks\": \"\"}, \"colorscale\": [[0.0, \"#0d0887\"], [0.1111111111111111, \"#46039f\"], [0.2222222222222222, \"#7201a8\"], [0.3333333333333333, \"#9c179e\"], [0.4444444444444444, \"#bd3786\"], [0.5555555555555556, \"#d8576b\"], [0.6666666666666666, \"#ed7953\"], [0.7777777777777778, \"#fb9f3a\"], [0.8888888888888888, \"#fdca26\"], [1.0, \"#f0f921\"]], \"type\": \"heatmapgl\"}], \"histogram\": [{\"marker\": {\"colorbar\": {\"outlinewidth\": 0, \"ticks\": \"\"}}, \"type\": \"histogram\"}], \"histogram2d\": [{\"colorbar\": {\"outlinewidth\": 0, \"ticks\": \"\"}, \"colorscale\": [[0.0, \"#0d0887\"], [0.1111111111111111, \"#46039f\"], [0.2222222222222222, \"#7201a8\"], [0.3333333333333333, \"#9c179e\"], [0.4444444444444444, \"#bd3786\"], [0.5555555555555556, \"#d8576b\"], [0.6666666666666666, \"#ed7953\"], [0.7777777777777778, \"#fb9f3a\"], [0.8888888888888888, \"#fdca26\"], [1.0, \"#f0f921\"]], \"type\": \"histogram2d\"}], \"histogram2dcontour\": [{\"colorbar\": {\"outlinewidth\": 0, \"ticks\": \"\"}, \"colorscale\": [[0.0, \"#0d0887\"], [0.1111111111111111, \"#46039f\"], [0.2222222222222222, \"#7201a8\"], [0.3333333333333333, \"#9c179e\"], [0.4444444444444444, \"#bd3786\"], [0.5555555555555556, \"#d8576b\"], [0.6666666666666666, \"#ed7953\"], [0.7777777777777778, \"#fb9f3a\"], [0.8888888888888888, \"#fdca26\"], [1.0, \"#f0f921\"]], \"type\": \"histogram2dcontour\"}], \"mesh3d\": [{\"colorbar\": {\"outlinewidth\": 0, \"ticks\": \"\"}, \"type\": \"mesh3d\"}], \"parcoords\": [{\"line\": {\"colorbar\": {\"outlinewidth\": 0, \"ticks\": \"\"}}, \"type\": \"parcoords\"}], \"pie\": [{\"automargin\": true, \"type\": \"pie\"}], \"scatter\": [{\"marker\": {\"colorbar\": {\"outlinewidth\": 0, \"ticks\": \"\"}}, \"type\": \"scatter\"}], \"scatter3d\": [{\"line\": {\"colorbar\": {\"outlinewidth\": 0, \"ticks\": \"\"}}, \"marker\": {\"colorbar\": {\"outlinewidth\": 0, \"ticks\": \"\"}}, \"type\": \"scatter3d\"}], \"scattercarpet\": [{\"marker\": {\"colorbar\": {\"outlinewidth\": 0, \"ticks\": \"\"}}, \"type\": \"scattercarpet\"}], \"scattergeo\": [{\"marker\": {\"colorbar\": {\"outlinewidth\": 0, \"ticks\": \"\"}}, \"type\": \"scattergeo\"}], \"scattergl\": [{\"marker\": {\"colorbar\": {\"outlinewidth\": 0, \"ticks\": \"\"}}, \"type\": \"scattergl\"}], \"scattermapbox\": [{\"marker\": {\"colorbar\": {\"outlinewidth\": 0, \"ticks\": \"\"}}, \"type\": \"scattermapbox\"}], \"scatterpolar\": [{\"marker\": {\"colorbar\": {\"outlinewidth\": 0, \"ticks\": \"\"}}, \"type\": \"scatterpolar\"}], \"scatterpolargl\": [{\"marker\": {\"colorbar\": {\"outlinewidth\": 0, \"ticks\": \"\"}}, \"type\": \"scatterpolargl\"}], \"scatterternary\": [{\"marker\": {\"colorbar\": {\"outlinewidth\": 0, \"ticks\": \"\"}}, \"type\": \"scatterternary\"}], \"surface\": [{\"colorbar\": {\"outlinewidth\": 0, \"ticks\": \"\"}, \"colorscale\": [[0.0, \"#0d0887\"], [0.1111111111111111, \"#46039f\"], [0.2222222222222222, \"#7201a8\"], [0.3333333333333333, \"#9c179e\"], [0.4444444444444444, \"#bd3786\"], [0.5555555555555556, \"#d8576b\"], [0.6666666666666666, \"#ed7953\"], [0.7777777777777778, \"#fb9f3a\"], [0.8888888888888888, \"#fdca26\"], [1.0, \"#f0f921\"]], \"type\": \"surface\"}], \"table\": [{\"cells\": {\"fill\": {\"color\": \"#EBF0F8\"}, \"line\": {\"color\": \"white\"}}, \"header\": {\"fill\": {\"color\": \"#C8D4E3\"}, \"line\": {\"color\": \"white\"}}, \"type\": \"table\"}]}, \"layout\": {\"annotationdefaults\": {\"arrowcolor\": \"#2a3f5f\", \"arrowhead\": 0, \"arrowwidth\": 1}, \"coloraxis\": {\"colorbar\": {\"outlinewidth\": 0, \"ticks\": \"\"}}, \"colorscale\": {\"diverging\": [[0, \"#8e0152\"], [0.1, \"#c51b7d\"], [0.2, \"#de77ae\"], [0.3, \"#f1b6da\"], [0.4, \"#fde0ef\"], [0.5, \"#f7f7f7\"], [0.6, \"#e6f5d0\"], [0.7, \"#b8e186\"], [0.8, \"#7fbc41\"], [0.9, \"#4d9221\"], [1, \"#276419\"]], \"sequential\": [[0.0, \"#0d0887\"], [0.1111111111111111, \"#46039f\"], [0.2222222222222222, \"#7201a8\"], [0.3333333333333333, \"#9c179e\"], [0.4444444444444444, \"#bd3786\"], [0.5555555555555556, \"#d8576b\"], [0.6666666666666666, \"#ed7953\"], [0.7777777777777778, \"#fb9f3a\"], [0.8888888888888888, \"#fdca26\"], [1.0, \"#f0f921\"]], \"sequentialminus\": [[0.0, \"#0d0887\"], [0.1111111111111111, \"#46039f\"], [0.2222222222222222, \"#7201a8\"], [0.3333333333333333, \"#9c179e\"], [0.4444444444444444, \"#bd3786\"], [0.5555555555555556, \"#d8576b\"], [0.6666666666666666, \"#ed7953\"], [0.7777777777777778, \"#fb9f3a\"], [0.8888888888888888, \"#fdca26\"], [1.0, \"#f0f921\"]]}, \"colorway\": [\"#636efa\", \"#EF553B\", \"#00cc96\", \"#ab63fa\", \"#FFA15A\", \"#19d3f3\", \"#FF6692\", \"#B6E880\", \"#FF97FF\", \"#FECB52\"], \"font\": {\"color\": \"#2a3f5f\"}, \"geo\": {\"bgcolor\": \"white\", \"lakecolor\": \"white\", \"landcolor\": \"#E5ECF6\", \"showlakes\": true, \"showland\": true, \"subunitcolor\": \"white\"}, \"hoverlabel\": {\"align\": \"left\"}, \"hovermode\": \"closest\", \"mapbox\": {\"style\": \"light\"}, \"paper_bgcolor\": \"white\", \"plot_bgcolor\": \"#E5ECF6\", \"polar\": {\"angularaxis\": {\"gridcolor\": \"white\", \"linecolor\": \"white\", \"ticks\": \"\"}, \"bgcolor\": \"#E5ECF6\", \"radialaxis\": {\"gridcolor\": \"white\", \"linecolor\": \"white\", \"ticks\": \"\"}}, \"scene\": {\"xaxis\": {\"backgroundcolor\": \"#E5ECF6\", \"gridcolor\": \"white\", \"gridwidth\": 2, \"linecolor\": \"white\", \"showbackground\": true, \"ticks\": \"\", \"zerolinecolor\": \"white\"}, \"yaxis\": {\"backgroundcolor\": \"#E5ECF6\", \"gridcolor\": \"white\", \"gridwidth\": 2, \"linecolor\": \"white\", \"showbackground\": true, \"ticks\": \"\", \"zerolinecolor\": \"white\"}, \"zaxis\": {\"backgroundcolor\": \"#E5ECF6\", \"gridcolor\": \"white\", \"gridwidth\": 2, \"linecolor\": \"white\", \"showbackground\": true, \"ticks\": \"\", \"zerolinecolor\": \"white\"}}, \"shapedefaults\": {\"line\": {\"color\": \"#2a3f5f\"}}, \"ternary\": {\"aaxis\": {\"gridcolor\": \"white\", \"linecolor\": \"white\", \"ticks\": \"\"}, \"baxis\": {\"gridcolor\": \"white\", \"linecolor\": \"white\", \"ticks\": \"\"}, \"bgcolor\": \"#E5ECF6\", \"caxis\": {\"gridcolor\": \"white\", \"linecolor\": \"white\", \"ticks\": \"\"}}, \"title\": {\"x\": 0.05}, \"xaxis\": {\"automargin\": true, \"gridcolor\": \"white\", \"linecolor\": \"white\", \"ticks\": \"\", \"title\": {\"standoff\": 15}, \"zerolinecolor\": \"white\", \"zerolinewidth\": 2}, \"yaxis\": {\"automargin\": true, \"gridcolor\": \"white\", \"linecolor\": \"white\", \"ticks\": \"\", \"title\": {\"standoff\": 15}, \"zerolinecolor\": \"white\", \"zerolinewidth\": 2}}}, \"title\": {\"font\": {\"color\": \"#4D5663\"}}, \"xaxis\": {\"gridcolor\": \"#E1E5ED\", \"showgrid\": true, \"tickfont\": {\"color\": \"#4D5663\"}, \"title\": {\"font\": {\"color\": \"#4D5663\"}, \"text\": \"\"}, \"zerolinecolor\": \"#E1E5ED\"}, \"yaxis\": {\"gridcolor\": \"#E1E5ED\", \"showgrid\": true, \"tickfont\": {\"color\": \"#4D5663\"}, \"title\": {\"font\": {\"color\": \"#4D5663\"}, \"text\": \"\"}, \"zerolinecolor\": \"#E1E5ED\"}},\n",
       "                        {\"showLink\": true, \"linkText\": \"Export to plot.ly\", \"plotlyServerURL\": \"https://plot.ly\", \"responsive\": true}\n",
       "                    ).then(function(){\n",
       "                            \n",
       "var gd = document.getElementById('935472c8-6c6f-46d0-8071-77e0f18f9358');\n",
       "var x = new MutationObserver(function (mutations, observer) {{\n",
       "        var display = window.getComputedStyle(gd).display;\n",
       "        if (!display || display === 'none') {{\n",
       "            console.log([gd, 'removed!']);\n",
       "            Plotly.purge(gd);\n",
       "            observer.disconnect();\n",
       "        }}\n",
       "}});\n",
       "\n",
       "// Listen for the removal of the full notebook cells\n",
       "var notebookContainer = gd.closest('#notebook-container');\n",
       "if (notebookContainer) {{\n",
       "    x.observe(notebookContainer, {childList: true});\n",
       "}}\n",
       "\n",
       "// Listen for the clearing of the current output cell\n",
       "var outputEl = gd.closest('.output');\n",
       "if (outputEl) {{\n",
       "    x.observe(outputEl, {childList: true});\n",
       "}}\n",
       "\n",
       "                        })\n",
       "                };\n",
       "                });\n",
       "            </script>\n",
       "        </div>"
      ]
     },
     "metadata": {},
     "output_type": "display_data"
    }
   ],
   "source": [
    "df['A'].iplot(kind='hist',bins=25)"
   ]
  },
  {
   "cell_type": "markdown",
   "metadata": {},
   "source": [
    "## Bubble Plot "
   ]
  },
  {
   "cell_type": "code",
   "execution_count": 17,
   "metadata": {},
   "outputs": [
    {
     "data": {
      "application/vnd.plotly.v1+json": {
       "config": {
        "linkText": "Export to plot.ly",
        "plotlyServerURL": "https://plot.ly",
        "showLink": true
       },
       "data": [
        {
         "marker": {
          "color": [
           "rgb(255, 153, 51)",
           "rgb(55, 128, 191)",
           "rgb(50, 171, 96)",
           "rgb(128, 0, 128)",
           "rgb(219, 64, 82)",
           "rgb(0, 128, 128)",
           "rgb(255, 255, 51)",
           "rgb(128, 128, 0)",
           "rgb(251, 128, 114)",
           "rgb(128, 177, 211)"
          ],
          "line": {
           "width": 1.3
          },
          "size": [
           93,
           52,
           41,
           14,
           100,
           67,
           55,
           64,
           93,
           52,
           12,
           57,
           47,
           66,
           60,
           59,
           18,
           68,
           71,
           27,
           90,
           109,
           79,
           55,
           112,
           49,
           65,
           78,
           52,
           68,
           81,
           46,
           67,
           84,
           63,
           45,
           81,
           74,
           61,
           59,
           94,
           55,
           87,
           61,
           55,
           68,
           60,
           70,
           69,
           48,
           29,
           59,
           34,
           77,
           71,
           37,
           82,
           84,
           81,
           54,
           53,
           76,
           80,
           65,
           109,
           49,
           71,
           64,
           67,
           45,
           42,
           39,
           41,
           68,
           92,
           75,
           56,
           57,
           66,
           44,
           67,
           80,
           59,
           91,
           76,
           62,
           62,
           65,
           106,
           81,
           83,
           61,
           69,
           62,
           58,
           42,
           51,
           28,
           63,
           67
          ],
          "symbol": "circle"
         },
         "mode": "markers",
         "text": "",
         "type": "scatter",
         "x": [
          0.09109850481918408,
          -1.1215293214001596,
          -0.8472103787075184,
          0.047579463925629756,
          -0.2465006929122032,
          0.355941870570774,
          -0.10096950094440324,
          -0.9072730752429058,
          -0.9518980001271358,
          2.14097321822886,
          2.1231768307689967,
          0.6958977551843699,
          -1.583248837107644,
          1.7142265839072959,
          -0.06646503235312974,
          -1.5315586252424356,
          1.4934969578297246,
          -0.3671124610810568,
          -0.6464912890042264,
          0.7577407259047961,
          -1.7888731022404905,
          -0.836344304627946,
          2.428995088322346,
          1.3927544538222227,
          0.9186261627971786,
          1.3069317194442132,
          -1.0793521680617035,
          2.0008609111050646,
          1.6512094667325325,
          0.808956552274321,
          0.7161520296684218,
          0.4174688388945817,
          -2.055553429227154,
          -0.10478473559018199,
          -1.8414704504739363,
          -1.9037587104776745,
          -0.24550426677305848,
          -0.9344856372315049,
          0.08519000805272456,
          0.7909917218595681,
          1.2112598406713257,
          0.8780853775627289,
          1.6391927026157413,
          -0.7844898993204068,
          -0.8200738867112358,
          1.2299606960656078,
          2.090198636473912,
          0.967590406410828,
          0.42781576469535565,
          0.3740083906457488,
          -1.203415752416856,
          0.19874074492299004,
          -1.0996349876019142,
          -0.5118885547212875,
          0.6089409203104832,
          -0.009986668270133012,
          -0.9843598032066695,
          -0.6971112927387455,
          -1.0518788938535228,
          -1.6926464990344885,
          1.895353289889859,
          2.635922114037947,
          1.0059778300139433,
          -0.9100671354086547,
          0.7188149666974778,
          -0.9501042669394972,
          2.1621864299965403,
          1.1420880278768886,
          0.9676235117810439,
          0.5345015806889609,
          -0.6101501196531989,
          0.23256458005975567,
          -0.30864952668522244,
          0.8230595122750528,
          0.0025476652548313684,
          1.0668879463043774,
          -0.19717897335767187,
          -0.15813795755946913,
          -0.6178985215289267,
          1.8057952496635845,
          1.0511933107617695,
          -0.5868718647057343,
          -0.5351892335864168,
          -0.027468015311200602,
          -0.9442877177439853,
          -0.8623770708257102,
          0.8948807217187174,
          -0.00948333496494119,
          -0.920057972150479,
          0.6478025520263664,
          0.45634160459747125,
          0.29947972220377245,
          -0.870490121032512,
          -0.9493757828636347,
          -1.6153530988647982,
          -0.9529103188037132,
          -1.2886840902918308,
          -1.261963285580088,
          -0.12188068264694774,
          0.26167595986569264
         ],
         "y": [
          -0.8116091289192721,
          -0.19300472687253206,
          0.42051103925632977,
          0.25547064152430615,
          0.4461384861944884,
          0.2065840994216946,
          -0.0736093684561315,
          -0.03672123413058332,
          0.6801523071485202,
          1.4418046168788465,
          -0.5726562777833677,
          0.9307098475989224,
          -0.5706293447478381,
          0.4453994634128244,
          1.4143311666416154,
          -1.108813199803975,
          -0.3125435764127994,
          1.3618244709601963,
          -0.06427906272026955,
          -0.9229893610662293,
          0.3065059408237643,
          -0.17342759515419126,
          0.8429059478472343,
          -1.5805981154008981,
          -2.0267251132949027,
          -0.8286681556363882,
          1.0616325449191493,
          -0.3631590237640123,
          0.3245491815023166,
          -0.12049652048231733,
          -1.7794008323816055,
          0.9771420985889142,
          0.6937004427893335,
          -0.057223441643777455,
          0.6845095121304248,
          -0.32589236102397623,
          0.29680436698785867,
          -1.5057853650832715,
          1.7496853226925513,
          1.6753176110932382,
          -0.30540371699704194,
          0.03962473472743301,
          1.5236297895868112,
          0.5511026209571313,
          1.6053502011125302,
          -0.9477947708757761,
          0.5084280387681843,
          1.0536007000338874,
          -0.20842639751067635,
          -1.2601656190124837,
          0.1042762843423615,
          -0.5724041204261644,
          -0.05409712730683168,
          1.2766275991015201,
          0.4813853754972735,
          -1.289064510835033,
          -1.6294448766424343,
          -0.2617693791137971,
          0.48254519819781516,
          3.1344856939051433,
          -0.5981856159842609,
          -0.7905026818503782,
          -0.41390096879915417,
          1.211655923059735,
          0.486900856960665,
          -0.21735166935475592,
          -0.6446942837755238,
          1.4840688604700185,
          0.21152002576581685,
          0.07407353417275789,
          -0.6130890236210245,
          0.5252383330404052,
          0.6712851140907574,
          0.9618939225720989,
          -2.447934537947344,
          0.21001235145459388,
          -0.017514426974441534,
          -0.3294942746261193,
          -1.956893644342049,
          1.3147434662972208,
          -2.236901795464519,
          -1.355670681639342,
          0.3332941119737317,
          -1.0451492156076625,
          0.3752925071061327,
          -1.668849441699103,
          -0.12344250483081605,
          -0.23264926766422644,
          0.7332647602341967,
          -0.9971293585380604,
          -0.7676066266105527,
          0.7001651960379345,
          -0.7022586069809715,
          -0.05891946102224388,
          0.6873881326933733,
          0.8906297185004478,
          0.9638085612837739,
          0.0579173716477777,
          0.33464594904890277,
          2.533769548275823
         ]
        }
       ],
       "layout": {
        "legend": {
         "bgcolor": "#F5F6F9",
         "font": {
          "color": "#4D5663"
         }
        },
        "paper_bgcolor": "#F5F6F9",
        "plot_bgcolor": "#F5F6F9",
        "template": {
         "data": {
          "bar": [
           {
            "error_x": {
             "color": "#2a3f5f"
            },
            "error_y": {
             "color": "#2a3f5f"
            },
            "marker": {
             "line": {
              "color": "#E5ECF6",
              "width": 0.5
             }
            },
            "type": "bar"
           }
          ],
          "barpolar": [
           {
            "marker": {
             "line": {
              "color": "#E5ECF6",
              "width": 0.5
             }
            },
            "type": "barpolar"
           }
          ],
          "carpet": [
           {
            "aaxis": {
             "endlinecolor": "#2a3f5f",
             "gridcolor": "white",
             "linecolor": "white",
             "minorgridcolor": "white",
             "startlinecolor": "#2a3f5f"
            },
            "baxis": {
             "endlinecolor": "#2a3f5f",
             "gridcolor": "white",
             "linecolor": "white",
             "minorgridcolor": "white",
             "startlinecolor": "#2a3f5f"
            },
            "type": "carpet"
           }
          ],
          "choropleth": [
           {
            "colorbar": {
             "outlinewidth": 0,
             "ticks": ""
            },
            "type": "choropleth"
           }
          ],
          "contour": [
           {
            "colorbar": {
             "outlinewidth": 0,
             "ticks": ""
            },
            "colorscale": [
             [
              0,
              "#0d0887"
             ],
             [
              0.1111111111111111,
              "#46039f"
             ],
             [
              0.2222222222222222,
              "#7201a8"
             ],
             [
              0.3333333333333333,
              "#9c179e"
             ],
             [
              0.4444444444444444,
              "#bd3786"
             ],
             [
              0.5555555555555556,
              "#d8576b"
             ],
             [
              0.6666666666666666,
              "#ed7953"
             ],
             [
              0.7777777777777778,
              "#fb9f3a"
             ],
             [
              0.8888888888888888,
              "#fdca26"
             ],
             [
              1,
              "#f0f921"
             ]
            ],
            "type": "contour"
           }
          ],
          "contourcarpet": [
           {
            "colorbar": {
             "outlinewidth": 0,
             "ticks": ""
            },
            "type": "contourcarpet"
           }
          ],
          "heatmap": [
           {
            "colorbar": {
             "outlinewidth": 0,
             "ticks": ""
            },
            "colorscale": [
             [
              0,
              "#0d0887"
             ],
             [
              0.1111111111111111,
              "#46039f"
             ],
             [
              0.2222222222222222,
              "#7201a8"
             ],
             [
              0.3333333333333333,
              "#9c179e"
             ],
             [
              0.4444444444444444,
              "#bd3786"
             ],
             [
              0.5555555555555556,
              "#d8576b"
             ],
             [
              0.6666666666666666,
              "#ed7953"
             ],
             [
              0.7777777777777778,
              "#fb9f3a"
             ],
             [
              0.8888888888888888,
              "#fdca26"
             ],
             [
              1,
              "#f0f921"
             ]
            ],
            "type": "heatmap"
           }
          ],
          "heatmapgl": [
           {
            "colorbar": {
             "outlinewidth": 0,
             "ticks": ""
            },
            "colorscale": [
             [
              0,
              "#0d0887"
             ],
             [
              0.1111111111111111,
              "#46039f"
             ],
             [
              0.2222222222222222,
              "#7201a8"
             ],
             [
              0.3333333333333333,
              "#9c179e"
             ],
             [
              0.4444444444444444,
              "#bd3786"
             ],
             [
              0.5555555555555556,
              "#d8576b"
             ],
             [
              0.6666666666666666,
              "#ed7953"
             ],
             [
              0.7777777777777778,
              "#fb9f3a"
             ],
             [
              0.8888888888888888,
              "#fdca26"
             ],
             [
              1,
              "#f0f921"
             ]
            ],
            "type": "heatmapgl"
           }
          ],
          "histogram": [
           {
            "marker": {
             "colorbar": {
              "outlinewidth": 0,
              "ticks": ""
             }
            },
            "type": "histogram"
           }
          ],
          "histogram2d": [
           {
            "colorbar": {
             "outlinewidth": 0,
             "ticks": ""
            },
            "colorscale": [
             [
              0,
              "#0d0887"
             ],
             [
              0.1111111111111111,
              "#46039f"
             ],
             [
              0.2222222222222222,
              "#7201a8"
             ],
             [
              0.3333333333333333,
              "#9c179e"
             ],
             [
              0.4444444444444444,
              "#bd3786"
             ],
             [
              0.5555555555555556,
              "#d8576b"
             ],
             [
              0.6666666666666666,
              "#ed7953"
             ],
             [
              0.7777777777777778,
              "#fb9f3a"
             ],
             [
              0.8888888888888888,
              "#fdca26"
             ],
             [
              1,
              "#f0f921"
             ]
            ],
            "type": "histogram2d"
           }
          ],
          "histogram2dcontour": [
           {
            "colorbar": {
             "outlinewidth": 0,
             "ticks": ""
            },
            "colorscale": [
             [
              0,
              "#0d0887"
             ],
             [
              0.1111111111111111,
              "#46039f"
             ],
             [
              0.2222222222222222,
              "#7201a8"
             ],
             [
              0.3333333333333333,
              "#9c179e"
             ],
             [
              0.4444444444444444,
              "#bd3786"
             ],
             [
              0.5555555555555556,
              "#d8576b"
             ],
             [
              0.6666666666666666,
              "#ed7953"
             ],
             [
              0.7777777777777778,
              "#fb9f3a"
             ],
             [
              0.8888888888888888,
              "#fdca26"
             ],
             [
              1,
              "#f0f921"
             ]
            ],
            "type": "histogram2dcontour"
           }
          ],
          "mesh3d": [
           {
            "colorbar": {
             "outlinewidth": 0,
             "ticks": ""
            },
            "type": "mesh3d"
           }
          ],
          "parcoords": [
           {
            "line": {
             "colorbar": {
              "outlinewidth": 0,
              "ticks": ""
             }
            },
            "type": "parcoords"
           }
          ],
          "pie": [
           {
            "automargin": true,
            "type": "pie"
           }
          ],
          "scatter": [
           {
            "marker": {
             "colorbar": {
              "outlinewidth": 0,
              "ticks": ""
             }
            },
            "type": "scatter"
           }
          ],
          "scatter3d": [
           {
            "line": {
             "colorbar": {
              "outlinewidth": 0,
              "ticks": ""
             }
            },
            "marker": {
             "colorbar": {
              "outlinewidth": 0,
              "ticks": ""
             }
            },
            "type": "scatter3d"
           }
          ],
          "scattercarpet": [
           {
            "marker": {
             "colorbar": {
              "outlinewidth": 0,
              "ticks": ""
             }
            },
            "type": "scattercarpet"
           }
          ],
          "scattergeo": [
           {
            "marker": {
             "colorbar": {
              "outlinewidth": 0,
              "ticks": ""
             }
            },
            "type": "scattergeo"
           }
          ],
          "scattergl": [
           {
            "marker": {
             "colorbar": {
              "outlinewidth": 0,
              "ticks": ""
             }
            },
            "type": "scattergl"
           }
          ],
          "scattermapbox": [
           {
            "marker": {
             "colorbar": {
              "outlinewidth": 0,
              "ticks": ""
             }
            },
            "type": "scattermapbox"
           }
          ],
          "scatterpolar": [
           {
            "marker": {
             "colorbar": {
              "outlinewidth": 0,
              "ticks": ""
             }
            },
            "type": "scatterpolar"
           }
          ],
          "scatterpolargl": [
           {
            "marker": {
             "colorbar": {
              "outlinewidth": 0,
              "ticks": ""
             }
            },
            "type": "scatterpolargl"
           }
          ],
          "scatterternary": [
           {
            "marker": {
             "colorbar": {
              "outlinewidth": 0,
              "ticks": ""
             }
            },
            "type": "scatterternary"
           }
          ],
          "surface": [
           {
            "colorbar": {
             "outlinewidth": 0,
             "ticks": ""
            },
            "colorscale": [
             [
              0,
              "#0d0887"
             ],
             [
              0.1111111111111111,
              "#46039f"
             ],
             [
              0.2222222222222222,
              "#7201a8"
             ],
             [
              0.3333333333333333,
              "#9c179e"
             ],
             [
              0.4444444444444444,
              "#bd3786"
             ],
             [
              0.5555555555555556,
              "#d8576b"
             ],
             [
              0.6666666666666666,
              "#ed7953"
             ],
             [
              0.7777777777777778,
              "#fb9f3a"
             ],
             [
              0.8888888888888888,
              "#fdca26"
             ],
             [
              1,
              "#f0f921"
             ]
            ],
            "type": "surface"
           }
          ],
          "table": [
           {
            "cells": {
             "fill": {
              "color": "#EBF0F8"
             },
             "line": {
              "color": "white"
             }
            },
            "header": {
             "fill": {
              "color": "#C8D4E3"
             },
             "line": {
              "color": "white"
             }
            },
            "type": "table"
           }
          ]
         },
         "layout": {
          "annotationdefaults": {
           "arrowcolor": "#2a3f5f",
           "arrowhead": 0,
           "arrowwidth": 1
          },
          "coloraxis": {
           "colorbar": {
            "outlinewidth": 0,
            "ticks": ""
           }
          },
          "colorscale": {
           "diverging": [
            [
             0,
             "#8e0152"
            ],
            [
             0.1,
             "#c51b7d"
            ],
            [
             0.2,
             "#de77ae"
            ],
            [
             0.3,
             "#f1b6da"
            ],
            [
             0.4,
             "#fde0ef"
            ],
            [
             0.5,
             "#f7f7f7"
            ],
            [
             0.6,
             "#e6f5d0"
            ],
            [
             0.7,
             "#b8e186"
            ],
            [
             0.8,
             "#7fbc41"
            ],
            [
             0.9,
             "#4d9221"
            ],
            [
             1,
             "#276419"
            ]
           ],
           "sequential": [
            [
             0,
             "#0d0887"
            ],
            [
             0.1111111111111111,
             "#46039f"
            ],
            [
             0.2222222222222222,
             "#7201a8"
            ],
            [
             0.3333333333333333,
             "#9c179e"
            ],
            [
             0.4444444444444444,
             "#bd3786"
            ],
            [
             0.5555555555555556,
             "#d8576b"
            ],
            [
             0.6666666666666666,
             "#ed7953"
            ],
            [
             0.7777777777777778,
             "#fb9f3a"
            ],
            [
             0.8888888888888888,
             "#fdca26"
            ],
            [
             1,
             "#f0f921"
            ]
           ],
           "sequentialminus": [
            [
             0,
             "#0d0887"
            ],
            [
             0.1111111111111111,
             "#46039f"
            ],
            [
             0.2222222222222222,
             "#7201a8"
            ],
            [
             0.3333333333333333,
             "#9c179e"
            ],
            [
             0.4444444444444444,
             "#bd3786"
            ],
            [
             0.5555555555555556,
             "#d8576b"
            ],
            [
             0.6666666666666666,
             "#ed7953"
            ],
            [
             0.7777777777777778,
             "#fb9f3a"
            ],
            [
             0.8888888888888888,
             "#fdca26"
            ],
            [
             1,
             "#f0f921"
            ]
           ]
          },
          "colorway": [
           "#636efa",
           "#EF553B",
           "#00cc96",
           "#ab63fa",
           "#FFA15A",
           "#19d3f3",
           "#FF6692",
           "#B6E880",
           "#FF97FF",
           "#FECB52"
          ],
          "font": {
           "color": "#2a3f5f"
          },
          "geo": {
           "bgcolor": "white",
           "lakecolor": "white",
           "landcolor": "#E5ECF6",
           "showlakes": true,
           "showland": true,
           "subunitcolor": "white"
          },
          "hoverlabel": {
           "align": "left"
          },
          "hovermode": "closest",
          "mapbox": {
           "style": "light"
          },
          "paper_bgcolor": "white",
          "plot_bgcolor": "#E5ECF6",
          "polar": {
           "angularaxis": {
            "gridcolor": "white",
            "linecolor": "white",
            "ticks": ""
           },
           "bgcolor": "#E5ECF6",
           "radialaxis": {
            "gridcolor": "white",
            "linecolor": "white",
            "ticks": ""
           }
          },
          "scene": {
           "xaxis": {
            "backgroundcolor": "#E5ECF6",
            "gridcolor": "white",
            "gridwidth": 2,
            "linecolor": "white",
            "showbackground": true,
            "ticks": "",
            "zerolinecolor": "white"
           },
           "yaxis": {
            "backgroundcolor": "#E5ECF6",
            "gridcolor": "white",
            "gridwidth": 2,
            "linecolor": "white",
            "showbackground": true,
            "ticks": "",
            "zerolinecolor": "white"
           },
           "zaxis": {
            "backgroundcolor": "#E5ECF6",
            "gridcolor": "white",
            "gridwidth": 2,
            "linecolor": "white",
            "showbackground": true,
            "ticks": "",
            "zerolinecolor": "white"
           }
          },
          "shapedefaults": {
           "line": {
            "color": "#2a3f5f"
           }
          },
          "ternary": {
           "aaxis": {
            "gridcolor": "white",
            "linecolor": "white",
            "ticks": ""
           },
           "baxis": {
            "gridcolor": "white",
            "linecolor": "white",
            "ticks": ""
           },
           "bgcolor": "#E5ECF6",
           "caxis": {
            "gridcolor": "white",
            "linecolor": "white",
            "ticks": ""
           }
          },
          "title": {
           "x": 0.05
          },
          "xaxis": {
           "automargin": true,
           "gridcolor": "white",
           "linecolor": "white",
           "ticks": "",
           "title": {
            "standoff": 15
           },
           "zerolinecolor": "white",
           "zerolinewidth": 2
          },
          "yaxis": {
           "automargin": true,
           "gridcolor": "white",
           "linecolor": "white",
           "ticks": "",
           "title": {
            "standoff": 15
           },
           "zerolinecolor": "white",
           "zerolinewidth": 2
          }
         }
        },
        "title": {
         "font": {
          "color": "#4D5663"
         }
        },
        "xaxis": {
         "gridcolor": "#E1E5ED",
         "showgrid": true,
         "tickfont": {
          "color": "#4D5663"
         },
         "title": {
          "font": {
           "color": "#4D5663"
          },
          "text": ""
         },
         "zerolinecolor": "#E1E5ED"
        },
        "yaxis": {
         "gridcolor": "#E1E5ED",
         "showgrid": true,
         "tickfont": {
          "color": "#4D5663"
         },
         "title": {
          "font": {
           "color": "#4D5663"
          },
          "text": ""
         },
         "zerolinecolor": "#E1E5ED"
        }
       }
      },
      "text/html": [
       "<div>\n",
       "        \n",
       "        \n",
       "            <div id=\"850116e2-9bc6-487f-b64f-fc0685ce35a8\" class=\"plotly-graph-div\" style=\"height:525px; width:100%;\"></div>\n",
       "            <script type=\"text/javascript\">\n",
       "                require([\"plotly\"], function(Plotly) {\n",
       "                    window.PLOTLYENV=window.PLOTLYENV || {};\n",
       "                    window.PLOTLYENV.BASE_URL='https://plot.ly';\n",
       "                    \n",
       "                if (document.getElementById(\"850116e2-9bc6-487f-b64f-fc0685ce35a8\")) {\n",
       "                    Plotly.newPlot(\n",
       "                        '850116e2-9bc6-487f-b64f-fc0685ce35a8',\n",
       "                        [{\"marker\": {\"color\": [\"rgb(255, 153, 51)\", \"rgb(55, 128, 191)\", \"rgb(50, 171, 96)\", \"rgb(128, 0, 128)\", \"rgb(219, 64, 82)\", \"rgb(0, 128, 128)\", \"rgb(255, 255, 51)\", \"rgb(128, 128, 0)\", \"rgb(251, 128, 114)\", \"rgb(128, 177, 211)\"], \"line\": {\"width\": 1.3}, \"size\": [93, 52, 41, 14, 100, 67, 55, 64, 93, 52, 12, 57, 47, 66, 60, 59, 18, 68, 71, 27, 90, 109, 79, 55, 112, 49, 65, 78, 52, 68, 81, 46, 67, 84, 63, 45, 81, 74, 61, 59, 94, 55, 87, 61, 55, 68, 60, 70, 69, 48, 29, 59, 34, 77, 71, 37, 82, 84, 81, 54, 53, 76, 80, 65, 109, 49, 71, 64, 67, 45, 42, 39, 41, 68, 92, 75, 56, 57, 66, 44, 67, 80, 59, 91, 76, 62, 62, 65, 106, 81, 83, 61, 69, 62, 58, 42, 51, 28, 63, 67], \"symbol\": \"circle\"}, \"mode\": \"markers\", \"text\": \"\", \"type\": \"scatter\", \"x\": [0.09109850481918408, -1.1215293214001596, -0.8472103787075184, 0.047579463925629756, -0.2465006929122032, 0.355941870570774, -0.10096950094440324, -0.9072730752429058, -0.9518980001271358, 2.14097321822886, 2.1231768307689967, 0.6958977551843699, -1.583248837107644, 1.7142265839072959, -0.06646503235312974, -1.5315586252424356, 1.4934969578297246, -0.3671124610810568, -0.6464912890042264, 0.7577407259047961, -1.7888731022404905, -0.836344304627946, 2.428995088322346, 1.3927544538222227, 0.9186261627971786, 1.3069317194442132, -1.0793521680617035, 2.0008609111050646, 1.6512094667325325, 0.808956552274321, 0.7161520296684218, 0.4174688388945817, -2.055553429227154, -0.10478473559018199, -1.8414704504739363, -1.9037587104776745, -0.24550426677305848, -0.9344856372315049, 0.08519000805272456, 0.7909917218595681, 1.2112598406713257, 0.8780853775627289, 1.6391927026157413, -0.7844898993204068, -0.8200738867112358, 1.2299606960656078, 2.090198636473912, 0.967590406410828, 0.42781576469535565, 0.3740083906457488, -1.203415752416856, 0.19874074492299004, -1.0996349876019142, -0.5118885547212875, 0.6089409203104832, -0.009986668270133012, -0.9843598032066695, -0.6971112927387455, -1.0518788938535228, -1.6926464990344885, 1.895353289889859, 2.635922114037947, 1.0059778300139433, -0.9100671354086547, 0.7188149666974778, -0.9501042669394972, 2.1621864299965403, 1.1420880278768886, 0.9676235117810439, 0.5345015806889609, -0.6101501196531989, 0.23256458005975567, -0.30864952668522244, 0.8230595122750528, 0.0025476652548313684, 1.0668879463043774, -0.19717897335767187, -0.15813795755946913, -0.6178985215289267, 1.8057952496635845, 1.0511933107617695, -0.5868718647057343, -0.5351892335864168, -0.027468015311200602, -0.9442877177439853, -0.8623770708257102, 0.8948807217187174, -0.00948333496494119, -0.920057972150479, 0.6478025520263664, 0.45634160459747125, 0.29947972220377245, -0.870490121032512, -0.9493757828636347, -1.6153530988647982, -0.9529103188037132, -1.2886840902918308, -1.261963285580088, -0.12188068264694774, 0.26167595986569264], \"y\": [-0.8116091289192721, -0.19300472687253206, 0.42051103925632977, 0.25547064152430615, 0.4461384861944884, 0.2065840994216946, -0.0736093684561315, -0.03672123413058332, 0.6801523071485202, 1.4418046168788465, -0.5726562777833677, 0.9307098475989224, -0.5706293447478381, 0.4453994634128244, 1.4143311666416154, -1.108813199803975, -0.3125435764127994, 1.3618244709601963, -0.06427906272026955, -0.9229893610662293, 0.3065059408237643, -0.17342759515419126, 0.8429059478472343, -1.5805981154008981, -2.0267251132949027, -0.8286681556363882, 1.0616325449191493, -0.3631590237640123, 0.3245491815023166, -0.12049652048231733, -1.7794008323816055, 0.9771420985889142, 0.6937004427893335, -0.057223441643777455, 0.6845095121304248, -0.32589236102397623, 0.29680436698785867, -1.5057853650832715, 1.7496853226925513, 1.6753176110932382, -0.30540371699704194, 0.03962473472743301, 1.5236297895868112, 0.5511026209571313, 1.6053502011125302, -0.9477947708757761, 0.5084280387681843, 1.0536007000338874, -0.20842639751067635, -1.2601656190124837, 0.1042762843423615, -0.5724041204261644, -0.05409712730683168, 1.2766275991015201, 0.4813853754972735, -1.289064510835033, -1.6294448766424343, -0.2617693791137971, 0.48254519819781516, 3.1344856939051433, -0.5981856159842609, -0.7905026818503782, -0.41390096879915417, 1.211655923059735, 0.486900856960665, -0.21735166935475592, -0.6446942837755238, 1.4840688604700185, 0.21152002576581685, 0.07407353417275789, -0.6130890236210245, 0.5252383330404052, 0.6712851140907574, 0.9618939225720989, -2.447934537947344, 0.21001235145459388, -0.017514426974441534, -0.3294942746261193, -1.956893644342049, 1.3147434662972208, -2.236901795464519, -1.355670681639342, 0.3332941119737317, -1.0451492156076625, 0.3752925071061327, -1.668849441699103, -0.12344250483081605, -0.23264926766422644, 0.7332647602341967, -0.9971293585380604, -0.7676066266105527, 0.7001651960379345, -0.7022586069809715, -0.05891946102224388, 0.6873881326933733, 0.8906297185004478, 0.9638085612837739, 0.0579173716477777, 0.33464594904890277, 2.533769548275823]}],\n",
       "                        {\"legend\": {\"bgcolor\": \"#F5F6F9\", \"font\": {\"color\": \"#4D5663\"}}, \"paper_bgcolor\": \"#F5F6F9\", \"plot_bgcolor\": \"#F5F6F9\", \"template\": {\"data\": {\"bar\": [{\"error_x\": {\"color\": \"#2a3f5f\"}, \"error_y\": {\"color\": \"#2a3f5f\"}, \"marker\": {\"line\": {\"color\": \"#E5ECF6\", \"width\": 0.5}}, \"type\": \"bar\"}], \"barpolar\": [{\"marker\": {\"line\": {\"color\": \"#E5ECF6\", \"width\": 0.5}}, \"type\": \"barpolar\"}], \"carpet\": [{\"aaxis\": {\"endlinecolor\": \"#2a3f5f\", \"gridcolor\": \"white\", \"linecolor\": \"white\", \"minorgridcolor\": \"white\", \"startlinecolor\": \"#2a3f5f\"}, \"baxis\": {\"endlinecolor\": \"#2a3f5f\", \"gridcolor\": \"white\", \"linecolor\": \"white\", \"minorgridcolor\": \"white\", \"startlinecolor\": \"#2a3f5f\"}, \"type\": \"carpet\"}], \"choropleth\": [{\"colorbar\": {\"outlinewidth\": 0, \"ticks\": \"\"}, \"type\": \"choropleth\"}], \"contour\": [{\"colorbar\": {\"outlinewidth\": 0, \"ticks\": \"\"}, \"colorscale\": [[0.0, \"#0d0887\"], [0.1111111111111111, \"#46039f\"], [0.2222222222222222, \"#7201a8\"], [0.3333333333333333, \"#9c179e\"], [0.4444444444444444, \"#bd3786\"], [0.5555555555555556, \"#d8576b\"], [0.6666666666666666, \"#ed7953\"], [0.7777777777777778, \"#fb9f3a\"], [0.8888888888888888, \"#fdca26\"], [1.0, \"#f0f921\"]], \"type\": \"contour\"}], \"contourcarpet\": [{\"colorbar\": {\"outlinewidth\": 0, \"ticks\": \"\"}, \"type\": \"contourcarpet\"}], \"heatmap\": [{\"colorbar\": {\"outlinewidth\": 0, \"ticks\": \"\"}, \"colorscale\": [[0.0, \"#0d0887\"], [0.1111111111111111, \"#46039f\"], [0.2222222222222222, \"#7201a8\"], [0.3333333333333333, \"#9c179e\"], [0.4444444444444444, \"#bd3786\"], [0.5555555555555556, \"#d8576b\"], [0.6666666666666666, \"#ed7953\"], [0.7777777777777778, \"#fb9f3a\"], [0.8888888888888888, \"#fdca26\"], [1.0, \"#f0f921\"]], \"type\": \"heatmap\"}], \"heatmapgl\": [{\"colorbar\": {\"outlinewidth\": 0, \"ticks\": \"\"}, \"colorscale\": [[0.0, \"#0d0887\"], [0.1111111111111111, \"#46039f\"], [0.2222222222222222, \"#7201a8\"], [0.3333333333333333, \"#9c179e\"], [0.4444444444444444, \"#bd3786\"], [0.5555555555555556, \"#d8576b\"], [0.6666666666666666, \"#ed7953\"], [0.7777777777777778, \"#fb9f3a\"], [0.8888888888888888, \"#fdca26\"], [1.0, \"#f0f921\"]], \"type\": \"heatmapgl\"}], \"histogram\": [{\"marker\": {\"colorbar\": {\"outlinewidth\": 0, \"ticks\": \"\"}}, \"type\": \"histogram\"}], \"histogram2d\": [{\"colorbar\": {\"outlinewidth\": 0, \"ticks\": \"\"}, \"colorscale\": [[0.0, \"#0d0887\"], [0.1111111111111111, \"#46039f\"], [0.2222222222222222, \"#7201a8\"], [0.3333333333333333, \"#9c179e\"], [0.4444444444444444, \"#bd3786\"], [0.5555555555555556, \"#d8576b\"], [0.6666666666666666, \"#ed7953\"], [0.7777777777777778, \"#fb9f3a\"], [0.8888888888888888, \"#fdca26\"], [1.0, \"#f0f921\"]], \"type\": \"histogram2d\"}], \"histogram2dcontour\": [{\"colorbar\": {\"outlinewidth\": 0, \"ticks\": \"\"}, \"colorscale\": [[0.0, \"#0d0887\"], [0.1111111111111111, \"#46039f\"], [0.2222222222222222, \"#7201a8\"], [0.3333333333333333, \"#9c179e\"], [0.4444444444444444, \"#bd3786\"], [0.5555555555555556, \"#d8576b\"], [0.6666666666666666, \"#ed7953\"], [0.7777777777777778, \"#fb9f3a\"], [0.8888888888888888, \"#fdca26\"], [1.0, \"#f0f921\"]], \"type\": \"histogram2dcontour\"}], \"mesh3d\": [{\"colorbar\": {\"outlinewidth\": 0, \"ticks\": \"\"}, \"type\": \"mesh3d\"}], \"parcoords\": [{\"line\": {\"colorbar\": {\"outlinewidth\": 0, \"ticks\": \"\"}}, \"type\": \"parcoords\"}], \"pie\": [{\"automargin\": true, \"type\": \"pie\"}], \"scatter\": [{\"marker\": {\"colorbar\": {\"outlinewidth\": 0, \"ticks\": \"\"}}, \"type\": \"scatter\"}], \"scatter3d\": [{\"line\": {\"colorbar\": {\"outlinewidth\": 0, \"ticks\": \"\"}}, \"marker\": {\"colorbar\": {\"outlinewidth\": 0, \"ticks\": \"\"}}, \"type\": \"scatter3d\"}], \"scattercarpet\": [{\"marker\": {\"colorbar\": {\"outlinewidth\": 0, \"ticks\": \"\"}}, \"type\": \"scattercarpet\"}], \"scattergeo\": [{\"marker\": {\"colorbar\": {\"outlinewidth\": 0, \"ticks\": \"\"}}, \"type\": \"scattergeo\"}], \"scattergl\": [{\"marker\": {\"colorbar\": {\"outlinewidth\": 0, \"ticks\": \"\"}}, \"type\": \"scattergl\"}], \"scattermapbox\": [{\"marker\": {\"colorbar\": {\"outlinewidth\": 0, \"ticks\": \"\"}}, \"type\": \"scattermapbox\"}], \"scatterpolar\": [{\"marker\": {\"colorbar\": {\"outlinewidth\": 0, \"ticks\": \"\"}}, \"type\": \"scatterpolar\"}], \"scatterpolargl\": [{\"marker\": {\"colorbar\": {\"outlinewidth\": 0, \"ticks\": \"\"}}, \"type\": \"scatterpolargl\"}], \"scatterternary\": [{\"marker\": {\"colorbar\": {\"outlinewidth\": 0, \"ticks\": \"\"}}, \"type\": \"scatterternary\"}], \"surface\": [{\"colorbar\": {\"outlinewidth\": 0, \"ticks\": \"\"}, \"colorscale\": [[0.0, \"#0d0887\"], [0.1111111111111111, \"#46039f\"], [0.2222222222222222, \"#7201a8\"], [0.3333333333333333, \"#9c179e\"], [0.4444444444444444, \"#bd3786\"], [0.5555555555555556, \"#d8576b\"], [0.6666666666666666, \"#ed7953\"], [0.7777777777777778, \"#fb9f3a\"], [0.8888888888888888, \"#fdca26\"], [1.0, \"#f0f921\"]], \"type\": \"surface\"}], \"table\": [{\"cells\": {\"fill\": {\"color\": \"#EBF0F8\"}, \"line\": {\"color\": \"white\"}}, \"header\": {\"fill\": {\"color\": \"#C8D4E3\"}, \"line\": {\"color\": \"white\"}}, \"type\": \"table\"}]}, \"layout\": {\"annotationdefaults\": {\"arrowcolor\": \"#2a3f5f\", \"arrowhead\": 0, \"arrowwidth\": 1}, \"coloraxis\": {\"colorbar\": {\"outlinewidth\": 0, \"ticks\": \"\"}}, \"colorscale\": {\"diverging\": [[0, \"#8e0152\"], [0.1, \"#c51b7d\"], [0.2, \"#de77ae\"], [0.3, \"#f1b6da\"], [0.4, \"#fde0ef\"], [0.5, \"#f7f7f7\"], [0.6, \"#e6f5d0\"], [0.7, \"#b8e186\"], [0.8, \"#7fbc41\"], [0.9, \"#4d9221\"], [1, \"#276419\"]], \"sequential\": [[0.0, \"#0d0887\"], [0.1111111111111111, \"#46039f\"], [0.2222222222222222, \"#7201a8\"], [0.3333333333333333, \"#9c179e\"], [0.4444444444444444, \"#bd3786\"], [0.5555555555555556, \"#d8576b\"], [0.6666666666666666, \"#ed7953\"], [0.7777777777777778, \"#fb9f3a\"], [0.8888888888888888, \"#fdca26\"], [1.0, \"#f0f921\"]], \"sequentialminus\": [[0.0, \"#0d0887\"], [0.1111111111111111, \"#46039f\"], [0.2222222222222222, \"#7201a8\"], [0.3333333333333333, \"#9c179e\"], [0.4444444444444444, \"#bd3786\"], [0.5555555555555556, \"#d8576b\"], [0.6666666666666666, \"#ed7953\"], [0.7777777777777778, \"#fb9f3a\"], [0.8888888888888888, \"#fdca26\"], [1.0, \"#f0f921\"]]}, \"colorway\": [\"#636efa\", \"#EF553B\", \"#00cc96\", \"#ab63fa\", \"#FFA15A\", \"#19d3f3\", \"#FF6692\", \"#B6E880\", \"#FF97FF\", \"#FECB52\"], \"font\": {\"color\": \"#2a3f5f\"}, \"geo\": {\"bgcolor\": \"white\", \"lakecolor\": \"white\", \"landcolor\": \"#E5ECF6\", \"showlakes\": true, \"showland\": true, \"subunitcolor\": \"white\"}, \"hoverlabel\": {\"align\": \"left\"}, \"hovermode\": \"closest\", \"mapbox\": {\"style\": \"light\"}, \"paper_bgcolor\": \"white\", \"plot_bgcolor\": \"#E5ECF6\", \"polar\": {\"angularaxis\": {\"gridcolor\": \"white\", \"linecolor\": \"white\", \"ticks\": \"\"}, \"bgcolor\": \"#E5ECF6\", \"radialaxis\": {\"gridcolor\": \"white\", \"linecolor\": \"white\", \"ticks\": \"\"}}, \"scene\": {\"xaxis\": {\"backgroundcolor\": \"#E5ECF6\", \"gridcolor\": \"white\", \"gridwidth\": 2, \"linecolor\": \"white\", \"showbackground\": true, \"ticks\": \"\", \"zerolinecolor\": \"white\"}, \"yaxis\": {\"backgroundcolor\": \"#E5ECF6\", \"gridcolor\": \"white\", \"gridwidth\": 2, \"linecolor\": \"white\", \"showbackground\": true, \"ticks\": \"\", \"zerolinecolor\": \"white\"}, \"zaxis\": {\"backgroundcolor\": \"#E5ECF6\", \"gridcolor\": \"white\", \"gridwidth\": 2, \"linecolor\": \"white\", \"showbackground\": true, \"ticks\": \"\", \"zerolinecolor\": \"white\"}}, \"shapedefaults\": {\"line\": {\"color\": \"#2a3f5f\"}}, \"ternary\": {\"aaxis\": {\"gridcolor\": \"white\", \"linecolor\": \"white\", \"ticks\": \"\"}, \"baxis\": {\"gridcolor\": \"white\", \"linecolor\": \"white\", \"ticks\": \"\"}, \"bgcolor\": \"#E5ECF6\", \"caxis\": {\"gridcolor\": \"white\", \"linecolor\": \"white\", \"ticks\": \"\"}}, \"title\": {\"x\": 0.05}, \"xaxis\": {\"automargin\": true, \"gridcolor\": \"white\", \"linecolor\": \"white\", \"ticks\": \"\", \"title\": {\"standoff\": 15}, \"zerolinecolor\": \"white\", \"zerolinewidth\": 2}, \"yaxis\": {\"automargin\": true, \"gridcolor\": \"white\", \"linecolor\": \"white\", \"ticks\": \"\", \"title\": {\"standoff\": 15}, \"zerolinecolor\": \"white\", \"zerolinewidth\": 2}}}, \"title\": {\"font\": {\"color\": \"#4D5663\"}}, \"xaxis\": {\"gridcolor\": \"#E1E5ED\", \"showgrid\": true, \"tickfont\": {\"color\": \"#4D5663\"}, \"title\": {\"font\": {\"color\": \"#4D5663\"}, \"text\": \"\"}, \"zerolinecolor\": \"#E1E5ED\"}, \"yaxis\": {\"gridcolor\": \"#E1E5ED\", \"showgrid\": true, \"tickfont\": {\"color\": \"#4D5663\"}, \"title\": {\"font\": {\"color\": \"#4D5663\"}, \"text\": \"\"}, \"zerolinecolor\": \"#E1E5ED\"}},\n",
       "                        {\"showLink\": true, \"linkText\": \"Export to plot.ly\", \"plotlyServerURL\": \"https://plot.ly\", \"responsive\": true}\n",
       "                    ).then(function(){\n",
       "                            \n",
       "var gd = document.getElementById('850116e2-9bc6-487f-b64f-fc0685ce35a8');\n",
       "var x = new MutationObserver(function (mutations, observer) {{\n",
       "        var display = window.getComputedStyle(gd).display;\n",
       "        if (!display || display === 'none') {{\n",
       "            console.log([gd, 'removed!']);\n",
       "            Plotly.purge(gd);\n",
       "            observer.disconnect();\n",
       "        }}\n",
       "}});\n",
       "\n",
       "// Listen for the removal of the full notebook cells\n",
       "var notebookContainer = gd.closest('#notebook-container');\n",
       "if (notebookContainer) {{\n",
       "    x.observe(notebookContainer, {childList: true});\n",
       "}}\n",
       "\n",
       "// Listen for the clearing of the current output cell\n",
       "var outputEl = gd.closest('.output');\n",
       "if (outputEl) {{\n",
       "    x.observe(outputEl, {childList: true});\n",
       "}}\n",
       "\n",
       "                        })\n",
       "                };\n",
       "                });\n",
       "            </script>\n",
       "        </div>"
      ]
     },
     "metadata": {},
     "output_type": "display_data"
    }
   ],
   "source": [
    "df.iplot(kind='bubble',x='A',y='B',size='C')"
   ]
  },
  {
   "cell_type": "markdown",
   "metadata": {},
   "source": [
    "## scatter_matrix()\n",
    "\n",
    "Similar to sns.pairplot()"
   ]
  },
  {
   "cell_type": "code",
   "execution_count": 18,
   "metadata": {},
   "outputs": [
    {
     "data": {
      "application/vnd.plotly.v1+json": {
       "config": {
        "linkText": "Export to plot.ly",
        "plotlyServerURL": "https://plot.ly",
        "showLink": true
       },
       "data": [
        {
         "histfunc": "count",
         "histnorm": "",
         "marker": {
          "color": "rgba(255, 153, 51, 1.0)",
          "line": {
           "color": "#4D5663",
           "width": 1.3
          }
         },
         "name": "A",
         "nbinsx": 10,
         "opacity": 0.8,
         "orientation": "v",
         "type": "histogram",
         "x": [
          0.09109850481918408,
          -1.1215293214001596,
          -0.8472103787075184,
          0.047579463925629756,
          -0.2465006929122032,
          0.355941870570774,
          -0.10096950094440324,
          -0.9072730752429058,
          -0.9518980001271358,
          2.14097321822886,
          2.1231768307689967,
          0.6958977551843699,
          -1.583248837107644,
          1.7142265839072959,
          -0.06646503235312974,
          -1.5315586252424356,
          1.4934969578297246,
          -0.3671124610810568,
          -0.6464912890042264,
          0.7577407259047961,
          -1.7888731022404905,
          -0.836344304627946,
          2.428995088322346,
          1.3927544538222227,
          0.9186261627971786,
          1.3069317194442132,
          -1.0793521680617035,
          2.0008609111050646,
          1.6512094667325325,
          0.808956552274321,
          0.7161520296684218,
          0.4174688388945817,
          -2.055553429227154,
          -0.10478473559018199,
          -1.8414704504739363,
          -1.9037587104776745,
          -0.24550426677305848,
          -0.9344856372315049,
          0.08519000805272456,
          0.7909917218595681,
          1.2112598406713257,
          0.8780853775627289,
          1.6391927026157413,
          -0.7844898993204068,
          -0.8200738867112358,
          1.2299606960656078,
          2.090198636473912,
          0.967590406410828,
          0.42781576469535565,
          0.3740083906457488,
          -1.203415752416856,
          0.19874074492299004,
          -1.0996349876019142,
          -0.5118885547212875,
          0.6089409203104832,
          -0.009986668270133012,
          -0.9843598032066695,
          -0.6971112927387455,
          -1.0518788938535228,
          -1.6926464990344885,
          1.895353289889859,
          2.635922114037947,
          1.0059778300139433,
          -0.9100671354086547,
          0.7188149666974778,
          -0.9501042669394972,
          2.1621864299965403,
          1.1420880278768886,
          0.9676235117810439,
          0.5345015806889609,
          -0.6101501196531989,
          0.23256458005975567,
          -0.30864952668522244,
          0.8230595122750528,
          0.0025476652548313684,
          1.0668879463043774,
          -0.19717897335767187,
          -0.15813795755946913,
          -0.6178985215289267,
          1.8057952496635845,
          1.0511933107617695,
          -0.5868718647057343,
          -0.5351892335864168,
          -0.027468015311200602,
          -0.9442877177439853,
          -0.8623770708257102,
          0.8948807217187174,
          -0.00948333496494119,
          -0.920057972150479,
          0.6478025520263664,
          0.45634160459747125,
          0.29947972220377245,
          -0.870490121032512,
          -0.9493757828636347,
          -1.6153530988647982,
          -0.9529103188037132,
          -1.2886840902918308,
          -1.261963285580088,
          -0.12188068264694774,
          0.26167595986569264
         ],
         "xaxis": "x",
         "yaxis": "y"
        },
        {
         "line": {
          "color": "rgba(128, 128, 128, 1.0)",
          "dash": "solid",
          "shape": "linear",
          "width": 1.3
         },
         "marker": {
          "size": 2,
          "symbol": "circle"
         },
         "mode": "markers",
         "name": "A",
         "text": "",
         "type": "scatter",
         "x": [
          -0.8116091289192721,
          -0.19300472687253206,
          0.42051103925632977,
          0.25547064152430615,
          0.4461384861944884,
          0.2065840994216946,
          -0.0736093684561315,
          -0.03672123413058332,
          0.6801523071485202,
          1.4418046168788465,
          -0.5726562777833677,
          0.9307098475989224,
          -0.5706293447478381,
          0.4453994634128244,
          1.4143311666416154,
          -1.108813199803975,
          -0.3125435764127994,
          1.3618244709601963,
          -0.06427906272026955,
          -0.9229893610662293,
          0.3065059408237643,
          -0.17342759515419126,
          0.8429059478472343,
          -1.5805981154008981,
          -2.0267251132949027,
          -0.8286681556363882,
          1.0616325449191493,
          -0.3631590237640123,
          0.3245491815023166,
          -0.12049652048231733,
          -1.7794008323816055,
          0.9771420985889142,
          0.6937004427893335,
          -0.057223441643777455,
          0.6845095121304248,
          -0.32589236102397623,
          0.29680436698785867,
          -1.5057853650832715,
          1.7496853226925513,
          1.6753176110932382,
          -0.30540371699704194,
          0.03962473472743301,
          1.5236297895868112,
          0.5511026209571313,
          1.6053502011125302,
          -0.9477947708757761,
          0.5084280387681843,
          1.0536007000338874,
          -0.20842639751067635,
          -1.2601656190124837,
          0.1042762843423615,
          -0.5724041204261644,
          -0.05409712730683168,
          1.2766275991015201,
          0.4813853754972735,
          -1.289064510835033,
          -1.6294448766424343,
          -0.2617693791137971,
          0.48254519819781516,
          3.1344856939051433,
          -0.5981856159842609,
          -0.7905026818503782,
          -0.41390096879915417,
          1.211655923059735,
          0.486900856960665,
          -0.21735166935475592,
          -0.6446942837755238,
          1.4840688604700185,
          0.21152002576581685,
          0.07407353417275789,
          -0.6130890236210245,
          0.5252383330404052,
          0.6712851140907574,
          0.9618939225720989,
          -2.447934537947344,
          0.21001235145459388,
          -0.017514426974441534,
          -0.3294942746261193,
          -1.956893644342049,
          1.3147434662972208,
          -2.236901795464519,
          -1.355670681639342,
          0.3332941119737317,
          -1.0451492156076625,
          0.3752925071061327,
          -1.668849441699103,
          -0.12344250483081605,
          -0.23264926766422644,
          0.7332647602341967,
          -0.9971293585380604,
          -0.7676066266105527,
          0.7001651960379345,
          -0.7022586069809715,
          -0.05891946102224388,
          0.6873881326933733,
          0.8906297185004478,
          0.9638085612837739,
          0.0579173716477777,
          0.33464594904890277,
          2.533769548275823
         ],
         "xaxis": "x2",
         "y": [
          0.09109850481918408,
          -1.1215293214001596,
          -0.8472103787075184,
          0.047579463925629756,
          -0.2465006929122032,
          0.355941870570774,
          -0.10096950094440324,
          -0.9072730752429058,
          -0.9518980001271358,
          2.14097321822886,
          2.1231768307689967,
          0.6958977551843699,
          -1.583248837107644,
          1.7142265839072959,
          -0.06646503235312974,
          -1.5315586252424356,
          1.4934969578297246,
          -0.3671124610810568,
          -0.6464912890042264,
          0.7577407259047961,
          -1.7888731022404905,
          -0.836344304627946,
          2.428995088322346,
          1.3927544538222227,
          0.9186261627971786,
          1.3069317194442132,
          -1.0793521680617035,
          2.0008609111050646,
          1.6512094667325325,
          0.808956552274321,
          0.7161520296684218,
          0.4174688388945817,
          -2.055553429227154,
          -0.10478473559018199,
          -1.8414704504739363,
          -1.9037587104776745,
          -0.24550426677305848,
          -0.9344856372315049,
          0.08519000805272456,
          0.7909917218595681,
          1.2112598406713257,
          0.8780853775627289,
          1.6391927026157413,
          -0.7844898993204068,
          -0.8200738867112358,
          1.2299606960656078,
          2.090198636473912,
          0.967590406410828,
          0.42781576469535565,
          0.3740083906457488,
          -1.203415752416856,
          0.19874074492299004,
          -1.0996349876019142,
          -0.5118885547212875,
          0.6089409203104832,
          -0.009986668270133012,
          -0.9843598032066695,
          -0.6971112927387455,
          -1.0518788938535228,
          -1.6926464990344885,
          1.895353289889859,
          2.635922114037947,
          1.0059778300139433,
          -0.9100671354086547,
          0.7188149666974778,
          -0.9501042669394972,
          2.1621864299965403,
          1.1420880278768886,
          0.9676235117810439,
          0.5345015806889609,
          -0.6101501196531989,
          0.23256458005975567,
          -0.30864952668522244,
          0.8230595122750528,
          0.0025476652548313684,
          1.0668879463043774,
          -0.19717897335767187,
          -0.15813795755946913,
          -0.6178985215289267,
          1.8057952496635845,
          1.0511933107617695,
          -0.5868718647057343,
          -0.5351892335864168,
          -0.027468015311200602,
          -0.9442877177439853,
          -0.8623770708257102,
          0.8948807217187174,
          -0.00948333496494119,
          -0.920057972150479,
          0.6478025520263664,
          0.45634160459747125,
          0.29947972220377245,
          -0.870490121032512,
          -0.9493757828636347,
          -1.6153530988647982,
          -0.9529103188037132,
          -1.2886840902918308,
          -1.261963285580088,
          -0.12188068264694774,
          0.26167595986569264
         ],
         "yaxis": "y2"
        },
        {
         "line": {
          "color": "rgba(128, 128, 128, 1.0)",
          "dash": "solid",
          "shape": "linear",
          "width": 1.3
         },
         "marker": {
          "size": 2,
          "symbol": "circle"
         },
         "mode": "markers",
         "name": "A",
         "text": "",
         "type": "scatter",
         "x": [
          1.3758302992402178,
          -0.5464235662369491,
          -1.0640122214796286,
          -2.3235399586051115,
          1.705191233613601,
          0.15125109594869915,
          -0.40548547228741083,
          -0.0167560371007023,
          1.3587843530757622,
          -0.5766798451146129,
          -2.460334659632868,
          -0.3205290709209248,
          -0.8201666883711857,
          0.1064598866020623,
          -0.17041287367257293,
          -0.2311037596628485,
          -2.177420275043031,
          0.16668176130188805,
          0.34883146503107937,
          -1.7113813526608828,
          1.217284105143848,
          2.10800027640411,
          0.6809500093258382,
          -0.41159406356671013,
          2.2221962659871535,
          -0.7159976989307345,
          0.048997093626884355,
          0.6519528020393337,
          -0.5804849016231878,
          0.16614624828097674,
          0.7778579586839508,
          -0.8613245245389931,
          0.14083872520776508,
          0.9223998120756294,
          -0.06587739303141103,
          -0.9090378151557447,
          0.774219386130262,
          0.47370109742745475,
          -0.12521703594648026,
          -0.23168290675497608,
          1.4258995895851792,
          -0.4294984669578919,
          1.0843443672963928,
          -0.13009791360636638,
          -0.42327814337865,
          0.16600732276789706,
          -0.20525629523490763,
          0.294922445974942,
          0.24087444752324202,
          -0.7351121378484805,
          -1.6246752176833337,
          -0.24007809292079899,
          -1.4111550692195103,
          0.5907756638895278,
          0.32809777470257495,
          -1.2664456815631007,
          0.8389108671207739,
          0.9363619458933723,
          0.8030213932482793,
          -0.4776438326616866,
          -0.5306839796905211,
          0.5553959664002395,
          0.7656975219663584,
          0.0668227947356117,
          2.099267733728491,
          -0.6945638667116145,
          0.32961745336651654,
          -0.008564479964125252,
          0.15049802856733616,
          -0.8898511162605245,
          -1.023329049646791,
          -1.184275803186526,
          -1.0695886040306473,
          0.20404943415961055,
          1.330736398693659,
          0.5148171410318096,
          -0.39259662565338455,
          -0.31550600968650433,
          0.07647989368502664,
          -0.9556525207968132,
          0.1165358940487146,
          0.7522440580315846,
          -0.22467952311957368,
          1.2445827825580795,
          0.5541624064844864,
          -0.09767564483997998,
          -0.11695965405042542,
          0.05173213311650182,
          1.9842860589096416,
          0.8078033348332877,
          0.8801738916013921,
          -0.13224414484129846,
          0.24680444139114524,
          -0.07375280951611769,
          -0.3033857245159235,
          -1.0159151579511456,
          -0.5884011016913935,
          -1.7036795116266445,
          -0.05047605674856232,
          0.1478607589113499
         ],
         "xaxis": "x3",
         "y": [
          0.09109850481918408,
          -1.1215293214001596,
          -0.8472103787075184,
          0.047579463925629756,
          -0.2465006929122032,
          0.355941870570774,
          -0.10096950094440324,
          -0.9072730752429058,
          -0.9518980001271358,
          2.14097321822886,
          2.1231768307689967,
          0.6958977551843699,
          -1.583248837107644,
          1.7142265839072959,
          -0.06646503235312974,
          -1.5315586252424356,
          1.4934969578297246,
          -0.3671124610810568,
          -0.6464912890042264,
          0.7577407259047961,
          -1.7888731022404905,
          -0.836344304627946,
          2.428995088322346,
          1.3927544538222227,
          0.9186261627971786,
          1.3069317194442132,
          -1.0793521680617035,
          2.0008609111050646,
          1.6512094667325325,
          0.808956552274321,
          0.7161520296684218,
          0.4174688388945817,
          -2.055553429227154,
          -0.10478473559018199,
          -1.8414704504739363,
          -1.9037587104776745,
          -0.24550426677305848,
          -0.9344856372315049,
          0.08519000805272456,
          0.7909917218595681,
          1.2112598406713257,
          0.8780853775627289,
          1.6391927026157413,
          -0.7844898993204068,
          -0.8200738867112358,
          1.2299606960656078,
          2.090198636473912,
          0.967590406410828,
          0.42781576469535565,
          0.3740083906457488,
          -1.203415752416856,
          0.19874074492299004,
          -1.0996349876019142,
          -0.5118885547212875,
          0.6089409203104832,
          -0.009986668270133012,
          -0.9843598032066695,
          -0.6971112927387455,
          -1.0518788938535228,
          -1.6926464990344885,
          1.895353289889859,
          2.635922114037947,
          1.0059778300139433,
          -0.9100671354086547,
          0.7188149666974778,
          -0.9501042669394972,
          2.1621864299965403,
          1.1420880278768886,
          0.9676235117810439,
          0.5345015806889609,
          -0.6101501196531989,
          0.23256458005975567,
          -0.30864952668522244,
          0.8230595122750528,
          0.0025476652548313684,
          1.0668879463043774,
          -0.19717897335767187,
          -0.15813795755946913,
          -0.6178985215289267,
          1.8057952496635845,
          1.0511933107617695,
          -0.5868718647057343,
          -0.5351892335864168,
          -0.027468015311200602,
          -0.9442877177439853,
          -0.8623770708257102,
          0.8948807217187174,
          -0.00948333496494119,
          -0.920057972150479,
          0.6478025520263664,
          0.45634160459747125,
          0.29947972220377245,
          -0.870490121032512,
          -0.9493757828636347,
          -1.6153530988647982,
          -0.9529103188037132,
          -1.2886840902918308,
          -1.261963285580088,
          -0.12188068264694774,
          0.26167595986569264
         ],
         "yaxis": "y3"
        },
        {
         "line": {
          "color": "rgba(128, 128, 128, 1.0)",
          "dash": "solid",
          "shape": "linear",
          "width": 1.3
         },
         "marker": {
          "size": 2,
          "symbol": "circle"
         },
         "mode": "markers",
         "name": "A",
         "text": "",
         "type": "scatter",
         "x": [
          -1.0143933734860284,
          -1.4585615483381547,
          2.5042418166241123,
          0.22958329208920597,
          -1.2968182950417078,
          -1.842213511320529,
          0.7639205674867398,
          0.06053809612596073,
          2.5941505660260926,
          -0.8429827527500406,
          0.3973965789654359,
          0.09225800988858295,
          0.4269893302473284,
          1.108713315005888,
          -0.2530108686558408,
          -0.2999208417090409,
          0.14045582673829862,
          2.1396253026026537,
          -0.6958020412742936,
          -1.1259270133228458,
          -0.12886762663737372,
          0.8336402823748976,
          -0.13096602161079288,
          -0.48434800066659983,
          -0.0070358933059479845,
          -1.7750610941423006,
          0.06311518472235952,
          0.44658968796806936,
          -0.41769847374378377,
          -1.3403956422413086,
          -0.9980030917351069,
          -0.7982972253158505,
          -1.3392395746219201,
          -0.29169574322894926,
          0.48287938375444306,
          -1.0752428372576626,
          -0.6719660489480964,
          -0.40267014284671204,
          0.34734401119694414,
          0.06630804067063657,
          1.010471540772577,
          2.8950897353704375,
          0.6608579983222802,
          0.6580541199106333,
          0.6361440808809069,
          -0.22905540631547425,
          -0.12169678005070042,
          0.6498261817504866,
          -0.8104196068358291,
          0.017637214546473497,
          1.341175128422489,
          -0.8802200970993431,
          0.6903647330522659,
          -1.3144504854799137,
          -0.14819797894425038,
          -1.223879648318199,
          -0.07721573448432213,
          -0.6303295595691613,
          -0.40748399859390577,
          0.3137978772217722,
          0.69348573575986,
          -0.34416383543673035,
          0.7948330868467856,
          1.0096147198834076,
          -0.9886265401414713,
          -1.2467584149031865,
          -1.714615514253578,
          0.8429139838231307,
          0.6855771071604896,
          -0.4126373823956263,
          -0.13912752323867758,
          0.09885142627724702,
          -0.8396779091615867,
          0.9642286904423265,
          0.34257450032840686,
          -1.5035445944498151,
          1.0257131646628648,
          1.6150809473465009,
          1.1137797603596864,
          -0.1239197069030021,
          -0.32171756867045126,
          -0.024032050658397468,
          0.0695408017415043,
          -0.5268975472748754,
          1.4768694986450592,
          0.5164815923489074,
          0.3325474091771087,
          0.42262221704453584,
          0.4268123115793359,
          -0.8050931506718854,
          0.1057605925152173,
          0.27204207221887794,
          -0.20135963811731583,
          0.1977090689198459,
          1.2134706704463551,
          2.435355605114732,
          -1.3080518188274746,
          -0.2407936442765178,
          -0.593345404037883,
          0.6339001458119796
         ],
         "xaxis": "x4",
         "y": [
          0.09109850481918408,
          -1.1215293214001596,
          -0.8472103787075184,
          0.047579463925629756,
          -0.2465006929122032,
          0.355941870570774,
          -0.10096950094440324,
          -0.9072730752429058,
          -0.9518980001271358,
          2.14097321822886,
          2.1231768307689967,
          0.6958977551843699,
          -1.583248837107644,
          1.7142265839072959,
          -0.06646503235312974,
          -1.5315586252424356,
          1.4934969578297246,
          -0.3671124610810568,
          -0.6464912890042264,
          0.7577407259047961,
          -1.7888731022404905,
          -0.836344304627946,
          2.428995088322346,
          1.3927544538222227,
          0.9186261627971786,
          1.3069317194442132,
          -1.0793521680617035,
          2.0008609111050646,
          1.6512094667325325,
          0.808956552274321,
          0.7161520296684218,
          0.4174688388945817,
          -2.055553429227154,
          -0.10478473559018199,
          -1.8414704504739363,
          -1.9037587104776745,
          -0.24550426677305848,
          -0.9344856372315049,
          0.08519000805272456,
          0.7909917218595681,
          1.2112598406713257,
          0.8780853775627289,
          1.6391927026157413,
          -0.7844898993204068,
          -0.8200738867112358,
          1.2299606960656078,
          2.090198636473912,
          0.967590406410828,
          0.42781576469535565,
          0.3740083906457488,
          -1.203415752416856,
          0.19874074492299004,
          -1.0996349876019142,
          -0.5118885547212875,
          0.6089409203104832,
          -0.009986668270133012,
          -0.9843598032066695,
          -0.6971112927387455,
          -1.0518788938535228,
          -1.6926464990344885,
          1.895353289889859,
          2.635922114037947,
          1.0059778300139433,
          -0.9100671354086547,
          0.7188149666974778,
          -0.9501042669394972,
          2.1621864299965403,
          1.1420880278768886,
          0.9676235117810439,
          0.5345015806889609,
          -0.6101501196531989,
          0.23256458005975567,
          -0.30864952668522244,
          0.8230595122750528,
          0.0025476652548313684,
          1.0668879463043774,
          -0.19717897335767187,
          -0.15813795755946913,
          -0.6178985215289267,
          1.8057952496635845,
          1.0511933107617695,
          -0.5868718647057343,
          -0.5351892335864168,
          -0.027468015311200602,
          -0.9442877177439853,
          -0.8623770708257102,
          0.8948807217187174,
          -0.00948333496494119,
          -0.920057972150479,
          0.6478025520263664,
          0.45634160459747125,
          0.29947972220377245,
          -0.870490121032512,
          -0.9493757828636347,
          -1.6153530988647982,
          -0.9529103188037132,
          -1.2886840902918308,
          -1.261963285580088,
          -0.12188068264694774,
          0.26167595986569264
         ],
         "yaxis": "y4"
        },
        {
         "line": {
          "color": "rgba(128, 128, 128, 1.0)",
          "dash": "solid",
          "shape": "linear",
          "width": 1.3
         },
         "marker": {
          "size": 2,
          "symbol": "circle"
         },
         "mode": "markers",
         "name": "B",
         "text": "",
         "type": "scatter",
         "x": [
          0.09109850481918408,
          -1.1215293214001596,
          -0.8472103787075184,
          0.047579463925629756,
          -0.2465006929122032,
          0.355941870570774,
          -0.10096950094440324,
          -0.9072730752429058,
          -0.9518980001271358,
          2.14097321822886,
          2.1231768307689967,
          0.6958977551843699,
          -1.583248837107644,
          1.7142265839072959,
          -0.06646503235312974,
          -1.5315586252424356,
          1.4934969578297246,
          -0.3671124610810568,
          -0.6464912890042264,
          0.7577407259047961,
          -1.7888731022404905,
          -0.836344304627946,
          2.428995088322346,
          1.3927544538222227,
          0.9186261627971786,
          1.3069317194442132,
          -1.0793521680617035,
          2.0008609111050646,
          1.6512094667325325,
          0.808956552274321,
          0.7161520296684218,
          0.4174688388945817,
          -2.055553429227154,
          -0.10478473559018199,
          -1.8414704504739363,
          -1.9037587104776745,
          -0.24550426677305848,
          -0.9344856372315049,
          0.08519000805272456,
          0.7909917218595681,
          1.2112598406713257,
          0.8780853775627289,
          1.6391927026157413,
          -0.7844898993204068,
          -0.8200738867112358,
          1.2299606960656078,
          2.090198636473912,
          0.967590406410828,
          0.42781576469535565,
          0.3740083906457488,
          -1.203415752416856,
          0.19874074492299004,
          -1.0996349876019142,
          -0.5118885547212875,
          0.6089409203104832,
          -0.009986668270133012,
          -0.9843598032066695,
          -0.6971112927387455,
          -1.0518788938535228,
          -1.6926464990344885,
          1.895353289889859,
          2.635922114037947,
          1.0059778300139433,
          -0.9100671354086547,
          0.7188149666974778,
          -0.9501042669394972,
          2.1621864299965403,
          1.1420880278768886,
          0.9676235117810439,
          0.5345015806889609,
          -0.6101501196531989,
          0.23256458005975567,
          -0.30864952668522244,
          0.8230595122750528,
          0.0025476652548313684,
          1.0668879463043774,
          -0.19717897335767187,
          -0.15813795755946913,
          -0.6178985215289267,
          1.8057952496635845,
          1.0511933107617695,
          -0.5868718647057343,
          -0.5351892335864168,
          -0.027468015311200602,
          -0.9442877177439853,
          -0.8623770708257102,
          0.8948807217187174,
          -0.00948333496494119,
          -0.920057972150479,
          0.6478025520263664,
          0.45634160459747125,
          0.29947972220377245,
          -0.870490121032512,
          -0.9493757828636347,
          -1.6153530988647982,
          -0.9529103188037132,
          -1.2886840902918308,
          -1.261963285580088,
          -0.12188068264694774,
          0.26167595986569264
         ],
         "xaxis": "x5",
         "y": [
          -0.8116091289192721,
          -0.19300472687253206,
          0.42051103925632977,
          0.25547064152430615,
          0.4461384861944884,
          0.2065840994216946,
          -0.0736093684561315,
          -0.03672123413058332,
          0.6801523071485202,
          1.4418046168788465,
          -0.5726562777833677,
          0.9307098475989224,
          -0.5706293447478381,
          0.4453994634128244,
          1.4143311666416154,
          -1.108813199803975,
          -0.3125435764127994,
          1.3618244709601963,
          -0.06427906272026955,
          -0.9229893610662293,
          0.3065059408237643,
          -0.17342759515419126,
          0.8429059478472343,
          -1.5805981154008981,
          -2.0267251132949027,
          -0.8286681556363882,
          1.0616325449191493,
          -0.3631590237640123,
          0.3245491815023166,
          -0.12049652048231733,
          -1.7794008323816055,
          0.9771420985889142,
          0.6937004427893335,
          -0.057223441643777455,
          0.6845095121304248,
          -0.32589236102397623,
          0.29680436698785867,
          -1.5057853650832715,
          1.7496853226925513,
          1.6753176110932382,
          -0.30540371699704194,
          0.03962473472743301,
          1.5236297895868112,
          0.5511026209571313,
          1.6053502011125302,
          -0.9477947708757761,
          0.5084280387681843,
          1.0536007000338874,
          -0.20842639751067635,
          -1.2601656190124837,
          0.1042762843423615,
          -0.5724041204261644,
          -0.05409712730683168,
          1.2766275991015201,
          0.4813853754972735,
          -1.289064510835033,
          -1.6294448766424343,
          -0.2617693791137971,
          0.48254519819781516,
          3.1344856939051433,
          -0.5981856159842609,
          -0.7905026818503782,
          -0.41390096879915417,
          1.211655923059735,
          0.486900856960665,
          -0.21735166935475592,
          -0.6446942837755238,
          1.4840688604700185,
          0.21152002576581685,
          0.07407353417275789,
          -0.6130890236210245,
          0.5252383330404052,
          0.6712851140907574,
          0.9618939225720989,
          -2.447934537947344,
          0.21001235145459388,
          -0.017514426974441534,
          -0.3294942746261193,
          -1.956893644342049,
          1.3147434662972208,
          -2.236901795464519,
          -1.355670681639342,
          0.3332941119737317,
          -1.0451492156076625,
          0.3752925071061327,
          -1.668849441699103,
          -0.12344250483081605,
          -0.23264926766422644,
          0.7332647602341967,
          -0.9971293585380604,
          -0.7676066266105527,
          0.7001651960379345,
          -0.7022586069809715,
          -0.05891946102224388,
          0.6873881326933733,
          0.8906297185004478,
          0.9638085612837739,
          0.0579173716477777,
          0.33464594904890277,
          2.533769548275823
         ],
         "yaxis": "y5"
        },
        {
         "histfunc": "count",
         "histnorm": "",
         "marker": {
          "color": "rgba(55, 128, 191, 1.0)",
          "line": {
           "color": "#4D5663",
           "width": 1.3
          }
         },
         "name": "B",
         "nbinsx": 10,
         "opacity": 0.8,
         "orientation": "v",
         "type": "histogram",
         "x": [
          -0.8116091289192721,
          -0.19300472687253206,
          0.42051103925632977,
          0.25547064152430615,
          0.4461384861944884,
          0.2065840994216946,
          -0.0736093684561315,
          -0.03672123413058332,
          0.6801523071485202,
          1.4418046168788465,
          -0.5726562777833677,
          0.9307098475989224,
          -0.5706293447478381,
          0.4453994634128244,
          1.4143311666416154,
          -1.108813199803975,
          -0.3125435764127994,
          1.3618244709601963,
          -0.06427906272026955,
          -0.9229893610662293,
          0.3065059408237643,
          -0.17342759515419126,
          0.8429059478472343,
          -1.5805981154008981,
          -2.0267251132949027,
          -0.8286681556363882,
          1.0616325449191493,
          -0.3631590237640123,
          0.3245491815023166,
          -0.12049652048231733,
          -1.7794008323816055,
          0.9771420985889142,
          0.6937004427893335,
          -0.057223441643777455,
          0.6845095121304248,
          -0.32589236102397623,
          0.29680436698785867,
          -1.5057853650832715,
          1.7496853226925513,
          1.6753176110932382,
          -0.30540371699704194,
          0.03962473472743301,
          1.5236297895868112,
          0.5511026209571313,
          1.6053502011125302,
          -0.9477947708757761,
          0.5084280387681843,
          1.0536007000338874,
          -0.20842639751067635,
          -1.2601656190124837,
          0.1042762843423615,
          -0.5724041204261644,
          -0.05409712730683168,
          1.2766275991015201,
          0.4813853754972735,
          -1.289064510835033,
          -1.6294448766424343,
          -0.2617693791137971,
          0.48254519819781516,
          3.1344856939051433,
          -0.5981856159842609,
          -0.7905026818503782,
          -0.41390096879915417,
          1.211655923059735,
          0.486900856960665,
          -0.21735166935475592,
          -0.6446942837755238,
          1.4840688604700185,
          0.21152002576581685,
          0.07407353417275789,
          -0.6130890236210245,
          0.5252383330404052,
          0.6712851140907574,
          0.9618939225720989,
          -2.447934537947344,
          0.21001235145459388,
          -0.017514426974441534,
          -0.3294942746261193,
          -1.956893644342049,
          1.3147434662972208,
          -2.236901795464519,
          -1.355670681639342,
          0.3332941119737317,
          -1.0451492156076625,
          0.3752925071061327,
          -1.668849441699103,
          -0.12344250483081605,
          -0.23264926766422644,
          0.7332647602341967,
          -0.9971293585380604,
          -0.7676066266105527,
          0.7001651960379345,
          -0.7022586069809715,
          -0.05891946102224388,
          0.6873881326933733,
          0.8906297185004478,
          0.9638085612837739,
          0.0579173716477777,
          0.33464594904890277,
          2.533769548275823
         ],
         "xaxis": "x6",
         "yaxis": "y6"
        },
        {
         "line": {
          "color": "rgba(128, 128, 128, 1.0)",
          "dash": "solid",
          "shape": "linear",
          "width": 1.3
         },
         "marker": {
          "size": 2,
          "symbol": "circle"
         },
         "mode": "markers",
         "name": "B",
         "text": "",
         "type": "scatter",
         "x": [
          1.3758302992402178,
          -0.5464235662369491,
          -1.0640122214796286,
          -2.3235399586051115,
          1.705191233613601,
          0.15125109594869915,
          -0.40548547228741083,
          -0.0167560371007023,
          1.3587843530757622,
          -0.5766798451146129,
          -2.460334659632868,
          -0.3205290709209248,
          -0.8201666883711857,
          0.1064598866020623,
          -0.17041287367257293,
          -0.2311037596628485,
          -2.177420275043031,
          0.16668176130188805,
          0.34883146503107937,
          -1.7113813526608828,
          1.217284105143848,
          2.10800027640411,
          0.6809500093258382,
          -0.41159406356671013,
          2.2221962659871535,
          -0.7159976989307345,
          0.048997093626884355,
          0.6519528020393337,
          -0.5804849016231878,
          0.16614624828097674,
          0.7778579586839508,
          -0.8613245245389931,
          0.14083872520776508,
          0.9223998120756294,
          -0.06587739303141103,
          -0.9090378151557447,
          0.774219386130262,
          0.47370109742745475,
          -0.12521703594648026,
          -0.23168290675497608,
          1.4258995895851792,
          -0.4294984669578919,
          1.0843443672963928,
          -0.13009791360636638,
          -0.42327814337865,
          0.16600732276789706,
          -0.20525629523490763,
          0.294922445974942,
          0.24087444752324202,
          -0.7351121378484805,
          -1.6246752176833337,
          -0.24007809292079899,
          -1.4111550692195103,
          0.5907756638895278,
          0.32809777470257495,
          -1.2664456815631007,
          0.8389108671207739,
          0.9363619458933723,
          0.8030213932482793,
          -0.4776438326616866,
          -0.5306839796905211,
          0.5553959664002395,
          0.7656975219663584,
          0.0668227947356117,
          2.099267733728491,
          -0.6945638667116145,
          0.32961745336651654,
          -0.008564479964125252,
          0.15049802856733616,
          -0.8898511162605245,
          -1.023329049646791,
          -1.184275803186526,
          -1.0695886040306473,
          0.20404943415961055,
          1.330736398693659,
          0.5148171410318096,
          -0.39259662565338455,
          -0.31550600968650433,
          0.07647989368502664,
          -0.9556525207968132,
          0.1165358940487146,
          0.7522440580315846,
          -0.22467952311957368,
          1.2445827825580795,
          0.5541624064844864,
          -0.09767564483997998,
          -0.11695965405042542,
          0.05173213311650182,
          1.9842860589096416,
          0.8078033348332877,
          0.8801738916013921,
          -0.13224414484129846,
          0.24680444139114524,
          -0.07375280951611769,
          -0.3033857245159235,
          -1.0159151579511456,
          -0.5884011016913935,
          -1.7036795116266445,
          -0.05047605674856232,
          0.1478607589113499
         ],
         "xaxis": "x7",
         "y": [
          -0.8116091289192721,
          -0.19300472687253206,
          0.42051103925632977,
          0.25547064152430615,
          0.4461384861944884,
          0.2065840994216946,
          -0.0736093684561315,
          -0.03672123413058332,
          0.6801523071485202,
          1.4418046168788465,
          -0.5726562777833677,
          0.9307098475989224,
          -0.5706293447478381,
          0.4453994634128244,
          1.4143311666416154,
          -1.108813199803975,
          -0.3125435764127994,
          1.3618244709601963,
          -0.06427906272026955,
          -0.9229893610662293,
          0.3065059408237643,
          -0.17342759515419126,
          0.8429059478472343,
          -1.5805981154008981,
          -2.0267251132949027,
          -0.8286681556363882,
          1.0616325449191493,
          -0.3631590237640123,
          0.3245491815023166,
          -0.12049652048231733,
          -1.7794008323816055,
          0.9771420985889142,
          0.6937004427893335,
          -0.057223441643777455,
          0.6845095121304248,
          -0.32589236102397623,
          0.29680436698785867,
          -1.5057853650832715,
          1.7496853226925513,
          1.6753176110932382,
          -0.30540371699704194,
          0.03962473472743301,
          1.5236297895868112,
          0.5511026209571313,
          1.6053502011125302,
          -0.9477947708757761,
          0.5084280387681843,
          1.0536007000338874,
          -0.20842639751067635,
          -1.2601656190124837,
          0.1042762843423615,
          -0.5724041204261644,
          -0.05409712730683168,
          1.2766275991015201,
          0.4813853754972735,
          -1.289064510835033,
          -1.6294448766424343,
          -0.2617693791137971,
          0.48254519819781516,
          3.1344856939051433,
          -0.5981856159842609,
          -0.7905026818503782,
          -0.41390096879915417,
          1.211655923059735,
          0.486900856960665,
          -0.21735166935475592,
          -0.6446942837755238,
          1.4840688604700185,
          0.21152002576581685,
          0.07407353417275789,
          -0.6130890236210245,
          0.5252383330404052,
          0.6712851140907574,
          0.9618939225720989,
          -2.447934537947344,
          0.21001235145459388,
          -0.017514426974441534,
          -0.3294942746261193,
          -1.956893644342049,
          1.3147434662972208,
          -2.236901795464519,
          -1.355670681639342,
          0.3332941119737317,
          -1.0451492156076625,
          0.3752925071061327,
          -1.668849441699103,
          -0.12344250483081605,
          -0.23264926766422644,
          0.7332647602341967,
          -0.9971293585380604,
          -0.7676066266105527,
          0.7001651960379345,
          -0.7022586069809715,
          -0.05891946102224388,
          0.6873881326933733,
          0.8906297185004478,
          0.9638085612837739,
          0.0579173716477777,
          0.33464594904890277,
          2.533769548275823
         ],
         "yaxis": "y7"
        },
        {
         "line": {
          "color": "rgba(128, 128, 128, 1.0)",
          "dash": "solid",
          "shape": "linear",
          "width": 1.3
         },
         "marker": {
          "size": 2,
          "symbol": "circle"
         },
         "mode": "markers",
         "name": "B",
         "text": "",
         "type": "scatter",
         "x": [
          -1.0143933734860284,
          -1.4585615483381547,
          2.5042418166241123,
          0.22958329208920597,
          -1.2968182950417078,
          -1.842213511320529,
          0.7639205674867398,
          0.06053809612596073,
          2.5941505660260926,
          -0.8429827527500406,
          0.3973965789654359,
          0.09225800988858295,
          0.4269893302473284,
          1.108713315005888,
          -0.2530108686558408,
          -0.2999208417090409,
          0.14045582673829862,
          2.1396253026026537,
          -0.6958020412742936,
          -1.1259270133228458,
          -0.12886762663737372,
          0.8336402823748976,
          -0.13096602161079288,
          -0.48434800066659983,
          -0.0070358933059479845,
          -1.7750610941423006,
          0.06311518472235952,
          0.44658968796806936,
          -0.41769847374378377,
          -1.3403956422413086,
          -0.9980030917351069,
          -0.7982972253158505,
          -1.3392395746219201,
          -0.29169574322894926,
          0.48287938375444306,
          -1.0752428372576626,
          -0.6719660489480964,
          -0.40267014284671204,
          0.34734401119694414,
          0.06630804067063657,
          1.010471540772577,
          2.8950897353704375,
          0.6608579983222802,
          0.6580541199106333,
          0.6361440808809069,
          -0.22905540631547425,
          -0.12169678005070042,
          0.6498261817504866,
          -0.8104196068358291,
          0.017637214546473497,
          1.341175128422489,
          -0.8802200970993431,
          0.6903647330522659,
          -1.3144504854799137,
          -0.14819797894425038,
          -1.223879648318199,
          -0.07721573448432213,
          -0.6303295595691613,
          -0.40748399859390577,
          0.3137978772217722,
          0.69348573575986,
          -0.34416383543673035,
          0.7948330868467856,
          1.0096147198834076,
          -0.9886265401414713,
          -1.2467584149031865,
          -1.714615514253578,
          0.8429139838231307,
          0.6855771071604896,
          -0.4126373823956263,
          -0.13912752323867758,
          0.09885142627724702,
          -0.8396779091615867,
          0.9642286904423265,
          0.34257450032840686,
          -1.5035445944498151,
          1.0257131646628648,
          1.6150809473465009,
          1.1137797603596864,
          -0.1239197069030021,
          -0.32171756867045126,
          -0.024032050658397468,
          0.0695408017415043,
          -0.5268975472748754,
          1.4768694986450592,
          0.5164815923489074,
          0.3325474091771087,
          0.42262221704453584,
          0.4268123115793359,
          -0.8050931506718854,
          0.1057605925152173,
          0.27204207221887794,
          -0.20135963811731583,
          0.1977090689198459,
          1.2134706704463551,
          2.435355605114732,
          -1.3080518188274746,
          -0.2407936442765178,
          -0.593345404037883,
          0.6339001458119796
         ],
         "xaxis": "x8",
         "y": [
          -0.8116091289192721,
          -0.19300472687253206,
          0.42051103925632977,
          0.25547064152430615,
          0.4461384861944884,
          0.2065840994216946,
          -0.0736093684561315,
          -0.03672123413058332,
          0.6801523071485202,
          1.4418046168788465,
          -0.5726562777833677,
          0.9307098475989224,
          -0.5706293447478381,
          0.4453994634128244,
          1.4143311666416154,
          -1.108813199803975,
          -0.3125435764127994,
          1.3618244709601963,
          -0.06427906272026955,
          -0.9229893610662293,
          0.3065059408237643,
          -0.17342759515419126,
          0.8429059478472343,
          -1.5805981154008981,
          -2.0267251132949027,
          -0.8286681556363882,
          1.0616325449191493,
          -0.3631590237640123,
          0.3245491815023166,
          -0.12049652048231733,
          -1.7794008323816055,
          0.9771420985889142,
          0.6937004427893335,
          -0.057223441643777455,
          0.6845095121304248,
          -0.32589236102397623,
          0.29680436698785867,
          -1.5057853650832715,
          1.7496853226925513,
          1.6753176110932382,
          -0.30540371699704194,
          0.03962473472743301,
          1.5236297895868112,
          0.5511026209571313,
          1.6053502011125302,
          -0.9477947708757761,
          0.5084280387681843,
          1.0536007000338874,
          -0.20842639751067635,
          -1.2601656190124837,
          0.1042762843423615,
          -0.5724041204261644,
          -0.05409712730683168,
          1.2766275991015201,
          0.4813853754972735,
          -1.289064510835033,
          -1.6294448766424343,
          -0.2617693791137971,
          0.48254519819781516,
          3.1344856939051433,
          -0.5981856159842609,
          -0.7905026818503782,
          -0.41390096879915417,
          1.211655923059735,
          0.486900856960665,
          -0.21735166935475592,
          -0.6446942837755238,
          1.4840688604700185,
          0.21152002576581685,
          0.07407353417275789,
          -0.6130890236210245,
          0.5252383330404052,
          0.6712851140907574,
          0.9618939225720989,
          -2.447934537947344,
          0.21001235145459388,
          -0.017514426974441534,
          -0.3294942746261193,
          -1.956893644342049,
          1.3147434662972208,
          -2.236901795464519,
          -1.355670681639342,
          0.3332941119737317,
          -1.0451492156076625,
          0.3752925071061327,
          -1.668849441699103,
          -0.12344250483081605,
          -0.23264926766422644,
          0.7332647602341967,
          -0.9971293585380604,
          -0.7676066266105527,
          0.7001651960379345,
          -0.7022586069809715,
          -0.05891946102224388,
          0.6873881326933733,
          0.8906297185004478,
          0.9638085612837739,
          0.0579173716477777,
          0.33464594904890277,
          2.533769548275823
         ],
         "yaxis": "y8"
        },
        {
         "line": {
          "color": "rgba(128, 128, 128, 1.0)",
          "dash": "solid",
          "shape": "linear",
          "width": 1.3
         },
         "marker": {
          "size": 2,
          "symbol": "circle"
         },
         "mode": "markers",
         "name": "C",
         "text": "",
         "type": "scatter",
         "x": [
          0.09109850481918408,
          -1.1215293214001596,
          -0.8472103787075184,
          0.047579463925629756,
          -0.2465006929122032,
          0.355941870570774,
          -0.10096950094440324,
          -0.9072730752429058,
          -0.9518980001271358,
          2.14097321822886,
          2.1231768307689967,
          0.6958977551843699,
          -1.583248837107644,
          1.7142265839072959,
          -0.06646503235312974,
          -1.5315586252424356,
          1.4934969578297246,
          -0.3671124610810568,
          -0.6464912890042264,
          0.7577407259047961,
          -1.7888731022404905,
          -0.836344304627946,
          2.428995088322346,
          1.3927544538222227,
          0.9186261627971786,
          1.3069317194442132,
          -1.0793521680617035,
          2.0008609111050646,
          1.6512094667325325,
          0.808956552274321,
          0.7161520296684218,
          0.4174688388945817,
          -2.055553429227154,
          -0.10478473559018199,
          -1.8414704504739363,
          -1.9037587104776745,
          -0.24550426677305848,
          -0.9344856372315049,
          0.08519000805272456,
          0.7909917218595681,
          1.2112598406713257,
          0.8780853775627289,
          1.6391927026157413,
          -0.7844898993204068,
          -0.8200738867112358,
          1.2299606960656078,
          2.090198636473912,
          0.967590406410828,
          0.42781576469535565,
          0.3740083906457488,
          -1.203415752416856,
          0.19874074492299004,
          -1.0996349876019142,
          -0.5118885547212875,
          0.6089409203104832,
          -0.009986668270133012,
          -0.9843598032066695,
          -0.6971112927387455,
          -1.0518788938535228,
          -1.6926464990344885,
          1.895353289889859,
          2.635922114037947,
          1.0059778300139433,
          -0.9100671354086547,
          0.7188149666974778,
          -0.9501042669394972,
          2.1621864299965403,
          1.1420880278768886,
          0.9676235117810439,
          0.5345015806889609,
          -0.6101501196531989,
          0.23256458005975567,
          -0.30864952668522244,
          0.8230595122750528,
          0.0025476652548313684,
          1.0668879463043774,
          -0.19717897335767187,
          -0.15813795755946913,
          -0.6178985215289267,
          1.8057952496635845,
          1.0511933107617695,
          -0.5868718647057343,
          -0.5351892335864168,
          -0.027468015311200602,
          -0.9442877177439853,
          -0.8623770708257102,
          0.8948807217187174,
          -0.00948333496494119,
          -0.920057972150479,
          0.6478025520263664,
          0.45634160459747125,
          0.29947972220377245,
          -0.870490121032512,
          -0.9493757828636347,
          -1.6153530988647982,
          -0.9529103188037132,
          -1.2886840902918308,
          -1.261963285580088,
          -0.12188068264694774,
          0.26167595986569264
         ],
         "xaxis": "x9",
         "y": [
          1.3758302992402178,
          -0.5464235662369491,
          -1.0640122214796286,
          -2.3235399586051115,
          1.705191233613601,
          0.15125109594869915,
          -0.40548547228741083,
          -0.0167560371007023,
          1.3587843530757622,
          -0.5766798451146129,
          -2.460334659632868,
          -0.3205290709209248,
          -0.8201666883711857,
          0.1064598866020623,
          -0.17041287367257293,
          -0.2311037596628485,
          -2.177420275043031,
          0.16668176130188805,
          0.34883146503107937,
          -1.7113813526608828,
          1.217284105143848,
          2.10800027640411,
          0.6809500093258382,
          -0.41159406356671013,
          2.2221962659871535,
          -0.7159976989307345,
          0.048997093626884355,
          0.6519528020393337,
          -0.5804849016231878,
          0.16614624828097674,
          0.7778579586839508,
          -0.8613245245389931,
          0.14083872520776508,
          0.9223998120756294,
          -0.06587739303141103,
          -0.9090378151557447,
          0.774219386130262,
          0.47370109742745475,
          -0.12521703594648026,
          -0.23168290675497608,
          1.4258995895851792,
          -0.4294984669578919,
          1.0843443672963928,
          -0.13009791360636638,
          -0.42327814337865,
          0.16600732276789706,
          -0.20525629523490763,
          0.294922445974942,
          0.24087444752324202,
          -0.7351121378484805,
          -1.6246752176833337,
          -0.24007809292079899,
          -1.4111550692195103,
          0.5907756638895278,
          0.32809777470257495,
          -1.2664456815631007,
          0.8389108671207739,
          0.9363619458933723,
          0.8030213932482793,
          -0.4776438326616866,
          -0.5306839796905211,
          0.5553959664002395,
          0.7656975219663584,
          0.0668227947356117,
          2.099267733728491,
          -0.6945638667116145,
          0.32961745336651654,
          -0.008564479964125252,
          0.15049802856733616,
          -0.8898511162605245,
          -1.023329049646791,
          -1.184275803186526,
          -1.0695886040306473,
          0.20404943415961055,
          1.330736398693659,
          0.5148171410318096,
          -0.39259662565338455,
          -0.31550600968650433,
          0.07647989368502664,
          -0.9556525207968132,
          0.1165358940487146,
          0.7522440580315846,
          -0.22467952311957368,
          1.2445827825580795,
          0.5541624064844864,
          -0.09767564483997998,
          -0.11695965405042542,
          0.05173213311650182,
          1.9842860589096416,
          0.8078033348332877,
          0.8801738916013921,
          -0.13224414484129846,
          0.24680444139114524,
          -0.07375280951611769,
          -0.3033857245159235,
          -1.0159151579511456,
          -0.5884011016913935,
          -1.7036795116266445,
          -0.05047605674856232,
          0.1478607589113499
         ],
         "yaxis": "y9"
        },
        {
         "line": {
          "color": "rgba(128, 128, 128, 1.0)",
          "dash": "solid",
          "shape": "linear",
          "width": 1.3
         },
         "marker": {
          "size": 2,
          "symbol": "circle"
         },
         "mode": "markers",
         "name": "C",
         "text": "",
         "type": "scatter",
         "x": [
          -0.8116091289192721,
          -0.19300472687253206,
          0.42051103925632977,
          0.25547064152430615,
          0.4461384861944884,
          0.2065840994216946,
          -0.0736093684561315,
          -0.03672123413058332,
          0.6801523071485202,
          1.4418046168788465,
          -0.5726562777833677,
          0.9307098475989224,
          -0.5706293447478381,
          0.4453994634128244,
          1.4143311666416154,
          -1.108813199803975,
          -0.3125435764127994,
          1.3618244709601963,
          -0.06427906272026955,
          -0.9229893610662293,
          0.3065059408237643,
          -0.17342759515419126,
          0.8429059478472343,
          -1.5805981154008981,
          -2.0267251132949027,
          -0.8286681556363882,
          1.0616325449191493,
          -0.3631590237640123,
          0.3245491815023166,
          -0.12049652048231733,
          -1.7794008323816055,
          0.9771420985889142,
          0.6937004427893335,
          -0.057223441643777455,
          0.6845095121304248,
          -0.32589236102397623,
          0.29680436698785867,
          -1.5057853650832715,
          1.7496853226925513,
          1.6753176110932382,
          -0.30540371699704194,
          0.03962473472743301,
          1.5236297895868112,
          0.5511026209571313,
          1.6053502011125302,
          -0.9477947708757761,
          0.5084280387681843,
          1.0536007000338874,
          -0.20842639751067635,
          -1.2601656190124837,
          0.1042762843423615,
          -0.5724041204261644,
          -0.05409712730683168,
          1.2766275991015201,
          0.4813853754972735,
          -1.289064510835033,
          -1.6294448766424343,
          -0.2617693791137971,
          0.48254519819781516,
          3.1344856939051433,
          -0.5981856159842609,
          -0.7905026818503782,
          -0.41390096879915417,
          1.211655923059735,
          0.486900856960665,
          -0.21735166935475592,
          -0.6446942837755238,
          1.4840688604700185,
          0.21152002576581685,
          0.07407353417275789,
          -0.6130890236210245,
          0.5252383330404052,
          0.6712851140907574,
          0.9618939225720989,
          -2.447934537947344,
          0.21001235145459388,
          -0.017514426974441534,
          -0.3294942746261193,
          -1.956893644342049,
          1.3147434662972208,
          -2.236901795464519,
          -1.355670681639342,
          0.3332941119737317,
          -1.0451492156076625,
          0.3752925071061327,
          -1.668849441699103,
          -0.12344250483081605,
          -0.23264926766422644,
          0.7332647602341967,
          -0.9971293585380604,
          -0.7676066266105527,
          0.7001651960379345,
          -0.7022586069809715,
          -0.05891946102224388,
          0.6873881326933733,
          0.8906297185004478,
          0.9638085612837739,
          0.0579173716477777,
          0.33464594904890277,
          2.533769548275823
         ],
         "xaxis": "x10",
         "y": [
          1.3758302992402178,
          -0.5464235662369491,
          -1.0640122214796286,
          -2.3235399586051115,
          1.705191233613601,
          0.15125109594869915,
          -0.40548547228741083,
          -0.0167560371007023,
          1.3587843530757622,
          -0.5766798451146129,
          -2.460334659632868,
          -0.3205290709209248,
          -0.8201666883711857,
          0.1064598866020623,
          -0.17041287367257293,
          -0.2311037596628485,
          -2.177420275043031,
          0.16668176130188805,
          0.34883146503107937,
          -1.7113813526608828,
          1.217284105143848,
          2.10800027640411,
          0.6809500093258382,
          -0.41159406356671013,
          2.2221962659871535,
          -0.7159976989307345,
          0.048997093626884355,
          0.6519528020393337,
          -0.5804849016231878,
          0.16614624828097674,
          0.7778579586839508,
          -0.8613245245389931,
          0.14083872520776508,
          0.9223998120756294,
          -0.06587739303141103,
          -0.9090378151557447,
          0.774219386130262,
          0.47370109742745475,
          -0.12521703594648026,
          -0.23168290675497608,
          1.4258995895851792,
          -0.4294984669578919,
          1.0843443672963928,
          -0.13009791360636638,
          -0.42327814337865,
          0.16600732276789706,
          -0.20525629523490763,
          0.294922445974942,
          0.24087444752324202,
          -0.7351121378484805,
          -1.6246752176833337,
          -0.24007809292079899,
          -1.4111550692195103,
          0.5907756638895278,
          0.32809777470257495,
          -1.2664456815631007,
          0.8389108671207739,
          0.9363619458933723,
          0.8030213932482793,
          -0.4776438326616866,
          -0.5306839796905211,
          0.5553959664002395,
          0.7656975219663584,
          0.0668227947356117,
          2.099267733728491,
          -0.6945638667116145,
          0.32961745336651654,
          -0.008564479964125252,
          0.15049802856733616,
          -0.8898511162605245,
          -1.023329049646791,
          -1.184275803186526,
          -1.0695886040306473,
          0.20404943415961055,
          1.330736398693659,
          0.5148171410318096,
          -0.39259662565338455,
          -0.31550600968650433,
          0.07647989368502664,
          -0.9556525207968132,
          0.1165358940487146,
          0.7522440580315846,
          -0.22467952311957368,
          1.2445827825580795,
          0.5541624064844864,
          -0.09767564483997998,
          -0.11695965405042542,
          0.05173213311650182,
          1.9842860589096416,
          0.8078033348332877,
          0.8801738916013921,
          -0.13224414484129846,
          0.24680444139114524,
          -0.07375280951611769,
          -0.3033857245159235,
          -1.0159151579511456,
          -0.5884011016913935,
          -1.7036795116266445,
          -0.05047605674856232,
          0.1478607589113499
         ],
         "yaxis": "y10"
        },
        {
         "histfunc": "count",
         "histnorm": "",
         "marker": {
          "color": "rgba(50, 171, 96, 1.0)",
          "line": {
           "color": "#4D5663",
           "width": 1.3
          }
         },
         "name": "C",
         "nbinsx": 10,
         "opacity": 0.8,
         "orientation": "v",
         "type": "histogram",
         "x": [
          1.3758302992402178,
          -0.5464235662369491,
          -1.0640122214796286,
          -2.3235399586051115,
          1.705191233613601,
          0.15125109594869915,
          -0.40548547228741083,
          -0.0167560371007023,
          1.3587843530757622,
          -0.5766798451146129,
          -2.460334659632868,
          -0.3205290709209248,
          -0.8201666883711857,
          0.1064598866020623,
          -0.17041287367257293,
          -0.2311037596628485,
          -2.177420275043031,
          0.16668176130188805,
          0.34883146503107937,
          -1.7113813526608828,
          1.217284105143848,
          2.10800027640411,
          0.6809500093258382,
          -0.41159406356671013,
          2.2221962659871535,
          -0.7159976989307345,
          0.048997093626884355,
          0.6519528020393337,
          -0.5804849016231878,
          0.16614624828097674,
          0.7778579586839508,
          -0.8613245245389931,
          0.14083872520776508,
          0.9223998120756294,
          -0.06587739303141103,
          -0.9090378151557447,
          0.774219386130262,
          0.47370109742745475,
          -0.12521703594648026,
          -0.23168290675497608,
          1.4258995895851792,
          -0.4294984669578919,
          1.0843443672963928,
          -0.13009791360636638,
          -0.42327814337865,
          0.16600732276789706,
          -0.20525629523490763,
          0.294922445974942,
          0.24087444752324202,
          -0.7351121378484805,
          -1.6246752176833337,
          -0.24007809292079899,
          -1.4111550692195103,
          0.5907756638895278,
          0.32809777470257495,
          -1.2664456815631007,
          0.8389108671207739,
          0.9363619458933723,
          0.8030213932482793,
          -0.4776438326616866,
          -0.5306839796905211,
          0.5553959664002395,
          0.7656975219663584,
          0.0668227947356117,
          2.099267733728491,
          -0.6945638667116145,
          0.32961745336651654,
          -0.008564479964125252,
          0.15049802856733616,
          -0.8898511162605245,
          -1.023329049646791,
          -1.184275803186526,
          -1.0695886040306473,
          0.20404943415961055,
          1.330736398693659,
          0.5148171410318096,
          -0.39259662565338455,
          -0.31550600968650433,
          0.07647989368502664,
          -0.9556525207968132,
          0.1165358940487146,
          0.7522440580315846,
          -0.22467952311957368,
          1.2445827825580795,
          0.5541624064844864,
          -0.09767564483997998,
          -0.11695965405042542,
          0.05173213311650182,
          1.9842860589096416,
          0.8078033348332877,
          0.8801738916013921,
          -0.13224414484129846,
          0.24680444139114524,
          -0.07375280951611769,
          -0.3033857245159235,
          -1.0159151579511456,
          -0.5884011016913935,
          -1.7036795116266445,
          -0.05047605674856232,
          0.1478607589113499
         ],
         "xaxis": "x11",
         "yaxis": "y11"
        },
        {
         "line": {
          "color": "rgba(128, 128, 128, 1.0)",
          "dash": "solid",
          "shape": "linear",
          "width": 1.3
         },
         "marker": {
          "size": 2,
          "symbol": "circle"
         },
         "mode": "markers",
         "name": "C",
         "text": "",
         "type": "scatter",
         "x": [
          -1.0143933734860284,
          -1.4585615483381547,
          2.5042418166241123,
          0.22958329208920597,
          -1.2968182950417078,
          -1.842213511320529,
          0.7639205674867398,
          0.06053809612596073,
          2.5941505660260926,
          -0.8429827527500406,
          0.3973965789654359,
          0.09225800988858295,
          0.4269893302473284,
          1.108713315005888,
          -0.2530108686558408,
          -0.2999208417090409,
          0.14045582673829862,
          2.1396253026026537,
          -0.6958020412742936,
          -1.1259270133228458,
          -0.12886762663737372,
          0.8336402823748976,
          -0.13096602161079288,
          -0.48434800066659983,
          -0.0070358933059479845,
          -1.7750610941423006,
          0.06311518472235952,
          0.44658968796806936,
          -0.41769847374378377,
          -1.3403956422413086,
          -0.9980030917351069,
          -0.7982972253158505,
          -1.3392395746219201,
          -0.29169574322894926,
          0.48287938375444306,
          -1.0752428372576626,
          -0.6719660489480964,
          -0.40267014284671204,
          0.34734401119694414,
          0.06630804067063657,
          1.010471540772577,
          2.8950897353704375,
          0.6608579983222802,
          0.6580541199106333,
          0.6361440808809069,
          -0.22905540631547425,
          -0.12169678005070042,
          0.6498261817504866,
          -0.8104196068358291,
          0.017637214546473497,
          1.341175128422489,
          -0.8802200970993431,
          0.6903647330522659,
          -1.3144504854799137,
          -0.14819797894425038,
          -1.223879648318199,
          -0.07721573448432213,
          -0.6303295595691613,
          -0.40748399859390577,
          0.3137978772217722,
          0.69348573575986,
          -0.34416383543673035,
          0.7948330868467856,
          1.0096147198834076,
          -0.9886265401414713,
          -1.2467584149031865,
          -1.714615514253578,
          0.8429139838231307,
          0.6855771071604896,
          -0.4126373823956263,
          -0.13912752323867758,
          0.09885142627724702,
          -0.8396779091615867,
          0.9642286904423265,
          0.34257450032840686,
          -1.5035445944498151,
          1.0257131646628648,
          1.6150809473465009,
          1.1137797603596864,
          -0.1239197069030021,
          -0.32171756867045126,
          -0.024032050658397468,
          0.0695408017415043,
          -0.5268975472748754,
          1.4768694986450592,
          0.5164815923489074,
          0.3325474091771087,
          0.42262221704453584,
          0.4268123115793359,
          -0.8050931506718854,
          0.1057605925152173,
          0.27204207221887794,
          -0.20135963811731583,
          0.1977090689198459,
          1.2134706704463551,
          2.435355605114732,
          -1.3080518188274746,
          -0.2407936442765178,
          -0.593345404037883,
          0.6339001458119796
         ],
         "xaxis": "x12",
         "y": [
          1.3758302992402178,
          -0.5464235662369491,
          -1.0640122214796286,
          -2.3235399586051115,
          1.705191233613601,
          0.15125109594869915,
          -0.40548547228741083,
          -0.0167560371007023,
          1.3587843530757622,
          -0.5766798451146129,
          -2.460334659632868,
          -0.3205290709209248,
          -0.8201666883711857,
          0.1064598866020623,
          -0.17041287367257293,
          -0.2311037596628485,
          -2.177420275043031,
          0.16668176130188805,
          0.34883146503107937,
          -1.7113813526608828,
          1.217284105143848,
          2.10800027640411,
          0.6809500093258382,
          -0.41159406356671013,
          2.2221962659871535,
          -0.7159976989307345,
          0.048997093626884355,
          0.6519528020393337,
          -0.5804849016231878,
          0.16614624828097674,
          0.7778579586839508,
          -0.8613245245389931,
          0.14083872520776508,
          0.9223998120756294,
          -0.06587739303141103,
          -0.9090378151557447,
          0.774219386130262,
          0.47370109742745475,
          -0.12521703594648026,
          -0.23168290675497608,
          1.4258995895851792,
          -0.4294984669578919,
          1.0843443672963928,
          -0.13009791360636638,
          -0.42327814337865,
          0.16600732276789706,
          -0.20525629523490763,
          0.294922445974942,
          0.24087444752324202,
          -0.7351121378484805,
          -1.6246752176833337,
          -0.24007809292079899,
          -1.4111550692195103,
          0.5907756638895278,
          0.32809777470257495,
          -1.2664456815631007,
          0.8389108671207739,
          0.9363619458933723,
          0.8030213932482793,
          -0.4776438326616866,
          -0.5306839796905211,
          0.5553959664002395,
          0.7656975219663584,
          0.0668227947356117,
          2.099267733728491,
          -0.6945638667116145,
          0.32961745336651654,
          -0.008564479964125252,
          0.15049802856733616,
          -0.8898511162605245,
          -1.023329049646791,
          -1.184275803186526,
          -1.0695886040306473,
          0.20404943415961055,
          1.330736398693659,
          0.5148171410318096,
          -0.39259662565338455,
          -0.31550600968650433,
          0.07647989368502664,
          -0.9556525207968132,
          0.1165358940487146,
          0.7522440580315846,
          -0.22467952311957368,
          1.2445827825580795,
          0.5541624064844864,
          -0.09767564483997998,
          -0.11695965405042542,
          0.05173213311650182,
          1.9842860589096416,
          0.8078033348332877,
          0.8801738916013921,
          -0.13224414484129846,
          0.24680444139114524,
          -0.07375280951611769,
          -0.3033857245159235,
          -1.0159151579511456,
          -0.5884011016913935,
          -1.7036795116266445,
          -0.05047605674856232,
          0.1478607589113499
         ],
         "yaxis": "y12"
        },
        {
         "line": {
          "color": "rgba(128, 128, 128, 1.0)",
          "dash": "solid",
          "shape": "linear",
          "width": 1.3
         },
         "marker": {
          "size": 2,
          "symbol": "circle"
         },
         "mode": "markers",
         "name": "D",
         "text": "",
         "type": "scatter",
         "x": [
          0.09109850481918408,
          -1.1215293214001596,
          -0.8472103787075184,
          0.047579463925629756,
          -0.2465006929122032,
          0.355941870570774,
          -0.10096950094440324,
          -0.9072730752429058,
          -0.9518980001271358,
          2.14097321822886,
          2.1231768307689967,
          0.6958977551843699,
          -1.583248837107644,
          1.7142265839072959,
          -0.06646503235312974,
          -1.5315586252424356,
          1.4934969578297246,
          -0.3671124610810568,
          -0.6464912890042264,
          0.7577407259047961,
          -1.7888731022404905,
          -0.836344304627946,
          2.428995088322346,
          1.3927544538222227,
          0.9186261627971786,
          1.3069317194442132,
          -1.0793521680617035,
          2.0008609111050646,
          1.6512094667325325,
          0.808956552274321,
          0.7161520296684218,
          0.4174688388945817,
          -2.055553429227154,
          -0.10478473559018199,
          -1.8414704504739363,
          -1.9037587104776745,
          -0.24550426677305848,
          -0.9344856372315049,
          0.08519000805272456,
          0.7909917218595681,
          1.2112598406713257,
          0.8780853775627289,
          1.6391927026157413,
          -0.7844898993204068,
          -0.8200738867112358,
          1.2299606960656078,
          2.090198636473912,
          0.967590406410828,
          0.42781576469535565,
          0.3740083906457488,
          -1.203415752416856,
          0.19874074492299004,
          -1.0996349876019142,
          -0.5118885547212875,
          0.6089409203104832,
          -0.009986668270133012,
          -0.9843598032066695,
          -0.6971112927387455,
          -1.0518788938535228,
          -1.6926464990344885,
          1.895353289889859,
          2.635922114037947,
          1.0059778300139433,
          -0.9100671354086547,
          0.7188149666974778,
          -0.9501042669394972,
          2.1621864299965403,
          1.1420880278768886,
          0.9676235117810439,
          0.5345015806889609,
          -0.6101501196531989,
          0.23256458005975567,
          -0.30864952668522244,
          0.8230595122750528,
          0.0025476652548313684,
          1.0668879463043774,
          -0.19717897335767187,
          -0.15813795755946913,
          -0.6178985215289267,
          1.8057952496635845,
          1.0511933107617695,
          -0.5868718647057343,
          -0.5351892335864168,
          -0.027468015311200602,
          -0.9442877177439853,
          -0.8623770708257102,
          0.8948807217187174,
          -0.00948333496494119,
          -0.920057972150479,
          0.6478025520263664,
          0.45634160459747125,
          0.29947972220377245,
          -0.870490121032512,
          -0.9493757828636347,
          -1.6153530988647982,
          -0.9529103188037132,
          -1.2886840902918308,
          -1.261963285580088,
          -0.12188068264694774,
          0.26167595986569264
         ],
         "xaxis": "x13",
         "y": [
          -1.0143933734860284,
          -1.4585615483381547,
          2.5042418166241123,
          0.22958329208920597,
          -1.2968182950417078,
          -1.842213511320529,
          0.7639205674867398,
          0.06053809612596073,
          2.5941505660260926,
          -0.8429827527500406,
          0.3973965789654359,
          0.09225800988858295,
          0.4269893302473284,
          1.108713315005888,
          -0.2530108686558408,
          -0.2999208417090409,
          0.14045582673829862,
          2.1396253026026537,
          -0.6958020412742936,
          -1.1259270133228458,
          -0.12886762663737372,
          0.8336402823748976,
          -0.13096602161079288,
          -0.48434800066659983,
          -0.0070358933059479845,
          -1.7750610941423006,
          0.06311518472235952,
          0.44658968796806936,
          -0.41769847374378377,
          -1.3403956422413086,
          -0.9980030917351069,
          -0.7982972253158505,
          -1.3392395746219201,
          -0.29169574322894926,
          0.48287938375444306,
          -1.0752428372576626,
          -0.6719660489480964,
          -0.40267014284671204,
          0.34734401119694414,
          0.06630804067063657,
          1.010471540772577,
          2.8950897353704375,
          0.6608579983222802,
          0.6580541199106333,
          0.6361440808809069,
          -0.22905540631547425,
          -0.12169678005070042,
          0.6498261817504866,
          -0.8104196068358291,
          0.017637214546473497,
          1.341175128422489,
          -0.8802200970993431,
          0.6903647330522659,
          -1.3144504854799137,
          -0.14819797894425038,
          -1.223879648318199,
          -0.07721573448432213,
          -0.6303295595691613,
          -0.40748399859390577,
          0.3137978772217722,
          0.69348573575986,
          -0.34416383543673035,
          0.7948330868467856,
          1.0096147198834076,
          -0.9886265401414713,
          -1.2467584149031865,
          -1.714615514253578,
          0.8429139838231307,
          0.6855771071604896,
          -0.4126373823956263,
          -0.13912752323867758,
          0.09885142627724702,
          -0.8396779091615867,
          0.9642286904423265,
          0.34257450032840686,
          -1.5035445944498151,
          1.0257131646628648,
          1.6150809473465009,
          1.1137797603596864,
          -0.1239197069030021,
          -0.32171756867045126,
          -0.024032050658397468,
          0.0695408017415043,
          -0.5268975472748754,
          1.4768694986450592,
          0.5164815923489074,
          0.3325474091771087,
          0.42262221704453584,
          0.4268123115793359,
          -0.8050931506718854,
          0.1057605925152173,
          0.27204207221887794,
          -0.20135963811731583,
          0.1977090689198459,
          1.2134706704463551,
          2.435355605114732,
          -1.3080518188274746,
          -0.2407936442765178,
          -0.593345404037883,
          0.6339001458119796
         ],
         "yaxis": "y13"
        },
        {
         "line": {
          "color": "rgba(128, 128, 128, 1.0)",
          "dash": "solid",
          "shape": "linear",
          "width": 1.3
         },
         "marker": {
          "size": 2,
          "symbol": "circle"
         },
         "mode": "markers",
         "name": "D",
         "text": "",
         "type": "scatter",
         "x": [
          -0.8116091289192721,
          -0.19300472687253206,
          0.42051103925632977,
          0.25547064152430615,
          0.4461384861944884,
          0.2065840994216946,
          -0.0736093684561315,
          -0.03672123413058332,
          0.6801523071485202,
          1.4418046168788465,
          -0.5726562777833677,
          0.9307098475989224,
          -0.5706293447478381,
          0.4453994634128244,
          1.4143311666416154,
          -1.108813199803975,
          -0.3125435764127994,
          1.3618244709601963,
          -0.06427906272026955,
          -0.9229893610662293,
          0.3065059408237643,
          -0.17342759515419126,
          0.8429059478472343,
          -1.5805981154008981,
          -2.0267251132949027,
          -0.8286681556363882,
          1.0616325449191493,
          -0.3631590237640123,
          0.3245491815023166,
          -0.12049652048231733,
          -1.7794008323816055,
          0.9771420985889142,
          0.6937004427893335,
          -0.057223441643777455,
          0.6845095121304248,
          -0.32589236102397623,
          0.29680436698785867,
          -1.5057853650832715,
          1.7496853226925513,
          1.6753176110932382,
          -0.30540371699704194,
          0.03962473472743301,
          1.5236297895868112,
          0.5511026209571313,
          1.6053502011125302,
          -0.9477947708757761,
          0.5084280387681843,
          1.0536007000338874,
          -0.20842639751067635,
          -1.2601656190124837,
          0.1042762843423615,
          -0.5724041204261644,
          -0.05409712730683168,
          1.2766275991015201,
          0.4813853754972735,
          -1.289064510835033,
          -1.6294448766424343,
          -0.2617693791137971,
          0.48254519819781516,
          3.1344856939051433,
          -0.5981856159842609,
          -0.7905026818503782,
          -0.41390096879915417,
          1.211655923059735,
          0.486900856960665,
          -0.21735166935475592,
          -0.6446942837755238,
          1.4840688604700185,
          0.21152002576581685,
          0.07407353417275789,
          -0.6130890236210245,
          0.5252383330404052,
          0.6712851140907574,
          0.9618939225720989,
          -2.447934537947344,
          0.21001235145459388,
          -0.017514426974441534,
          -0.3294942746261193,
          -1.956893644342049,
          1.3147434662972208,
          -2.236901795464519,
          -1.355670681639342,
          0.3332941119737317,
          -1.0451492156076625,
          0.3752925071061327,
          -1.668849441699103,
          -0.12344250483081605,
          -0.23264926766422644,
          0.7332647602341967,
          -0.9971293585380604,
          -0.7676066266105527,
          0.7001651960379345,
          -0.7022586069809715,
          -0.05891946102224388,
          0.6873881326933733,
          0.8906297185004478,
          0.9638085612837739,
          0.0579173716477777,
          0.33464594904890277,
          2.533769548275823
         ],
         "xaxis": "x14",
         "y": [
          -1.0143933734860284,
          -1.4585615483381547,
          2.5042418166241123,
          0.22958329208920597,
          -1.2968182950417078,
          -1.842213511320529,
          0.7639205674867398,
          0.06053809612596073,
          2.5941505660260926,
          -0.8429827527500406,
          0.3973965789654359,
          0.09225800988858295,
          0.4269893302473284,
          1.108713315005888,
          -0.2530108686558408,
          -0.2999208417090409,
          0.14045582673829862,
          2.1396253026026537,
          -0.6958020412742936,
          -1.1259270133228458,
          -0.12886762663737372,
          0.8336402823748976,
          -0.13096602161079288,
          -0.48434800066659983,
          -0.0070358933059479845,
          -1.7750610941423006,
          0.06311518472235952,
          0.44658968796806936,
          -0.41769847374378377,
          -1.3403956422413086,
          -0.9980030917351069,
          -0.7982972253158505,
          -1.3392395746219201,
          -0.29169574322894926,
          0.48287938375444306,
          -1.0752428372576626,
          -0.6719660489480964,
          -0.40267014284671204,
          0.34734401119694414,
          0.06630804067063657,
          1.010471540772577,
          2.8950897353704375,
          0.6608579983222802,
          0.6580541199106333,
          0.6361440808809069,
          -0.22905540631547425,
          -0.12169678005070042,
          0.6498261817504866,
          -0.8104196068358291,
          0.017637214546473497,
          1.341175128422489,
          -0.8802200970993431,
          0.6903647330522659,
          -1.3144504854799137,
          -0.14819797894425038,
          -1.223879648318199,
          -0.07721573448432213,
          -0.6303295595691613,
          -0.40748399859390577,
          0.3137978772217722,
          0.69348573575986,
          -0.34416383543673035,
          0.7948330868467856,
          1.0096147198834076,
          -0.9886265401414713,
          -1.2467584149031865,
          -1.714615514253578,
          0.8429139838231307,
          0.6855771071604896,
          -0.4126373823956263,
          -0.13912752323867758,
          0.09885142627724702,
          -0.8396779091615867,
          0.9642286904423265,
          0.34257450032840686,
          -1.5035445944498151,
          1.0257131646628648,
          1.6150809473465009,
          1.1137797603596864,
          -0.1239197069030021,
          -0.32171756867045126,
          -0.024032050658397468,
          0.0695408017415043,
          -0.5268975472748754,
          1.4768694986450592,
          0.5164815923489074,
          0.3325474091771087,
          0.42262221704453584,
          0.4268123115793359,
          -0.8050931506718854,
          0.1057605925152173,
          0.27204207221887794,
          -0.20135963811731583,
          0.1977090689198459,
          1.2134706704463551,
          2.435355605114732,
          -1.3080518188274746,
          -0.2407936442765178,
          -0.593345404037883,
          0.6339001458119796
         ],
         "yaxis": "y14"
        },
        {
         "line": {
          "color": "rgba(128, 128, 128, 1.0)",
          "dash": "solid",
          "shape": "linear",
          "width": 1.3
         },
         "marker": {
          "size": 2,
          "symbol": "circle"
         },
         "mode": "markers",
         "name": "D",
         "text": "",
         "type": "scatter",
         "x": [
          1.3758302992402178,
          -0.5464235662369491,
          -1.0640122214796286,
          -2.3235399586051115,
          1.705191233613601,
          0.15125109594869915,
          -0.40548547228741083,
          -0.0167560371007023,
          1.3587843530757622,
          -0.5766798451146129,
          -2.460334659632868,
          -0.3205290709209248,
          -0.8201666883711857,
          0.1064598866020623,
          -0.17041287367257293,
          -0.2311037596628485,
          -2.177420275043031,
          0.16668176130188805,
          0.34883146503107937,
          -1.7113813526608828,
          1.217284105143848,
          2.10800027640411,
          0.6809500093258382,
          -0.41159406356671013,
          2.2221962659871535,
          -0.7159976989307345,
          0.048997093626884355,
          0.6519528020393337,
          -0.5804849016231878,
          0.16614624828097674,
          0.7778579586839508,
          -0.8613245245389931,
          0.14083872520776508,
          0.9223998120756294,
          -0.06587739303141103,
          -0.9090378151557447,
          0.774219386130262,
          0.47370109742745475,
          -0.12521703594648026,
          -0.23168290675497608,
          1.4258995895851792,
          -0.4294984669578919,
          1.0843443672963928,
          -0.13009791360636638,
          -0.42327814337865,
          0.16600732276789706,
          -0.20525629523490763,
          0.294922445974942,
          0.24087444752324202,
          -0.7351121378484805,
          -1.6246752176833337,
          -0.24007809292079899,
          -1.4111550692195103,
          0.5907756638895278,
          0.32809777470257495,
          -1.2664456815631007,
          0.8389108671207739,
          0.9363619458933723,
          0.8030213932482793,
          -0.4776438326616866,
          -0.5306839796905211,
          0.5553959664002395,
          0.7656975219663584,
          0.0668227947356117,
          2.099267733728491,
          -0.6945638667116145,
          0.32961745336651654,
          -0.008564479964125252,
          0.15049802856733616,
          -0.8898511162605245,
          -1.023329049646791,
          -1.184275803186526,
          -1.0695886040306473,
          0.20404943415961055,
          1.330736398693659,
          0.5148171410318096,
          -0.39259662565338455,
          -0.31550600968650433,
          0.07647989368502664,
          -0.9556525207968132,
          0.1165358940487146,
          0.7522440580315846,
          -0.22467952311957368,
          1.2445827825580795,
          0.5541624064844864,
          -0.09767564483997998,
          -0.11695965405042542,
          0.05173213311650182,
          1.9842860589096416,
          0.8078033348332877,
          0.8801738916013921,
          -0.13224414484129846,
          0.24680444139114524,
          -0.07375280951611769,
          -0.3033857245159235,
          -1.0159151579511456,
          -0.5884011016913935,
          -1.7036795116266445,
          -0.05047605674856232,
          0.1478607589113499
         ],
         "xaxis": "x15",
         "y": [
          -1.0143933734860284,
          -1.4585615483381547,
          2.5042418166241123,
          0.22958329208920597,
          -1.2968182950417078,
          -1.842213511320529,
          0.7639205674867398,
          0.06053809612596073,
          2.5941505660260926,
          -0.8429827527500406,
          0.3973965789654359,
          0.09225800988858295,
          0.4269893302473284,
          1.108713315005888,
          -0.2530108686558408,
          -0.2999208417090409,
          0.14045582673829862,
          2.1396253026026537,
          -0.6958020412742936,
          -1.1259270133228458,
          -0.12886762663737372,
          0.8336402823748976,
          -0.13096602161079288,
          -0.48434800066659983,
          -0.0070358933059479845,
          -1.7750610941423006,
          0.06311518472235952,
          0.44658968796806936,
          -0.41769847374378377,
          -1.3403956422413086,
          -0.9980030917351069,
          -0.7982972253158505,
          -1.3392395746219201,
          -0.29169574322894926,
          0.48287938375444306,
          -1.0752428372576626,
          -0.6719660489480964,
          -0.40267014284671204,
          0.34734401119694414,
          0.06630804067063657,
          1.010471540772577,
          2.8950897353704375,
          0.6608579983222802,
          0.6580541199106333,
          0.6361440808809069,
          -0.22905540631547425,
          -0.12169678005070042,
          0.6498261817504866,
          -0.8104196068358291,
          0.017637214546473497,
          1.341175128422489,
          -0.8802200970993431,
          0.6903647330522659,
          -1.3144504854799137,
          -0.14819797894425038,
          -1.223879648318199,
          -0.07721573448432213,
          -0.6303295595691613,
          -0.40748399859390577,
          0.3137978772217722,
          0.69348573575986,
          -0.34416383543673035,
          0.7948330868467856,
          1.0096147198834076,
          -0.9886265401414713,
          -1.2467584149031865,
          -1.714615514253578,
          0.8429139838231307,
          0.6855771071604896,
          -0.4126373823956263,
          -0.13912752323867758,
          0.09885142627724702,
          -0.8396779091615867,
          0.9642286904423265,
          0.34257450032840686,
          -1.5035445944498151,
          1.0257131646628648,
          1.6150809473465009,
          1.1137797603596864,
          -0.1239197069030021,
          -0.32171756867045126,
          -0.024032050658397468,
          0.0695408017415043,
          -0.5268975472748754,
          1.4768694986450592,
          0.5164815923489074,
          0.3325474091771087,
          0.42262221704453584,
          0.4268123115793359,
          -0.8050931506718854,
          0.1057605925152173,
          0.27204207221887794,
          -0.20135963811731583,
          0.1977090689198459,
          1.2134706704463551,
          2.435355605114732,
          -1.3080518188274746,
          -0.2407936442765178,
          -0.593345404037883,
          0.6339001458119796
         ],
         "yaxis": "y15"
        },
        {
         "histfunc": "count",
         "histnorm": "",
         "marker": {
          "color": "rgba(128, 0, 128, 1.0)",
          "line": {
           "color": "#4D5663",
           "width": 1.3
          }
         },
         "name": "D",
         "nbinsx": 10,
         "opacity": 0.8,
         "orientation": "v",
         "type": "histogram",
         "x": [
          -1.0143933734860284,
          -1.4585615483381547,
          2.5042418166241123,
          0.22958329208920597,
          -1.2968182950417078,
          -1.842213511320529,
          0.7639205674867398,
          0.06053809612596073,
          2.5941505660260926,
          -0.8429827527500406,
          0.3973965789654359,
          0.09225800988858295,
          0.4269893302473284,
          1.108713315005888,
          -0.2530108686558408,
          -0.2999208417090409,
          0.14045582673829862,
          2.1396253026026537,
          -0.6958020412742936,
          -1.1259270133228458,
          -0.12886762663737372,
          0.8336402823748976,
          -0.13096602161079288,
          -0.48434800066659983,
          -0.0070358933059479845,
          -1.7750610941423006,
          0.06311518472235952,
          0.44658968796806936,
          -0.41769847374378377,
          -1.3403956422413086,
          -0.9980030917351069,
          -0.7982972253158505,
          -1.3392395746219201,
          -0.29169574322894926,
          0.48287938375444306,
          -1.0752428372576626,
          -0.6719660489480964,
          -0.40267014284671204,
          0.34734401119694414,
          0.06630804067063657,
          1.010471540772577,
          2.8950897353704375,
          0.6608579983222802,
          0.6580541199106333,
          0.6361440808809069,
          -0.22905540631547425,
          -0.12169678005070042,
          0.6498261817504866,
          -0.8104196068358291,
          0.017637214546473497,
          1.341175128422489,
          -0.8802200970993431,
          0.6903647330522659,
          -1.3144504854799137,
          -0.14819797894425038,
          -1.223879648318199,
          -0.07721573448432213,
          -0.6303295595691613,
          -0.40748399859390577,
          0.3137978772217722,
          0.69348573575986,
          -0.34416383543673035,
          0.7948330868467856,
          1.0096147198834076,
          -0.9886265401414713,
          -1.2467584149031865,
          -1.714615514253578,
          0.8429139838231307,
          0.6855771071604896,
          -0.4126373823956263,
          -0.13912752323867758,
          0.09885142627724702,
          -0.8396779091615867,
          0.9642286904423265,
          0.34257450032840686,
          -1.5035445944498151,
          1.0257131646628648,
          1.6150809473465009,
          1.1137797603596864,
          -0.1239197069030021,
          -0.32171756867045126,
          -0.024032050658397468,
          0.0695408017415043,
          -0.5268975472748754,
          1.4768694986450592,
          0.5164815923489074,
          0.3325474091771087,
          0.42262221704453584,
          0.4268123115793359,
          -0.8050931506718854,
          0.1057605925152173,
          0.27204207221887794,
          -0.20135963811731583,
          0.1977090689198459,
          1.2134706704463551,
          2.435355605114732,
          -1.3080518188274746,
          -0.2407936442765178,
          -0.593345404037883,
          0.6339001458119796
         ],
         "xaxis": "x16",
         "yaxis": "y16"
        }
       ],
       "layout": {
        "bargap": 0.02,
        "legend": {
         "bgcolor": "#F5F6F9",
         "font": {
          "color": "#4D5663"
         }
        },
        "paper_bgcolor": "#F5F6F9",
        "plot_bgcolor": "#F5F6F9",
        "showlegend": false,
        "template": {
         "data": {
          "bar": [
           {
            "error_x": {
             "color": "#2a3f5f"
            },
            "error_y": {
             "color": "#2a3f5f"
            },
            "marker": {
             "line": {
              "color": "#E5ECF6",
              "width": 0.5
             }
            },
            "type": "bar"
           }
          ],
          "barpolar": [
           {
            "marker": {
             "line": {
              "color": "#E5ECF6",
              "width": 0.5
             }
            },
            "type": "barpolar"
           }
          ],
          "carpet": [
           {
            "aaxis": {
             "endlinecolor": "#2a3f5f",
             "gridcolor": "white",
             "linecolor": "white",
             "minorgridcolor": "white",
             "startlinecolor": "#2a3f5f"
            },
            "baxis": {
             "endlinecolor": "#2a3f5f",
             "gridcolor": "white",
             "linecolor": "white",
             "minorgridcolor": "white",
             "startlinecolor": "#2a3f5f"
            },
            "type": "carpet"
           }
          ],
          "choropleth": [
           {
            "colorbar": {
             "outlinewidth": 0,
             "ticks": ""
            },
            "type": "choropleth"
           }
          ],
          "contour": [
           {
            "colorbar": {
             "outlinewidth": 0,
             "ticks": ""
            },
            "colorscale": [
             [
              0,
              "#0d0887"
             ],
             [
              0.1111111111111111,
              "#46039f"
             ],
             [
              0.2222222222222222,
              "#7201a8"
             ],
             [
              0.3333333333333333,
              "#9c179e"
             ],
             [
              0.4444444444444444,
              "#bd3786"
             ],
             [
              0.5555555555555556,
              "#d8576b"
             ],
             [
              0.6666666666666666,
              "#ed7953"
             ],
             [
              0.7777777777777778,
              "#fb9f3a"
             ],
             [
              0.8888888888888888,
              "#fdca26"
             ],
             [
              1,
              "#f0f921"
             ]
            ],
            "type": "contour"
           }
          ],
          "contourcarpet": [
           {
            "colorbar": {
             "outlinewidth": 0,
             "ticks": ""
            },
            "type": "contourcarpet"
           }
          ],
          "heatmap": [
           {
            "colorbar": {
             "outlinewidth": 0,
             "ticks": ""
            },
            "colorscale": [
             [
              0,
              "#0d0887"
             ],
             [
              0.1111111111111111,
              "#46039f"
             ],
             [
              0.2222222222222222,
              "#7201a8"
             ],
             [
              0.3333333333333333,
              "#9c179e"
             ],
             [
              0.4444444444444444,
              "#bd3786"
             ],
             [
              0.5555555555555556,
              "#d8576b"
             ],
             [
              0.6666666666666666,
              "#ed7953"
             ],
             [
              0.7777777777777778,
              "#fb9f3a"
             ],
             [
              0.8888888888888888,
              "#fdca26"
             ],
             [
              1,
              "#f0f921"
             ]
            ],
            "type": "heatmap"
           }
          ],
          "heatmapgl": [
           {
            "colorbar": {
             "outlinewidth": 0,
             "ticks": ""
            },
            "colorscale": [
             [
              0,
              "#0d0887"
             ],
             [
              0.1111111111111111,
              "#46039f"
             ],
             [
              0.2222222222222222,
              "#7201a8"
             ],
             [
              0.3333333333333333,
              "#9c179e"
             ],
             [
              0.4444444444444444,
              "#bd3786"
             ],
             [
              0.5555555555555556,
              "#d8576b"
             ],
             [
              0.6666666666666666,
              "#ed7953"
             ],
             [
              0.7777777777777778,
              "#fb9f3a"
             ],
             [
              0.8888888888888888,
              "#fdca26"
             ],
             [
              1,
              "#f0f921"
             ]
            ],
            "type": "heatmapgl"
           }
          ],
          "histogram": [
           {
            "marker": {
             "colorbar": {
              "outlinewidth": 0,
              "ticks": ""
             }
            },
            "type": "histogram"
           }
          ],
          "histogram2d": [
           {
            "colorbar": {
             "outlinewidth": 0,
             "ticks": ""
            },
            "colorscale": [
             [
              0,
              "#0d0887"
             ],
             [
              0.1111111111111111,
              "#46039f"
             ],
             [
              0.2222222222222222,
              "#7201a8"
             ],
             [
              0.3333333333333333,
              "#9c179e"
             ],
             [
              0.4444444444444444,
              "#bd3786"
             ],
             [
              0.5555555555555556,
              "#d8576b"
             ],
             [
              0.6666666666666666,
              "#ed7953"
             ],
             [
              0.7777777777777778,
              "#fb9f3a"
             ],
             [
              0.8888888888888888,
              "#fdca26"
             ],
             [
              1,
              "#f0f921"
             ]
            ],
            "type": "histogram2d"
           }
          ],
          "histogram2dcontour": [
           {
            "colorbar": {
             "outlinewidth": 0,
             "ticks": ""
            },
            "colorscale": [
             [
              0,
              "#0d0887"
             ],
             [
              0.1111111111111111,
              "#46039f"
             ],
             [
              0.2222222222222222,
              "#7201a8"
             ],
             [
              0.3333333333333333,
              "#9c179e"
             ],
             [
              0.4444444444444444,
              "#bd3786"
             ],
             [
              0.5555555555555556,
              "#d8576b"
             ],
             [
              0.6666666666666666,
              "#ed7953"
             ],
             [
              0.7777777777777778,
              "#fb9f3a"
             ],
             [
              0.8888888888888888,
              "#fdca26"
             ],
             [
              1,
              "#f0f921"
             ]
            ],
            "type": "histogram2dcontour"
           }
          ],
          "mesh3d": [
           {
            "colorbar": {
             "outlinewidth": 0,
             "ticks": ""
            },
            "type": "mesh3d"
           }
          ],
          "parcoords": [
           {
            "line": {
             "colorbar": {
              "outlinewidth": 0,
              "ticks": ""
             }
            },
            "type": "parcoords"
           }
          ],
          "pie": [
           {
            "automargin": true,
            "type": "pie"
           }
          ],
          "scatter": [
           {
            "marker": {
             "colorbar": {
              "outlinewidth": 0,
              "ticks": ""
             }
            },
            "type": "scatter"
           }
          ],
          "scatter3d": [
           {
            "line": {
             "colorbar": {
              "outlinewidth": 0,
              "ticks": ""
             }
            },
            "marker": {
             "colorbar": {
              "outlinewidth": 0,
              "ticks": ""
             }
            },
            "type": "scatter3d"
           }
          ],
          "scattercarpet": [
           {
            "marker": {
             "colorbar": {
              "outlinewidth": 0,
              "ticks": ""
             }
            },
            "type": "scattercarpet"
           }
          ],
          "scattergeo": [
           {
            "marker": {
             "colorbar": {
              "outlinewidth": 0,
              "ticks": ""
             }
            },
            "type": "scattergeo"
           }
          ],
          "scattergl": [
           {
            "marker": {
             "colorbar": {
              "outlinewidth": 0,
              "ticks": ""
             }
            },
            "type": "scattergl"
           }
          ],
          "scattermapbox": [
           {
            "marker": {
             "colorbar": {
              "outlinewidth": 0,
              "ticks": ""
             }
            },
            "type": "scattermapbox"
           }
          ],
          "scatterpolar": [
           {
            "marker": {
             "colorbar": {
              "outlinewidth": 0,
              "ticks": ""
             }
            },
            "type": "scatterpolar"
           }
          ],
          "scatterpolargl": [
           {
            "marker": {
             "colorbar": {
              "outlinewidth": 0,
              "ticks": ""
             }
            },
            "type": "scatterpolargl"
           }
          ],
          "scatterternary": [
           {
            "marker": {
             "colorbar": {
              "outlinewidth": 0,
              "ticks": ""
             }
            },
            "type": "scatterternary"
           }
          ],
          "surface": [
           {
            "colorbar": {
             "outlinewidth": 0,
             "ticks": ""
            },
            "colorscale": [
             [
              0,
              "#0d0887"
             ],
             [
              0.1111111111111111,
              "#46039f"
             ],
             [
              0.2222222222222222,
              "#7201a8"
             ],
             [
              0.3333333333333333,
              "#9c179e"
             ],
             [
              0.4444444444444444,
              "#bd3786"
             ],
             [
              0.5555555555555556,
              "#d8576b"
             ],
             [
              0.6666666666666666,
              "#ed7953"
             ],
             [
              0.7777777777777778,
              "#fb9f3a"
             ],
             [
              0.8888888888888888,
              "#fdca26"
             ],
             [
              1,
              "#f0f921"
             ]
            ],
            "type": "surface"
           }
          ],
          "table": [
           {
            "cells": {
             "fill": {
              "color": "#EBF0F8"
             },
             "line": {
              "color": "white"
             }
            },
            "header": {
             "fill": {
              "color": "#C8D4E3"
             },
             "line": {
              "color": "white"
             }
            },
            "type": "table"
           }
          ]
         },
         "layout": {
          "annotationdefaults": {
           "arrowcolor": "#2a3f5f",
           "arrowhead": 0,
           "arrowwidth": 1
          },
          "coloraxis": {
           "colorbar": {
            "outlinewidth": 0,
            "ticks": ""
           }
          },
          "colorscale": {
           "diverging": [
            [
             0,
             "#8e0152"
            ],
            [
             0.1,
             "#c51b7d"
            ],
            [
             0.2,
             "#de77ae"
            ],
            [
             0.3,
             "#f1b6da"
            ],
            [
             0.4,
             "#fde0ef"
            ],
            [
             0.5,
             "#f7f7f7"
            ],
            [
             0.6,
             "#e6f5d0"
            ],
            [
             0.7,
             "#b8e186"
            ],
            [
             0.8,
             "#7fbc41"
            ],
            [
             0.9,
             "#4d9221"
            ],
            [
             1,
             "#276419"
            ]
           ],
           "sequential": [
            [
             0,
             "#0d0887"
            ],
            [
             0.1111111111111111,
             "#46039f"
            ],
            [
             0.2222222222222222,
             "#7201a8"
            ],
            [
             0.3333333333333333,
             "#9c179e"
            ],
            [
             0.4444444444444444,
             "#bd3786"
            ],
            [
             0.5555555555555556,
             "#d8576b"
            ],
            [
             0.6666666666666666,
             "#ed7953"
            ],
            [
             0.7777777777777778,
             "#fb9f3a"
            ],
            [
             0.8888888888888888,
             "#fdca26"
            ],
            [
             1,
             "#f0f921"
            ]
           ],
           "sequentialminus": [
            [
             0,
             "#0d0887"
            ],
            [
             0.1111111111111111,
             "#46039f"
            ],
            [
             0.2222222222222222,
             "#7201a8"
            ],
            [
             0.3333333333333333,
             "#9c179e"
            ],
            [
             0.4444444444444444,
             "#bd3786"
            ],
            [
             0.5555555555555556,
             "#d8576b"
            ],
            [
             0.6666666666666666,
             "#ed7953"
            ],
            [
             0.7777777777777778,
             "#fb9f3a"
            ],
            [
             0.8888888888888888,
             "#fdca26"
            ],
            [
             1,
             "#f0f921"
            ]
           ]
          },
          "colorway": [
           "#636efa",
           "#EF553B",
           "#00cc96",
           "#ab63fa",
           "#FFA15A",
           "#19d3f3",
           "#FF6692",
           "#B6E880",
           "#FF97FF",
           "#FECB52"
          ],
          "font": {
           "color": "#2a3f5f"
          },
          "geo": {
           "bgcolor": "white",
           "lakecolor": "white",
           "landcolor": "#E5ECF6",
           "showlakes": true,
           "showland": true,
           "subunitcolor": "white"
          },
          "hoverlabel": {
           "align": "left"
          },
          "hovermode": "closest",
          "mapbox": {
           "style": "light"
          },
          "paper_bgcolor": "white",
          "plot_bgcolor": "#E5ECF6",
          "polar": {
           "angularaxis": {
            "gridcolor": "white",
            "linecolor": "white",
            "ticks": ""
           },
           "bgcolor": "#E5ECF6",
           "radialaxis": {
            "gridcolor": "white",
            "linecolor": "white",
            "ticks": ""
           }
          },
          "scene": {
           "xaxis": {
            "backgroundcolor": "#E5ECF6",
            "gridcolor": "white",
            "gridwidth": 2,
            "linecolor": "white",
            "showbackground": true,
            "ticks": "",
            "zerolinecolor": "white"
           },
           "yaxis": {
            "backgroundcolor": "#E5ECF6",
            "gridcolor": "white",
            "gridwidth": 2,
            "linecolor": "white",
            "showbackground": true,
            "ticks": "",
            "zerolinecolor": "white"
           },
           "zaxis": {
            "backgroundcolor": "#E5ECF6",
            "gridcolor": "white",
            "gridwidth": 2,
            "linecolor": "white",
            "showbackground": true,
            "ticks": "",
            "zerolinecolor": "white"
           }
          },
          "shapedefaults": {
           "line": {
            "color": "#2a3f5f"
           }
          },
          "ternary": {
           "aaxis": {
            "gridcolor": "white",
            "linecolor": "white",
            "ticks": ""
           },
           "baxis": {
            "gridcolor": "white",
            "linecolor": "white",
            "ticks": ""
           },
           "bgcolor": "#E5ECF6",
           "caxis": {
            "gridcolor": "white",
            "linecolor": "white",
            "ticks": ""
           }
          },
          "title": {
           "x": 0.05
          },
          "xaxis": {
           "automargin": true,
           "gridcolor": "white",
           "linecolor": "white",
           "ticks": "",
           "title": {
            "standoff": 15
           },
           "zerolinecolor": "white",
           "zerolinewidth": 2
          },
          "yaxis": {
           "automargin": true,
           "gridcolor": "white",
           "linecolor": "white",
           "ticks": "",
           "title": {
            "standoff": 15
           },
           "zerolinecolor": "white",
           "zerolinewidth": 2
          }
         }
        },
        "title": {
         "font": {
          "color": "#4D5663"
         }
        },
        "xaxis": {
         "anchor": "y",
         "domain": [
          0,
          0.2125
         ],
         "gridcolor": "#E1E5ED",
         "showgrid": false,
         "tickfont": {
          "color": "#4D5663"
         },
         "title": {
          "font": {
           "color": "#4D5663"
          },
          "text": ""
         },
         "zerolinecolor": "#E1E5ED"
        },
        "xaxis10": {
         "anchor": "y10",
         "domain": [
          0.2625,
          0.475
         ],
         "gridcolor": "#E1E5ED",
         "showgrid": false,
         "tickfont": {
          "color": "#4D5663"
         },
         "title": {
          "font": {
           "color": "#4D5663"
          },
          "text": ""
         },
         "zerolinecolor": "#E1E5ED"
        },
        "xaxis11": {
         "anchor": "y11",
         "domain": [
          0.525,
          0.7375
         ],
         "gridcolor": "#E1E5ED",
         "showgrid": false,
         "tickfont": {
          "color": "#4D5663"
         },
         "title": {
          "font": {
           "color": "#4D5663"
          },
          "text": ""
         },
         "zerolinecolor": "#E1E5ED"
        },
        "xaxis12": {
         "anchor": "y12",
         "domain": [
          0.7875,
          1
         ],
         "gridcolor": "#E1E5ED",
         "showgrid": false,
         "tickfont": {
          "color": "#4D5663"
         },
         "title": {
          "font": {
           "color": "#4D5663"
          },
          "text": ""
         },
         "zerolinecolor": "#E1E5ED"
        },
        "xaxis13": {
         "anchor": "y13",
         "domain": [
          0,
          0.2125
         ],
         "gridcolor": "#E1E5ED",
         "showgrid": false,
         "tickfont": {
          "color": "#4D5663"
         },
         "title": {
          "font": {
           "color": "#4D5663"
          },
          "text": ""
         },
         "zerolinecolor": "#E1E5ED"
        },
        "xaxis14": {
         "anchor": "y14",
         "domain": [
          0.2625,
          0.475
         ],
         "gridcolor": "#E1E5ED",
         "showgrid": false,
         "tickfont": {
          "color": "#4D5663"
         },
         "title": {
          "font": {
           "color": "#4D5663"
          },
          "text": ""
         },
         "zerolinecolor": "#E1E5ED"
        },
        "xaxis15": {
         "anchor": "y15",
         "domain": [
          0.525,
          0.7375
         ],
         "gridcolor": "#E1E5ED",
         "showgrid": false,
         "tickfont": {
          "color": "#4D5663"
         },
         "title": {
          "font": {
           "color": "#4D5663"
          },
          "text": ""
         },
         "zerolinecolor": "#E1E5ED"
        },
        "xaxis16": {
         "anchor": "y16",
         "domain": [
          0.7875,
          1
         ],
         "gridcolor": "#E1E5ED",
         "showgrid": false,
         "tickfont": {
          "color": "#4D5663"
         },
         "title": {
          "font": {
           "color": "#4D5663"
          },
          "text": ""
         },
         "zerolinecolor": "#E1E5ED"
        },
        "xaxis2": {
         "anchor": "y2",
         "domain": [
          0.2625,
          0.475
         ],
         "gridcolor": "#E1E5ED",
         "showgrid": false,
         "tickfont": {
          "color": "#4D5663"
         },
         "title": {
          "font": {
           "color": "#4D5663"
          },
          "text": ""
         },
         "zerolinecolor": "#E1E5ED"
        },
        "xaxis3": {
         "anchor": "y3",
         "domain": [
          0.525,
          0.7375
         ],
         "gridcolor": "#E1E5ED",
         "showgrid": false,
         "tickfont": {
          "color": "#4D5663"
         },
         "title": {
          "font": {
           "color": "#4D5663"
          },
          "text": ""
         },
         "zerolinecolor": "#E1E5ED"
        },
        "xaxis4": {
         "anchor": "y4",
         "domain": [
          0.7875,
          1
         ],
         "gridcolor": "#E1E5ED",
         "showgrid": false,
         "tickfont": {
          "color": "#4D5663"
         },
         "title": {
          "font": {
           "color": "#4D5663"
          },
          "text": ""
         },
         "zerolinecolor": "#E1E5ED"
        },
        "xaxis5": {
         "anchor": "y5",
         "domain": [
          0,
          0.2125
         ],
         "gridcolor": "#E1E5ED",
         "showgrid": false,
         "tickfont": {
          "color": "#4D5663"
         },
         "title": {
          "font": {
           "color": "#4D5663"
          },
          "text": ""
         },
         "zerolinecolor": "#E1E5ED"
        },
        "xaxis6": {
         "anchor": "y6",
         "domain": [
          0.2625,
          0.475
         ],
         "gridcolor": "#E1E5ED",
         "showgrid": false,
         "tickfont": {
          "color": "#4D5663"
         },
         "title": {
          "font": {
           "color": "#4D5663"
          },
          "text": ""
         },
         "zerolinecolor": "#E1E5ED"
        },
        "xaxis7": {
         "anchor": "y7",
         "domain": [
          0.525,
          0.7375
         ],
         "gridcolor": "#E1E5ED",
         "showgrid": false,
         "tickfont": {
          "color": "#4D5663"
         },
         "title": {
          "font": {
           "color": "#4D5663"
          },
          "text": ""
         },
         "zerolinecolor": "#E1E5ED"
        },
        "xaxis8": {
         "anchor": "y8",
         "domain": [
          0.7875,
          1
         ],
         "gridcolor": "#E1E5ED",
         "showgrid": false,
         "tickfont": {
          "color": "#4D5663"
         },
         "title": {
          "font": {
           "color": "#4D5663"
          },
          "text": ""
         },
         "zerolinecolor": "#E1E5ED"
        },
        "xaxis9": {
         "anchor": "y9",
         "domain": [
          0,
          0.2125
         ],
         "gridcolor": "#E1E5ED",
         "showgrid": false,
         "tickfont": {
          "color": "#4D5663"
         },
         "title": {
          "font": {
           "color": "#4D5663"
          },
          "text": ""
         },
         "zerolinecolor": "#E1E5ED"
        },
        "yaxis": {
         "anchor": "x",
         "domain": [
          0.8025,
          1
         ],
         "gridcolor": "#E1E5ED",
         "showgrid": false,
         "tickfont": {
          "color": "#4D5663"
         },
         "title": {
          "font": {
           "color": "#4D5663"
          },
          "text": ""
         },
         "zerolinecolor": "#E1E5ED"
        },
        "yaxis10": {
         "anchor": "x10",
         "domain": [
          0.2675,
          0.465
         ],
         "gridcolor": "#E1E5ED",
         "showgrid": false,
         "tickfont": {
          "color": "#4D5663"
         },
         "title": {
          "font": {
           "color": "#4D5663"
          },
          "text": ""
         },
         "zerolinecolor": "#E1E5ED"
        },
        "yaxis11": {
         "anchor": "x11",
         "domain": [
          0.2675,
          0.465
         ],
         "gridcolor": "#E1E5ED",
         "showgrid": false,
         "tickfont": {
          "color": "#4D5663"
         },
         "title": {
          "font": {
           "color": "#4D5663"
          },
          "text": ""
         },
         "zerolinecolor": "#E1E5ED"
        },
        "yaxis12": {
         "anchor": "x12",
         "domain": [
          0.2675,
          0.465
         ],
         "gridcolor": "#E1E5ED",
         "showgrid": false,
         "tickfont": {
          "color": "#4D5663"
         },
         "title": {
          "font": {
           "color": "#4D5663"
          },
          "text": ""
         },
         "zerolinecolor": "#E1E5ED"
        },
        "yaxis13": {
         "anchor": "x13",
         "domain": [
          0,
          0.1975
         ],
         "gridcolor": "#E1E5ED",
         "showgrid": false,
         "tickfont": {
          "color": "#4D5663"
         },
         "title": {
          "font": {
           "color": "#4D5663"
          },
          "text": ""
         },
         "zerolinecolor": "#E1E5ED"
        },
        "yaxis14": {
         "anchor": "x14",
         "domain": [
          0,
          0.1975
         ],
         "gridcolor": "#E1E5ED",
         "showgrid": false,
         "tickfont": {
          "color": "#4D5663"
         },
         "title": {
          "font": {
           "color": "#4D5663"
          },
          "text": ""
         },
         "zerolinecolor": "#E1E5ED"
        },
        "yaxis15": {
         "anchor": "x15",
         "domain": [
          0,
          0.1975
         ],
         "gridcolor": "#E1E5ED",
         "showgrid": false,
         "tickfont": {
          "color": "#4D5663"
         },
         "title": {
          "font": {
           "color": "#4D5663"
          },
          "text": ""
         },
         "zerolinecolor": "#E1E5ED"
        },
        "yaxis16": {
         "anchor": "x16",
         "domain": [
          0,
          0.1975
         ],
         "gridcolor": "#E1E5ED",
         "showgrid": false,
         "tickfont": {
          "color": "#4D5663"
         },
         "title": {
          "font": {
           "color": "#4D5663"
          },
          "text": ""
         },
         "zerolinecolor": "#E1E5ED"
        },
        "yaxis2": {
         "anchor": "x2",
         "domain": [
          0.8025,
          1
         ],
         "gridcolor": "#E1E5ED",
         "showgrid": false,
         "tickfont": {
          "color": "#4D5663"
         },
         "title": {
          "font": {
           "color": "#4D5663"
          },
          "text": ""
         },
         "zerolinecolor": "#E1E5ED"
        },
        "yaxis3": {
         "anchor": "x3",
         "domain": [
          0.8025,
          1
         ],
         "gridcolor": "#E1E5ED",
         "showgrid": false,
         "tickfont": {
          "color": "#4D5663"
         },
         "title": {
          "font": {
           "color": "#4D5663"
          },
          "text": ""
         },
         "zerolinecolor": "#E1E5ED"
        },
        "yaxis4": {
         "anchor": "x4",
         "domain": [
          0.8025,
          1
         ],
         "gridcolor": "#E1E5ED",
         "showgrid": false,
         "tickfont": {
          "color": "#4D5663"
         },
         "title": {
          "font": {
           "color": "#4D5663"
          },
          "text": ""
         },
         "zerolinecolor": "#E1E5ED"
        },
        "yaxis5": {
         "anchor": "x5",
         "domain": [
          0.535,
          0.7325
         ],
         "gridcolor": "#E1E5ED",
         "showgrid": false,
         "tickfont": {
          "color": "#4D5663"
         },
         "title": {
          "font": {
           "color": "#4D5663"
          },
          "text": ""
         },
         "zerolinecolor": "#E1E5ED"
        },
        "yaxis6": {
         "anchor": "x6",
         "domain": [
          0.535,
          0.7325
         ],
         "gridcolor": "#E1E5ED",
         "showgrid": false,
         "tickfont": {
          "color": "#4D5663"
         },
         "title": {
          "font": {
           "color": "#4D5663"
          },
          "text": ""
         },
         "zerolinecolor": "#E1E5ED"
        },
        "yaxis7": {
         "anchor": "x7",
         "domain": [
          0.535,
          0.7325
         ],
         "gridcolor": "#E1E5ED",
         "showgrid": false,
         "tickfont": {
          "color": "#4D5663"
         },
         "title": {
          "font": {
           "color": "#4D5663"
          },
          "text": ""
         },
         "zerolinecolor": "#E1E5ED"
        },
        "yaxis8": {
         "anchor": "x8",
         "domain": [
          0.535,
          0.7325
         ],
         "gridcolor": "#E1E5ED",
         "showgrid": false,
         "tickfont": {
          "color": "#4D5663"
         },
         "title": {
          "font": {
           "color": "#4D5663"
          },
          "text": ""
         },
         "zerolinecolor": "#E1E5ED"
        },
        "yaxis9": {
         "anchor": "x9",
         "domain": [
          0.2675,
          0.465
         ],
         "gridcolor": "#E1E5ED",
         "showgrid": false,
         "tickfont": {
          "color": "#4D5663"
         },
         "title": {
          "font": {
           "color": "#4D5663"
          },
          "text": ""
         },
         "zerolinecolor": "#E1E5ED"
        }
       }
      },
      "text/html": [
       "<div>\n",
       "        \n",
       "        \n",
       "            <div id=\"c8258dc7-471e-4fcb-8eeb-5d48bb6343bc\" class=\"plotly-graph-div\" style=\"height:525px; width:100%;\"></div>\n",
       "            <script type=\"text/javascript\">\n",
       "                require([\"plotly\"], function(Plotly) {\n",
       "                    window.PLOTLYENV=window.PLOTLYENV || {};\n",
       "                    window.PLOTLYENV.BASE_URL='https://plot.ly';\n",
       "                    \n",
       "                if (document.getElementById(\"c8258dc7-471e-4fcb-8eeb-5d48bb6343bc\")) {\n",
       "                    Plotly.newPlot(\n",
       "                        'c8258dc7-471e-4fcb-8eeb-5d48bb6343bc',\n",
       "                        [{\"histfunc\": \"count\", \"histnorm\": \"\", \"marker\": {\"color\": \"rgba(255, 153, 51, 1.0)\", \"line\": {\"color\": \"#4D5663\", \"width\": 1.3}}, \"name\": \"A\", \"nbinsx\": 10, \"opacity\": 0.8, \"orientation\": \"v\", \"type\": \"histogram\", \"x\": [0.09109850481918408, -1.1215293214001596, -0.8472103787075184, 0.047579463925629756, -0.2465006929122032, 0.355941870570774, -0.10096950094440324, -0.9072730752429058, -0.9518980001271358, 2.14097321822886, 2.1231768307689967, 0.6958977551843699, -1.583248837107644, 1.7142265839072959, -0.06646503235312974, -1.5315586252424356, 1.4934969578297246, -0.3671124610810568, -0.6464912890042264, 0.7577407259047961, -1.7888731022404905, -0.836344304627946, 2.428995088322346, 1.3927544538222227, 0.9186261627971786, 1.3069317194442132, -1.0793521680617035, 2.0008609111050646, 1.6512094667325325, 0.808956552274321, 0.7161520296684218, 0.4174688388945817, -2.055553429227154, -0.10478473559018199, -1.8414704504739363, -1.9037587104776745, -0.24550426677305848, -0.9344856372315049, 0.08519000805272456, 0.7909917218595681, 1.2112598406713257, 0.8780853775627289, 1.6391927026157413, -0.7844898993204068, -0.8200738867112358, 1.2299606960656078, 2.090198636473912, 0.967590406410828, 0.42781576469535565, 0.3740083906457488, -1.203415752416856, 0.19874074492299004, -1.0996349876019142, -0.5118885547212875, 0.6089409203104832, -0.009986668270133012, -0.9843598032066695, -0.6971112927387455, -1.0518788938535228, -1.6926464990344885, 1.895353289889859, 2.635922114037947, 1.0059778300139433, -0.9100671354086547, 0.7188149666974778, -0.9501042669394972, 2.1621864299965403, 1.1420880278768886, 0.9676235117810439, 0.5345015806889609, -0.6101501196531989, 0.23256458005975567, -0.30864952668522244, 0.8230595122750528, 0.0025476652548313684, 1.0668879463043774, -0.19717897335767187, -0.15813795755946913, -0.6178985215289267, 1.8057952496635845, 1.0511933107617695, -0.5868718647057343, -0.5351892335864168, -0.027468015311200602, -0.9442877177439853, -0.8623770708257102, 0.8948807217187174, -0.00948333496494119, -0.920057972150479, 0.6478025520263664, 0.45634160459747125, 0.29947972220377245, -0.870490121032512, -0.9493757828636347, -1.6153530988647982, -0.9529103188037132, -1.2886840902918308, -1.261963285580088, -0.12188068264694774, 0.26167595986569264], \"xaxis\": \"x\", \"yaxis\": \"y\"}, {\"line\": {\"color\": \"rgba(128, 128, 128, 1.0)\", \"dash\": \"solid\", \"shape\": \"linear\", \"width\": 1.3}, \"marker\": {\"size\": 2, \"symbol\": \"circle\"}, \"mode\": \"markers\", \"name\": \"A\", \"text\": \"\", \"type\": \"scatter\", \"x\": [-0.8116091289192721, -0.19300472687253206, 0.42051103925632977, 0.25547064152430615, 0.4461384861944884, 0.2065840994216946, -0.0736093684561315, -0.03672123413058332, 0.6801523071485202, 1.4418046168788465, -0.5726562777833677, 0.9307098475989224, -0.5706293447478381, 0.4453994634128244, 1.4143311666416154, -1.108813199803975, -0.3125435764127994, 1.3618244709601963, -0.06427906272026955, -0.9229893610662293, 0.3065059408237643, -0.17342759515419126, 0.8429059478472343, -1.5805981154008981, -2.0267251132949027, -0.8286681556363882, 1.0616325449191493, -0.3631590237640123, 0.3245491815023166, -0.12049652048231733, -1.7794008323816055, 0.9771420985889142, 0.6937004427893335, -0.057223441643777455, 0.6845095121304248, -0.32589236102397623, 0.29680436698785867, -1.5057853650832715, 1.7496853226925513, 1.6753176110932382, -0.30540371699704194, 0.03962473472743301, 1.5236297895868112, 0.5511026209571313, 1.6053502011125302, -0.9477947708757761, 0.5084280387681843, 1.0536007000338874, -0.20842639751067635, -1.2601656190124837, 0.1042762843423615, -0.5724041204261644, -0.05409712730683168, 1.2766275991015201, 0.4813853754972735, -1.289064510835033, -1.6294448766424343, -0.2617693791137971, 0.48254519819781516, 3.1344856939051433, -0.5981856159842609, -0.7905026818503782, -0.41390096879915417, 1.211655923059735, 0.486900856960665, -0.21735166935475592, -0.6446942837755238, 1.4840688604700185, 0.21152002576581685, 0.07407353417275789, -0.6130890236210245, 0.5252383330404052, 0.6712851140907574, 0.9618939225720989, -2.447934537947344, 0.21001235145459388, -0.017514426974441534, -0.3294942746261193, -1.956893644342049, 1.3147434662972208, -2.236901795464519, -1.355670681639342, 0.3332941119737317, -1.0451492156076625, 0.3752925071061327, -1.668849441699103, -0.12344250483081605, -0.23264926766422644, 0.7332647602341967, -0.9971293585380604, -0.7676066266105527, 0.7001651960379345, -0.7022586069809715, -0.05891946102224388, 0.6873881326933733, 0.8906297185004478, 0.9638085612837739, 0.0579173716477777, 0.33464594904890277, 2.533769548275823], \"xaxis\": \"x2\", \"y\": [0.09109850481918408, -1.1215293214001596, -0.8472103787075184, 0.047579463925629756, -0.2465006929122032, 0.355941870570774, -0.10096950094440324, -0.9072730752429058, -0.9518980001271358, 2.14097321822886, 2.1231768307689967, 0.6958977551843699, -1.583248837107644, 1.7142265839072959, -0.06646503235312974, -1.5315586252424356, 1.4934969578297246, -0.3671124610810568, -0.6464912890042264, 0.7577407259047961, -1.7888731022404905, -0.836344304627946, 2.428995088322346, 1.3927544538222227, 0.9186261627971786, 1.3069317194442132, -1.0793521680617035, 2.0008609111050646, 1.6512094667325325, 0.808956552274321, 0.7161520296684218, 0.4174688388945817, -2.055553429227154, -0.10478473559018199, -1.8414704504739363, -1.9037587104776745, -0.24550426677305848, -0.9344856372315049, 0.08519000805272456, 0.7909917218595681, 1.2112598406713257, 0.8780853775627289, 1.6391927026157413, -0.7844898993204068, -0.8200738867112358, 1.2299606960656078, 2.090198636473912, 0.967590406410828, 0.42781576469535565, 0.3740083906457488, -1.203415752416856, 0.19874074492299004, -1.0996349876019142, -0.5118885547212875, 0.6089409203104832, -0.009986668270133012, -0.9843598032066695, -0.6971112927387455, -1.0518788938535228, -1.6926464990344885, 1.895353289889859, 2.635922114037947, 1.0059778300139433, -0.9100671354086547, 0.7188149666974778, -0.9501042669394972, 2.1621864299965403, 1.1420880278768886, 0.9676235117810439, 0.5345015806889609, -0.6101501196531989, 0.23256458005975567, -0.30864952668522244, 0.8230595122750528, 0.0025476652548313684, 1.0668879463043774, -0.19717897335767187, -0.15813795755946913, -0.6178985215289267, 1.8057952496635845, 1.0511933107617695, -0.5868718647057343, -0.5351892335864168, -0.027468015311200602, -0.9442877177439853, -0.8623770708257102, 0.8948807217187174, -0.00948333496494119, -0.920057972150479, 0.6478025520263664, 0.45634160459747125, 0.29947972220377245, -0.870490121032512, -0.9493757828636347, -1.6153530988647982, -0.9529103188037132, -1.2886840902918308, -1.261963285580088, -0.12188068264694774, 0.26167595986569264], \"yaxis\": \"y2\"}, {\"line\": {\"color\": \"rgba(128, 128, 128, 1.0)\", \"dash\": \"solid\", \"shape\": \"linear\", \"width\": 1.3}, \"marker\": {\"size\": 2, \"symbol\": \"circle\"}, \"mode\": \"markers\", \"name\": \"A\", \"text\": \"\", \"type\": \"scatter\", \"x\": [1.3758302992402178, -0.5464235662369491, -1.0640122214796286, -2.3235399586051115, 1.705191233613601, 0.15125109594869915, -0.40548547228741083, -0.0167560371007023, 1.3587843530757622, -0.5766798451146129, -2.460334659632868, -0.3205290709209248, -0.8201666883711857, 0.1064598866020623, -0.17041287367257293, -0.2311037596628485, -2.177420275043031, 0.16668176130188805, 0.34883146503107937, -1.7113813526608828, 1.217284105143848, 2.10800027640411, 0.6809500093258382, -0.41159406356671013, 2.2221962659871535, -0.7159976989307345, 0.048997093626884355, 0.6519528020393337, -0.5804849016231878, 0.16614624828097674, 0.7778579586839508, -0.8613245245389931, 0.14083872520776508, 0.9223998120756294, -0.06587739303141103, -0.9090378151557447, 0.774219386130262, 0.47370109742745475, -0.12521703594648026, -0.23168290675497608, 1.4258995895851792, -0.4294984669578919, 1.0843443672963928, -0.13009791360636638, -0.42327814337865, 0.16600732276789706, -0.20525629523490763, 0.294922445974942, 0.24087444752324202, -0.7351121378484805, -1.6246752176833337, -0.24007809292079899, -1.4111550692195103, 0.5907756638895278, 0.32809777470257495, -1.2664456815631007, 0.8389108671207739, 0.9363619458933723, 0.8030213932482793, -0.4776438326616866, -0.5306839796905211, 0.5553959664002395, 0.7656975219663584, 0.0668227947356117, 2.099267733728491, -0.6945638667116145, 0.32961745336651654, -0.008564479964125252, 0.15049802856733616, -0.8898511162605245, -1.023329049646791, -1.184275803186526, -1.0695886040306473, 0.20404943415961055, 1.330736398693659, 0.5148171410318096, -0.39259662565338455, -0.31550600968650433, 0.07647989368502664, -0.9556525207968132, 0.1165358940487146, 0.7522440580315846, -0.22467952311957368, 1.2445827825580795, 0.5541624064844864, -0.09767564483997998, -0.11695965405042542, 0.05173213311650182, 1.9842860589096416, 0.8078033348332877, 0.8801738916013921, -0.13224414484129846, 0.24680444139114524, -0.07375280951611769, -0.3033857245159235, -1.0159151579511456, -0.5884011016913935, -1.7036795116266445, -0.05047605674856232, 0.1478607589113499], \"xaxis\": \"x3\", \"y\": [0.09109850481918408, -1.1215293214001596, -0.8472103787075184, 0.047579463925629756, -0.2465006929122032, 0.355941870570774, -0.10096950094440324, -0.9072730752429058, -0.9518980001271358, 2.14097321822886, 2.1231768307689967, 0.6958977551843699, -1.583248837107644, 1.7142265839072959, -0.06646503235312974, -1.5315586252424356, 1.4934969578297246, -0.3671124610810568, -0.6464912890042264, 0.7577407259047961, -1.7888731022404905, -0.836344304627946, 2.428995088322346, 1.3927544538222227, 0.9186261627971786, 1.3069317194442132, -1.0793521680617035, 2.0008609111050646, 1.6512094667325325, 0.808956552274321, 0.7161520296684218, 0.4174688388945817, -2.055553429227154, -0.10478473559018199, -1.8414704504739363, -1.9037587104776745, -0.24550426677305848, -0.9344856372315049, 0.08519000805272456, 0.7909917218595681, 1.2112598406713257, 0.8780853775627289, 1.6391927026157413, -0.7844898993204068, -0.8200738867112358, 1.2299606960656078, 2.090198636473912, 0.967590406410828, 0.42781576469535565, 0.3740083906457488, -1.203415752416856, 0.19874074492299004, -1.0996349876019142, -0.5118885547212875, 0.6089409203104832, -0.009986668270133012, -0.9843598032066695, -0.6971112927387455, -1.0518788938535228, -1.6926464990344885, 1.895353289889859, 2.635922114037947, 1.0059778300139433, -0.9100671354086547, 0.7188149666974778, -0.9501042669394972, 2.1621864299965403, 1.1420880278768886, 0.9676235117810439, 0.5345015806889609, -0.6101501196531989, 0.23256458005975567, -0.30864952668522244, 0.8230595122750528, 0.0025476652548313684, 1.0668879463043774, -0.19717897335767187, -0.15813795755946913, -0.6178985215289267, 1.8057952496635845, 1.0511933107617695, -0.5868718647057343, -0.5351892335864168, -0.027468015311200602, -0.9442877177439853, -0.8623770708257102, 0.8948807217187174, -0.00948333496494119, -0.920057972150479, 0.6478025520263664, 0.45634160459747125, 0.29947972220377245, -0.870490121032512, -0.9493757828636347, -1.6153530988647982, -0.9529103188037132, -1.2886840902918308, -1.261963285580088, -0.12188068264694774, 0.26167595986569264], \"yaxis\": \"y3\"}, {\"line\": {\"color\": \"rgba(128, 128, 128, 1.0)\", \"dash\": \"solid\", \"shape\": \"linear\", \"width\": 1.3}, \"marker\": {\"size\": 2, \"symbol\": \"circle\"}, \"mode\": \"markers\", \"name\": \"A\", \"text\": \"\", \"type\": \"scatter\", \"x\": [-1.0143933734860284, -1.4585615483381547, 2.5042418166241123, 0.22958329208920597, -1.2968182950417078, -1.842213511320529, 0.7639205674867398, 0.06053809612596073, 2.5941505660260926, -0.8429827527500406, 0.3973965789654359, 0.09225800988858295, 0.4269893302473284, 1.108713315005888, -0.2530108686558408, -0.2999208417090409, 0.14045582673829862, 2.1396253026026537, -0.6958020412742936, -1.1259270133228458, -0.12886762663737372, 0.8336402823748976, -0.13096602161079288, -0.48434800066659983, -0.0070358933059479845, -1.7750610941423006, 0.06311518472235952, 0.44658968796806936, -0.41769847374378377, -1.3403956422413086, -0.9980030917351069, -0.7982972253158505, -1.3392395746219201, -0.29169574322894926, 0.48287938375444306, -1.0752428372576626, -0.6719660489480964, -0.40267014284671204, 0.34734401119694414, 0.06630804067063657, 1.010471540772577, 2.8950897353704375, 0.6608579983222802, 0.6580541199106333, 0.6361440808809069, -0.22905540631547425, -0.12169678005070042, 0.6498261817504866, -0.8104196068358291, 0.017637214546473497, 1.341175128422489, -0.8802200970993431, 0.6903647330522659, -1.3144504854799137, -0.14819797894425038, -1.223879648318199, -0.07721573448432213, -0.6303295595691613, -0.40748399859390577, 0.3137978772217722, 0.69348573575986, -0.34416383543673035, 0.7948330868467856, 1.0096147198834076, -0.9886265401414713, -1.2467584149031865, -1.714615514253578, 0.8429139838231307, 0.6855771071604896, -0.4126373823956263, -0.13912752323867758, 0.09885142627724702, -0.8396779091615867, 0.9642286904423265, 0.34257450032840686, -1.5035445944498151, 1.0257131646628648, 1.6150809473465009, 1.1137797603596864, -0.1239197069030021, -0.32171756867045126, -0.024032050658397468, 0.0695408017415043, -0.5268975472748754, 1.4768694986450592, 0.5164815923489074, 0.3325474091771087, 0.42262221704453584, 0.4268123115793359, -0.8050931506718854, 0.1057605925152173, 0.27204207221887794, -0.20135963811731583, 0.1977090689198459, 1.2134706704463551, 2.435355605114732, -1.3080518188274746, -0.2407936442765178, -0.593345404037883, 0.6339001458119796], \"xaxis\": \"x4\", \"y\": [0.09109850481918408, -1.1215293214001596, -0.8472103787075184, 0.047579463925629756, -0.2465006929122032, 0.355941870570774, -0.10096950094440324, -0.9072730752429058, -0.9518980001271358, 2.14097321822886, 2.1231768307689967, 0.6958977551843699, -1.583248837107644, 1.7142265839072959, -0.06646503235312974, -1.5315586252424356, 1.4934969578297246, -0.3671124610810568, -0.6464912890042264, 0.7577407259047961, -1.7888731022404905, -0.836344304627946, 2.428995088322346, 1.3927544538222227, 0.9186261627971786, 1.3069317194442132, -1.0793521680617035, 2.0008609111050646, 1.6512094667325325, 0.808956552274321, 0.7161520296684218, 0.4174688388945817, -2.055553429227154, -0.10478473559018199, -1.8414704504739363, -1.9037587104776745, -0.24550426677305848, -0.9344856372315049, 0.08519000805272456, 0.7909917218595681, 1.2112598406713257, 0.8780853775627289, 1.6391927026157413, -0.7844898993204068, -0.8200738867112358, 1.2299606960656078, 2.090198636473912, 0.967590406410828, 0.42781576469535565, 0.3740083906457488, -1.203415752416856, 0.19874074492299004, -1.0996349876019142, -0.5118885547212875, 0.6089409203104832, -0.009986668270133012, -0.9843598032066695, -0.6971112927387455, -1.0518788938535228, -1.6926464990344885, 1.895353289889859, 2.635922114037947, 1.0059778300139433, -0.9100671354086547, 0.7188149666974778, -0.9501042669394972, 2.1621864299965403, 1.1420880278768886, 0.9676235117810439, 0.5345015806889609, -0.6101501196531989, 0.23256458005975567, -0.30864952668522244, 0.8230595122750528, 0.0025476652548313684, 1.0668879463043774, -0.19717897335767187, -0.15813795755946913, -0.6178985215289267, 1.8057952496635845, 1.0511933107617695, -0.5868718647057343, -0.5351892335864168, -0.027468015311200602, -0.9442877177439853, -0.8623770708257102, 0.8948807217187174, -0.00948333496494119, -0.920057972150479, 0.6478025520263664, 0.45634160459747125, 0.29947972220377245, -0.870490121032512, -0.9493757828636347, -1.6153530988647982, -0.9529103188037132, -1.2886840902918308, -1.261963285580088, -0.12188068264694774, 0.26167595986569264], \"yaxis\": \"y4\"}, {\"line\": {\"color\": \"rgba(128, 128, 128, 1.0)\", \"dash\": \"solid\", \"shape\": \"linear\", \"width\": 1.3}, \"marker\": {\"size\": 2, \"symbol\": \"circle\"}, \"mode\": \"markers\", \"name\": \"B\", \"text\": \"\", \"type\": \"scatter\", \"x\": [0.09109850481918408, -1.1215293214001596, -0.8472103787075184, 0.047579463925629756, -0.2465006929122032, 0.355941870570774, -0.10096950094440324, -0.9072730752429058, -0.9518980001271358, 2.14097321822886, 2.1231768307689967, 0.6958977551843699, -1.583248837107644, 1.7142265839072959, -0.06646503235312974, -1.5315586252424356, 1.4934969578297246, -0.3671124610810568, -0.6464912890042264, 0.7577407259047961, -1.7888731022404905, -0.836344304627946, 2.428995088322346, 1.3927544538222227, 0.9186261627971786, 1.3069317194442132, -1.0793521680617035, 2.0008609111050646, 1.6512094667325325, 0.808956552274321, 0.7161520296684218, 0.4174688388945817, -2.055553429227154, -0.10478473559018199, -1.8414704504739363, -1.9037587104776745, -0.24550426677305848, -0.9344856372315049, 0.08519000805272456, 0.7909917218595681, 1.2112598406713257, 0.8780853775627289, 1.6391927026157413, -0.7844898993204068, -0.8200738867112358, 1.2299606960656078, 2.090198636473912, 0.967590406410828, 0.42781576469535565, 0.3740083906457488, -1.203415752416856, 0.19874074492299004, -1.0996349876019142, -0.5118885547212875, 0.6089409203104832, -0.009986668270133012, -0.9843598032066695, -0.6971112927387455, -1.0518788938535228, -1.6926464990344885, 1.895353289889859, 2.635922114037947, 1.0059778300139433, -0.9100671354086547, 0.7188149666974778, -0.9501042669394972, 2.1621864299965403, 1.1420880278768886, 0.9676235117810439, 0.5345015806889609, -0.6101501196531989, 0.23256458005975567, -0.30864952668522244, 0.8230595122750528, 0.0025476652548313684, 1.0668879463043774, -0.19717897335767187, -0.15813795755946913, -0.6178985215289267, 1.8057952496635845, 1.0511933107617695, -0.5868718647057343, -0.5351892335864168, -0.027468015311200602, -0.9442877177439853, -0.8623770708257102, 0.8948807217187174, -0.00948333496494119, -0.920057972150479, 0.6478025520263664, 0.45634160459747125, 0.29947972220377245, -0.870490121032512, -0.9493757828636347, -1.6153530988647982, -0.9529103188037132, -1.2886840902918308, -1.261963285580088, -0.12188068264694774, 0.26167595986569264], \"xaxis\": \"x5\", \"y\": [-0.8116091289192721, -0.19300472687253206, 0.42051103925632977, 0.25547064152430615, 0.4461384861944884, 0.2065840994216946, -0.0736093684561315, -0.03672123413058332, 0.6801523071485202, 1.4418046168788465, -0.5726562777833677, 0.9307098475989224, -0.5706293447478381, 0.4453994634128244, 1.4143311666416154, -1.108813199803975, -0.3125435764127994, 1.3618244709601963, -0.06427906272026955, -0.9229893610662293, 0.3065059408237643, -0.17342759515419126, 0.8429059478472343, -1.5805981154008981, -2.0267251132949027, -0.8286681556363882, 1.0616325449191493, -0.3631590237640123, 0.3245491815023166, -0.12049652048231733, -1.7794008323816055, 0.9771420985889142, 0.6937004427893335, -0.057223441643777455, 0.6845095121304248, -0.32589236102397623, 0.29680436698785867, -1.5057853650832715, 1.7496853226925513, 1.6753176110932382, -0.30540371699704194, 0.03962473472743301, 1.5236297895868112, 0.5511026209571313, 1.6053502011125302, -0.9477947708757761, 0.5084280387681843, 1.0536007000338874, -0.20842639751067635, -1.2601656190124837, 0.1042762843423615, -0.5724041204261644, -0.05409712730683168, 1.2766275991015201, 0.4813853754972735, -1.289064510835033, -1.6294448766424343, -0.2617693791137971, 0.48254519819781516, 3.1344856939051433, -0.5981856159842609, -0.7905026818503782, -0.41390096879915417, 1.211655923059735, 0.486900856960665, -0.21735166935475592, -0.6446942837755238, 1.4840688604700185, 0.21152002576581685, 0.07407353417275789, -0.6130890236210245, 0.5252383330404052, 0.6712851140907574, 0.9618939225720989, -2.447934537947344, 0.21001235145459388, -0.017514426974441534, -0.3294942746261193, -1.956893644342049, 1.3147434662972208, -2.236901795464519, -1.355670681639342, 0.3332941119737317, -1.0451492156076625, 0.3752925071061327, -1.668849441699103, -0.12344250483081605, -0.23264926766422644, 0.7332647602341967, -0.9971293585380604, -0.7676066266105527, 0.7001651960379345, -0.7022586069809715, -0.05891946102224388, 0.6873881326933733, 0.8906297185004478, 0.9638085612837739, 0.0579173716477777, 0.33464594904890277, 2.533769548275823], \"yaxis\": \"y5\"}, {\"histfunc\": \"count\", \"histnorm\": \"\", \"marker\": {\"color\": \"rgba(55, 128, 191, 1.0)\", \"line\": {\"color\": \"#4D5663\", \"width\": 1.3}}, \"name\": \"B\", \"nbinsx\": 10, \"opacity\": 0.8, \"orientation\": \"v\", \"type\": \"histogram\", \"x\": [-0.8116091289192721, -0.19300472687253206, 0.42051103925632977, 0.25547064152430615, 0.4461384861944884, 0.2065840994216946, -0.0736093684561315, -0.03672123413058332, 0.6801523071485202, 1.4418046168788465, -0.5726562777833677, 0.9307098475989224, -0.5706293447478381, 0.4453994634128244, 1.4143311666416154, -1.108813199803975, -0.3125435764127994, 1.3618244709601963, -0.06427906272026955, -0.9229893610662293, 0.3065059408237643, -0.17342759515419126, 0.8429059478472343, -1.5805981154008981, -2.0267251132949027, -0.8286681556363882, 1.0616325449191493, -0.3631590237640123, 0.3245491815023166, -0.12049652048231733, -1.7794008323816055, 0.9771420985889142, 0.6937004427893335, -0.057223441643777455, 0.6845095121304248, -0.32589236102397623, 0.29680436698785867, -1.5057853650832715, 1.7496853226925513, 1.6753176110932382, -0.30540371699704194, 0.03962473472743301, 1.5236297895868112, 0.5511026209571313, 1.6053502011125302, -0.9477947708757761, 0.5084280387681843, 1.0536007000338874, -0.20842639751067635, -1.2601656190124837, 0.1042762843423615, -0.5724041204261644, -0.05409712730683168, 1.2766275991015201, 0.4813853754972735, -1.289064510835033, -1.6294448766424343, -0.2617693791137971, 0.48254519819781516, 3.1344856939051433, -0.5981856159842609, -0.7905026818503782, -0.41390096879915417, 1.211655923059735, 0.486900856960665, -0.21735166935475592, -0.6446942837755238, 1.4840688604700185, 0.21152002576581685, 0.07407353417275789, -0.6130890236210245, 0.5252383330404052, 0.6712851140907574, 0.9618939225720989, -2.447934537947344, 0.21001235145459388, -0.017514426974441534, -0.3294942746261193, -1.956893644342049, 1.3147434662972208, -2.236901795464519, -1.355670681639342, 0.3332941119737317, -1.0451492156076625, 0.3752925071061327, -1.668849441699103, -0.12344250483081605, -0.23264926766422644, 0.7332647602341967, -0.9971293585380604, -0.7676066266105527, 0.7001651960379345, -0.7022586069809715, -0.05891946102224388, 0.6873881326933733, 0.8906297185004478, 0.9638085612837739, 0.0579173716477777, 0.33464594904890277, 2.533769548275823], \"xaxis\": \"x6\", \"yaxis\": \"y6\"}, {\"line\": {\"color\": \"rgba(128, 128, 128, 1.0)\", \"dash\": \"solid\", \"shape\": \"linear\", \"width\": 1.3}, \"marker\": {\"size\": 2, \"symbol\": \"circle\"}, \"mode\": \"markers\", \"name\": \"B\", \"text\": \"\", \"type\": \"scatter\", \"x\": [1.3758302992402178, -0.5464235662369491, -1.0640122214796286, -2.3235399586051115, 1.705191233613601, 0.15125109594869915, -0.40548547228741083, -0.0167560371007023, 1.3587843530757622, -0.5766798451146129, -2.460334659632868, -0.3205290709209248, -0.8201666883711857, 0.1064598866020623, -0.17041287367257293, -0.2311037596628485, -2.177420275043031, 0.16668176130188805, 0.34883146503107937, -1.7113813526608828, 1.217284105143848, 2.10800027640411, 0.6809500093258382, -0.41159406356671013, 2.2221962659871535, -0.7159976989307345, 0.048997093626884355, 0.6519528020393337, -0.5804849016231878, 0.16614624828097674, 0.7778579586839508, -0.8613245245389931, 0.14083872520776508, 0.9223998120756294, -0.06587739303141103, -0.9090378151557447, 0.774219386130262, 0.47370109742745475, -0.12521703594648026, -0.23168290675497608, 1.4258995895851792, -0.4294984669578919, 1.0843443672963928, -0.13009791360636638, -0.42327814337865, 0.16600732276789706, -0.20525629523490763, 0.294922445974942, 0.24087444752324202, -0.7351121378484805, -1.6246752176833337, -0.24007809292079899, -1.4111550692195103, 0.5907756638895278, 0.32809777470257495, -1.2664456815631007, 0.8389108671207739, 0.9363619458933723, 0.8030213932482793, -0.4776438326616866, -0.5306839796905211, 0.5553959664002395, 0.7656975219663584, 0.0668227947356117, 2.099267733728491, -0.6945638667116145, 0.32961745336651654, -0.008564479964125252, 0.15049802856733616, -0.8898511162605245, -1.023329049646791, -1.184275803186526, -1.0695886040306473, 0.20404943415961055, 1.330736398693659, 0.5148171410318096, -0.39259662565338455, -0.31550600968650433, 0.07647989368502664, -0.9556525207968132, 0.1165358940487146, 0.7522440580315846, -0.22467952311957368, 1.2445827825580795, 0.5541624064844864, -0.09767564483997998, -0.11695965405042542, 0.05173213311650182, 1.9842860589096416, 0.8078033348332877, 0.8801738916013921, -0.13224414484129846, 0.24680444139114524, -0.07375280951611769, -0.3033857245159235, -1.0159151579511456, -0.5884011016913935, -1.7036795116266445, -0.05047605674856232, 0.1478607589113499], \"xaxis\": \"x7\", \"y\": [-0.8116091289192721, -0.19300472687253206, 0.42051103925632977, 0.25547064152430615, 0.4461384861944884, 0.2065840994216946, -0.0736093684561315, -0.03672123413058332, 0.6801523071485202, 1.4418046168788465, -0.5726562777833677, 0.9307098475989224, -0.5706293447478381, 0.4453994634128244, 1.4143311666416154, -1.108813199803975, -0.3125435764127994, 1.3618244709601963, -0.06427906272026955, -0.9229893610662293, 0.3065059408237643, -0.17342759515419126, 0.8429059478472343, -1.5805981154008981, -2.0267251132949027, -0.8286681556363882, 1.0616325449191493, -0.3631590237640123, 0.3245491815023166, -0.12049652048231733, -1.7794008323816055, 0.9771420985889142, 0.6937004427893335, -0.057223441643777455, 0.6845095121304248, -0.32589236102397623, 0.29680436698785867, -1.5057853650832715, 1.7496853226925513, 1.6753176110932382, -0.30540371699704194, 0.03962473472743301, 1.5236297895868112, 0.5511026209571313, 1.6053502011125302, -0.9477947708757761, 0.5084280387681843, 1.0536007000338874, -0.20842639751067635, -1.2601656190124837, 0.1042762843423615, -0.5724041204261644, -0.05409712730683168, 1.2766275991015201, 0.4813853754972735, -1.289064510835033, -1.6294448766424343, -0.2617693791137971, 0.48254519819781516, 3.1344856939051433, -0.5981856159842609, -0.7905026818503782, -0.41390096879915417, 1.211655923059735, 0.486900856960665, -0.21735166935475592, -0.6446942837755238, 1.4840688604700185, 0.21152002576581685, 0.07407353417275789, -0.6130890236210245, 0.5252383330404052, 0.6712851140907574, 0.9618939225720989, -2.447934537947344, 0.21001235145459388, -0.017514426974441534, -0.3294942746261193, -1.956893644342049, 1.3147434662972208, -2.236901795464519, -1.355670681639342, 0.3332941119737317, -1.0451492156076625, 0.3752925071061327, -1.668849441699103, -0.12344250483081605, -0.23264926766422644, 0.7332647602341967, -0.9971293585380604, -0.7676066266105527, 0.7001651960379345, -0.7022586069809715, -0.05891946102224388, 0.6873881326933733, 0.8906297185004478, 0.9638085612837739, 0.0579173716477777, 0.33464594904890277, 2.533769548275823], \"yaxis\": \"y7\"}, {\"line\": {\"color\": \"rgba(128, 128, 128, 1.0)\", \"dash\": \"solid\", \"shape\": \"linear\", \"width\": 1.3}, \"marker\": {\"size\": 2, \"symbol\": \"circle\"}, \"mode\": \"markers\", \"name\": \"B\", \"text\": \"\", \"type\": \"scatter\", \"x\": [-1.0143933734860284, -1.4585615483381547, 2.5042418166241123, 0.22958329208920597, -1.2968182950417078, -1.842213511320529, 0.7639205674867398, 0.06053809612596073, 2.5941505660260926, -0.8429827527500406, 0.3973965789654359, 0.09225800988858295, 0.4269893302473284, 1.108713315005888, -0.2530108686558408, -0.2999208417090409, 0.14045582673829862, 2.1396253026026537, -0.6958020412742936, -1.1259270133228458, -0.12886762663737372, 0.8336402823748976, -0.13096602161079288, -0.48434800066659983, -0.0070358933059479845, -1.7750610941423006, 0.06311518472235952, 0.44658968796806936, -0.41769847374378377, -1.3403956422413086, -0.9980030917351069, -0.7982972253158505, -1.3392395746219201, -0.29169574322894926, 0.48287938375444306, -1.0752428372576626, -0.6719660489480964, -0.40267014284671204, 0.34734401119694414, 0.06630804067063657, 1.010471540772577, 2.8950897353704375, 0.6608579983222802, 0.6580541199106333, 0.6361440808809069, -0.22905540631547425, -0.12169678005070042, 0.6498261817504866, -0.8104196068358291, 0.017637214546473497, 1.341175128422489, -0.8802200970993431, 0.6903647330522659, -1.3144504854799137, -0.14819797894425038, -1.223879648318199, -0.07721573448432213, -0.6303295595691613, -0.40748399859390577, 0.3137978772217722, 0.69348573575986, -0.34416383543673035, 0.7948330868467856, 1.0096147198834076, -0.9886265401414713, -1.2467584149031865, -1.714615514253578, 0.8429139838231307, 0.6855771071604896, -0.4126373823956263, -0.13912752323867758, 0.09885142627724702, -0.8396779091615867, 0.9642286904423265, 0.34257450032840686, -1.5035445944498151, 1.0257131646628648, 1.6150809473465009, 1.1137797603596864, -0.1239197069030021, -0.32171756867045126, -0.024032050658397468, 0.0695408017415043, -0.5268975472748754, 1.4768694986450592, 0.5164815923489074, 0.3325474091771087, 0.42262221704453584, 0.4268123115793359, -0.8050931506718854, 0.1057605925152173, 0.27204207221887794, -0.20135963811731583, 0.1977090689198459, 1.2134706704463551, 2.435355605114732, -1.3080518188274746, -0.2407936442765178, -0.593345404037883, 0.6339001458119796], \"xaxis\": \"x8\", \"y\": [-0.8116091289192721, -0.19300472687253206, 0.42051103925632977, 0.25547064152430615, 0.4461384861944884, 0.2065840994216946, -0.0736093684561315, -0.03672123413058332, 0.6801523071485202, 1.4418046168788465, -0.5726562777833677, 0.9307098475989224, -0.5706293447478381, 0.4453994634128244, 1.4143311666416154, -1.108813199803975, -0.3125435764127994, 1.3618244709601963, -0.06427906272026955, -0.9229893610662293, 0.3065059408237643, -0.17342759515419126, 0.8429059478472343, -1.5805981154008981, -2.0267251132949027, -0.8286681556363882, 1.0616325449191493, -0.3631590237640123, 0.3245491815023166, -0.12049652048231733, -1.7794008323816055, 0.9771420985889142, 0.6937004427893335, -0.057223441643777455, 0.6845095121304248, -0.32589236102397623, 0.29680436698785867, -1.5057853650832715, 1.7496853226925513, 1.6753176110932382, -0.30540371699704194, 0.03962473472743301, 1.5236297895868112, 0.5511026209571313, 1.6053502011125302, -0.9477947708757761, 0.5084280387681843, 1.0536007000338874, -0.20842639751067635, -1.2601656190124837, 0.1042762843423615, -0.5724041204261644, -0.05409712730683168, 1.2766275991015201, 0.4813853754972735, -1.289064510835033, -1.6294448766424343, -0.2617693791137971, 0.48254519819781516, 3.1344856939051433, -0.5981856159842609, -0.7905026818503782, -0.41390096879915417, 1.211655923059735, 0.486900856960665, -0.21735166935475592, -0.6446942837755238, 1.4840688604700185, 0.21152002576581685, 0.07407353417275789, -0.6130890236210245, 0.5252383330404052, 0.6712851140907574, 0.9618939225720989, -2.447934537947344, 0.21001235145459388, -0.017514426974441534, -0.3294942746261193, -1.956893644342049, 1.3147434662972208, -2.236901795464519, -1.355670681639342, 0.3332941119737317, -1.0451492156076625, 0.3752925071061327, -1.668849441699103, -0.12344250483081605, -0.23264926766422644, 0.7332647602341967, -0.9971293585380604, -0.7676066266105527, 0.7001651960379345, -0.7022586069809715, -0.05891946102224388, 0.6873881326933733, 0.8906297185004478, 0.9638085612837739, 0.0579173716477777, 0.33464594904890277, 2.533769548275823], \"yaxis\": \"y8\"}, {\"line\": {\"color\": \"rgba(128, 128, 128, 1.0)\", \"dash\": \"solid\", \"shape\": \"linear\", \"width\": 1.3}, \"marker\": {\"size\": 2, \"symbol\": \"circle\"}, \"mode\": \"markers\", \"name\": \"C\", \"text\": \"\", \"type\": \"scatter\", \"x\": [0.09109850481918408, -1.1215293214001596, -0.8472103787075184, 0.047579463925629756, -0.2465006929122032, 0.355941870570774, -0.10096950094440324, -0.9072730752429058, -0.9518980001271358, 2.14097321822886, 2.1231768307689967, 0.6958977551843699, -1.583248837107644, 1.7142265839072959, -0.06646503235312974, -1.5315586252424356, 1.4934969578297246, -0.3671124610810568, -0.6464912890042264, 0.7577407259047961, -1.7888731022404905, -0.836344304627946, 2.428995088322346, 1.3927544538222227, 0.9186261627971786, 1.3069317194442132, -1.0793521680617035, 2.0008609111050646, 1.6512094667325325, 0.808956552274321, 0.7161520296684218, 0.4174688388945817, -2.055553429227154, -0.10478473559018199, -1.8414704504739363, -1.9037587104776745, -0.24550426677305848, -0.9344856372315049, 0.08519000805272456, 0.7909917218595681, 1.2112598406713257, 0.8780853775627289, 1.6391927026157413, -0.7844898993204068, -0.8200738867112358, 1.2299606960656078, 2.090198636473912, 0.967590406410828, 0.42781576469535565, 0.3740083906457488, -1.203415752416856, 0.19874074492299004, -1.0996349876019142, -0.5118885547212875, 0.6089409203104832, -0.009986668270133012, -0.9843598032066695, -0.6971112927387455, -1.0518788938535228, -1.6926464990344885, 1.895353289889859, 2.635922114037947, 1.0059778300139433, -0.9100671354086547, 0.7188149666974778, -0.9501042669394972, 2.1621864299965403, 1.1420880278768886, 0.9676235117810439, 0.5345015806889609, -0.6101501196531989, 0.23256458005975567, -0.30864952668522244, 0.8230595122750528, 0.0025476652548313684, 1.0668879463043774, -0.19717897335767187, -0.15813795755946913, -0.6178985215289267, 1.8057952496635845, 1.0511933107617695, -0.5868718647057343, -0.5351892335864168, -0.027468015311200602, -0.9442877177439853, -0.8623770708257102, 0.8948807217187174, -0.00948333496494119, -0.920057972150479, 0.6478025520263664, 0.45634160459747125, 0.29947972220377245, -0.870490121032512, -0.9493757828636347, -1.6153530988647982, -0.9529103188037132, -1.2886840902918308, -1.261963285580088, -0.12188068264694774, 0.26167595986569264], \"xaxis\": \"x9\", \"y\": [1.3758302992402178, -0.5464235662369491, -1.0640122214796286, -2.3235399586051115, 1.705191233613601, 0.15125109594869915, -0.40548547228741083, -0.0167560371007023, 1.3587843530757622, -0.5766798451146129, -2.460334659632868, -0.3205290709209248, -0.8201666883711857, 0.1064598866020623, -0.17041287367257293, -0.2311037596628485, -2.177420275043031, 0.16668176130188805, 0.34883146503107937, -1.7113813526608828, 1.217284105143848, 2.10800027640411, 0.6809500093258382, -0.41159406356671013, 2.2221962659871535, -0.7159976989307345, 0.048997093626884355, 0.6519528020393337, -0.5804849016231878, 0.16614624828097674, 0.7778579586839508, -0.8613245245389931, 0.14083872520776508, 0.9223998120756294, -0.06587739303141103, -0.9090378151557447, 0.774219386130262, 0.47370109742745475, -0.12521703594648026, -0.23168290675497608, 1.4258995895851792, -0.4294984669578919, 1.0843443672963928, -0.13009791360636638, -0.42327814337865, 0.16600732276789706, -0.20525629523490763, 0.294922445974942, 0.24087444752324202, -0.7351121378484805, -1.6246752176833337, -0.24007809292079899, -1.4111550692195103, 0.5907756638895278, 0.32809777470257495, -1.2664456815631007, 0.8389108671207739, 0.9363619458933723, 0.8030213932482793, -0.4776438326616866, -0.5306839796905211, 0.5553959664002395, 0.7656975219663584, 0.0668227947356117, 2.099267733728491, -0.6945638667116145, 0.32961745336651654, -0.008564479964125252, 0.15049802856733616, -0.8898511162605245, -1.023329049646791, -1.184275803186526, -1.0695886040306473, 0.20404943415961055, 1.330736398693659, 0.5148171410318096, -0.39259662565338455, -0.31550600968650433, 0.07647989368502664, -0.9556525207968132, 0.1165358940487146, 0.7522440580315846, -0.22467952311957368, 1.2445827825580795, 0.5541624064844864, -0.09767564483997998, -0.11695965405042542, 0.05173213311650182, 1.9842860589096416, 0.8078033348332877, 0.8801738916013921, -0.13224414484129846, 0.24680444139114524, -0.07375280951611769, -0.3033857245159235, -1.0159151579511456, -0.5884011016913935, -1.7036795116266445, -0.05047605674856232, 0.1478607589113499], \"yaxis\": \"y9\"}, {\"line\": {\"color\": \"rgba(128, 128, 128, 1.0)\", \"dash\": \"solid\", \"shape\": \"linear\", \"width\": 1.3}, \"marker\": {\"size\": 2, \"symbol\": \"circle\"}, \"mode\": \"markers\", \"name\": \"C\", \"text\": \"\", \"type\": \"scatter\", \"x\": [-0.8116091289192721, -0.19300472687253206, 0.42051103925632977, 0.25547064152430615, 0.4461384861944884, 0.2065840994216946, -0.0736093684561315, -0.03672123413058332, 0.6801523071485202, 1.4418046168788465, -0.5726562777833677, 0.9307098475989224, -0.5706293447478381, 0.4453994634128244, 1.4143311666416154, -1.108813199803975, -0.3125435764127994, 1.3618244709601963, -0.06427906272026955, -0.9229893610662293, 0.3065059408237643, -0.17342759515419126, 0.8429059478472343, -1.5805981154008981, -2.0267251132949027, -0.8286681556363882, 1.0616325449191493, -0.3631590237640123, 0.3245491815023166, -0.12049652048231733, -1.7794008323816055, 0.9771420985889142, 0.6937004427893335, -0.057223441643777455, 0.6845095121304248, -0.32589236102397623, 0.29680436698785867, -1.5057853650832715, 1.7496853226925513, 1.6753176110932382, -0.30540371699704194, 0.03962473472743301, 1.5236297895868112, 0.5511026209571313, 1.6053502011125302, -0.9477947708757761, 0.5084280387681843, 1.0536007000338874, -0.20842639751067635, -1.2601656190124837, 0.1042762843423615, -0.5724041204261644, -0.05409712730683168, 1.2766275991015201, 0.4813853754972735, -1.289064510835033, -1.6294448766424343, -0.2617693791137971, 0.48254519819781516, 3.1344856939051433, -0.5981856159842609, -0.7905026818503782, -0.41390096879915417, 1.211655923059735, 0.486900856960665, -0.21735166935475592, -0.6446942837755238, 1.4840688604700185, 0.21152002576581685, 0.07407353417275789, -0.6130890236210245, 0.5252383330404052, 0.6712851140907574, 0.9618939225720989, -2.447934537947344, 0.21001235145459388, -0.017514426974441534, -0.3294942746261193, -1.956893644342049, 1.3147434662972208, -2.236901795464519, -1.355670681639342, 0.3332941119737317, -1.0451492156076625, 0.3752925071061327, -1.668849441699103, -0.12344250483081605, -0.23264926766422644, 0.7332647602341967, -0.9971293585380604, -0.7676066266105527, 0.7001651960379345, -0.7022586069809715, -0.05891946102224388, 0.6873881326933733, 0.8906297185004478, 0.9638085612837739, 0.0579173716477777, 0.33464594904890277, 2.533769548275823], \"xaxis\": \"x10\", \"y\": [1.3758302992402178, -0.5464235662369491, -1.0640122214796286, -2.3235399586051115, 1.705191233613601, 0.15125109594869915, -0.40548547228741083, -0.0167560371007023, 1.3587843530757622, -0.5766798451146129, -2.460334659632868, -0.3205290709209248, -0.8201666883711857, 0.1064598866020623, -0.17041287367257293, -0.2311037596628485, -2.177420275043031, 0.16668176130188805, 0.34883146503107937, -1.7113813526608828, 1.217284105143848, 2.10800027640411, 0.6809500093258382, -0.41159406356671013, 2.2221962659871535, -0.7159976989307345, 0.048997093626884355, 0.6519528020393337, -0.5804849016231878, 0.16614624828097674, 0.7778579586839508, -0.8613245245389931, 0.14083872520776508, 0.9223998120756294, -0.06587739303141103, -0.9090378151557447, 0.774219386130262, 0.47370109742745475, -0.12521703594648026, -0.23168290675497608, 1.4258995895851792, -0.4294984669578919, 1.0843443672963928, -0.13009791360636638, -0.42327814337865, 0.16600732276789706, -0.20525629523490763, 0.294922445974942, 0.24087444752324202, -0.7351121378484805, -1.6246752176833337, -0.24007809292079899, -1.4111550692195103, 0.5907756638895278, 0.32809777470257495, -1.2664456815631007, 0.8389108671207739, 0.9363619458933723, 0.8030213932482793, -0.4776438326616866, -0.5306839796905211, 0.5553959664002395, 0.7656975219663584, 0.0668227947356117, 2.099267733728491, -0.6945638667116145, 0.32961745336651654, -0.008564479964125252, 0.15049802856733616, -0.8898511162605245, -1.023329049646791, -1.184275803186526, -1.0695886040306473, 0.20404943415961055, 1.330736398693659, 0.5148171410318096, -0.39259662565338455, -0.31550600968650433, 0.07647989368502664, -0.9556525207968132, 0.1165358940487146, 0.7522440580315846, -0.22467952311957368, 1.2445827825580795, 0.5541624064844864, -0.09767564483997998, -0.11695965405042542, 0.05173213311650182, 1.9842860589096416, 0.8078033348332877, 0.8801738916013921, -0.13224414484129846, 0.24680444139114524, -0.07375280951611769, -0.3033857245159235, -1.0159151579511456, -0.5884011016913935, -1.7036795116266445, -0.05047605674856232, 0.1478607589113499], \"yaxis\": \"y10\"}, {\"histfunc\": \"count\", \"histnorm\": \"\", \"marker\": {\"color\": \"rgba(50, 171, 96, 1.0)\", \"line\": {\"color\": \"#4D5663\", \"width\": 1.3}}, \"name\": \"C\", \"nbinsx\": 10, \"opacity\": 0.8, \"orientation\": \"v\", \"type\": \"histogram\", \"x\": [1.3758302992402178, -0.5464235662369491, -1.0640122214796286, -2.3235399586051115, 1.705191233613601, 0.15125109594869915, -0.40548547228741083, -0.0167560371007023, 1.3587843530757622, -0.5766798451146129, -2.460334659632868, -0.3205290709209248, -0.8201666883711857, 0.1064598866020623, -0.17041287367257293, -0.2311037596628485, -2.177420275043031, 0.16668176130188805, 0.34883146503107937, -1.7113813526608828, 1.217284105143848, 2.10800027640411, 0.6809500093258382, -0.41159406356671013, 2.2221962659871535, -0.7159976989307345, 0.048997093626884355, 0.6519528020393337, -0.5804849016231878, 0.16614624828097674, 0.7778579586839508, -0.8613245245389931, 0.14083872520776508, 0.9223998120756294, -0.06587739303141103, -0.9090378151557447, 0.774219386130262, 0.47370109742745475, -0.12521703594648026, -0.23168290675497608, 1.4258995895851792, -0.4294984669578919, 1.0843443672963928, -0.13009791360636638, -0.42327814337865, 0.16600732276789706, -0.20525629523490763, 0.294922445974942, 0.24087444752324202, -0.7351121378484805, -1.6246752176833337, -0.24007809292079899, -1.4111550692195103, 0.5907756638895278, 0.32809777470257495, -1.2664456815631007, 0.8389108671207739, 0.9363619458933723, 0.8030213932482793, -0.4776438326616866, -0.5306839796905211, 0.5553959664002395, 0.7656975219663584, 0.0668227947356117, 2.099267733728491, -0.6945638667116145, 0.32961745336651654, -0.008564479964125252, 0.15049802856733616, -0.8898511162605245, -1.023329049646791, -1.184275803186526, -1.0695886040306473, 0.20404943415961055, 1.330736398693659, 0.5148171410318096, -0.39259662565338455, -0.31550600968650433, 0.07647989368502664, -0.9556525207968132, 0.1165358940487146, 0.7522440580315846, -0.22467952311957368, 1.2445827825580795, 0.5541624064844864, -0.09767564483997998, -0.11695965405042542, 0.05173213311650182, 1.9842860589096416, 0.8078033348332877, 0.8801738916013921, -0.13224414484129846, 0.24680444139114524, -0.07375280951611769, -0.3033857245159235, -1.0159151579511456, -0.5884011016913935, -1.7036795116266445, -0.05047605674856232, 0.1478607589113499], \"xaxis\": \"x11\", \"yaxis\": \"y11\"}, {\"line\": {\"color\": \"rgba(128, 128, 128, 1.0)\", \"dash\": \"solid\", \"shape\": \"linear\", \"width\": 1.3}, \"marker\": {\"size\": 2, \"symbol\": \"circle\"}, \"mode\": \"markers\", \"name\": \"C\", \"text\": \"\", \"type\": \"scatter\", \"x\": [-1.0143933734860284, -1.4585615483381547, 2.5042418166241123, 0.22958329208920597, -1.2968182950417078, -1.842213511320529, 0.7639205674867398, 0.06053809612596073, 2.5941505660260926, -0.8429827527500406, 0.3973965789654359, 0.09225800988858295, 0.4269893302473284, 1.108713315005888, -0.2530108686558408, -0.2999208417090409, 0.14045582673829862, 2.1396253026026537, -0.6958020412742936, -1.1259270133228458, -0.12886762663737372, 0.8336402823748976, -0.13096602161079288, -0.48434800066659983, -0.0070358933059479845, -1.7750610941423006, 0.06311518472235952, 0.44658968796806936, -0.41769847374378377, -1.3403956422413086, -0.9980030917351069, -0.7982972253158505, -1.3392395746219201, -0.29169574322894926, 0.48287938375444306, -1.0752428372576626, -0.6719660489480964, -0.40267014284671204, 0.34734401119694414, 0.06630804067063657, 1.010471540772577, 2.8950897353704375, 0.6608579983222802, 0.6580541199106333, 0.6361440808809069, -0.22905540631547425, -0.12169678005070042, 0.6498261817504866, -0.8104196068358291, 0.017637214546473497, 1.341175128422489, -0.8802200970993431, 0.6903647330522659, -1.3144504854799137, -0.14819797894425038, -1.223879648318199, -0.07721573448432213, -0.6303295595691613, -0.40748399859390577, 0.3137978772217722, 0.69348573575986, -0.34416383543673035, 0.7948330868467856, 1.0096147198834076, -0.9886265401414713, -1.2467584149031865, -1.714615514253578, 0.8429139838231307, 0.6855771071604896, -0.4126373823956263, -0.13912752323867758, 0.09885142627724702, -0.8396779091615867, 0.9642286904423265, 0.34257450032840686, -1.5035445944498151, 1.0257131646628648, 1.6150809473465009, 1.1137797603596864, -0.1239197069030021, -0.32171756867045126, -0.024032050658397468, 0.0695408017415043, -0.5268975472748754, 1.4768694986450592, 0.5164815923489074, 0.3325474091771087, 0.42262221704453584, 0.4268123115793359, -0.8050931506718854, 0.1057605925152173, 0.27204207221887794, -0.20135963811731583, 0.1977090689198459, 1.2134706704463551, 2.435355605114732, -1.3080518188274746, -0.2407936442765178, -0.593345404037883, 0.6339001458119796], \"xaxis\": \"x12\", \"y\": [1.3758302992402178, -0.5464235662369491, -1.0640122214796286, -2.3235399586051115, 1.705191233613601, 0.15125109594869915, -0.40548547228741083, -0.0167560371007023, 1.3587843530757622, -0.5766798451146129, -2.460334659632868, -0.3205290709209248, -0.8201666883711857, 0.1064598866020623, -0.17041287367257293, -0.2311037596628485, -2.177420275043031, 0.16668176130188805, 0.34883146503107937, -1.7113813526608828, 1.217284105143848, 2.10800027640411, 0.6809500093258382, -0.41159406356671013, 2.2221962659871535, -0.7159976989307345, 0.048997093626884355, 0.6519528020393337, -0.5804849016231878, 0.16614624828097674, 0.7778579586839508, -0.8613245245389931, 0.14083872520776508, 0.9223998120756294, -0.06587739303141103, -0.9090378151557447, 0.774219386130262, 0.47370109742745475, -0.12521703594648026, -0.23168290675497608, 1.4258995895851792, -0.4294984669578919, 1.0843443672963928, -0.13009791360636638, -0.42327814337865, 0.16600732276789706, -0.20525629523490763, 0.294922445974942, 0.24087444752324202, -0.7351121378484805, -1.6246752176833337, -0.24007809292079899, -1.4111550692195103, 0.5907756638895278, 0.32809777470257495, -1.2664456815631007, 0.8389108671207739, 0.9363619458933723, 0.8030213932482793, -0.4776438326616866, -0.5306839796905211, 0.5553959664002395, 0.7656975219663584, 0.0668227947356117, 2.099267733728491, -0.6945638667116145, 0.32961745336651654, -0.008564479964125252, 0.15049802856733616, -0.8898511162605245, -1.023329049646791, -1.184275803186526, -1.0695886040306473, 0.20404943415961055, 1.330736398693659, 0.5148171410318096, -0.39259662565338455, -0.31550600968650433, 0.07647989368502664, -0.9556525207968132, 0.1165358940487146, 0.7522440580315846, -0.22467952311957368, 1.2445827825580795, 0.5541624064844864, -0.09767564483997998, -0.11695965405042542, 0.05173213311650182, 1.9842860589096416, 0.8078033348332877, 0.8801738916013921, -0.13224414484129846, 0.24680444139114524, -0.07375280951611769, -0.3033857245159235, -1.0159151579511456, -0.5884011016913935, -1.7036795116266445, -0.05047605674856232, 0.1478607589113499], \"yaxis\": \"y12\"}, {\"line\": {\"color\": \"rgba(128, 128, 128, 1.0)\", \"dash\": \"solid\", \"shape\": \"linear\", \"width\": 1.3}, \"marker\": {\"size\": 2, \"symbol\": \"circle\"}, \"mode\": \"markers\", \"name\": \"D\", \"text\": \"\", \"type\": \"scatter\", \"x\": [0.09109850481918408, -1.1215293214001596, -0.8472103787075184, 0.047579463925629756, -0.2465006929122032, 0.355941870570774, -0.10096950094440324, -0.9072730752429058, -0.9518980001271358, 2.14097321822886, 2.1231768307689967, 0.6958977551843699, -1.583248837107644, 1.7142265839072959, -0.06646503235312974, -1.5315586252424356, 1.4934969578297246, -0.3671124610810568, -0.6464912890042264, 0.7577407259047961, -1.7888731022404905, -0.836344304627946, 2.428995088322346, 1.3927544538222227, 0.9186261627971786, 1.3069317194442132, -1.0793521680617035, 2.0008609111050646, 1.6512094667325325, 0.808956552274321, 0.7161520296684218, 0.4174688388945817, -2.055553429227154, -0.10478473559018199, -1.8414704504739363, -1.9037587104776745, -0.24550426677305848, -0.9344856372315049, 0.08519000805272456, 0.7909917218595681, 1.2112598406713257, 0.8780853775627289, 1.6391927026157413, -0.7844898993204068, -0.8200738867112358, 1.2299606960656078, 2.090198636473912, 0.967590406410828, 0.42781576469535565, 0.3740083906457488, -1.203415752416856, 0.19874074492299004, -1.0996349876019142, -0.5118885547212875, 0.6089409203104832, -0.009986668270133012, -0.9843598032066695, -0.6971112927387455, -1.0518788938535228, -1.6926464990344885, 1.895353289889859, 2.635922114037947, 1.0059778300139433, -0.9100671354086547, 0.7188149666974778, -0.9501042669394972, 2.1621864299965403, 1.1420880278768886, 0.9676235117810439, 0.5345015806889609, -0.6101501196531989, 0.23256458005975567, -0.30864952668522244, 0.8230595122750528, 0.0025476652548313684, 1.0668879463043774, -0.19717897335767187, -0.15813795755946913, -0.6178985215289267, 1.8057952496635845, 1.0511933107617695, -0.5868718647057343, -0.5351892335864168, -0.027468015311200602, -0.9442877177439853, -0.8623770708257102, 0.8948807217187174, -0.00948333496494119, -0.920057972150479, 0.6478025520263664, 0.45634160459747125, 0.29947972220377245, -0.870490121032512, -0.9493757828636347, -1.6153530988647982, -0.9529103188037132, -1.2886840902918308, -1.261963285580088, -0.12188068264694774, 0.26167595986569264], \"xaxis\": \"x13\", \"y\": [-1.0143933734860284, -1.4585615483381547, 2.5042418166241123, 0.22958329208920597, -1.2968182950417078, -1.842213511320529, 0.7639205674867398, 0.06053809612596073, 2.5941505660260926, -0.8429827527500406, 0.3973965789654359, 0.09225800988858295, 0.4269893302473284, 1.108713315005888, -0.2530108686558408, -0.2999208417090409, 0.14045582673829862, 2.1396253026026537, -0.6958020412742936, -1.1259270133228458, -0.12886762663737372, 0.8336402823748976, -0.13096602161079288, -0.48434800066659983, -0.0070358933059479845, -1.7750610941423006, 0.06311518472235952, 0.44658968796806936, -0.41769847374378377, -1.3403956422413086, -0.9980030917351069, -0.7982972253158505, -1.3392395746219201, -0.29169574322894926, 0.48287938375444306, -1.0752428372576626, -0.6719660489480964, -0.40267014284671204, 0.34734401119694414, 0.06630804067063657, 1.010471540772577, 2.8950897353704375, 0.6608579983222802, 0.6580541199106333, 0.6361440808809069, -0.22905540631547425, -0.12169678005070042, 0.6498261817504866, -0.8104196068358291, 0.017637214546473497, 1.341175128422489, -0.8802200970993431, 0.6903647330522659, -1.3144504854799137, -0.14819797894425038, -1.223879648318199, -0.07721573448432213, -0.6303295595691613, -0.40748399859390577, 0.3137978772217722, 0.69348573575986, -0.34416383543673035, 0.7948330868467856, 1.0096147198834076, -0.9886265401414713, -1.2467584149031865, -1.714615514253578, 0.8429139838231307, 0.6855771071604896, -0.4126373823956263, -0.13912752323867758, 0.09885142627724702, -0.8396779091615867, 0.9642286904423265, 0.34257450032840686, -1.5035445944498151, 1.0257131646628648, 1.6150809473465009, 1.1137797603596864, -0.1239197069030021, -0.32171756867045126, -0.024032050658397468, 0.0695408017415043, -0.5268975472748754, 1.4768694986450592, 0.5164815923489074, 0.3325474091771087, 0.42262221704453584, 0.4268123115793359, -0.8050931506718854, 0.1057605925152173, 0.27204207221887794, -0.20135963811731583, 0.1977090689198459, 1.2134706704463551, 2.435355605114732, -1.3080518188274746, -0.2407936442765178, -0.593345404037883, 0.6339001458119796], \"yaxis\": \"y13\"}, {\"line\": {\"color\": \"rgba(128, 128, 128, 1.0)\", \"dash\": \"solid\", \"shape\": \"linear\", \"width\": 1.3}, \"marker\": {\"size\": 2, \"symbol\": \"circle\"}, \"mode\": \"markers\", \"name\": \"D\", \"text\": \"\", \"type\": \"scatter\", \"x\": [-0.8116091289192721, -0.19300472687253206, 0.42051103925632977, 0.25547064152430615, 0.4461384861944884, 0.2065840994216946, -0.0736093684561315, -0.03672123413058332, 0.6801523071485202, 1.4418046168788465, -0.5726562777833677, 0.9307098475989224, -0.5706293447478381, 0.4453994634128244, 1.4143311666416154, -1.108813199803975, -0.3125435764127994, 1.3618244709601963, -0.06427906272026955, -0.9229893610662293, 0.3065059408237643, -0.17342759515419126, 0.8429059478472343, -1.5805981154008981, -2.0267251132949027, -0.8286681556363882, 1.0616325449191493, -0.3631590237640123, 0.3245491815023166, -0.12049652048231733, -1.7794008323816055, 0.9771420985889142, 0.6937004427893335, -0.057223441643777455, 0.6845095121304248, -0.32589236102397623, 0.29680436698785867, -1.5057853650832715, 1.7496853226925513, 1.6753176110932382, -0.30540371699704194, 0.03962473472743301, 1.5236297895868112, 0.5511026209571313, 1.6053502011125302, -0.9477947708757761, 0.5084280387681843, 1.0536007000338874, -0.20842639751067635, -1.2601656190124837, 0.1042762843423615, -0.5724041204261644, -0.05409712730683168, 1.2766275991015201, 0.4813853754972735, -1.289064510835033, -1.6294448766424343, -0.2617693791137971, 0.48254519819781516, 3.1344856939051433, -0.5981856159842609, -0.7905026818503782, -0.41390096879915417, 1.211655923059735, 0.486900856960665, -0.21735166935475592, -0.6446942837755238, 1.4840688604700185, 0.21152002576581685, 0.07407353417275789, -0.6130890236210245, 0.5252383330404052, 0.6712851140907574, 0.9618939225720989, -2.447934537947344, 0.21001235145459388, -0.017514426974441534, -0.3294942746261193, -1.956893644342049, 1.3147434662972208, -2.236901795464519, -1.355670681639342, 0.3332941119737317, -1.0451492156076625, 0.3752925071061327, -1.668849441699103, -0.12344250483081605, -0.23264926766422644, 0.7332647602341967, -0.9971293585380604, -0.7676066266105527, 0.7001651960379345, -0.7022586069809715, -0.05891946102224388, 0.6873881326933733, 0.8906297185004478, 0.9638085612837739, 0.0579173716477777, 0.33464594904890277, 2.533769548275823], \"xaxis\": \"x14\", \"y\": [-1.0143933734860284, -1.4585615483381547, 2.5042418166241123, 0.22958329208920597, -1.2968182950417078, -1.842213511320529, 0.7639205674867398, 0.06053809612596073, 2.5941505660260926, -0.8429827527500406, 0.3973965789654359, 0.09225800988858295, 0.4269893302473284, 1.108713315005888, -0.2530108686558408, -0.2999208417090409, 0.14045582673829862, 2.1396253026026537, -0.6958020412742936, -1.1259270133228458, -0.12886762663737372, 0.8336402823748976, -0.13096602161079288, -0.48434800066659983, -0.0070358933059479845, -1.7750610941423006, 0.06311518472235952, 0.44658968796806936, -0.41769847374378377, -1.3403956422413086, -0.9980030917351069, -0.7982972253158505, -1.3392395746219201, -0.29169574322894926, 0.48287938375444306, -1.0752428372576626, -0.6719660489480964, -0.40267014284671204, 0.34734401119694414, 0.06630804067063657, 1.010471540772577, 2.8950897353704375, 0.6608579983222802, 0.6580541199106333, 0.6361440808809069, -0.22905540631547425, -0.12169678005070042, 0.6498261817504866, -0.8104196068358291, 0.017637214546473497, 1.341175128422489, -0.8802200970993431, 0.6903647330522659, -1.3144504854799137, -0.14819797894425038, -1.223879648318199, -0.07721573448432213, -0.6303295595691613, -0.40748399859390577, 0.3137978772217722, 0.69348573575986, -0.34416383543673035, 0.7948330868467856, 1.0096147198834076, -0.9886265401414713, -1.2467584149031865, -1.714615514253578, 0.8429139838231307, 0.6855771071604896, -0.4126373823956263, -0.13912752323867758, 0.09885142627724702, -0.8396779091615867, 0.9642286904423265, 0.34257450032840686, -1.5035445944498151, 1.0257131646628648, 1.6150809473465009, 1.1137797603596864, -0.1239197069030021, -0.32171756867045126, -0.024032050658397468, 0.0695408017415043, -0.5268975472748754, 1.4768694986450592, 0.5164815923489074, 0.3325474091771087, 0.42262221704453584, 0.4268123115793359, -0.8050931506718854, 0.1057605925152173, 0.27204207221887794, -0.20135963811731583, 0.1977090689198459, 1.2134706704463551, 2.435355605114732, -1.3080518188274746, -0.2407936442765178, -0.593345404037883, 0.6339001458119796], \"yaxis\": \"y14\"}, {\"line\": {\"color\": \"rgba(128, 128, 128, 1.0)\", \"dash\": \"solid\", \"shape\": \"linear\", \"width\": 1.3}, \"marker\": {\"size\": 2, \"symbol\": \"circle\"}, \"mode\": \"markers\", \"name\": \"D\", \"text\": \"\", \"type\": \"scatter\", \"x\": [1.3758302992402178, -0.5464235662369491, -1.0640122214796286, -2.3235399586051115, 1.705191233613601, 0.15125109594869915, -0.40548547228741083, -0.0167560371007023, 1.3587843530757622, -0.5766798451146129, -2.460334659632868, -0.3205290709209248, -0.8201666883711857, 0.1064598866020623, -0.17041287367257293, -0.2311037596628485, -2.177420275043031, 0.16668176130188805, 0.34883146503107937, -1.7113813526608828, 1.217284105143848, 2.10800027640411, 0.6809500093258382, -0.41159406356671013, 2.2221962659871535, -0.7159976989307345, 0.048997093626884355, 0.6519528020393337, -0.5804849016231878, 0.16614624828097674, 0.7778579586839508, -0.8613245245389931, 0.14083872520776508, 0.9223998120756294, -0.06587739303141103, -0.9090378151557447, 0.774219386130262, 0.47370109742745475, -0.12521703594648026, -0.23168290675497608, 1.4258995895851792, -0.4294984669578919, 1.0843443672963928, -0.13009791360636638, -0.42327814337865, 0.16600732276789706, -0.20525629523490763, 0.294922445974942, 0.24087444752324202, -0.7351121378484805, -1.6246752176833337, -0.24007809292079899, -1.4111550692195103, 0.5907756638895278, 0.32809777470257495, -1.2664456815631007, 0.8389108671207739, 0.9363619458933723, 0.8030213932482793, -0.4776438326616866, -0.5306839796905211, 0.5553959664002395, 0.7656975219663584, 0.0668227947356117, 2.099267733728491, -0.6945638667116145, 0.32961745336651654, -0.008564479964125252, 0.15049802856733616, -0.8898511162605245, -1.023329049646791, -1.184275803186526, -1.0695886040306473, 0.20404943415961055, 1.330736398693659, 0.5148171410318096, -0.39259662565338455, -0.31550600968650433, 0.07647989368502664, -0.9556525207968132, 0.1165358940487146, 0.7522440580315846, -0.22467952311957368, 1.2445827825580795, 0.5541624064844864, -0.09767564483997998, -0.11695965405042542, 0.05173213311650182, 1.9842860589096416, 0.8078033348332877, 0.8801738916013921, -0.13224414484129846, 0.24680444139114524, -0.07375280951611769, -0.3033857245159235, -1.0159151579511456, -0.5884011016913935, -1.7036795116266445, -0.05047605674856232, 0.1478607589113499], \"xaxis\": \"x15\", \"y\": [-1.0143933734860284, -1.4585615483381547, 2.5042418166241123, 0.22958329208920597, -1.2968182950417078, -1.842213511320529, 0.7639205674867398, 0.06053809612596073, 2.5941505660260926, -0.8429827527500406, 0.3973965789654359, 0.09225800988858295, 0.4269893302473284, 1.108713315005888, -0.2530108686558408, -0.2999208417090409, 0.14045582673829862, 2.1396253026026537, -0.6958020412742936, -1.1259270133228458, -0.12886762663737372, 0.8336402823748976, -0.13096602161079288, -0.48434800066659983, -0.0070358933059479845, -1.7750610941423006, 0.06311518472235952, 0.44658968796806936, -0.41769847374378377, -1.3403956422413086, -0.9980030917351069, -0.7982972253158505, -1.3392395746219201, -0.29169574322894926, 0.48287938375444306, -1.0752428372576626, -0.6719660489480964, -0.40267014284671204, 0.34734401119694414, 0.06630804067063657, 1.010471540772577, 2.8950897353704375, 0.6608579983222802, 0.6580541199106333, 0.6361440808809069, -0.22905540631547425, -0.12169678005070042, 0.6498261817504866, -0.8104196068358291, 0.017637214546473497, 1.341175128422489, -0.8802200970993431, 0.6903647330522659, -1.3144504854799137, -0.14819797894425038, -1.223879648318199, -0.07721573448432213, -0.6303295595691613, -0.40748399859390577, 0.3137978772217722, 0.69348573575986, -0.34416383543673035, 0.7948330868467856, 1.0096147198834076, -0.9886265401414713, -1.2467584149031865, -1.714615514253578, 0.8429139838231307, 0.6855771071604896, -0.4126373823956263, -0.13912752323867758, 0.09885142627724702, -0.8396779091615867, 0.9642286904423265, 0.34257450032840686, -1.5035445944498151, 1.0257131646628648, 1.6150809473465009, 1.1137797603596864, -0.1239197069030021, -0.32171756867045126, -0.024032050658397468, 0.0695408017415043, -0.5268975472748754, 1.4768694986450592, 0.5164815923489074, 0.3325474091771087, 0.42262221704453584, 0.4268123115793359, -0.8050931506718854, 0.1057605925152173, 0.27204207221887794, -0.20135963811731583, 0.1977090689198459, 1.2134706704463551, 2.435355605114732, -1.3080518188274746, -0.2407936442765178, -0.593345404037883, 0.6339001458119796], \"yaxis\": \"y15\"}, {\"histfunc\": \"count\", \"histnorm\": \"\", \"marker\": {\"color\": \"rgba(128, 0, 128, 1.0)\", \"line\": {\"color\": \"#4D5663\", \"width\": 1.3}}, \"name\": \"D\", \"nbinsx\": 10, \"opacity\": 0.8, \"orientation\": \"v\", \"type\": \"histogram\", \"x\": [-1.0143933734860284, -1.4585615483381547, 2.5042418166241123, 0.22958329208920597, -1.2968182950417078, -1.842213511320529, 0.7639205674867398, 0.06053809612596073, 2.5941505660260926, -0.8429827527500406, 0.3973965789654359, 0.09225800988858295, 0.4269893302473284, 1.108713315005888, -0.2530108686558408, -0.2999208417090409, 0.14045582673829862, 2.1396253026026537, -0.6958020412742936, -1.1259270133228458, -0.12886762663737372, 0.8336402823748976, -0.13096602161079288, -0.48434800066659983, -0.0070358933059479845, -1.7750610941423006, 0.06311518472235952, 0.44658968796806936, -0.41769847374378377, -1.3403956422413086, -0.9980030917351069, -0.7982972253158505, -1.3392395746219201, -0.29169574322894926, 0.48287938375444306, -1.0752428372576626, -0.6719660489480964, -0.40267014284671204, 0.34734401119694414, 0.06630804067063657, 1.010471540772577, 2.8950897353704375, 0.6608579983222802, 0.6580541199106333, 0.6361440808809069, -0.22905540631547425, -0.12169678005070042, 0.6498261817504866, -0.8104196068358291, 0.017637214546473497, 1.341175128422489, -0.8802200970993431, 0.6903647330522659, -1.3144504854799137, -0.14819797894425038, -1.223879648318199, -0.07721573448432213, -0.6303295595691613, -0.40748399859390577, 0.3137978772217722, 0.69348573575986, -0.34416383543673035, 0.7948330868467856, 1.0096147198834076, -0.9886265401414713, -1.2467584149031865, -1.714615514253578, 0.8429139838231307, 0.6855771071604896, -0.4126373823956263, -0.13912752323867758, 0.09885142627724702, -0.8396779091615867, 0.9642286904423265, 0.34257450032840686, -1.5035445944498151, 1.0257131646628648, 1.6150809473465009, 1.1137797603596864, -0.1239197069030021, -0.32171756867045126, -0.024032050658397468, 0.0695408017415043, -0.5268975472748754, 1.4768694986450592, 0.5164815923489074, 0.3325474091771087, 0.42262221704453584, 0.4268123115793359, -0.8050931506718854, 0.1057605925152173, 0.27204207221887794, -0.20135963811731583, 0.1977090689198459, 1.2134706704463551, 2.435355605114732, -1.3080518188274746, -0.2407936442765178, -0.593345404037883, 0.6339001458119796], \"xaxis\": \"x16\", \"yaxis\": \"y16\"}],\n",
       "                        {\"bargap\": 0.02, \"legend\": {\"bgcolor\": \"#F5F6F9\", \"font\": {\"color\": \"#4D5663\"}}, \"paper_bgcolor\": \"#F5F6F9\", \"plot_bgcolor\": \"#F5F6F9\", \"showlegend\": false, \"template\": {\"data\": {\"bar\": [{\"error_x\": {\"color\": \"#2a3f5f\"}, \"error_y\": {\"color\": \"#2a3f5f\"}, \"marker\": {\"line\": {\"color\": \"#E5ECF6\", \"width\": 0.5}}, \"type\": \"bar\"}], \"barpolar\": [{\"marker\": {\"line\": {\"color\": \"#E5ECF6\", \"width\": 0.5}}, \"type\": \"barpolar\"}], \"carpet\": [{\"aaxis\": {\"endlinecolor\": \"#2a3f5f\", \"gridcolor\": \"white\", \"linecolor\": \"white\", \"minorgridcolor\": \"white\", \"startlinecolor\": \"#2a3f5f\"}, \"baxis\": {\"endlinecolor\": \"#2a3f5f\", \"gridcolor\": \"white\", \"linecolor\": \"white\", \"minorgridcolor\": \"white\", \"startlinecolor\": \"#2a3f5f\"}, \"type\": \"carpet\"}], \"choropleth\": [{\"colorbar\": {\"outlinewidth\": 0, \"ticks\": \"\"}, \"type\": \"choropleth\"}], \"contour\": [{\"colorbar\": {\"outlinewidth\": 0, \"ticks\": \"\"}, \"colorscale\": [[0.0, \"#0d0887\"], [0.1111111111111111, \"#46039f\"], [0.2222222222222222, \"#7201a8\"], [0.3333333333333333, \"#9c179e\"], [0.4444444444444444, \"#bd3786\"], [0.5555555555555556, \"#d8576b\"], [0.6666666666666666, \"#ed7953\"], [0.7777777777777778, \"#fb9f3a\"], [0.8888888888888888, \"#fdca26\"], [1.0, \"#f0f921\"]], \"type\": \"contour\"}], \"contourcarpet\": [{\"colorbar\": {\"outlinewidth\": 0, \"ticks\": \"\"}, \"type\": \"contourcarpet\"}], \"heatmap\": [{\"colorbar\": {\"outlinewidth\": 0, \"ticks\": \"\"}, \"colorscale\": [[0.0, \"#0d0887\"], [0.1111111111111111, \"#46039f\"], [0.2222222222222222, \"#7201a8\"], [0.3333333333333333, \"#9c179e\"], [0.4444444444444444, \"#bd3786\"], [0.5555555555555556, \"#d8576b\"], [0.6666666666666666, \"#ed7953\"], [0.7777777777777778, \"#fb9f3a\"], [0.8888888888888888, \"#fdca26\"], [1.0, \"#f0f921\"]], \"type\": \"heatmap\"}], \"heatmapgl\": [{\"colorbar\": {\"outlinewidth\": 0, \"ticks\": \"\"}, \"colorscale\": [[0.0, \"#0d0887\"], [0.1111111111111111, \"#46039f\"], [0.2222222222222222, \"#7201a8\"], [0.3333333333333333, \"#9c179e\"], [0.4444444444444444, \"#bd3786\"], [0.5555555555555556, \"#d8576b\"], [0.6666666666666666, \"#ed7953\"], [0.7777777777777778, \"#fb9f3a\"], [0.8888888888888888, \"#fdca26\"], [1.0, \"#f0f921\"]], \"type\": \"heatmapgl\"}], \"histogram\": [{\"marker\": {\"colorbar\": {\"outlinewidth\": 0, \"ticks\": \"\"}}, \"type\": \"histogram\"}], \"histogram2d\": [{\"colorbar\": {\"outlinewidth\": 0, \"ticks\": \"\"}, \"colorscale\": [[0.0, \"#0d0887\"], [0.1111111111111111, \"#46039f\"], [0.2222222222222222, \"#7201a8\"], [0.3333333333333333, \"#9c179e\"], [0.4444444444444444, \"#bd3786\"], [0.5555555555555556, \"#d8576b\"], [0.6666666666666666, \"#ed7953\"], [0.7777777777777778, \"#fb9f3a\"], [0.8888888888888888, \"#fdca26\"], [1.0, \"#f0f921\"]], \"type\": \"histogram2d\"}], \"histogram2dcontour\": [{\"colorbar\": {\"outlinewidth\": 0, \"ticks\": \"\"}, \"colorscale\": [[0.0, \"#0d0887\"], [0.1111111111111111, \"#46039f\"], [0.2222222222222222, \"#7201a8\"], [0.3333333333333333, \"#9c179e\"], [0.4444444444444444, \"#bd3786\"], [0.5555555555555556, \"#d8576b\"], [0.6666666666666666, \"#ed7953\"], [0.7777777777777778, \"#fb9f3a\"], [0.8888888888888888, \"#fdca26\"], [1.0, \"#f0f921\"]], \"type\": \"histogram2dcontour\"}], \"mesh3d\": [{\"colorbar\": {\"outlinewidth\": 0, \"ticks\": \"\"}, \"type\": \"mesh3d\"}], \"parcoords\": [{\"line\": {\"colorbar\": {\"outlinewidth\": 0, \"ticks\": \"\"}}, \"type\": \"parcoords\"}], \"pie\": [{\"automargin\": true, \"type\": \"pie\"}], \"scatter\": [{\"marker\": {\"colorbar\": {\"outlinewidth\": 0, \"ticks\": \"\"}}, \"type\": \"scatter\"}], \"scatter3d\": [{\"line\": {\"colorbar\": {\"outlinewidth\": 0, \"ticks\": \"\"}}, \"marker\": {\"colorbar\": {\"outlinewidth\": 0, \"ticks\": \"\"}}, \"type\": \"scatter3d\"}], \"scattercarpet\": [{\"marker\": {\"colorbar\": {\"outlinewidth\": 0, \"ticks\": \"\"}}, \"type\": \"scattercarpet\"}], \"scattergeo\": [{\"marker\": {\"colorbar\": {\"outlinewidth\": 0, \"ticks\": \"\"}}, \"type\": \"scattergeo\"}], \"scattergl\": [{\"marker\": {\"colorbar\": {\"outlinewidth\": 0, \"ticks\": \"\"}}, \"type\": \"scattergl\"}], \"scattermapbox\": [{\"marker\": {\"colorbar\": {\"outlinewidth\": 0, \"ticks\": \"\"}}, \"type\": \"scattermapbox\"}], \"scatterpolar\": [{\"marker\": {\"colorbar\": {\"outlinewidth\": 0, \"ticks\": \"\"}}, \"type\": \"scatterpolar\"}], \"scatterpolargl\": [{\"marker\": {\"colorbar\": {\"outlinewidth\": 0, \"ticks\": \"\"}}, \"type\": \"scatterpolargl\"}], \"scatterternary\": [{\"marker\": {\"colorbar\": {\"outlinewidth\": 0, \"ticks\": \"\"}}, \"type\": \"scatterternary\"}], \"surface\": [{\"colorbar\": {\"outlinewidth\": 0, \"ticks\": \"\"}, \"colorscale\": [[0.0, \"#0d0887\"], [0.1111111111111111, \"#46039f\"], [0.2222222222222222, \"#7201a8\"], [0.3333333333333333, \"#9c179e\"], [0.4444444444444444, \"#bd3786\"], [0.5555555555555556, \"#d8576b\"], [0.6666666666666666, \"#ed7953\"], [0.7777777777777778, \"#fb9f3a\"], [0.8888888888888888, \"#fdca26\"], [1.0, \"#f0f921\"]], \"type\": \"surface\"}], \"table\": [{\"cells\": {\"fill\": {\"color\": \"#EBF0F8\"}, \"line\": {\"color\": \"white\"}}, \"header\": {\"fill\": {\"color\": \"#C8D4E3\"}, \"line\": {\"color\": \"white\"}}, \"type\": \"table\"}]}, \"layout\": {\"annotationdefaults\": {\"arrowcolor\": \"#2a3f5f\", \"arrowhead\": 0, \"arrowwidth\": 1}, \"coloraxis\": {\"colorbar\": {\"outlinewidth\": 0, \"ticks\": \"\"}}, \"colorscale\": {\"diverging\": [[0, \"#8e0152\"], [0.1, \"#c51b7d\"], [0.2, \"#de77ae\"], [0.3, \"#f1b6da\"], [0.4, \"#fde0ef\"], [0.5, \"#f7f7f7\"], [0.6, \"#e6f5d0\"], [0.7, \"#b8e186\"], [0.8, \"#7fbc41\"], [0.9, \"#4d9221\"], [1, \"#276419\"]], \"sequential\": [[0.0, \"#0d0887\"], [0.1111111111111111, \"#46039f\"], [0.2222222222222222, \"#7201a8\"], [0.3333333333333333, \"#9c179e\"], [0.4444444444444444, \"#bd3786\"], [0.5555555555555556, \"#d8576b\"], [0.6666666666666666, \"#ed7953\"], [0.7777777777777778, \"#fb9f3a\"], [0.8888888888888888, \"#fdca26\"], [1.0, \"#f0f921\"]], \"sequentialminus\": [[0.0, \"#0d0887\"], [0.1111111111111111, \"#46039f\"], [0.2222222222222222, \"#7201a8\"], [0.3333333333333333, \"#9c179e\"], [0.4444444444444444, \"#bd3786\"], [0.5555555555555556, \"#d8576b\"], [0.6666666666666666, \"#ed7953\"], [0.7777777777777778, \"#fb9f3a\"], [0.8888888888888888, \"#fdca26\"], [1.0, \"#f0f921\"]]}, \"colorway\": [\"#636efa\", \"#EF553B\", \"#00cc96\", \"#ab63fa\", \"#FFA15A\", \"#19d3f3\", \"#FF6692\", \"#B6E880\", \"#FF97FF\", \"#FECB52\"], \"font\": {\"color\": \"#2a3f5f\"}, \"geo\": {\"bgcolor\": \"white\", \"lakecolor\": \"white\", \"landcolor\": \"#E5ECF6\", \"showlakes\": true, \"showland\": true, \"subunitcolor\": \"white\"}, \"hoverlabel\": {\"align\": \"left\"}, \"hovermode\": \"closest\", \"mapbox\": {\"style\": \"light\"}, \"paper_bgcolor\": \"white\", \"plot_bgcolor\": \"#E5ECF6\", \"polar\": {\"angularaxis\": {\"gridcolor\": \"white\", \"linecolor\": \"white\", \"ticks\": \"\"}, \"bgcolor\": \"#E5ECF6\", \"radialaxis\": {\"gridcolor\": \"white\", \"linecolor\": \"white\", \"ticks\": \"\"}}, \"scene\": {\"xaxis\": {\"backgroundcolor\": \"#E5ECF6\", \"gridcolor\": \"white\", \"gridwidth\": 2, \"linecolor\": \"white\", \"showbackground\": true, \"ticks\": \"\", \"zerolinecolor\": \"white\"}, \"yaxis\": {\"backgroundcolor\": \"#E5ECF6\", \"gridcolor\": \"white\", \"gridwidth\": 2, \"linecolor\": \"white\", \"showbackground\": true, \"ticks\": \"\", \"zerolinecolor\": \"white\"}, \"zaxis\": {\"backgroundcolor\": \"#E5ECF6\", \"gridcolor\": \"white\", \"gridwidth\": 2, \"linecolor\": \"white\", \"showbackground\": true, \"ticks\": \"\", \"zerolinecolor\": \"white\"}}, \"shapedefaults\": {\"line\": {\"color\": \"#2a3f5f\"}}, \"ternary\": {\"aaxis\": {\"gridcolor\": \"white\", \"linecolor\": \"white\", \"ticks\": \"\"}, \"baxis\": {\"gridcolor\": \"white\", \"linecolor\": \"white\", \"ticks\": \"\"}, \"bgcolor\": \"#E5ECF6\", \"caxis\": {\"gridcolor\": \"white\", \"linecolor\": \"white\", \"ticks\": \"\"}}, \"title\": {\"x\": 0.05}, \"xaxis\": {\"automargin\": true, \"gridcolor\": \"white\", \"linecolor\": \"white\", \"ticks\": \"\", \"title\": {\"standoff\": 15}, \"zerolinecolor\": \"white\", \"zerolinewidth\": 2}, \"yaxis\": {\"automargin\": true, \"gridcolor\": \"white\", \"linecolor\": \"white\", \"ticks\": \"\", \"title\": {\"standoff\": 15}, \"zerolinecolor\": \"white\", \"zerolinewidth\": 2}}}, \"title\": {\"font\": {\"color\": \"#4D5663\"}}, \"xaxis\": {\"anchor\": \"y\", \"domain\": [0.0, 0.2125], \"gridcolor\": \"#E1E5ED\", \"showgrid\": false, \"tickfont\": {\"color\": \"#4D5663\"}, \"title\": {\"font\": {\"color\": \"#4D5663\"}, \"text\": \"\"}, \"zerolinecolor\": \"#E1E5ED\"}, \"xaxis10\": {\"anchor\": \"y10\", \"domain\": [0.2625, 0.475], \"gridcolor\": \"#E1E5ED\", \"showgrid\": false, \"tickfont\": {\"color\": \"#4D5663\"}, \"title\": {\"font\": {\"color\": \"#4D5663\"}, \"text\": \"\"}, \"zerolinecolor\": \"#E1E5ED\"}, \"xaxis11\": {\"anchor\": \"y11\", \"domain\": [0.525, 0.7375], \"gridcolor\": \"#E1E5ED\", \"showgrid\": false, \"tickfont\": {\"color\": \"#4D5663\"}, \"title\": {\"font\": {\"color\": \"#4D5663\"}, \"text\": \"\"}, \"zerolinecolor\": \"#E1E5ED\"}, \"xaxis12\": {\"anchor\": \"y12\", \"domain\": [0.7875, 1.0], \"gridcolor\": \"#E1E5ED\", \"showgrid\": false, \"tickfont\": {\"color\": \"#4D5663\"}, \"title\": {\"font\": {\"color\": \"#4D5663\"}, \"text\": \"\"}, \"zerolinecolor\": \"#E1E5ED\"}, \"xaxis13\": {\"anchor\": \"y13\", \"domain\": [0.0, 0.2125], \"gridcolor\": \"#E1E5ED\", \"showgrid\": false, \"tickfont\": {\"color\": \"#4D5663\"}, \"title\": {\"font\": {\"color\": \"#4D5663\"}, \"text\": \"\"}, \"zerolinecolor\": \"#E1E5ED\"}, \"xaxis14\": {\"anchor\": \"y14\", \"domain\": [0.2625, 0.475], \"gridcolor\": \"#E1E5ED\", \"showgrid\": false, \"tickfont\": {\"color\": \"#4D5663\"}, \"title\": {\"font\": {\"color\": \"#4D5663\"}, \"text\": \"\"}, \"zerolinecolor\": \"#E1E5ED\"}, \"xaxis15\": {\"anchor\": \"y15\", \"domain\": [0.525, 0.7375], \"gridcolor\": \"#E1E5ED\", \"showgrid\": false, \"tickfont\": {\"color\": \"#4D5663\"}, \"title\": {\"font\": {\"color\": \"#4D5663\"}, \"text\": \"\"}, \"zerolinecolor\": \"#E1E5ED\"}, \"xaxis16\": {\"anchor\": \"y16\", \"domain\": [0.7875, 1.0], \"gridcolor\": \"#E1E5ED\", \"showgrid\": false, \"tickfont\": {\"color\": \"#4D5663\"}, \"title\": {\"font\": {\"color\": \"#4D5663\"}, \"text\": \"\"}, \"zerolinecolor\": \"#E1E5ED\"}, \"xaxis2\": {\"anchor\": \"y2\", \"domain\": [0.2625, 0.475], \"gridcolor\": \"#E1E5ED\", \"showgrid\": false, \"tickfont\": {\"color\": \"#4D5663\"}, \"title\": {\"font\": {\"color\": \"#4D5663\"}, \"text\": \"\"}, \"zerolinecolor\": \"#E1E5ED\"}, \"xaxis3\": {\"anchor\": \"y3\", \"domain\": [0.525, 0.7375], \"gridcolor\": \"#E1E5ED\", \"showgrid\": false, \"tickfont\": {\"color\": \"#4D5663\"}, \"title\": {\"font\": {\"color\": \"#4D5663\"}, \"text\": \"\"}, \"zerolinecolor\": \"#E1E5ED\"}, \"xaxis4\": {\"anchor\": \"y4\", \"domain\": [0.7875, 1.0], \"gridcolor\": \"#E1E5ED\", \"showgrid\": false, \"tickfont\": {\"color\": \"#4D5663\"}, \"title\": {\"font\": {\"color\": \"#4D5663\"}, \"text\": \"\"}, \"zerolinecolor\": \"#E1E5ED\"}, \"xaxis5\": {\"anchor\": \"y5\", \"domain\": [0.0, 0.2125], \"gridcolor\": \"#E1E5ED\", \"showgrid\": false, \"tickfont\": {\"color\": \"#4D5663\"}, \"title\": {\"font\": {\"color\": \"#4D5663\"}, \"text\": \"\"}, \"zerolinecolor\": \"#E1E5ED\"}, \"xaxis6\": {\"anchor\": \"y6\", \"domain\": [0.2625, 0.475], \"gridcolor\": \"#E1E5ED\", \"showgrid\": false, \"tickfont\": {\"color\": \"#4D5663\"}, \"title\": {\"font\": {\"color\": \"#4D5663\"}, \"text\": \"\"}, \"zerolinecolor\": \"#E1E5ED\"}, \"xaxis7\": {\"anchor\": \"y7\", \"domain\": [0.525, 0.7375], \"gridcolor\": \"#E1E5ED\", \"showgrid\": false, \"tickfont\": {\"color\": \"#4D5663\"}, \"title\": {\"font\": {\"color\": \"#4D5663\"}, \"text\": \"\"}, \"zerolinecolor\": \"#E1E5ED\"}, \"xaxis8\": {\"anchor\": \"y8\", \"domain\": [0.7875, 1.0], \"gridcolor\": \"#E1E5ED\", \"showgrid\": false, \"tickfont\": {\"color\": \"#4D5663\"}, \"title\": {\"font\": {\"color\": \"#4D5663\"}, \"text\": \"\"}, \"zerolinecolor\": \"#E1E5ED\"}, \"xaxis9\": {\"anchor\": \"y9\", \"domain\": [0.0, 0.2125], \"gridcolor\": \"#E1E5ED\", \"showgrid\": false, \"tickfont\": {\"color\": \"#4D5663\"}, \"title\": {\"font\": {\"color\": \"#4D5663\"}, \"text\": \"\"}, \"zerolinecolor\": \"#E1E5ED\"}, \"yaxis\": {\"anchor\": \"x\", \"domain\": [0.8025, 1.0], \"gridcolor\": \"#E1E5ED\", \"showgrid\": false, \"tickfont\": {\"color\": \"#4D5663\"}, \"title\": {\"font\": {\"color\": \"#4D5663\"}, \"text\": \"\"}, \"zerolinecolor\": \"#E1E5ED\"}, \"yaxis10\": {\"anchor\": \"x10\", \"domain\": [0.2675, 0.465], \"gridcolor\": \"#E1E5ED\", \"showgrid\": false, \"tickfont\": {\"color\": \"#4D5663\"}, \"title\": {\"font\": {\"color\": \"#4D5663\"}, \"text\": \"\"}, \"zerolinecolor\": \"#E1E5ED\"}, \"yaxis11\": {\"anchor\": \"x11\", \"domain\": [0.2675, 0.465], \"gridcolor\": \"#E1E5ED\", \"showgrid\": false, \"tickfont\": {\"color\": \"#4D5663\"}, \"title\": {\"font\": {\"color\": \"#4D5663\"}, \"text\": \"\"}, \"zerolinecolor\": \"#E1E5ED\"}, \"yaxis12\": {\"anchor\": \"x12\", \"domain\": [0.2675, 0.465], \"gridcolor\": \"#E1E5ED\", \"showgrid\": false, \"tickfont\": {\"color\": \"#4D5663\"}, \"title\": {\"font\": {\"color\": \"#4D5663\"}, \"text\": \"\"}, \"zerolinecolor\": \"#E1E5ED\"}, \"yaxis13\": {\"anchor\": \"x13\", \"domain\": [0.0, 0.1975], \"gridcolor\": \"#E1E5ED\", \"showgrid\": false, \"tickfont\": {\"color\": \"#4D5663\"}, \"title\": {\"font\": {\"color\": \"#4D5663\"}, \"text\": \"\"}, \"zerolinecolor\": \"#E1E5ED\"}, \"yaxis14\": {\"anchor\": \"x14\", \"domain\": [0.0, 0.1975], \"gridcolor\": \"#E1E5ED\", \"showgrid\": false, \"tickfont\": {\"color\": \"#4D5663\"}, \"title\": {\"font\": {\"color\": \"#4D5663\"}, \"text\": \"\"}, \"zerolinecolor\": \"#E1E5ED\"}, \"yaxis15\": {\"anchor\": \"x15\", \"domain\": [0.0, 0.1975], \"gridcolor\": \"#E1E5ED\", \"showgrid\": false, \"tickfont\": {\"color\": \"#4D5663\"}, \"title\": {\"font\": {\"color\": \"#4D5663\"}, \"text\": \"\"}, \"zerolinecolor\": \"#E1E5ED\"}, \"yaxis16\": {\"anchor\": \"x16\", \"domain\": [0.0, 0.1975], \"gridcolor\": \"#E1E5ED\", \"showgrid\": false, \"tickfont\": {\"color\": \"#4D5663\"}, \"title\": {\"font\": {\"color\": \"#4D5663\"}, \"text\": \"\"}, \"zerolinecolor\": \"#E1E5ED\"}, \"yaxis2\": {\"anchor\": \"x2\", \"domain\": [0.8025, 1.0], \"gridcolor\": \"#E1E5ED\", \"showgrid\": false, \"tickfont\": {\"color\": \"#4D5663\"}, \"title\": {\"font\": {\"color\": \"#4D5663\"}, \"text\": \"\"}, \"zerolinecolor\": \"#E1E5ED\"}, \"yaxis3\": {\"anchor\": \"x3\", \"domain\": [0.8025, 1.0], \"gridcolor\": \"#E1E5ED\", \"showgrid\": false, \"tickfont\": {\"color\": \"#4D5663\"}, \"title\": {\"font\": {\"color\": \"#4D5663\"}, \"text\": \"\"}, \"zerolinecolor\": \"#E1E5ED\"}, \"yaxis4\": {\"anchor\": \"x4\", \"domain\": [0.8025, 1.0], \"gridcolor\": \"#E1E5ED\", \"showgrid\": false, \"tickfont\": {\"color\": \"#4D5663\"}, \"title\": {\"font\": {\"color\": \"#4D5663\"}, \"text\": \"\"}, \"zerolinecolor\": \"#E1E5ED\"}, \"yaxis5\": {\"anchor\": \"x5\", \"domain\": [0.535, 0.7325], \"gridcolor\": \"#E1E5ED\", \"showgrid\": false, \"tickfont\": {\"color\": \"#4D5663\"}, \"title\": {\"font\": {\"color\": \"#4D5663\"}, \"text\": \"\"}, \"zerolinecolor\": \"#E1E5ED\"}, \"yaxis6\": {\"anchor\": \"x6\", \"domain\": [0.535, 0.7325], \"gridcolor\": \"#E1E5ED\", \"showgrid\": false, \"tickfont\": {\"color\": \"#4D5663\"}, \"title\": {\"font\": {\"color\": \"#4D5663\"}, \"text\": \"\"}, \"zerolinecolor\": \"#E1E5ED\"}, \"yaxis7\": {\"anchor\": \"x7\", \"domain\": [0.535, 0.7325], \"gridcolor\": \"#E1E5ED\", \"showgrid\": false, \"tickfont\": {\"color\": \"#4D5663\"}, \"title\": {\"font\": {\"color\": \"#4D5663\"}, \"text\": \"\"}, \"zerolinecolor\": \"#E1E5ED\"}, \"yaxis8\": {\"anchor\": \"x8\", \"domain\": [0.535, 0.7325], \"gridcolor\": \"#E1E5ED\", \"showgrid\": false, \"tickfont\": {\"color\": \"#4D5663\"}, \"title\": {\"font\": {\"color\": \"#4D5663\"}, \"text\": \"\"}, \"zerolinecolor\": \"#E1E5ED\"}, \"yaxis9\": {\"anchor\": \"x9\", \"domain\": [0.2675, 0.465], \"gridcolor\": \"#E1E5ED\", \"showgrid\": false, \"tickfont\": {\"color\": \"#4D5663\"}, \"title\": {\"font\": {\"color\": \"#4D5663\"}, \"text\": \"\"}, \"zerolinecolor\": \"#E1E5ED\"}},\n",
       "                        {\"showLink\": true, \"linkText\": \"Export to plot.ly\", \"plotlyServerURL\": \"https://plot.ly\", \"responsive\": true}\n",
       "                    ).then(function(){\n",
       "                            \n",
       "var gd = document.getElementById('c8258dc7-471e-4fcb-8eeb-5d48bb6343bc');\n",
       "var x = new MutationObserver(function (mutations, observer) {{\n",
       "        var display = window.getComputedStyle(gd).display;\n",
       "        if (!display || display === 'none') {{\n",
       "            console.log([gd, 'removed!']);\n",
       "            Plotly.purge(gd);\n",
       "            observer.disconnect();\n",
       "        }}\n",
       "}});\n",
       "\n",
       "// Listen for the removal of the full notebook cells\n",
       "var notebookContainer = gd.closest('#notebook-container');\n",
       "if (notebookContainer) {{\n",
       "    x.observe(notebookContainer, {childList: true});\n",
       "}}\n",
       "\n",
       "// Listen for the clearing of the current output cell\n",
       "var outputEl = gd.closest('.output');\n",
       "if (outputEl) {{\n",
       "    x.observe(outputEl, {childList: true});\n",
       "}}\n",
       "\n",
       "                        })\n",
       "                };\n",
       "                });\n",
       "            </script>\n",
       "        </div>"
      ]
     },
     "metadata": {},
     "output_type": "display_data"
    }
   ],
   "source": [
    "df.scatter_matrix()"
   ]
  }
 ],
 "metadata": {
  "kernelspec": {
   "display_name": "Python [conda env:py3-TF2.0]",
   "language": "python",
   "name": "conda-env-py3-TF2.0-py"
  },
  "language_info": {
   "codemirror_mode": {
    "name": "ipython",
    "version": 3
   },
   "file_extension": ".py",
   "mimetype": "text/x-python",
   "name": "python",
   "nbconvert_exporter": "python",
   "pygments_lexer": "ipython3",
   "version": "3.7.7"
  }
 },
 "nbformat": 4,
 "nbformat_minor": 1
}
